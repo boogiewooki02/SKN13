{
 "cells": [
  {
   "cell_type": "code",
   "execution_count": 1,
   "metadata": {},
   "outputs": [],
   "source": [
    "txt = 'KoNLPy는 한국어 정보처리를 위한 파이썬 패키지입니다. 설치법은 이 곳을 참고해주세요. NLP를 처음 시작하시는 분들은 시작하기 에서 가볍게 기본 지식을 습득할 수 있습니다.'"
   ]
  },
  {
   "cell_type": "code",
   "execution_count": 2,
   "metadata": {},
   "outputs": [
    {
     "data": {
      "text/plain": [
       "['KoNLPy는',\n",
       " '한국어',\n",
       " '정보처리를',\n",
       " '위한',\n",
       " '파이썬',\n",
       " '패키지입니다',\n",
       " '.',\n",
       " '설치법은',\n",
       " '이',\n",
       " '곳을',\n",
       " '참고해주세요',\n",
       " '.',\n",
       " 'NLP를',\n",
       " '처음',\n",
       " '시작하시는',\n",
       " '분들은',\n",
       " '시작하기',\n",
       " '에서',\n",
       " '가볍게',\n",
       " '기본',\n",
       " '지식을',\n",
       " '습득할',\n",
       " '수',\n",
       " '있습니다',\n",
       " '.']"
      ]
     },
     "execution_count": 2,
     "metadata": {},
     "output_type": "execute_result"
    }
   ],
   "source": [
    "import nltk\n",
    "word_list = nltk.word_tokenize(txt)\n",
    "word_list"
   ]
  },
  {
   "cell_type": "code",
   "execution_count": 3,
   "metadata": {},
   "outputs": [
    {
     "data": {
      "text/plain": [
       "['konlpy는',\n",
       " '한국어',\n",
       " '정보처리를',\n",
       " '위한',\n",
       " '파이썬',\n",
       " '패키지입니다',\n",
       " '.',\n",
       " '설치법은',\n",
       " '이',\n",
       " '곳을',\n",
       " '참고해주세요',\n",
       " '.',\n",
       " 'nlp를',\n",
       " '처음',\n",
       " '시작하시는',\n",
       " '분들은',\n",
       " '시작하기',\n",
       " '에서',\n",
       " '가볍게',\n",
       " '기본',\n",
       " '지식을',\n",
       " '습득할',\n",
       " '수',\n",
       " '있습니다',\n",
       " '.']"
      ]
     },
     "execution_count": 3,
     "metadata": {},
     "output_type": "execute_result"
    }
   ],
   "source": [
    "from nltk import PorterStemmer\n",
    "stemmer = PorterStemmer()\n",
    "[stemmer.stem(word) for word in word_list]"
   ]
  },
  {
   "cell_type": "code",
   "execution_count": 4,
   "metadata": {},
   "outputs": [
    {
     "data": {
      "text/plain": [
       "[('KoNLPy는', 'NNP'),\n",
       " ('한국어', 'NNP'),\n",
       " ('정보처리를', 'NNP'),\n",
       " ('위한', 'NNP'),\n",
       " ('파이썬', 'NNP'),\n",
       " ('패키지입니다', 'NNP'),\n",
       " ('.', '.'),\n",
       " ('설치법은', 'VB'),\n",
       " ('이', 'JJ'),\n",
       " ('곳을', 'NNP'),\n",
       " ('참고해주세요', 'NNP'),\n",
       " ('.', '.'),\n",
       " ('NLP를', 'NNP'),\n",
       " ('처음', 'NNP'),\n",
       " ('시작하시는', 'NNP'),\n",
       " ('분들은', 'NNP'),\n",
       " ('시작하기', 'NNP'),\n",
       " ('에서', 'NNP'),\n",
       " ('가볍게', 'NNP'),\n",
       " ('기본', 'NNP'),\n",
       " ('지식을', 'NNP'),\n",
       " ('습득할', 'NNP'),\n",
       " ('수', 'NNP'),\n",
       " ('있습니다', 'NNP'),\n",
       " ('.', '.')]"
      ]
     },
     "execution_count": 4,
     "metadata": {},
     "output_type": "execute_result"
    }
   ],
   "source": [
    "from nltk.tag import pos_tag\n",
    "pos_tag(word_list)"
   ]
  },
  {
   "cell_type": "code",
   "execution_count": null,
   "metadata": {},
   "outputs": [],
   "source": []
  },
  {
   "cell_type": "code",
   "execution_count": null,
   "metadata": {},
   "outputs": [],
   "source": []
  },
  {
   "cell_type": "code",
   "execution_count": null,
   "metadata": {},
   "outputs": [],
   "source": []
  },
  {
   "cell_type": "markdown",
   "metadata": {},
   "source": [
    "# KoNLPy(코엔엘파이)\n",
    "- KoNLPY는 한국어 자연어 처리(Natural Language Processing) 파이썬 라이브러리이다.  한국어 처리를 위한 tokenize, 형태소 분석, 어간추출, 품사부착(POS Tagging) 등의 기능을 제공한다. \n",
    "- http://KoNLPy.org/ko/latest/\n",
    "- 기존의 개발된 다양한 형태소 분석기를 통합해서 동일한 interface로 호출 할 수 있게 해준다."
   ]
  },
  {
   "cell_type": "markdown",
   "metadata": {},
   "source": [
    "## KoNLPy 설치 순서\n",
    "1. Java 실행환경 설치\n",
    "2. JPype1 설치\n",
    "3. koNLPy 설치"
   ]
  },
  {
   "cell_type": "markdown",
   "metadata": {},
   "source": [
    "### 1. Java설치\n",
    "- https://www.oracle.com/java/technologies/downloads/\n",
    "- OS에 맞게 다운로드 한다.\n",
    "- 시스템 환경변수 설정\n",
    "    - `JAVA_HOME` : 설치 경로 지정\n",
    "    - `Path` : `설치경로\\bin` 경로 지정"
   ]
  },
  {
   "cell_type": "code",
   "execution_count": null,
   "metadata": {},
   "outputs": [],
   "source": []
  },
  {
   "cell_type": "markdown",
   "metadata": {},
   "source": [
    "### 2. JPype1 설치\n",
    "\n",
    "- 파이썬에서 자바 모듈을 호출하기 위한 연동 패키지\n",
    "- 설치: `!pip install JPype1`"
   ]
  },
  {
   "cell_type": "markdown",
   "metadata": {
    "jp-MarkdownHeadingCollapsed": true
   },
   "source": [
    "### 3. KoNLPy 설치\n",
    "- `pip install konlpy`"
   ]
  },
  {
   "cell_type": "code",
   "execution_count": null,
   "metadata": {},
   "outputs": [],
   "source": [
    "import konlpy"
   ]
  },
  {
   "cell_type": "code",
   "execution_count": null,
   "metadata": {},
   "outputs": [],
   "source": []
  },
  {
   "cell_type": "code",
   "execution_count": null,
   "metadata": {},
   "outputs": [],
   "source": []
  },
  {
   "cell_type": "markdown",
   "metadata": {},
   "source": [
    "## 형태소 분석기/사전\n",
    "- 형태소 사전을 내장하고 있으며 형태소 분석 함수들을 제공하는 모듈\n",
    "\n",
    "### KoNLPy 제공 형태소 분석기\n",
    "- Open Korean Text\n",
    "    - 트위터에서 개발\n",
    "    - https://github.com/open-korean-text/open-korean-text\n",
    "- Hannanum(한나눔)\n",
    "    - KAIST Semantic Web Research Center 에서 개발\n",
    "    - http://semanticweb.kaist.ac.kr/hannanum/\n",
    "- Kkma(꼬꼬마)\n",
    "    - 서울대학교 IDS(Intelligent Data Systems) 연구실 개발.\n",
    "    - http://kkma.snu.ac.kr/\n",
    "- Komoran(코모란)\n",
    "    - Shineware에서 개발.\n",
    "    - 오픈소스버전과 유료버전이 있음\n",
    "    - https://github.com/shin285/KOMORAN\n",
    "- Mecab(메카브) \n",
    "    - 일본어용 형태소 분석기를 한국에서 사용할 수 있도록 수정\n",
    "    - windows에서는 설치가 안됨\n",
    "    - https://bitbucket.org/eunjeon/mecab-ko\n"
   ]
  },
  {
   "cell_type": "code",
   "execution_count": null,
   "metadata": {},
   "outputs": [],
   "source": []
  },
  {
   "cell_type": "code",
   "execution_count": null,
   "metadata": {},
   "outputs": [],
   "source": []
  },
  {
   "cell_type": "markdown",
   "metadata": {},
   "source": [
    "## 형태소 분석기 공통 메소드\n",
    "- `morphs(string)` : 형태소 단위로 토큰화(tokenize)\n",
    "- `nouns(string)` : 명사만 추출하여 토큰화(tokenize)    \n",
    "- `pos(string)`: 품사 부착\n",
    "    - 형태소 분석기 마다 사용하는 품사태그가 다르다.\n",
    "        - https://konlpy-ko.readthedocs.io/ko/v0.5.2/morph/\n",
    "- `tagset`: 형태소 분석기가 사용하는 품사태그 설명하는 속성. "
   ]
  },
  {
   "cell_type": "markdown",
   "metadata": {},
   "source": [
    "## KoNLPy 제공 말뭉치\n",
    "1. kolaw: 대한민국 헌법 말뭉치\n",
    "    - constitution.txt\n",
    "2. kobill: 대한민국 국회 의안(국회에서 심의하는 안건-법률, 예산등) 말뭉치\n",
    "    -1809890.txt ~ 1809899.txt"
   ]
  },
  {
   "cell_type": "code",
   "execution_count": 7,
   "metadata": {},
   "outputs": [
    {
     "data": {
      "text/plain": [
       "(['constitution.txt'],\n",
       " ['1809890.txt',\n",
       "  '1809891.txt',\n",
       "  '1809892.txt',\n",
       "  '1809893.txt',\n",
       "  '1809894.txt',\n",
       "  '1809895.txt',\n",
       "  '1809896.txt',\n",
       "  '1809897.txt',\n",
       "  '1809898.txt',\n",
       "  '1809899.txt'])"
      ]
     },
     "execution_count": 7,
     "metadata": {},
     "output_type": "execute_result"
    }
   ],
   "source": [
    "from konlpy.corpus import kolaw, kobill\n",
    "\n",
    "kolaw.fileids(), kobill.fileids()"
   ]
  },
  {
   "cell_type": "code",
   "execution_count": 8,
   "metadata": {},
   "outputs": [],
   "source": [
    "with kolaw.open(\"constitution.txt\") as f:\n",
    "    txt = f.read()"
   ]
  },
  {
   "cell_type": "code",
   "execution_count": null,
   "metadata": {},
   "outputs": [
    {
     "name": "stdout",
     "output_type": "stream",
     "text": [
      "대한민국헌법\n",
      "\n",
      "유구한 역사와 전통에 빛나는 우리 대한국민은 3·1운동으로 건립된 대한민국임시정부의 법통과 불의에 항거한 4·19민주이념을 계승하고, 조국의 민주개혁과 평화적 통일의 사명에 입각하여 정의·인도와 동포애로써 민족의 단결을 공고히 하고, 모든 사회적 폐습과 불의를 타파하며, 자율과 조화를 바탕으로 자유민주적 기본질서를 더욱 확고히 하여 정치·경제\n"
     ]
    }
   ],
   "source": [
    "print(txt[:200])"
   ]
  },
  {
   "cell_type": "code",
   "execution_count": null,
   "metadata": {},
   "outputs": [
    {
     "name": "stdout",
     "output_type": "stream",
     "text": [
      "지방공무원법 일부개정법률안\n",
      "\n",
      "(정의화의원 대표발의 )\n",
      "\n",
      " 의 안\n",
      " 번 호\n",
      "\n",
      "9890\n",
      "\n",
      "발의연월일 : 2010.  11.  12.  \n",
      "\n",
      "발  의  자 : 정의화․이명수․김을동 \n",
      "\n",
      "이\n"
     ]
    }
   ],
   "source": [
    "with kobill.open(\"1809890.txt\") as f:\n",
    "    txt = f.read()\n",
    "\n",
    "print(txt[:100])"
   ]
  },
  {
   "cell_type": "code",
   "execution_count": null,
   "metadata": {},
   "outputs": [],
   "source": []
  },
  {
   "cell_type": "markdown",
   "metadata": {},
   "source": [
    "# Konlpy와 nltk를 이용해 헌법 text 분석하기"
   ]
  },
  {
   "cell_type": "code",
   "execution_count": 12,
   "metadata": {},
   "outputs": [
    {
     "name": "stdout",
     "output_type": "stream",
     "text": [
      "토큰수: 1777\n"
     ]
    }
   ],
   "source": [
    "# 형태소 분석기 객체 생성. 종류별로 클래스가 제공\n",
    "from konlpy.tag import Okt, Kkma\n",
    "\n",
    "okt = Okt() # 형태소 분석기 생성\n",
    "# 형태소 단위 토큰화\n",
    "tokens = okt.morphs(txt)\n",
    "\n",
    "print(\"토큰수:\", len(tokens))"
   ]
  },
  {
   "cell_type": "code",
   "execution_count": 13,
   "metadata": {},
   "outputs": [
    {
     "data": {
      "text/plain": [
       "['지방공무원법', '일부', '개정', '법률', '안', '\\n\\n', '(', '정의화', '의원', '대표']"
      ]
     },
     "execution_count": 13,
     "metadata": {},
     "output_type": "execute_result"
    }
   ],
   "source": [
    "tokens[:10]"
   ]
  },
  {
   "cell_type": "code",
   "execution_count": 14,
   "metadata": {},
   "outputs": [],
   "source": [
    "tokens2 = okt.morphs(txt, stem=True) # stem=True: 원형복원 - Okt의 기능"
   ]
  },
  {
   "cell_type": "code",
   "execution_count": 16,
   "metadata": {},
   "outputs": [
    {
     "data": {
      "text/plain": [
       "['지방공무원법',\n",
       " '일부',\n",
       " '개정',\n",
       " '법률',\n",
       " '안',\n",
       " '\\n\\n',\n",
       " '(',\n",
       " '정의화',\n",
       " '의원',\n",
       " '대표',\n",
       " '발의',\n",
       " ')',\n",
       " '\\n\\n ',\n",
       " '의',\n",
       " '안',\n",
       " '\\n ',\n",
       " '번',\n",
       " '호',\n",
       " '\\n\\n',\n",
       " '9890']"
      ]
     },
     "execution_count": 16,
     "metadata": {},
     "output_type": "execute_result"
    }
   ],
   "source": [
    "tokens2[:20]"
   ]
  },
  {
   "cell_type": "code",
   "execution_count": 17,
   "metadata": {},
   "outputs": [
    {
     "data": {
      "text/plain": [
       "['지방공무원법', '일부', '개정', '법률', '안', '정의화', '의원', '대표', '발의', '의']"
      ]
     },
     "execution_count": 17,
     "metadata": {},
     "output_type": "execute_result"
    }
   ],
   "source": [
    "nouns = okt.nouns(txt)\n",
    "len(nouns)\n",
    "nouns[:10]"
   ]
  },
  {
   "cell_type": "code",
   "execution_count": null,
   "metadata": {},
   "outputs": [],
   "source": [
    "# 품사 부착\n",
    "pos_tag = okt.pos(txt)\n",
    "pos_tag[:10]"
   ]
  },
  {
   "cell_type": "code",
   "execution_count": null,
   "metadata": {},
   "outputs": [],
   "source": []
  },
  {
   "cell_type": "code",
   "execution_count": 18,
   "metadata": {},
   "outputs": [],
   "source": [
    "# 헌법 corpus 분석\n",
    "from nltk import Text, FreqDist\n",
    "from konlpy.tag import Okt\n",
    "from konlpy.corpus import kolaw\n",
    "from wordcloud import WordCloud"
   ]
  },
  {
   "cell_type": "code",
   "execution_count": null,
   "metadata": {},
   "outputs": [
    {
     "data": {
      "text/plain": [
       "'대한민국헌법\\n\\n유구한 역사와 전통에 빛나는 우리 대한국민은 3·1운동으로 건립된 대한민국임'"
      ]
     },
     "execution_count": 20,
     "metadata": {},
     "output_type": "execute_result"
    }
   ],
   "source": [
    "# 1. 데이터 로딩\n",
    "with kolaw.open(\"constitution.txt\") as fr:\n",
    "    txt = fr.read()\n",
    "txt[:50]"
   ]
  },
  {
   "cell_type": "code",
   "execution_count": 23,
   "metadata": {},
   "outputs": [
    {
     "name": "stdout",
     "output_type": "stream",
     "text": [
      "4661 ['대한민국', '헌법', '유구', '역사', '전통']\n"
     ]
    }
   ],
   "source": [
    "okt = Okt()\n",
    "\n",
    "# 2. 전처리 + 토큰화\n",
    "## 전처리: 명사, 동사만 추출\n",
    "pos_tag = okt.pos(txt)\n",
    "pos_tag[:5]\n",
    "\n",
    "tokens = [token for token, pos in pos_tag if pos in [\"Noun\", \"Verb\"]]\n",
    "print(len(tokens), tokens[:5])"
   ]
  },
  {
   "cell_type": "code",
   "execution_count": null,
   "metadata": {},
   "outputs": [],
   "source": []
  }
 ],
 "metadata": {
  "kernelspec": {
   "display_name": "dl",
   "language": "python",
   "name": "python3"
  },
  "language_info": {
   "codemirror_mode": {
    "name": "ipython",
    "version": 3
   },
   "file_extension": ".py",
   "mimetype": "text/x-python",
   "name": "python",
   "nbconvert_exporter": "python",
   "pygments_lexer": "ipython3",
   "version": "3.12.10"
  },
  "toc": {
   "base_numbering": 1,
   "nav_menu": {},
   "number_sections": false,
   "sideBar": false,
   "skip_h1_title": false,
   "title_cell": "Table of Contents",
   "title_sidebar": "Contents",
   "toc_cell": false,
   "toc_position": {},
   "toc_section_display": true,
   "toc_window_display": false
  },
  "varInspector": {
   "cols": {
    "lenName": 16,
    "lenType": 16,
    "lenVar": 40
   },
   "kernels_config": {
    "python": {
     "delete_cmd_postfix": "",
     "delete_cmd_prefix": "del ",
     "library": "var_list.py",
     "varRefreshCmd": "print(var_dic_list())"
    },
    "r": {
     "delete_cmd_postfix": ") ",
     "delete_cmd_prefix": "rm(",
     "library": "var_list.r",
     "varRefreshCmd": "cat(var_dic_list()) "
    }
   },
   "types_to_exclude": [
    "module",
    "function",
    "builtin_function_or_method",
    "instance",
    "_Feature"
   ],
   "window_display": false
  }
 },
 "nbformat": 4,
 "nbformat_minor": 4
}
