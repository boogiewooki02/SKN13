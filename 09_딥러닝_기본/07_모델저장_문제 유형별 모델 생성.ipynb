{
 "cells": [
  {
   "cell_type": "markdown",
   "metadata": {},
   "source": [
    "# 학습된 모델 저장\n",
    "\n",
    "- 학습이 완료된 모델을 파일로 저장하여, 이후 추가 학습이나 예측 서비스에 사용할 수 있도록 한다.\n",
    "- 파이토치(PyTorch)는 **모델의 파라미터만 저장**하는 방법과 **모델의 구조와 파라미터를 모두 저장**하는 두 가지 방식을 제공한다.\n",
    "- 저장 함수\n",
    "  - `torch.save(저장할 객체, 저장 경로)`\n",
    "- 보통 저장 파일의 확장자는 `.pt`나 `.pth`를 사용한다.\n",
    "\n",
    "## 모델 전체 저장 및 불러오기\n",
    "\n",
    "- 저장하기\n",
    "  - `torch.save(model, 저장 경로)`\n",
    "- 불러오기\n",
    "  - `load_model = torch.load(저장 경로)`\n",
    "- 모델 저장 시 **피클(pickle)**을 사용해 직렬화되므로, 모델을 불러오는 실행 환경에도 저장할 때 사용한 클래스 정의가 필요하다.\n"
   ]
  },
  {
   "cell_type": "markdown",
   "metadata": {},
   "source": [
    "## 모델의 파라미터만 저장\n",
    "\n",
    "-   모델을 구성하는 파라미터만 저장한다.\n",
    "-   모델의 구조는 저장하지 않기 때문에 불러올 때 **모델을 먼저 생성하고 생성한 모델에 불러온 파라미터를 덮어씌운다.**\n",
    "-   모델의 파라미터는 **state_dict** 형식으로 저장한다.\n",
    "\n",
    "### state_dict\n",
    "\n",
    "-   모델의 파라미터 Tensor들을 레이어 단위별로 나누어 저장한 Ordered Dictionary (OrderedDict)\n",
    "-   `모델객체.state_dict()` 메소드를 이용해 조회한다.\n",
    "-   모델의 state_dict을 조회 후 저장한다.\n",
    "    -   `torch.save(model.state_dict(), \"저장경로\")`\n",
    "-   생성된 모델에 읽어온 state_dict를 덮어씌운다.\n",
    "    -   `new_model.load_state_dict(torch.load(\"state_dict저장경로\"))`\n"
   ]
  },
  {
   "cell_type": "markdown",
   "metadata": {},
   "source": [
    "## Checkpoint 저장 및 불러오기\n",
    "\n",
    "- 학습이 끝나지 않은 모델을 저장하고, 나중에 이어서 학습시키려면 모델의 구조와 파라미터뿐만 아니라 optimizer, loss 함수 등 학습에 필요한 객체들도 함께 저장해야 한다.\n",
    "- 딕셔너리(Dictionary)에 저장하려는 값들을 key-value 쌍으로 구성하여 `torch.save()`를 이용해 저장한다.\n",
    "\n",
    "```python\n",
    "# 저장\n",
    "torch.save({\n",
    "    'epoch': epoch,\n",
    "    'model_state_dict': model.state_dict(),\n",
    "    'optimizer_state_dict': optimizer.state_dict(),\n",
    "    'loss': train_loss\n",
    "}, \"저장경로\")\n",
    "\n",
    "# 불러오기\n",
    "model = MyModel()\n",
    "optimizer = optim.Adam(model.parameters())\n",
    "\n",
    "# 불러온 checkpoint를 이용해 이전 학습 상태 복원\n",
    "checkpoint = torch.load(\"저장경로\")\n",
    "model.load_state_dict(checkpoint['model_state_dict'])\n",
    "optimizer.load_state_dict(checkpoint['optimizer_state_dict'])\n",
    "epoch = checkpoint['epoch']\n",
    "loss = checkpoint['loss']\n",
    "```"
   ]
  },
  {
   "cell_type": "code",
   "execution_count": null,
   "metadata": {},
   "outputs": [],
   "source": [
    "# 간단한 모델 정의\n",
    "import torch\n",
    "import torch.nn as nn\n",
    "\n",
    "class MyModel(nn.Module):\n",
    "\n",
    "    def __init__(self):\n",
    "        super().__init__()\n",
    "        self.lr1 = nn.Linear(3, 4) # 3 X 4 + 4 \n",
    "        self.lr2 = nn.Linear(4, 2)\n",
    "        self.relu = nn.ReLU() # activation함수->파라미터가 없는 단순 계산함수. relu(X) = max(X, 0)\n",
    "        self.lr1 = nn.Linear(3, 4) # 3 X 4 + 4 (Weight: input개수*output개수, bias: output개수)\n",
    "        self.lr2 = nn.Linear(4, 2)\n",
    "        self.relu = nn.ReLU() # activation함수->파라미터가 없는 단순 계산함수. relu(X) = max(X, 0)\n",
    "        \n",
    "    def forward(self, X):\n",
    "        X = self.lr1(X)\n",
    "        X = self.relu(X)\n",
    "        X = self.lr2(X)\n",
    "        return X"
   ]
  },
  {
   "cell_type": "code",
   "execution_count": null,
   "metadata": {},
   "outputs": [],
   "source": [
    "# 모델 생성성\n",
   "outputs": [
    {
     "data": {
      "text/plain": [
       "MyModel(\n",
       "  (lr1): Linear(in_features=3, out_features=4, bias=True)\n",
       "  (lr2): Linear(in_features=4, out_features=2, bias=True)\n",
       "  (relu): ReLU()\n",
       ")"
      ]
     },
     "execution_count": 2,
     "metadata": {},
     "output_type": "execute_result"
    }
   ],
   "source": [
    "# 모델 생성\n",
    "model = MyModel()\n",
    "model"
   ]
  },
  {
   "cell_type": "code",
   "execution_count": null,
   "metadata": {},
   "outputs": [
    {
     "data": {
      "text/plain": [
       "Linear(in_features=3, out_features=4, bias=True)"
      ]
     },
     "execution_count": 4,
     "metadata": {},
     "output_type": "execute_result"
    }
   ],
   "source": [
    "# 레이어의 파라미터를 조회해보자.\n",
    "# 먼저 모델에서 레이어 객체를 조회\n",
    "\n",
    "lr1 = model.lr1\n",
    "lr1"
   ]
  },
  {
   "cell_type": "code",
   "execution_count": 7,
   "metadata": {},
   "outputs": [
    {
     "name": "stdout",
     "output_type": "stream",
     "text": [
      "torch.Size([4, 3])\n",
      "Parameter containing:\n",
      "tensor([[ 0.1457, -0.5509,  0.2079],\n",
      "        [ 0.3222,  0.0863,  0.2154],\n",
      "        [-0.1562, -0.1126,  0.3797],\n",
      "        [-0.5209,  0.4273,  0.0320]], requires_grad=True)\n",
      "torch.Size([4])\n",
      "Parameter containing:\n",
      "tensor([-0.3603,  0.0810, -0.1604, -0.2834], requires_grad=True)\n"
     ]
    }
   ],
   "source": [
    "# 이제 레이어에서 weight, bias 조회\n",
    "\n",
    "w = lr1.weight\n",
    "print(w.shape)\n",
    "print(w)\n",
    "\n",
    "b = lr1.bias\n",
    "print(b.shape)\n",
    "print(b)"
   ]
  },
  {
   "cell_type": "code",
   "execution_count": null,
   "metadata": {},
   "outputs": [],
   "source": []
  },
  {
   "cell_type": "code",
   "execution_count": 3,
   "metadata": {},
   "outputs": [],
   "source": [
    "import os\n",
    "os.makedirs(\"saved_models\", exist_ok=True)"
   ]
  },
  {
   "cell_type": "code",
   "execution_count": null,
   "execution_count": 8,
   "metadata": {},
   "outputs": [],
   "source": [
    "################################################\n",
    "#  모델을 저장\n",
    "################################################\n",
    "torch.save(model, \"saved_models/my_model.pt\")"
   ]
  },
  {
   "cell_type": "code",
   "execution_count": null,
   "execution_count": 10,
   "metadata": {
    "collapsed": true,
    "jupyter": {
     "outputs_hidden": true
    }
   },
   "outputs": [],
   "source": [
    "################################################\n",
    "#  저장된 모델 Load\n",
    "################################################\n",
    "load_model = torch.load(\"saved_models/my_model.pt\")"
    "load_model = torch.load(\"saved_models/my_model.pt\", weights_only=False)"
   ]
  },
  {
   "cell_type": "code",
   "execution_count": 11,
   "metadata": {},
   "outputs": [
    {
     "data": {
      "text/plain": [
       "MyModel(\n",
       "  (lr1): Linear(in_features=3, out_features=4, bias=True)\n",
       "  (lr2): Linear(in_features=4, out_features=2, bias=True)\n",
       "  (relu): ReLU()\n",
       ")"
      ]
     },
     "execution_count": 11,
     "metadata": {},
     "output_type": "execute_result"
    }
   ],
   "source": [
    "load_model"
   ]
  },
  {
   "cell_type": "code",
   "execution_count": 13,
   "metadata": {},
   "outputs": [
    {
     "name": "stdout",
     "output_type": "stream",
     "text": [
      "Parameter containing:\n",
      "tensor([[ 0.1457, -0.5509,  0.2079],\n",
      "        [ 0.3222,  0.0863,  0.2154],\n",
      "        [-0.1562, -0.1126,  0.3797],\n",
      "        [-0.5209,  0.4273,  0.0320]], requires_grad=True)\n",
      "Parameter containing:\n",
      "tensor([-0.3603,  0.0810, -0.1604, -0.2834], requires_grad=True)\n"
     ]
    }
   ],
   "source": [
    "load_lr1 = load_model.lr1\n",
    "\n",
    "print(load_lr1.weight)\n",
    "print(load_lr1.bias)"
   ]
  },
  {
   "cell_type": "code",
   "execution_count": null,
   "metadata": {},
   "outputs": [],
   "source": [
    "load_model"
   ]
  },
  {
   "cell_type": "code",
   "execution_count": null,
   "metadata": {},
   "outputs": [],
   "source": []
  },
  {
   "cell_type": "code",
   "execution_count": 14,
   "metadata": {},
   "outputs": [
    {
     "data": {
      "text/plain": [
       "Linear(in_features=4, out_features=2, bias=True)"
      ]
     },
     "execution_count": 14,
     "metadata": {},
     "output_type": "execute_result"
    }
   ],
   "source": [
    "################################################\n",
    "#  모델에 Layer들을 조회. 모델.instance변수명\n",
    "################################################\n",
    "lr_layer = model.lr1\n",
    "lr_layer = model.lr2\n",
    "lr_layer"
   ]
  },
  {
   "cell_type": "code",
   "execution_count": null,
   "execution_count": 15,
   "metadata": {},
   "outputs": [],
   "source": [
    "################################################\n",
    "#  Layer의 파라미터(weight/bias) 조회\n",
    "################################################\n",
    "lr1_weight = lr_layer.weight\n",
    "lr1_bias = lr_layer.bias"
   ]
  },
  {
   "cell_type": "code",
   "execution_count": null,
   "metadata": {},
   "outputs": [],
   "execution_count": 16,
   "metadata": {},
   "outputs": [
    {
     "data": {
      "text/plain": [
       "Parameter containing:\n",
       "tensor([[-0.4450,  0.0334, -0.0473,  0.0451],\n",
       "        [ 0.4637, -0.0096, -0.0657,  0.2528]], requires_grad=True)"
      ]
     },
     "execution_count": 16,
     "metadata": {},
     "output_type": "execute_result"
    }
   ],
   "source": [
    "lr1_weight"
   ]
  },
  {
   "cell_type": "code",
   "execution_count": null,
   "metadata": {},
   "outputs": [],
   "execution_count": 17,
   "metadata": {},
   "outputs": [
    {
     "data": {
      "text/plain": [
       "Parameter containing:\n",
       "tensor([-0.3170,  0.1049], requires_grad=True)"
      ]
     },
     "execution_count": 17,
     "metadata": {},
     "output_type": "execute_result"
    }
   ],
   "source": [
    "lr1_bias"
   ]
  },
  {
   "cell_type": "code",
   "execution_count": null,
   "metadata": {},
   "outputs": [],
   "execution_count": 18,
   "metadata": {},
   "outputs": [
    {
     "data": {
      "text/plain": [
       "OrderedDict([('lr1.weight',\n",
       "              tensor([[ 0.1457, -0.5509,  0.2079],\n",
       "                      [ 0.3222,  0.0863,  0.2154],\n",
       "                      [-0.1562, -0.1126,  0.3797],\n",
       "                      [-0.5209,  0.4273,  0.0320]])),\n",
       "             ('lr1.bias', tensor([-0.3603,  0.0810, -0.1604, -0.2834])),\n",
       "             ('lr2.weight',\n",
       "              tensor([[-0.4450,  0.0334, -0.0473,  0.0451],\n",
       "                      [ 0.4637, -0.0096, -0.0657,  0.2528]])),\n",
       "             ('lr2.bias', tensor([-0.3170,  0.1049]))])"
      ]
     },
     "execution_count": 18,
     "metadata": {},
     "output_type": "execute_result"
    }
   ],
   "source": [
    "######################################################\n",
    "# 모델의 파라미터들(weight들, bias들)만 저장/불러오기\n",
    "######################################################\n",
    "state_dict = model.state_dict()\n",
    "state_dict"
   ]
  },
  {
   "cell_type": "code",
   "execution_count": null,
   "metadata": {},
   "outputs": [],
   "execution_count": 19,
   "metadata": {},
   "outputs": [
    {
     "data": {
      "text/plain": [
       "odict_keys(['lr1.weight', 'lr1.bias', 'lr2.weight', 'lr2.bias'])"
      ]
     },
     "execution_count": 19,
     "metadata": {},
     "output_type": "execute_result"
    }
   ],
   "source": [
    "state_dict.keys()"
   ]
  },
  {
   "cell_type": "code",
   "execution_count": null,
   "execution_count": 20,
   "metadata": {},
   "outputs": [],
   "source": [
    "###################\n",
    "# state_dict 저장\n",
    "################### \n",
    "\n",
    "torch.save(state_dict, \"saved_models/my_model_parameter.pt\")"
   ]
  },
  {
   "cell_type": "code",
   "execution_count": null,
   "execution_count": 21,
   "metadata": {},
   "outputs": [],
   "source": [
    "#####################\n",
    "# state_dict load\n",
    "#####################\n",
    "sd = torch.load(\"saved_models/my_model_parameter.pt\")"
   ]
  },
  {
   "cell_type": "code",
   "execution_count": null,
   "metadata": {},
   "outputs": [],
   "source": [
    "# load한 state_dict를 모델 파라미터에 적용(덮어 씌운다.)\n",
    "new_model = MyModel()\n",
    "new_model.state_dict()"
   "outputs": [
    {
     "data": {
      "text/plain": [
       "OrderedDict([('lr1.weight',\n",
       "              tensor([[-0.0988,  0.0721,  0.1235],\n",
       "                      [-0.3055, -0.4102, -0.1597],\n",
       "                      [ 0.3795, -0.1021,  0.3957],\n",
       "                      [ 0.2168,  0.3945,  0.1839]])),\n",
       "             ('lr1.bias', tensor([ 0.5281, -0.5716, -0.1934,  0.0680])),\n",
       "             ('lr2.weight',\n",
       "              tensor([[-0.2880, -0.0771, -0.0379,  0.2885],\n",
       "                      [ 0.1127,  0.4656,  0.0064,  0.0515]])),\n",
       "             ('lr2.bias', tensor([ 0.1539, -0.0674]))])"
      ]
     },
     "execution_count": 22,
     "metadata": {},
     "output_type": "execute_result"
    }
   ],
   "source": [
    "# load한 state_dict를 모델 파라미터에 적용(덮어 씌운다.)\n",
    "new_model = MyModel() # 새로운 모델 생성\n",
    "new_model.state_dict() # 파라미터 조회"
   ]
  },
  {
   "cell_type": "code",
   "execution_count": null,
   "metadata": {},
   "outputs": [
    {
     "data": {
      "text/plain": [
       "<All keys matched successfully>"
      ]
     },
     "execution_count": 23,
     "metadata": {},
     "output_type": "execute_result"
    }
   ],
   "source": [
    "new_model.load_state_dict(sd) # 덮어 씌우기"
   ]
  },
  {
   "cell_type": "code",
   "execution_count": null,
   "metadata": {},
   "outputs": [
    {
     "data": {
      "text/plain": [
       "OrderedDict([('lr1.weight',\n",
       "              tensor([[ 0.1457, -0.5509,  0.2079],\n",
       "                      [ 0.3222,  0.0863,  0.2154],\n",
       "                      [-0.1562, -0.1126,  0.3797],\n",
       "                      [-0.5209,  0.4273,  0.0320]])),\n",
       "             ('lr1.bias', tensor([-0.3603,  0.0810, -0.1604, -0.2834])),\n",
       "             ('lr2.weight',\n",
       "              tensor([[-0.4450,  0.0334, -0.0473,  0.0451],\n",
       "                      [ 0.4637, -0.0096, -0.0657,  0.2528]])),\n",
       "             ('lr2.bias', tensor([-0.3170,  0.1049]))])"
      ]
     },
     "execution_count": 24,
     "metadata": {},
     "output_type": "execute_result"
    }
   ],
   "source": [
    "new_model.state_dict() # 덮어 씌워진 결과 파라미터 조회"
   ]
  },
  {
   "cell_type": "code",
   "execution_count": 29,
   "metadata": {},
   "outputs": [
    {
     "data": {
      "text/plain": [
       "MyModel(\n",
       "  (lr1): Linear(in_features=3, out_features=4, bias=True)\n",
       "  (lr2): Linear(in_features=4, out_features=2, bias=True)\n",
       "  (relu): ReLU()\n",
       ")"
      ]
     },
     "execution_count": 29,
     "metadata": {},
     "output_type": "execute_result"
    }
   ],
   "source": [
    "new_model"
   ]
  },
  {
   "cell_type": "code",
   "execution_count": null,
   "metadata": {},
   "outputs": [],
   "source": [
    "new_model.load_state_dict(sd)"
   ]
  },
  {
   "cell_type": "code",
   "execution_count": null,
   "metadata": {},
   "outputs": [],
   "source": [
    "new_model.state_dict()"
   ]
  },
  {
   "cell_type": "code",
   "execution_count": null,
   "metadata": {},
   "outputs": [],
   "source": []
  },
  {
   "cell_type": "code",
   "execution_count": null,
   "metadata": {},
   "outputs": [],
   "source": [
    "# torchinof 패키지 설치: 파이토치 모델 구조를 조사해주는 패키지.\n",
    "# torchinof 패키지 설치: 파이토치 모델 구조를 자세하게 조사해주는 패키지.\n",
    "# !pip install torchinfo"
   ]
  },
  {
   "cell_type": "code",
   "execution_count": null,
   "metadata": {},
   "outputs": [],
   "outputs": [
    {
     "data": {
      "text/plain": [
       "=================================================================\n",
       "Layer (type:depth-idx)                   Param #\n",
       "=================================================================\n",
       "MyModel                                  --\n",
       "├─Linear: 1-1                            16\n",
       "├─Linear: 1-2                            10\n",
       "├─ReLU: 1-3                              --\n",
       "=================================================================\n",
       "Total params: 26\n",
       "Trainable params: 26\n",
       "Non-trainable params: 0\n",
       "================================================================="
      ]
     },
     "execution_count": 28,
     "metadata": {},
     "output_type": "execute_result"
    }
   ],
   "source": [
    "from torchinfo import summary\n",
    "summary(model)"
   ]
  },
  {
   "cell_type": "code",
   "execution_count": null,
   "metadata": {},
   "outputs": [],
   "execution_count": 27,
   "metadata": {},
   "outputs": [
    {
     "data": {
      "text/plain": [
       "==========================================================================================\n",
       "Layer (type:depth-idx)                   Output Shape              Param #\n",
       "==========================================================================================\n",
       "MyModel                                  [100, 2]                  --\n",
       "├─Linear: 1-1                            [100, 4]                  16\n",
       "├─ReLU: 1-2                              [100, 4]                  --\n",
       "├─Linear: 1-3                            [100, 2]                  10\n",
       "==========================================================================================\n",
       "Total params: 26\n",
       "Trainable params: 26\n",
       "Non-trainable params: 0\n",
       "Total mult-adds (Units.MEGABYTES): 0.00\n",
       "==========================================================================================\n",
       "Input size (MB): 0.00\n",
       "Forward/backward pass size (MB): 0.00\n",
       "Params size (MB): 0.00\n",
       "Estimated Total Size (MB): 0.01\n",
       "=========================================================================================="
      ]
     },
     "execution_count": 27,
     "metadata": {},
     "output_type": "execute_result"
    }
   ],
   "source": [
    "# input data 의 shape을 지정하면 각 Layer의 output shape을 출력한다.\n",
    "summary(model, (100, 3))"
   ]
  },
  {
   "cell_type": "code",
   "execution_count": null,
   "metadata": {},
   "outputs": [],
   "source": []
  },
  {
   "cell_type": "markdown",
   "metadata": {
    "slideshow": {
     "slide_type": "slide"
    }
   },
   "source": [
    "# 문제 유형별 MLP 네트워크\n",
    "- 해결하려는 문제 유형에 따라 출력 Layer의 구조가 바뀐다.\n",
    "- 딥러닝 구조에서 **Feature를 추출하는 Layer 들을 Backbone** 이라고 하고 **추론하는 Layer들을 Head** 라고 한다. \n",
    "\n",
    "\n",
    "> - MLP(Multi Layer Perceptron), DNN(Deep Neural Network), ANN(Artificial Neural Network)\n",
    ">     -   Fully Connected Layer(nn.Linear)로 구성된 딥러닝 모델\n",
    ">     -   input feature들 모두에 대응하는 weight들(가중치)을 사용한다.\n",
    "> "
   ]
  },
  {
   "cell_type": "markdown",
   "metadata": {
    "slideshow": {
     "slide_type": "fragment"
    }
   },
   "source": [
    "## Boston Housing Dataset - **Regression(회귀) 문제**\n",
    "\n",
    "보스턴 주택가격 dataset은 다음과 같은 속성을 바탕으로 해당 타운 주택 가격의 중앙값을 예측하는 문제.\n",
    "\n",
    "-   CRIM: 범죄율\n",
    "-   ZN: 25,000 평방피트당 주거지역 비율\n",
    "-   INDUS: 비소매 상업지구 비율\n",
    "-   CHAS: 찰스강에 인접해 있는지 여부(인접:1, 아니면:0)\n",
    "-   NOX: 일산화질소 농도(단위: 0.1ppm)\n",
    "-   RM: 주택당 방의 수\n",
    "-   AGE: 1940년 이전에 건설된 주택의 비율\n",
    "-   DIS: 5개의 보스턴 직업고용센터와의 거리(가중 평균)\n",
    "-   RAD: 고속도로 접근성\n",
    "-   TAX: 재산세율\n",
    "-   PTRATIO: 학생/교사 비율\n",
    "-   B: 흑인 비율\n",
    "-   LSTAT: 하위 계층 비율\n",
    "    <br><br>\n",
    "-   **Target**\n",
    "    -   MEDV: 타운의 주택가격 중앙값(단위: 1,000달러)\n"
   ]
  },
  {
   "cell_type": "code",
   "execution_count": null,
   "metadata": {},
   "outputs": [],
   "source": []
   "execution_count": 1,
   "metadata": {},
   "outputs": [],
   "source": [
    "from sklearn.preprocessing import StandardScaler\n",
    "from sklearn.model_selection import train_test_split\n",
    "\n",
    "import pandas as pd\n",
    "import numpy as np\n",
    "import matplotlib.pyplot as plt\n",
    "\n",
    "import torch\n",
    "import torch.nn as nn # Layer들을 정의한 모듈\n",
    "from torch.utils.data import TensorDataset, DataLoader\n",
    "import torchinfo"
   ]
  },
  {
   "cell_type": "code",
   "execution_count": 2,
   "metadata": {},
   "outputs": [
    {
     "data": {
      "text/plain": [
       "'cpu'"
      ]
     },
     "execution_count": 2,
     "metadata": {},
     "output_type": "execute_result"
    }
   ],
   "source": [
    "device = 'cuda' if torch.cuda.is_available() else \"cpu\"\n",
    "device"
   ]
  },
  {
   "cell_type": "code",
   "execution_count": 3,
   "metadata": {},
   "outputs": [
    {
     "data": {
      "text/plain": [
       "(506, 14)"
      ]
     },
     "execution_count": 3,
     "metadata": {},
     "output_type": "execute_result"
    }
   ],
   "source": [
    "# Dataset 읽어오기\n",
    "data_path = \"data/boston_hosing.csv\"\n",
    "\n",
    "data = pd.read_csv(data_path)\n",
    "data.shape"
   ]
  },
  {
   "cell_type": "code",
   "execution_count": 4,
   "metadata": {},
   "outputs": [
    {
     "data": {
      "text/html": [
       "<div>\n",
       "<style scoped>\n",
       "    .dataframe tbody tr th:only-of-type {\n",
       "        vertical-align: middle;\n",
       "    }\n",
       "\n",
       "    .dataframe tbody tr th {\n",
       "        vertical-align: top;\n",
       "    }\n",
       "\n",
       "    .dataframe thead th {\n",
       "        text-align: right;\n",
       "    }\n",
       "</style>\n",
       "<table border=\"1\" class=\"dataframe\">\n",
       "  <thead>\n",
       "    <tr style=\"text-align: right;\">\n",
       "      <th></th>\n",
       "      <th>CRIM</th>\n",
       "      <th>ZN</th>\n",
       "      <th>INDUS</th>\n",
       "      <th>CHAS</th>\n",
       "      <th>NOX</th>\n",
       "      <th>RM</th>\n",
       "      <th>AGE</th>\n",
       "      <th>DIS</th>\n",
       "      <th>RAD</th>\n",
       "      <th>TAX</th>\n",
       "      <th>PTRATIO</th>\n",
       "      <th>B</th>\n",
       "      <th>LSTAT</th>\n",
       "      <th>MEDV</th>\n",
       "    </tr>\n",
       "  </thead>\n",
       "  <tbody>\n",
       "    <tr>\n",
       "      <th>0</th>\n",
       "      <td>0.00632</td>\n",
       "      <td>18.0</td>\n",
       "      <td>2.31</td>\n",
       "      <td>0.0</td>\n",
       "      <td>0.538</td>\n",
       "      <td>6.575</td>\n",
       "      <td>65.2</td>\n",
       "      <td>4.0900</td>\n",
       "      <td>1.0</td>\n",
       "      <td>296.0</td>\n",
       "      <td>15.3</td>\n",
       "      <td>396.90</td>\n",
       "      <td>4.98</td>\n",
       "      <td>24.0</td>\n",
       "    </tr>\n",
       "    <tr>\n",
       "      <th>1</th>\n",
       "      <td>0.02731</td>\n",
       "      <td>0.0</td>\n",
       "      <td>7.07</td>\n",
       "      <td>0.0</td>\n",
       "      <td>0.469</td>\n",
       "      <td>6.421</td>\n",
       "      <td>78.9</td>\n",
       "      <td>4.9671</td>\n",
       "      <td>2.0</td>\n",
       "      <td>242.0</td>\n",
       "      <td>17.8</td>\n",
       "      <td>396.90</td>\n",
       "      <td>9.14</td>\n",
       "      <td>21.6</td>\n",
       "    </tr>\n",
       "    <tr>\n",
       "      <th>2</th>\n",
       "      <td>0.02729</td>\n",
       "      <td>0.0</td>\n",
       "      <td>7.07</td>\n",
       "      <td>0.0</td>\n",
       "      <td>0.469</td>\n",
       "      <td>7.185</td>\n",
       "      <td>61.1</td>\n",
       "      <td>4.9671</td>\n",
       "      <td>2.0</td>\n",
       "      <td>242.0</td>\n",
       "      <td>17.8</td>\n",
       "      <td>392.83</td>\n",
       "      <td>4.03</td>\n",
       "      <td>34.7</td>\n",
       "    </tr>\n",
       "    <tr>\n",
       "      <th>3</th>\n",
       "      <td>0.03237</td>\n",
       "      <td>0.0</td>\n",
       "      <td>2.18</td>\n",
       "      <td>0.0</td>\n",
       "      <td>0.458</td>\n",
       "      <td>6.998</td>\n",
       "      <td>45.8</td>\n",
       "      <td>6.0622</td>\n",
       "      <td>3.0</td>\n",
       "      <td>222.0</td>\n",
       "      <td>18.7</td>\n",
       "      <td>394.63</td>\n",
       "      <td>2.94</td>\n",
       "      <td>33.4</td>\n",
       "    </tr>\n",
       "    <tr>\n",
       "      <th>4</th>\n",
       "      <td>0.06905</td>\n",
       "      <td>0.0</td>\n",
       "      <td>2.18</td>\n",
       "      <td>0.0</td>\n",
       "      <td>0.458</td>\n",
       "      <td>7.147</td>\n",
       "      <td>54.2</td>\n",
       "      <td>6.0622</td>\n",
       "      <td>3.0</td>\n",
       "      <td>222.0</td>\n",
       "      <td>18.7</td>\n",
       "      <td>396.90</td>\n",
       "      <td>5.33</td>\n",
       "      <td>36.2</td>\n",
       "    </tr>\n",
       "  </tbody>\n",
       "</table>\n",
       "</div>"
      ],
      "text/plain": [
       "      CRIM    ZN  INDUS  CHAS    NOX     RM   AGE     DIS  RAD    TAX  \\\n",
       "0  0.00632  18.0   2.31   0.0  0.538  6.575  65.2  4.0900  1.0  296.0   \n",
       "1  0.02731   0.0   7.07   0.0  0.469  6.421  78.9  4.9671  2.0  242.0   \n",
       "2  0.02729   0.0   7.07   0.0  0.469  7.185  61.1  4.9671  2.0  242.0   \n",
       "3  0.03237   0.0   2.18   0.0  0.458  6.998  45.8  6.0622  3.0  222.0   \n",
       "4  0.06905   0.0   2.18   0.0  0.458  7.147  54.2  6.0622  3.0  222.0   \n",
       "\n",
       "   PTRATIO       B  LSTAT  MEDV  \n",
       "0     15.3  396.90   4.98  24.0  \n",
       "1     17.8  396.90   9.14  21.6  \n",
       "2     17.8  392.83   4.03  34.7  \n",
       "3     18.7  394.63   2.94  33.4  \n",
       "4     18.7  396.90   5.33  36.2  "
      ]
     },
     "execution_count": 4,
     "metadata": {},
     "output_type": "execute_result"
    }
   ],
   "source": [
    "data.head()"
   ]
  },
  {
   "cell_type": "code",
   "execution_count": null,
   "metadata": {},
   "outputs": [],
   "source": []
   "source": [
    "X = data.drop(columns='MEDV').values\n",
    "y = data['MEDV'].values.reshape(-1, 1) # 1차원 -> 2차원 변환"
   ]
  },
  {
   "cell_type": "code",
   "execution_count": 38,
   "metadata": {},
   "outputs": [
    {
     "data": {
      "text/plain": [
       "((404, 13), (102, 13), (404, 1), (102, 1))"
      ]
     },
     "execution_count": 38,
     "metadata": {},
     "output_type": "execute_result"
    }
   ],
   "source": [
    "# train/test set 분리\n",
    "\n",
    "X_train, X_test, y_train, y_test = train_test_split(X, y, test_size=0.2, random_state=0)\n",
    "\n",
    "X_train.shape, X_test.shape, y_train.shape, y_test.shape"
   ]
  },
  {
   "cell_type": "code",
   "execution_count": 39,
   "metadata": {},
   "outputs": [],
   "source": [
    "# Feature Scaling - Standard Scaler\n",
    "\n",
    "scaler = StandardScaler()\n",
    "X_train_scaled = scaler.fit_transform(X_train)\n",
    "X_test_scaled = scaler.transform(X_test)"
   ]
  },
  {
   "cell_type": "code",
   "execution_count": 40,
   "metadata": {},
   "outputs": [],
   "source": [
    "# Dataset 생성\n",
    "# X, y가 ndarray 타입으로 메모리에 있는 경우 => TensorDataset\n",
    "\n",
    "trainset = TensorDataset(\n",
    "    torch.tensor(X_train_scaled, dtype=torch.float32),\n",
    "    torch.tensor(y_train, dtype=torch.float32)\n",
    ")\n",
    "\n",
    "testset = TensorDataset(\n",
    "    torch.tensor(X_test_scaled, dtype=torch.float32),\n",
    "    torch.tensor(y_test, dtype=torch.float32)\n",
    ")"
   ]
  },
  {
   "cell_type": "code",
   "execution_count": 41,
   "metadata": {},
   "outputs": [
    {
     "data": {
      "text/plain": [
       "(tensor([-0.3726, -0.4996, -0.7049,  3.6645, -0.4249,  0.9357,  0.6937, -0.4372,\n",
       "         -0.1622, -0.5617, -0.4846,  0.3717, -0.4110]),\n",
       " tensor([26.7000]))"
      ]
     },
     "execution_count": 41,
     "metadata": {},
     "output_type": "execute_result"
    }
   ],
   "source": [
    "trainset[0]"
   ]
  },
  {
   "cell_type": "code",
   "execution_count": 42,
   "metadata": {},
   "outputs": [
    {
     "data": {
      "text/plain": [
       "(404, 102)"
      ]
     },
     "execution_count": 42,
     "metadata": {},
     "output_type": "execute_result"
    }
   ],
   "source": [
    "len(trainset), len(testset)"
   ]
  },
  {
   "cell_type": "code",
   "execution_count": 43,
   "metadata": {},
   "outputs": [],
   "source": [
    "# DataLoader 생성\n",
    "\n",
    "train_loader = DataLoader(trainset, batch_size=100, shuffle=True, drop_last=True)\n",
    "test_loader = DataLoader(testset, batch_size=102)"
   ]
  },
  {
   "cell_type": "code",
   "execution_count": 44,
   "metadata": {},
   "outputs": [
    {
     "data": {
      "text/plain": [
       "(4, 1)"
      ]
     },
     "execution_count": 44,
     "metadata": {},
     "output_type": "execute_result"
    }
   ],
   "source": [
    "# epoch당 step수 확인\n",
    "len(train_loader), len(test_loader)"
   ]
  },
  {
   "cell_type": "code",
   "execution_count": 45,
   "metadata": {},
   "outputs": [],
   "source": [
    "# 모델 정의\n",
    "\n",
    "class BostonModel(nn.Module):\n",
    "    def __init__(self):\n",
    "        super().__init__()\n",
    "        self.lr1 = nn.Linear(13, 32) # 13은 X의 feature 개수\n",
    "        self.lr2 = nn.Linear(32, 16) # 32, 16은 그냥 임의로 정한거임.\n",
    "        self.lr3 = nn.Linear(16, 1) # 1은 예측할 y의 개수\n",
    "\n",
    "    def forward(self, X):\n",
    "        # lr1 -> relu -> lr2 -> relu -> lr3\n",
    "        X = self.lr1(X)\n",
    "        X = nn.ReLU()(X) # 생성된 객체의 call함수를 호출하는 것임.\n",
    "        X = self.lr2(X)\n",
    "        X = nn.ReLU()(X)\n",
    "        X = self.lr3(X)\n",
    "        return X"
   ]
  },
  {
   "cell_type": "code",
   "execution_count": 46,
   "metadata": {},
   "outputs": [
    {
     "data": {
      "text/plain": [
       "==========================================================================================\n",
       "Layer (type:depth-idx)                   Output Shape              Param #\n",
       "==========================================================================================\n",
       "BostonModel                              [100, 1]                  --\n",
       "├─Linear: 1-1                            [100, 32]                 448\n",
       "├─Linear: 1-2                            [100, 16]                 528\n",
       "├─Linear: 1-3                            [100, 1]                  17\n",
       "==========================================================================================\n",
       "Total params: 993\n",
       "Trainable params: 993\n",
       "Non-trainable params: 0\n",
       "Total mult-adds (Units.MEGABYTES): 0.10\n",
       "==========================================================================================\n",
       "Input size (MB): 0.01\n",
       "Forward/backward pass size (MB): 0.04\n",
       "Params size (MB): 0.00\n",
       "Estimated Total Size (MB): 0.05\n",
       "=========================================================================================="
      ]
     },
     "execution_count": 46,
     "metadata": {},
     "output_type": "execute_result"
    }
   ],
   "source": [
    "boston_model = BostonModel()\n",
    "torchinfo.summary(boston_model, (100, 13)) # 100은 batch size, 13은 X의 feature 수"
   ]
  },
  {
   "cell_type": "code",
   "execution_count": 47,
   "metadata": {},
   "outputs": [],
   "source": [
    "# 학습\n",
    "# 필요한 객체들 생성 - model, loss함수, optimizer\n",
    "\n",
    "# device로 옮길 대상: model, X, y\n",
    "boston_model = boston_model.to(device)\n",
    "\n",
    "loss_fn = nn.MSELoss()\n",
    "optimizer = torch.optim.RMSprop(boston_model.parameters(), lr=0.001) # 옵티마이저 파라미터 -> 모델의 파라미터, 학습률"
   ]
  },
  {
   "cell_type": "code",
   "execution_count": 48,
   "metadata": {},
   "outputs": [
    {
     "name": "stdout",
     "output_type": "stream",
     "text": [
      "[1/1000] train loss: 569.70071, valid loss: 538.7996826171875\n",
      "[2/1000] train loss: 544.35272, valid loss: 507.1466064453125\n",
      "[3/1000] train loss: 509.63655, valid loss: 472.0031433105469\n",
      "[4/1000] train loss: 471.12971, valid loss: 433.1932373046875\n",
      "[5/1000] train loss: 427.10502, valid loss: 391.3469543457031\n",
      "[6/1000] train loss: 378.99517, valid loss: 348.3680419921875\n",
      "[7/1000] train loss: 331.84492, valid loss: 306.9056091308594\n",
      "[8/1000] train loss: 285.90929, valid loss: 269.29925537109375\n",
      "[9/1000] train loss: 247.03039, valid loss: 235.08697509765625\n",
      "[10/1000] train loss: 210.61172, valid loss: 206.2203369140625\n",
      "[11/1000] train loss: 179.80169, valid loss: 182.63133239746094\n",
      "[12/1000] train loss: 154.14007, valid loss: 163.9144287109375\n",
      "[13/1000] train loss: 135.93106, valid loss: 148.8775634765625\n",
      "[14/1000] train loss: 121.58780, valid loss: 136.37744140625\n",
      "[15/1000] train loss: 109.04192, valid loss: 125.96119689941406\n",
      "[16/1000] train loss: 98.48553, valid loss: 117.37373352050781\n",
      "[17/1000] train loss: 89.88643, valid loss: 110.02021026611328\n",
      "[18/1000] train loss: 82.69332, valid loss: 103.5892333984375\n",
      "[19/1000] train loss: 76.12098, valid loss: 97.96991729736328\n",
      "[20/1000] train loss: 70.34053, valid loss: 93.01593017578125\n",
      "[21/1000] train loss: 65.62156, valid loss: 88.53426361083984\n",
      "[22/1000] train loss: 61.68901, valid loss: 84.5477523803711\n",
      "[23/1000] train loss: 58.01128, valid loss: 80.93443298339844\n",
      "[24/1000] train loss: 54.40338, valid loss: 77.74137115478516\n",
      "[25/1000] train loss: 48.75163, valid loss: 74.8944091796875\n",
      "[26/1000] train loss: 48.57386, valid loss: 72.19218444824219\n",
      "[27/1000] train loss: 46.16027, valid loss: 69.77320098876953\n",
      "[28/1000] train loss: 43.81641, valid loss: 67.51959228515625\n",
      "[29/1000] train loss: 41.60212, valid loss: 65.55687713623047\n",
      "[30/1000] train loss: 39.64862, valid loss: 63.66324234008789\n",
      "[31/1000] train loss: 37.92787, valid loss: 62.00820541381836\n",
      "[32/1000] train loss: 36.41457, valid loss: 60.540138244628906\n",
      "[33/1000] train loss: 34.75538, valid loss: 59.179588317871094\n",
      "[34/1000] train loss: 33.83647, valid loss: 57.91209411621094\n",
      "[35/1000] train loss: 32.02880, valid loss: 56.824180603027344\n",
      "[36/1000] train loss: 31.60903, valid loss: 55.81141662597656\n",
      "[37/1000] train loss: 30.87616, valid loss: 54.884552001953125\n",
      "[38/1000] train loss: 29.90310, valid loss: 54.02505111694336\n",
      "[39/1000] train loss: 28.92652, valid loss: 53.182106018066406\n",
      "[40/1000] train loss: 28.43265, valid loss: 52.43199157714844\n",
      "[41/1000] train loss: 27.86587, valid loss: 51.71520233154297\n",
      "[42/1000] train loss: 26.91718, valid loss: 51.078372955322266\n",
      "[43/1000] train loss: 26.68319, valid loss: 50.483150482177734\n",
      "[44/1000] train loss: 26.10133, valid loss: 49.906131744384766\n",
      "[45/1000] train loss: 25.45067, valid loss: 49.36148452758789\n",
      "[46/1000] train loss: 25.05683, valid loss: 48.858551025390625\n",
      "[47/1000] train loss: 24.86043, valid loss: 48.317474365234375\n",
      "[48/1000] train loss: 24.35067, valid loss: 47.78350067138672\n",
      "[49/1000] train loss: 24.23607, valid loss: 47.294673919677734\n",
      "[50/1000] train loss: 23.87824, valid loss: 46.867923736572266\n",
      "[51/1000] train loss: 23.35370, valid loss: 46.50185775756836\n",
      "[52/1000] train loss: 23.28648, valid loss: 46.16337966918945\n",
      "[53/1000] train loss: 22.95973, valid loss: 45.727996826171875\n",
      "[54/1000] train loss: 22.59474, valid loss: 45.316768646240234\n",
      "[55/1000] train loss: 22.38464, valid loss: 44.91741943359375\n",
      "[56/1000] train loss: 22.02054, valid loss: 44.516326904296875\n",
      "[57/1000] train loss: 21.86929, valid loss: 44.17241287231445\n",
      "[58/1000] train loss: 21.67456, valid loss: 43.78182601928711\n",
      "[59/1000] train loss: 21.41089, valid loss: 43.43636703491211\n",
      "[60/1000] train loss: 21.00676, valid loss: 43.030269622802734\n",
      "[61/1000] train loss: 20.52880, valid loss: 42.63805389404297\n",
      "[62/1000] train loss: 20.80630, valid loss: 42.33070373535156\n",
      "[63/1000] train loss: 20.63294, valid loss: 42.016727447509766\n",
      "[64/1000] train loss: 20.35309, valid loss: 41.70590591430664\n",
      "[65/1000] train loss: 19.46095, valid loss: 41.36949920654297\n",
      "[66/1000] train loss: 20.06921, valid loss: 40.99567413330078\n",
      "[67/1000] train loss: 19.89315, valid loss: 40.652801513671875\n",
      "[68/1000] train loss: 19.56513, valid loss: 40.30729293823242\n",
      "[69/1000] train loss: 19.42608, valid loss: 40.029815673828125\n",
      "[70/1000] train loss: 18.46611, valid loss: 39.876224517822266\n",
      "[71/1000] train loss: 19.20673, valid loss: 39.521392822265625\n",
      "[72/1000] train loss: 18.87880, valid loss: 39.24433898925781\n",
      "[73/1000] train loss: 18.31072, valid loss: 38.92054748535156\n",
      "[74/1000] train loss: 18.56360, valid loss: 38.63386154174805\n",
      "[75/1000] train loss: 18.43695, valid loss: 38.23698425292969\n",
      "[76/1000] train loss: 18.15658, valid loss: 38.003028869628906\n",
      "[77/1000] train loss: 18.00095, valid loss: 37.69755172729492\n",
      "[78/1000] train loss: 17.93678, valid loss: 37.34870147705078\n",
      "[79/1000] train loss: 17.70660, valid loss: 37.165184020996094\n",
      "[80/1000] train loss: 17.53338, valid loss: 36.84892272949219\n",
      "[81/1000] train loss: 17.23674, valid loss: 36.68130874633789\n",
      "[82/1000] train loss: 17.23853, valid loss: 36.380271911621094\n",
      "[83/1000] train loss: 17.08855, valid loss: 36.231300354003906\n",
      "[84/1000] train loss: 16.83110, valid loss: 36.0491828918457\n",
      "[85/1000] train loss: 16.68279, valid loss: 35.68535232543945\n",
      "[86/1000] train loss: 16.62327, valid loss: 35.45436096191406\n",
      "[87/1000] train loss: 16.41727, valid loss: 35.20272445678711\n",
      "[88/1000] train loss: 16.36947, valid loss: 34.96354293823242\n",
      "[89/1000] train loss: 16.08624, valid loss: 34.72007369995117\n",
      "[90/1000] train loss: 15.93776, valid loss: 34.48085021972656\n",
      "[91/1000] train loss: 15.89460, valid loss: 34.283477783203125\n",
      "[92/1000] train loss: 15.75583, valid loss: 34.03803253173828\n",
      "[93/1000] train loss: 15.61289, valid loss: 33.66850662231445\n",
      "[94/1000] train loss: 15.20467, valid loss: 33.66913604736328\n",
      "[95/1000] train loss: 15.33568, valid loss: 33.49308395385742\n",
      "[96/1000] train loss: 14.98632, valid loss: 33.253150939941406\n",
      "[97/1000] train loss: 15.16558, valid loss: 33.00755310058594\n",
      "[98/1000] train loss: 14.92999, valid loss: 32.77444839477539\n",
      "[99/1000] train loss: 14.81567, valid loss: 32.600982666015625\n",
      "[100/1000] train loss: 14.56111, valid loss: 32.44818878173828\n",
      "[101/1000] train loss: 14.45545, valid loss: 32.15599060058594\n",
      "[102/1000] train loss: 14.21608, valid loss: 31.890913009643555\n",
      "[103/1000] train loss: 14.28196, valid loss: 31.95206642150879\n",
      "[104/1000] train loss: 14.08719, valid loss: 31.81792449951172\n",
      "[105/1000] train loss: 14.18021, valid loss: 31.523738861083984\n",
      "[106/1000] train loss: 14.09405, valid loss: 31.325992584228516\n",
      "[107/1000] train loss: 13.86025, valid loss: 31.136489868164062\n",
      "[108/1000] train loss: 13.77767, valid loss: 30.997411727905273\n",
      "[109/1000] train loss: 12.97879, valid loss: 30.940919876098633\n",
      "[110/1000] train loss: 13.44925, valid loss: 30.725332260131836\n",
      "[111/1000] train loss: 13.42777, valid loss: 30.481603622436523\n",
      "[112/1000] train loss: 13.30760, valid loss: 30.433103561401367\n",
      "[113/1000] train loss: 13.12848, valid loss: 30.27557945251465\n",
      "[114/1000] train loss: 13.24262, valid loss: 30.098369598388672\n",
      "[115/1000] train loss: 13.14181, valid loss: 29.83401107788086\n",
      "[116/1000] train loss: 13.02516, valid loss: 29.68460464477539\n",
      "[117/1000] train loss: 12.88225, valid loss: 29.578100204467773\n",
      "[118/1000] train loss: 12.71331, valid loss: 29.41219139099121\n",
      "[119/1000] train loss: 12.38176, valid loss: 29.37653350830078\n",
      "[120/1000] train loss: 12.58689, valid loss: 29.193641662597656\n",
      "[121/1000] train loss: 12.54744, valid loss: 29.250675201416016\n",
      "[122/1000] train loss: 12.25207, valid loss: 29.008731842041016\n",
      "[123/1000] train loss: 12.27937, valid loss: 28.786977767944336\n",
      "[124/1000] train loss: 12.22615, valid loss: 28.722721099853516\n",
      "[125/1000] train loss: 12.04382, valid loss: 28.48543357849121\n",
      "[126/1000] train loss: 12.03631, valid loss: 28.32811737060547\n",
      "[127/1000] train loss: 11.63577, valid loss: 28.110132217407227\n",
      "[128/1000] train loss: 11.73515, valid loss: 27.933639526367188\n",
      "[129/1000] train loss: 11.63844, valid loss: 27.9219970703125\n",
      "[130/1000] train loss: 11.67065, valid loss: 27.690351486206055\n",
      "[131/1000] train loss: 11.72160, valid loss: 27.68844985961914\n",
      "[132/1000] train loss: 11.59525, valid loss: 27.557018280029297\n",
      "[133/1000] train loss: 11.42316, valid loss: 27.339496612548828\n",
      "[134/1000] train loss: 11.37795, valid loss: 27.352285385131836\n",
      "[135/1000] train loss: 11.27243, valid loss: 27.141084671020508\n",
      "[136/1000] train loss: 11.27266, valid loss: 27.04973030090332\n",
      "[137/1000] train loss: 11.14041, valid loss: 26.955873489379883\n",
      "[138/1000] train loss: 11.10669, valid loss: 26.759841918945312\n",
      "[139/1000] train loss: 11.07094, valid loss: 26.62934112548828\n",
      "[140/1000] train loss: 10.96517, valid loss: 26.598369598388672\n",
      "[141/1000] train loss: 10.91309, valid loss: 26.282093048095703\n",
      "[142/1000] train loss: 10.84321, valid loss: 26.099018096923828\n",
      "[143/1000] train loss: 10.70531, valid loss: 26.118026733398438\n",
      "[144/1000] train loss: 10.67227, valid loss: 25.995147705078125\n",
      "[145/1000] train loss: 10.54009, valid loss: 25.812442779541016\n",
      "[146/1000] train loss: 10.35736, valid loss: 25.880678176879883\n",
      "[147/1000] train loss: 10.52478, valid loss: 25.742231369018555\n",
      "[148/1000] train loss: 10.25327, valid loss: 25.762300491333008\n",
      "[149/1000] train loss: 10.35204, valid loss: 25.54180145263672\n",
      "[150/1000] train loss: 10.42032, valid loss: 25.56319808959961\n",
      "[151/1000] train loss: 10.23903, valid loss: 25.313146591186523\n",
      "[152/1000] train loss: 10.13690, valid loss: 25.123289108276367\n",
      "[153/1000] train loss: 10.14698, valid loss: 24.94655418395996\n",
      "[154/1000] train loss: 10.10704, valid loss: 25.00057601928711\n",
      "[155/1000] train loss: 10.07044, valid loss: 24.928842544555664\n",
      "[156/1000] train loss: 10.09124, valid loss: 24.551624298095703\n",
      "[157/1000] train loss: 10.03158, valid loss: 24.449018478393555\n",
      "[158/1000] train loss: 9.92203, valid loss: 24.425893783569336\n",
      "[159/1000] train loss: 9.96874, valid loss: 24.333194732666016\n",
      "[160/1000] train loss: 9.88328, valid loss: 24.189538955688477\n",
      "[161/1000] train loss: 9.85585, valid loss: 24.285642623901367\n",
      "[162/1000] train loss: 9.73705, valid loss: 24.112302780151367\n",
      "[163/1000] train loss: 8.81659, valid loss: 23.96799659729004\n",
      "[164/1000] train loss: 9.57611, valid loss: 24.14025115966797\n",
      "[165/1000] train loss: 9.77431, valid loss: 23.832700729370117\n",
      "[166/1000] train loss: 9.60000, valid loss: 23.617420196533203\n",
      "[167/1000] train loss: 9.69300, valid loss: 23.48518943786621\n",
      "[168/1000] train loss: 9.51636, valid loss: 23.620214462280273\n",
      "[169/1000] train loss: 9.43918, valid loss: 23.499114990234375\n",
      "[170/1000] train loss: 9.43097, valid loss: 23.488121032714844\n",
      "[171/1000] train loss: 9.12019, valid loss: 23.473249435424805\n",
      "[172/1000] train loss: 9.27311, valid loss: 23.356964111328125\n",
      "[173/1000] train loss: 9.11844, valid loss: 23.375123977661133\n",
      "[174/1000] train loss: 9.29629, valid loss: 23.2635440826416\n",
      "[175/1000] train loss: 9.19649, valid loss: 23.127798080444336\n",
      "[176/1000] train loss: 9.11377, valid loss: 23.193960189819336\n",
      "[177/1000] train loss: 9.22935, valid loss: 23.16105842590332\n",
      "[178/1000] train loss: 9.15397, valid loss: 23.194644927978516\n",
      "[179/1000] train loss: 8.83262, valid loss: 23.00238609313965\n",
      "[180/1000] train loss: 8.99922, valid loss: 22.906232833862305\n",
      "[181/1000] train loss: 9.01256, valid loss: 22.6688232421875\n",
      "[182/1000] train loss: 9.00056, valid loss: 22.88357162475586\n",
      "[183/1000] train loss: 8.98241, valid loss: 22.66460418701172\n",
      "[184/1000] train loss: 8.06106, valid loss: 22.964628219604492\n",
      "[185/1000] train loss: 8.87511, valid loss: 22.8983154296875\n",
      "[186/1000] train loss: 8.73652, valid loss: 22.78022003173828\n",
      "[187/1000] train loss: 8.76025, valid loss: 22.958921432495117\n",
      "[188/1000] train loss: 8.81552, valid loss: 22.52898406982422\n",
      "[189/1000] train loss: 8.69211, valid loss: 22.47771644592285\n",
      "[190/1000] train loss: 8.68024, valid loss: 22.415515899658203\n",
      "[191/1000] train loss: 8.72059, valid loss: 22.471923828125\n",
      "[192/1000] train loss: 8.57163, valid loss: 22.546659469604492\n",
      "[193/1000] train loss: 8.60294, valid loss: 22.333765029907227\n",
      "[194/1000] train loss: 8.54910, valid loss: 22.31064796447754\n",
      "[195/1000] train loss: 8.47621, valid loss: 22.128040313720703\n",
      "[196/1000] train loss: 8.47386, valid loss: 22.074203491210938\n",
      "[197/1000] train loss: 8.44790, valid loss: 22.042247772216797\n",
      "[198/1000] train loss: 8.43627, valid loss: 21.962976455688477\n",
      "[199/1000] train loss: 8.42051, valid loss: 21.9429874420166\n",
      "[200/1000] train loss: 8.34915, valid loss: 22.071306228637695\n",
      "[201/1000] train loss: 8.33982, valid loss: 21.851768493652344\n",
      "[202/1000] train loss: 8.31051, valid loss: 21.873476028442383\n",
      "[203/1000] train loss: 8.35137, valid loss: 21.944419860839844\n",
      "[204/1000] train loss: 8.35538, valid loss: 21.869319915771484\n",
      "[205/1000] train loss: 8.30097, valid loss: 22.037202835083008\n",
      "[206/1000] train loss: 8.23508, valid loss: 21.535552978515625\n",
      "[207/1000] train loss: 8.23613, valid loss: 21.708749771118164\n",
      "[208/1000] train loss: 8.20159, valid loss: 21.683530807495117\n",
      "[209/1000] train loss: 8.12009, valid loss: 21.702194213867188\n",
      "[210/1000] train loss: 7.99136, valid loss: 21.69774627685547\n",
      "[211/1000] train loss: 8.21104, valid loss: 21.64780616760254\n",
      "[212/1000] train loss: 8.12503, valid loss: 21.37821388244629\n",
      "[213/1000] train loss: 7.95739, valid loss: 21.649280548095703\n",
      "[214/1000] train loss: 7.85789, valid loss: 21.65532112121582\n",
      "[215/1000] train loss: 8.03435, valid loss: 21.405439376831055\n",
      "[216/1000] train loss: 7.97442, valid loss: 21.296884536743164\n",
      "[217/1000] train loss: 7.99674, valid loss: 21.211015701293945\n",
      "[218/1000] train loss: 8.06018, valid loss: 21.28514862060547\n",
      "[219/1000] train loss: 7.94387, valid loss: 21.222476959228516\n",
      "[220/1000] train loss: 7.95585, valid loss: 21.46781349182129\n",
      "[221/1000] train loss: 7.86660, valid loss: 21.233993530273438\n",
      "[222/1000] train loss: 7.92010, valid loss: 21.110382080078125\n",
      "[223/1000] train loss: 7.77537, valid loss: 20.906797409057617\n",
      "[224/1000] train loss: 7.80339, valid loss: 21.163135528564453\n",
      "[225/1000] train loss: 7.82711, valid loss: 20.931621551513672\n",
      "[226/1000] train loss: 7.83531, valid loss: 21.031749725341797\n",
      "[227/1000] train loss: 7.44311, valid loss: 21.00070571899414\n",
      "[228/1000] train loss: 7.73934, valid loss: 21.067602157592773\n",
      "[229/1000] train loss: 7.74567, valid loss: 20.901508331298828\n",
      "[230/1000] train loss: 7.71573, valid loss: 21.29508399963379\n",
      "[231/1000] train loss: 7.62216, valid loss: 20.948999404907227\n",
      "[232/1000] train loss: 7.67615, valid loss: 20.760900497436523\n",
      "[233/1000] train loss: 7.62010, valid loss: 20.812162399291992\n",
      "[234/1000] train loss: 7.62037, valid loss: 20.75218963623047\n",
      "[235/1000] train loss: 7.53975, valid loss: 20.63008689880371\n",
      "[236/1000] train loss: 7.53656, valid loss: 20.67996597290039\n",
      "[237/1000] train loss: 7.54420, valid loss: 21.022628784179688\n",
      "[238/1000] train loss: 7.62300, valid loss: 20.769439697265625\n",
      "[239/1000] train loss: 7.34935, valid loss: 20.490236282348633\n",
      "[240/1000] train loss: 7.45579, valid loss: 20.660903930664062\n",
      "[241/1000] train loss: 7.42976, valid loss: 20.580156326293945\n",
      "[242/1000] train loss: 7.38516, valid loss: 20.516902923583984\n",
      "[243/1000] train loss: 7.34982, valid loss: 20.75405502319336\n",
      "[244/1000] train loss: 7.41966, valid loss: 20.51372718811035\n",
      "[245/1000] train loss: 7.43495, valid loss: 20.502649307250977\n",
      "[246/1000] train loss: 7.41048, valid loss: 20.36639976501465\n",
      "[247/1000] train loss: 7.28845, valid loss: 20.53476333618164\n",
      "[248/1000] train loss: 7.28249, valid loss: 20.41436004638672\n",
      "[249/1000] train loss: 7.47820, valid loss: 20.2537841796875\n",
      "[250/1000] train loss: 7.29775, valid loss: 20.642173767089844\n",
      "[251/1000] train loss: 7.11471, valid loss: 20.190279006958008\n",
      "[252/1000] train loss: 7.25717, valid loss: 20.10822296142578\n",
      "[253/1000] train loss: 7.21675, valid loss: 20.4976863861084\n",
      "[254/1000] train loss: 7.25204, valid loss: 20.285945892333984\n",
      "[255/1000] train loss: 7.23507, valid loss: 19.98086166381836\n",
      "[256/1000] train loss: 7.20672, valid loss: 20.304882049560547\n",
      "[257/1000] train loss: 7.00994, valid loss: 20.211793899536133\n",
      "[258/1000] train loss: 7.24406, valid loss: 20.293046951293945\n",
      "[259/1000] train loss: 6.53558, valid loss: 20.310338973999023\n",
      "[260/1000] train loss: 7.22750, valid loss: 20.24102210998535\n",
      "[261/1000] train loss: 7.13177, valid loss: 20.13970375061035\n",
      "[262/1000] train loss: 7.08667, valid loss: 19.97345542907715\n",
      "[263/1000] train loss: 7.08502, valid loss: 20.040307998657227\n",
      "[264/1000] train loss: 7.09835, valid loss: 20.1839656829834\n",
      "[265/1000] train loss: 7.06100, valid loss: 20.053430557250977\n",
      "[266/1000] train loss: 7.10290, valid loss: 19.696090698242188\n",
      "[267/1000] train loss: 7.03610, valid loss: 19.963403701782227\n",
      "[268/1000] train loss: 7.01166, valid loss: 19.85977554321289\n",
      "[269/1000] train loss: 6.99284, valid loss: 19.920835494995117\n",
      "[270/1000] train loss: 6.87676, valid loss: 20.034717559814453\n",
      "[271/1000] train loss: 7.00149, valid loss: 19.65172576904297\n",
      "[272/1000] train loss: 6.90929, valid loss: 19.8022403717041\n",
      "[273/1000] train loss: 6.90737, valid loss: 20.00429344177246\n",
      "[274/1000] train loss: 6.97965, valid loss: 19.851831436157227\n",
      "[275/1000] train loss: 6.87530, valid loss: 19.873929977416992\n",
      "[276/1000] train loss: 6.93511, valid loss: 19.648544311523438\n",
      "[277/1000] train loss: 6.86430, valid loss: 19.733932495117188\n",
      "[278/1000] train loss: 6.88934, valid loss: 20.02729606628418\n",
      "[279/1000] train loss: 6.68268, valid loss: 19.71994972229004\n",
      "[280/1000] train loss: 6.80979, valid loss: 19.969526290893555\n",
      "[281/1000] train loss: 6.87689, valid loss: 19.76119041442871\n",
      "[282/1000] train loss: 6.86033, valid loss: 19.46597671508789\n",
      "[283/1000] train loss: 6.74221, valid loss: 19.768089294433594\n",
      "[284/1000] train loss: 6.91886, valid loss: 19.718456268310547\n",
      "[285/1000] train loss: 6.76430, valid loss: 19.648574829101562\n",
      "[286/1000] train loss: 6.83583, valid loss: 20.13359832763672\n",
      "[287/1000] train loss: 6.69147, valid loss: 19.77921485900879\n",
      "[288/1000] train loss: 6.67710, valid loss: 19.65468406677246\n",
      "[289/1000] train loss: 6.69017, valid loss: 19.830766677856445\n",
      "[290/1000] train loss: 6.57507, valid loss: 19.50751495361328\n",
      "[291/1000] train loss: 6.63820, valid loss: 19.6687068939209\n",
      "[292/1000] train loss: 6.78847, valid loss: 19.681320190429688\n",
      "[293/1000] train loss: 6.66335, valid loss: 19.667308807373047\n",
      "[294/1000] train loss: 6.66626, valid loss: 19.66701316833496\n",
      "[295/1000] train loss: 6.67427, valid loss: 19.391006469726562\n",
      "[296/1000] train loss: 6.64034, valid loss: 19.635862350463867\n",
      "[297/1000] train loss: 6.48828, valid loss: 19.790706634521484\n",
      "[298/1000] train loss: 6.64971, valid loss: 19.476430892944336\n",
      "[299/1000] train loss: 6.36587, valid loss: 19.43282127380371\n",
      "[300/1000] train loss: 6.55800, valid loss: 19.4766788482666\n",
      "[301/1000] train loss: 6.53658, valid loss: 19.65256118774414\n",
      "[302/1000] train loss: 6.53578, valid loss: 19.4280948638916\n",
      "[303/1000] train loss: 6.53961, valid loss: 19.245433807373047\n",
      "[304/1000] train loss: 6.58738, valid loss: 19.194561004638672\n",
      "[305/1000] train loss: 6.49450, valid loss: 19.37589454650879\n",
      "[306/1000] train loss: 6.43041, valid loss: 19.179540634155273\n",
      "[307/1000] train loss: 6.42375, valid loss: 19.46802520751953\n",
      "[308/1000] train loss: 6.41785, valid loss: 19.573787689208984\n",
      "[309/1000] train loss: 6.52418, valid loss: 19.647743225097656\n",
      "[310/1000] train loss: 6.36192, valid loss: 19.32334327697754\n",
      "[311/1000] train loss: 6.39819, valid loss: 19.093738555908203\n",
      "[312/1000] train loss: 6.34162, valid loss: 19.334815979003906\n",
      "[313/1000] train loss: 6.39618, valid loss: 19.22063446044922\n",
      "[314/1000] train loss: 6.40805, valid loss: 19.32090187072754\n",
      "[315/1000] train loss: 6.43059, valid loss: 19.355661392211914\n",
      "[316/1000] train loss: 6.37066, valid loss: 19.293560028076172\n",
      "[317/1000] train loss: 6.32426, valid loss: 19.060169219970703\n",
      "[318/1000] train loss: 6.34137, valid loss: 19.187198638916016\n",
      "[319/1000] train loss: 6.31993, valid loss: 19.1184024810791\n",
      "[320/1000] train loss: 6.46316, valid loss: 19.0036678314209\n",
      "[321/1000] train loss: 6.26318, valid loss: 19.05690574645996\n",
      "[322/1000] train loss: 6.42244, valid loss: 19.425363540649414\n",
      "[323/1000] train loss: 6.29236, valid loss: 19.051197052001953\n",
      "[324/1000] train loss: 6.27070, valid loss: 19.29927635192871\n",
      "[325/1000] train loss: 6.17086, valid loss: 18.992172241210938\n",
      "[326/1000] train loss: 6.23398, valid loss: 19.091426849365234\n",
      "[327/1000] train loss: 6.12395, valid loss: 19.13506507873535\n",
      "[328/1000] train loss: 6.23373, valid loss: 18.99281883239746\n",
      "[329/1000] train loss: 6.23947, valid loss: 18.727733612060547\n",
      "[330/1000] train loss: 6.18577, valid loss: 19.04861068725586\n",
      "[331/1000] train loss: 6.24577, valid loss: 18.715105056762695\n",
      "[332/1000] train loss: 6.23656, valid loss: 19.169998168945312\n",
      "[333/1000] train loss: 6.15726, valid loss: 19.105791091918945\n",
      "[334/1000] train loss: 6.10228, valid loss: 19.016618728637695\n",
      "[335/1000] train loss: 6.18002, valid loss: 18.96976089477539\n",
      "[336/1000] train loss: 6.12067, valid loss: 18.847763061523438\n",
      "[337/1000] train loss: 6.18013, valid loss: 19.03443717956543\n",
      "[338/1000] train loss: 6.06857, valid loss: 18.95789909362793\n",
      "[339/1000] train loss: 6.06868, valid loss: 19.08854866027832\n",
      "[340/1000] train loss: 6.18091, valid loss: 19.1851863861084\n",
      "[341/1000] train loss: 6.17299, valid loss: 18.840559005737305\n",
      "[342/1000] train loss: 6.09564, valid loss: 18.980207443237305\n",
      "[343/1000] train loss: 6.00864, valid loss: 18.871957778930664\n",
      "[344/1000] train loss: 6.11016, valid loss: 18.987363815307617\n",
      "[345/1000] train loss: 6.09220, valid loss: 18.774354934692383\n",
      "[346/1000] train loss: 6.06189, valid loss: 18.97905921936035\n",
      "[347/1000] train loss: 6.06424, valid loss: 18.941545486450195\n",
      "[348/1000] train loss: 5.97210, valid loss: 19.06268882751465\n",
      "[349/1000] train loss: 6.00677, valid loss: 19.00885581970215\n",
      "[350/1000] train loss: 5.97355, valid loss: 18.81886100769043\n",
      "[351/1000] train loss: 6.06401, valid loss: 18.757095336914062\n",
      "[352/1000] train loss: 5.92730, valid loss: 18.8714599609375\n",
      "[353/1000] train loss: 5.98353, valid loss: 18.701566696166992\n",
      "[354/1000] train loss: 6.00496, valid loss: 18.54142951965332\n",
      "[355/1000] train loss: 5.93136, valid loss: 18.629199981689453\n",
      "[356/1000] train loss: 5.94079, valid loss: 18.767568588256836\n",
      "[357/1000] train loss: 5.90800, valid loss: 18.709728240966797\n",
      "[358/1000] train loss: 5.97919, valid loss: 18.826047897338867\n",
      "[359/1000] train loss: 6.07592, valid loss: 18.823284149169922\n",
      "[360/1000] train loss: 5.85650, valid loss: 18.724414825439453\n",
      "[361/1000] train loss: 5.98361, valid loss: 18.657060623168945\n",
      "[362/1000] train loss: 5.51253, valid loss: 18.94757843017578\n",
      "[363/1000] train loss: 5.78408, valid loss: 18.691625595092773\n",
      "[364/1000] train loss: 5.90104, valid loss: 18.733339309692383\n",
      "[365/1000] train loss: 6.02355, valid loss: 18.778623580932617\n",
      "[366/1000] train loss: 5.67382, valid loss: 18.643848419189453\n",
      "[367/1000] train loss: 5.84720, valid loss: 18.584522247314453\n",
      "[368/1000] train loss: 5.65195, valid loss: 18.661096572875977\n",
      "[369/1000] train loss: 5.77002, valid loss: 18.619935989379883\n",
      "[370/1000] train loss: 5.93385, valid loss: 18.450305938720703\n",
      "[371/1000] train loss: 5.84343, valid loss: 18.668319702148438\n",
      "[372/1000] train loss: 5.81058, valid loss: 18.682851791381836\n",
      "[373/1000] train loss: 5.89706, valid loss: 18.900901794433594\n",
      "[374/1000] train loss: 5.88132, valid loss: 18.42018699645996\n",
      "[375/1000] train loss: 5.76075, valid loss: 18.233009338378906\n",
      "[376/1000] train loss: 5.75439, valid loss: 18.533445358276367\n",
      "[377/1000] train loss: 5.76996, valid loss: 18.489837646484375\n",
      "[378/1000] train loss: 5.60785, valid loss: 18.736003875732422\n",
      "[379/1000] train loss: 5.78628, valid loss: 18.56685447692871\n",
      "[380/1000] train loss: 5.88160, valid loss: 18.23401641845703\n",
      "[381/1000] train loss: 5.76820, valid loss: 18.548952102661133\n",
      "[382/1000] train loss: 5.78111, valid loss: 18.498104095458984\n",
      "[383/1000] train loss: 5.62087, valid loss: 18.3441219329834\n",
      "[384/1000] train loss: 5.43403, valid loss: 18.27817153930664\n",
      "[385/1000] train loss: 5.63718, valid loss: 18.274864196777344\n",
      "[386/1000] train loss: 5.53486, valid loss: 18.398300170898438\n",
      "[387/1000] train loss: 5.68803, valid loss: 18.587522506713867\n",
      "[388/1000] train loss: 5.29395, valid loss: 18.47608757019043\n",
      "[389/1000] train loss: 5.69904, valid loss: 18.602563858032227\n",
      "[390/1000] train loss: 5.64605, valid loss: 18.479406356811523\n",
      "[391/1000] train loss: 5.71967, valid loss: 18.570072174072266\n",
      "[392/1000] train loss: 5.61736, valid loss: 18.39128875732422\n",
      "[393/1000] train loss: 5.71853, valid loss: 18.417098999023438\n",
      "[394/1000] train loss: 5.65381, valid loss: 18.767379760742188\n",
      "[395/1000] train loss: 5.66005, valid loss: 18.878602981567383\n",
      "[396/1000] train loss: 5.60752, valid loss: 18.417816162109375\n",
      "[397/1000] train loss: 5.45848, valid loss: 18.619606018066406\n",
      "[398/1000] train loss: 5.54746, valid loss: 18.453927993774414\n",
      "[399/1000] train loss: 5.62704, valid loss: 18.70224952697754\n",
      "[400/1000] train loss: 5.62595, valid loss: 18.35444450378418\n",
      "[401/1000] train loss: 5.55747, valid loss: 18.37830352783203\n",
      "[402/1000] train loss: 5.54879, valid loss: 18.469707489013672\n",
      "[403/1000] train loss: 5.43842, valid loss: 18.333843231201172\n",
      "[404/1000] train loss: 5.57403, valid loss: 18.414154052734375\n",
      "[405/1000] train loss: 5.54876, valid loss: 18.49431800842285\n",
      "[406/1000] train loss: 5.56788, valid loss: 18.8795108795166\n",
      "[407/1000] train loss: 5.60998, valid loss: 18.33909034729004\n",
      "[408/1000] train loss: 5.58721, valid loss: 18.367233276367188\n",
      "[409/1000] train loss: 5.46636, valid loss: 18.70383644104004\n",
      "[410/1000] train loss: 5.43927, valid loss: 18.78219985961914\n",
      "[411/1000] train loss: 5.54886, valid loss: 18.6599178314209\n",
      "[412/1000] train loss: 5.54640, valid loss: 18.478273391723633\n",
      "[413/1000] train loss: 5.48728, valid loss: 18.541074752807617\n",
      "[414/1000] train loss: 5.51772, valid loss: 18.363990783691406\n",
      "[415/1000] train loss: 5.42822, valid loss: 18.39499282836914\n",
      "[416/1000] train loss: 5.43004, valid loss: 18.260284423828125\n",
      "[417/1000] train loss: 5.39141, valid loss: 18.44453239440918\n",
      "[418/1000] train loss: 5.52789, valid loss: 18.381956100463867\n",
      "[419/1000] train loss: 5.47916, valid loss: 18.270538330078125\n",
      "[420/1000] train loss: 5.50944, valid loss: 18.186599731445312\n",
      "[421/1000] train loss: 5.36338, valid loss: 18.306289672851562\n",
      "[422/1000] train loss: 5.47682, valid loss: 18.504444122314453\n",
      "[423/1000] train loss: 5.38201, valid loss: 18.35687828063965\n",
      "[424/1000] train loss: 5.37607, valid loss: 18.05341339111328\n",
      "[425/1000] train loss: 5.41028, valid loss: 18.470779418945312\n",
      "[426/1000] train loss: 5.40059, valid loss: 18.312543869018555\n",
      "[427/1000] train loss: 5.37235, valid loss: 18.549571990966797\n",
      "[428/1000] train loss: 5.33551, valid loss: 18.504241943359375\n",
      "[429/1000] train loss: 5.34673, valid loss: 18.456262588500977\n",
      "[430/1000] train loss: 5.35503, valid loss: 18.309389114379883\n",
      "[431/1000] train loss: 5.29107, valid loss: 18.33536148071289\n",
      "[432/1000] train loss: 5.41011, valid loss: 18.592206954956055\n",
      "[433/1000] train loss: 5.38048, valid loss: 17.969226837158203\n",
      "[434/1000] train loss: 5.30532, valid loss: 18.189006805419922\n",
      "[435/1000] train loss: 5.27738, valid loss: 18.344324111938477\n",
      "[436/1000] train loss: 5.30368, valid loss: 18.38075828552246\n",
      "[437/1000] train loss: 5.25564, valid loss: 18.673078536987305\n",
      "[438/1000] train loss: 5.36900, valid loss: 18.302534103393555\n",
      "[439/1000] train loss: 5.28091, valid loss: 18.445425033569336\n",
      "[440/1000] train loss: 5.23596, valid loss: 18.369911193847656\n",
      "[441/1000] train loss: 5.12158, valid loss: 18.067699432373047\n",
      "[442/1000] train loss: 5.28091, valid loss: 18.205129623413086\n",
      "[443/1000] train loss: 5.12811, valid loss: 18.251251220703125\n",
      "[444/1000] train loss: 5.32320, valid loss: 18.178049087524414\n",
      "[445/1000] train loss: 5.25735, valid loss: 18.326560974121094\n",
      "[446/1000] train loss: 5.17476, valid loss: 18.218090057373047\n",
      "[447/1000] train loss: 5.10397, valid loss: 18.322790145874023\n",
      "[448/1000] train loss: 5.32899, valid loss: 18.10298728942871\n",
      "[449/1000] train loss: 5.13127, valid loss: 18.459945678710938\n",
      "[450/1000] train loss: 4.82959, valid loss: 18.20136260986328\n",
      "[451/1000] train loss: 5.17817, valid loss: 18.14764976501465\n",
      "[452/1000] train loss: 5.07405, valid loss: 18.19388198852539\n",
      "[453/1000] train loss: 5.23815, valid loss: 18.24713706970215\n",
      "[454/1000] train loss: 5.14694, valid loss: 18.303226470947266\n",
      "[455/1000] train loss: 5.17219, valid loss: 18.06069564819336\n",
      "[456/1000] train loss: 5.18815, valid loss: 18.155885696411133\n",
      "[457/1000] train loss: 5.10520, valid loss: 18.13517189025879\n",
      "[458/1000] train loss: 5.13824, valid loss: 17.926027297973633\n",
      "[459/1000] train loss: 5.21855, valid loss: 18.166730880737305\n",
      "[460/1000] train loss: 5.15658, valid loss: 18.133460998535156\n",
      "[461/1000] train loss: 5.16721, valid loss: 18.51665496826172\n",
      "[462/1000] train loss: 5.08515, valid loss: 18.3239803314209\n",
      "[463/1000] train loss: 5.10501, valid loss: 18.1037540435791\n",
      "[464/1000] train loss: 5.12300, valid loss: 18.316892623901367\n",
      "[465/1000] train loss: 5.14806, valid loss: 18.34253692626953\n",
      "[466/1000] train loss: 5.02033, valid loss: 18.273853302001953\n",
      "[467/1000] train loss: 5.03858, valid loss: 18.21170997619629\n",
      "[468/1000] train loss: 5.08022, valid loss: 18.235580444335938\n",
      "[469/1000] train loss: 5.07286, valid loss: 18.26261329650879\n",
      "[470/1000] train loss: 5.19879, valid loss: 18.19899559020996\n",
      "[471/1000] train loss: 5.02330, valid loss: 18.13106918334961\n",
      "[472/1000] train loss: 5.13021, valid loss: 18.148284912109375\n",
      "[473/1000] train loss: 5.17954, valid loss: 18.50065803527832\n",
      "[474/1000] train loss: 5.08596, valid loss: 18.12055206298828\n",
      "[475/1000] train loss: 4.97605, valid loss: 18.029464721679688\n",
      "[476/1000] train loss: 5.11926, valid loss: 17.785642623901367\n",
      "[477/1000] train loss: 4.97097, valid loss: 18.135669708251953\n",
      "[478/1000] train loss: 5.07404, valid loss: 18.12055206298828\n",
      "[479/1000] train loss: 5.02593, valid loss: 18.265146255493164\n",
      "[480/1000] train loss: 5.01599, valid loss: 18.43367576599121\n",
      "[481/1000] train loss: 4.99508, valid loss: 18.199987411499023\n",
      "[482/1000] train loss: 4.96180, valid loss: 18.14971351623535\n",
      "[483/1000] train loss: 4.97784, valid loss: 18.32204246520996\n",
      "[484/1000] train loss: 5.01020, valid loss: 17.975736618041992\n",
      "[485/1000] train loss: 5.02988, valid loss: 18.123294830322266\n",
      "[486/1000] train loss: 5.11760, valid loss: 18.03023338317871\n",
      "[487/1000] train loss: 4.99319, valid loss: 17.988183975219727\n",
      "[488/1000] train loss: 4.96531, valid loss: 18.1127872467041\n",
      "[489/1000] train loss: 4.95452, valid loss: 18.28280258178711\n",
      "[490/1000] train loss: 4.95017, valid loss: 18.301244735717773\n",
      "[491/1000] train loss: 4.94339, valid loss: 18.050247192382812\n",
      "[492/1000] train loss: 5.00123, valid loss: 18.246156692504883\n",
      "[493/1000] train loss: 4.94512, valid loss: 18.04545783996582\n",
      "[494/1000] train loss: 4.90482, valid loss: 17.97454071044922\n",
      "[495/1000] train loss: 5.05346, valid loss: 18.053878784179688\n",
      "[496/1000] train loss: 4.80394, valid loss: 18.133607864379883\n",
      "[497/1000] train loss: 4.89760, valid loss: 18.27074432373047\n",
      "[498/1000] train loss: 4.98843, valid loss: 18.583072662353516\n",
      "[499/1000] train loss: 5.08003, valid loss: 17.953893661499023\n",
      "[500/1000] train loss: 4.98404, valid loss: 17.97055435180664\n",
      "[501/1000] train loss: 4.90348, valid loss: 18.248598098754883\n",
      "[502/1000] train loss: 4.90938, valid loss: 18.263154983520508\n",
      "[503/1000] train loss: 4.92374, valid loss: 18.36209487915039\n",
      "[504/1000] train loss: 4.92921, valid loss: 18.2594051361084\n",
      "[505/1000] train loss: 5.04997, valid loss: 18.643558502197266\n",
      "[506/1000] train loss: 5.04028, valid loss: 18.310897827148438\n",
      "[507/1000] train loss: 4.88863, valid loss: 17.9303035736084\n",
      "[508/1000] train loss: 4.89955, valid loss: 18.103235244750977\n",
      "[509/1000] train loss: 4.83648, valid loss: 18.277448654174805\n",
      "[510/1000] train loss: 4.93714, valid loss: 18.181726455688477\n",
      "[511/1000] train loss: 4.98333, valid loss: 18.3995418548584\n",
      "[512/1000] train loss: 4.85032, valid loss: 18.178733825683594\n",
      "[513/1000] train loss: 4.84507, valid loss: 17.937450408935547\n",
      "[514/1000] train loss: 4.84798, valid loss: 18.17125701904297\n",
      "[515/1000] train loss: 4.83352, valid loss: 18.01396942138672\n",
      "[516/1000] train loss: 4.82241, valid loss: 18.344738006591797\n",
      "[517/1000] train loss: 4.81149, valid loss: 18.08498191833496\n",
      "[518/1000] train loss: 4.73414, valid loss: 18.173385620117188\n",
      "[519/1000] train loss: 4.85866, valid loss: 18.02302360534668\n",
      "[520/1000] train loss: 4.78336, valid loss: 18.3267879486084\n",
      "[521/1000] train loss: 4.83702, valid loss: 17.93932342529297\n",
      "[522/1000] train loss: 4.76778, valid loss: 18.059038162231445\n",
      "[523/1000] train loss: 4.84978, valid loss: 17.77391242980957\n",
      "[524/1000] train loss: 4.80862, valid loss: 18.032243728637695\n",
      "[525/1000] train loss: 4.82485, valid loss: 17.93954849243164\n",
      "[526/1000] train loss: 4.81105, valid loss: 17.95020294189453\n",
      "[527/1000] train loss: 4.74358, valid loss: 18.308305740356445\n",
      "[528/1000] train loss: 4.85771, valid loss: 18.19031524658203\n",
      "[529/1000] train loss: 4.76677, valid loss: 17.98634910583496\n",
      "[530/1000] train loss: 4.81895, valid loss: 17.732559204101562\n",
      "[531/1000] train loss: 4.79043, valid loss: 18.05130958557129\n",
      "[532/1000] train loss: 4.86484, valid loss: 17.9680233001709\n",
      "[533/1000] train loss: 4.68377, valid loss: 18.064273834228516\n",
      "[534/1000] train loss: 4.71853, valid loss: 17.974151611328125\n",
      "[535/1000] train loss: 4.85317, valid loss: 18.015581130981445\n",
      "[536/1000] train loss: 4.72785, valid loss: 17.92522621154785\n",
      "[537/1000] train loss: 4.78050, valid loss: 17.90470314025879\n",
      "[538/1000] train loss: 4.71466, valid loss: 18.374692916870117\n",
      "[539/1000] train loss: 4.73640, valid loss: 18.00102996826172\n",
      "[540/1000] train loss: 4.78385, valid loss: 18.19182777404785\n",
      "[541/1000] train loss: 4.71137, valid loss: 18.169065475463867\n",
      "[542/1000] train loss: 4.71170, valid loss: 17.927358627319336\n",
      "[543/1000] train loss: 4.65988, valid loss: 17.927148818969727\n",
      "[544/1000] train loss: 4.68473, valid loss: 18.123598098754883\n",
      "[545/1000] train loss: 4.65616, valid loss: 18.061298370361328\n",
      "[546/1000] train loss: 4.40321, valid loss: 18.209259033203125\n",
      "[547/1000] train loss: 4.79187, valid loss: 18.298032760620117\n",
      "[548/1000] train loss: 4.73513, valid loss: 18.12529182434082\n",
      "[549/1000] train loss: 4.68557, valid loss: 17.91685676574707\n",
      "[550/1000] train loss: 4.65478, valid loss: 18.594417572021484\n",
      "[551/1000] train loss: 4.73710, valid loss: 18.151777267456055\n",
      "[552/1000] train loss: 4.57917, valid loss: 18.027530670166016\n",
      "[553/1000] train loss: 4.69069, valid loss: 18.088851928710938\n",
      "[554/1000] train loss: 4.70038, valid loss: 18.059215545654297\n",
      "[555/1000] train loss: 4.68685, valid loss: 18.197786331176758\n",
      "[556/1000] train loss: 4.65953, valid loss: 17.926088333129883\n",
      "[557/1000] train loss: 4.71060, valid loss: 17.968791961669922\n",
      "[558/1000] train loss: 4.66151, valid loss: 17.98360252380371\n",
      "[559/1000] train loss: 4.71745, valid loss: 18.16336441040039\n",
      "[560/1000] train loss: 4.67876, valid loss: 17.730798721313477\n",
      "[561/1000] train loss: 4.66561, valid loss: 18.192968368530273\n",
      "[562/1000] train loss: 4.67230, valid loss: 18.01226234436035\n",
      "[563/1000] train loss: 4.60978, valid loss: 17.737831115722656\n",
      "[564/1000] train loss: 4.66526, valid loss: 17.89052391052246\n",
      "[565/1000] train loss: 4.66312, valid loss: 17.963619232177734\n",
      "[566/1000] train loss: 4.67029, valid loss: 17.910459518432617\n",
      "[567/1000] train loss: 4.63263, valid loss: 17.820886611938477\n",
      "[568/1000] train loss: 4.53567, valid loss: 17.85004425048828\n",
      "[569/1000] train loss: 4.62247, valid loss: 17.696712493896484\n",
      "[570/1000] train loss: 4.54085, valid loss: 18.209009170532227\n",
      "[571/1000] train loss: 4.63086, valid loss: 17.943798065185547\n",
      "[572/1000] train loss: 4.56859, valid loss: 17.66794776916504\n",
      "[573/1000] train loss: 4.61189, valid loss: 17.901782989501953\n",
      "[574/1000] train loss: 4.63810, valid loss: 18.319683074951172\n",
      "[575/1000] train loss: 4.57962, valid loss: 18.081701278686523\n",
      "[576/1000] train loss: 4.57915, valid loss: 18.08944320678711\n",
      "[577/1000] train loss: 4.60896, valid loss: 18.0313777923584\n",
      "[578/1000] train loss: 4.58007, valid loss: 18.051437377929688\n",
      "[579/1000] train loss: 4.57182, valid loss: 17.919601440429688\n",
      "[580/1000] train loss: 4.57116, valid loss: 18.306976318359375\n",
      "[581/1000] train loss: 4.62164, valid loss: 18.19436264038086\n",
      "[582/1000] train loss: 4.60652, valid loss: 17.892120361328125\n",
      "[583/1000] train loss: 4.56903, valid loss: 17.865068435668945\n",
      "[584/1000] train loss: 4.55394, valid loss: 18.291881561279297\n",
      "[585/1000] train loss: 4.59912, valid loss: 18.06944465637207\n",
      "[586/1000] train loss: 4.53927, valid loss: 17.79691505432129\n",
      "[587/1000] train loss: 4.42194, valid loss: 17.803300857543945\n",
      "[588/1000] train loss: 4.58710, valid loss: 17.932313919067383\n",
      "[589/1000] train loss: 4.55956, valid loss: 17.895360946655273\n",
      "[590/1000] train loss: 4.63904, valid loss: 17.758569717407227\n",
      "[591/1000] train loss: 4.57648, valid loss: 17.866985321044922\n",
      "[592/1000] train loss: 4.55786, valid loss: 18.004993438720703\n",
      "[593/1000] train loss: 4.41723, valid loss: 18.086572647094727\n",
      "[594/1000] train loss: 4.26943, valid loss: 17.831327438354492\n",
      "[595/1000] train loss: 4.48717, valid loss: 18.362348556518555\n",
      "[596/1000] train loss: 4.51635, valid loss: 17.910411834716797\n",
      "[597/1000] train loss: 4.44027, valid loss: 18.003559112548828\n",
      "[598/1000] train loss: 4.41426, valid loss: 17.911788940429688\n",
      "[599/1000] train loss: 4.51377, valid loss: 17.865453720092773\n",
      "[600/1000] train loss: 4.54301, valid loss: 18.03632926940918\n",
      "[601/1000] train loss: 4.45007, valid loss: 17.79383659362793\n",
      "[602/1000] train loss: 4.48485, valid loss: 18.055410385131836\n",
      "[603/1000] train loss: 4.47627, valid loss: 17.836669921875\n",
      "[604/1000] train loss: 4.48498, valid loss: 17.67726707458496\n",
      "[605/1000] train loss: 4.49382, valid loss: 18.134443283081055\n",
      "[606/1000] train loss: 4.53642, valid loss: 18.020200729370117\n",
      "[607/1000] train loss: 4.18910, valid loss: 18.157567977905273\n",
      "[608/1000] train loss: 4.38807, valid loss: 17.826953887939453\n",
      "[609/1000] train loss: 4.46904, valid loss: 17.93756866455078\n",
      "[610/1000] train loss: 4.47767, valid loss: 17.68905258178711\n",
      "[611/1000] train loss: 4.16467, valid loss: 17.9013729095459\n",
      "[612/1000] train loss: 4.46351, valid loss: 18.02532386779785\n",
      "[613/1000] train loss: 4.49229, valid loss: 18.10672950744629\n",
      "[614/1000] train loss: 4.45394, valid loss: 17.73732566833496\n",
      "[615/1000] train loss: 4.43697, valid loss: 17.823009490966797\n",
      "[616/1000] train loss: 4.49105, valid loss: 18.007823944091797\n",
      "[617/1000] train loss: 4.44995, valid loss: 18.197038650512695\n",
      "[618/1000] train loss: 4.60755, valid loss: 18.107402801513672\n",
      "[619/1000] train loss: 4.49247, valid loss: 17.910655975341797\n",
      "[620/1000] train loss: 4.47208, valid loss: 18.083904266357422\n",
      "[621/1000] train loss: 4.43457, valid loss: 18.088058471679688\n",
      "[622/1000] train loss: 4.47644, valid loss: 18.082897186279297\n",
      "[623/1000] train loss: 4.39240, valid loss: 18.07613754272461\n",
      "[624/1000] train loss: 4.37943, valid loss: 17.905315399169922\n",
      "[625/1000] train loss: 4.45934, valid loss: 17.808801651000977\n",
      "[626/1000] train loss: 4.43753, valid loss: 18.04535484313965\n",
      "[627/1000] train loss: 4.33897, valid loss: 17.974958419799805\n",
      "[628/1000] train loss: 4.41657, valid loss: 17.934309005737305\n",
      "[629/1000] train loss: 4.44609, valid loss: 18.224411010742188\n",
      "[630/1000] train loss: 4.37285, valid loss: 17.76015281677246\n",
      "[631/1000] train loss: 4.33613, valid loss: 17.968429565429688\n",
      "[632/1000] train loss: 4.46198, valid loss: 17.722911834716797\n",
      "[633/1000] train loss: 4.37557, valid loss: 18.056922912597656\n",
      "[634/1000] train loss: 4.59528, valid loss: 17.62738800048828\n",
      "[635/1000] train loss: 4.41784, valid loss: 17.929370880126953\n",
      "[636/1000] train loss: 4.42122, valid loss: 17.883712768554688\n",
      "[637/1000] train loss: 4.38174, valid loss: 17.85870361328125\n",
      "[638/1000] train loss: 4.38916, valid loss: 17.82994842529297\n",
      "[639/1000] train loss: 4.37465, valid loss: 17.91353416442871\n",
      "[640/1000] train loss: 4.45672, valid loss: 17.678926467895508\n",
      "[641/1000] train loss: 4.30607, valid loss: 17.966684341430664\n",
      "[642/1000] train loss: 4.37566, valid loss: 17.88686752319336\n",
      "[643/1000] train loss: 4.38320, valid loss: 18.135595321655273\n",
      "[644/1000] train loss: 4.38619, valid loss: 17.972888946533203\n",
      "[645/1000] train loss: 4.37056, valid loss: 17.862524032592773\n",
      "[646/1000] train loss: 4.31473, valid loss: 18.068214416503906\n",
      "[647/1000] train loss: 4.33329, valid loss: 18.294275283813477\n",
      "[648/1000] train loss: 4.39451, valid loss: 18.1915340423584\n",
      "[649/1000] train loss: 4.37028, valid loss: 17.93831443786621\n",
      "[650/1000] train loss: 4.32882, valid loss: 17.79912757873535\n",
      "[651/1000] train loss: 4.36783, valid loss: 18.074342727661133\n",
      "[652/1000] train loss: 4.36694, valid loss: 17.7172908782959\n",
      "[653/1000] train loss: 4.30129, valid loss: 17.953962326049805\n",
      "[654/1000] train loss: 4.41106, valid loss: 17.987133026123047\n",
      "[655/1000] train loss: 4.26020, valid loss: 18.04393768310547\n",
      "[656/1000] train loss: 4.31238, valid loss: 17.76426124572754\n",
      "[657/1000] train loss: 4.31852, valid loss: 18.09889793395996\n",
      "[658/1000] train loss: 4.40757, valid loss: 17.778881072998047\n",
      "[659/1000] train loss: 4.25608, valid loss: 17.815288543701172\n",
      "[660/1000] train loss: 4.37636, valid loss: 17.67470359802246\n",
      "[661/1000] train loss: 4.29556, valid loss: 17.855161666870117\n",
      "[662/1000] train loss: 4.29169, valid loss: 17.865713119506836\n",
      "[663/1000] train loss: 4.32707, valid loss: 17.705793380737305\n",
      "[664/1000] train loss: 4.36121, valid loss: 17.529491424560547\n",
      "[665/1000] train loss: 4.37525, valid loss: 17.533645629882812\n",
      "[666/1000] train loss: 4.54832, valid loss: 17.53070068359375\n",
      "[667/1000] train loss: 4.23196, valid loss: 17.700618743896484\n",
      "[668/1000] train loss: 4.23632, valid loss: 18.00201416015625\n",
      "[669/1000] train loss: 4.33583, valid loss: 17.9869327545166\n",
      "[670/1000] train loss: 4.37883, valid loss: 18.085596084594727\n",
      "[671/1000] train loss: 3.94547, valid loss: 17.873327255249023\n",
      "[672/1000] train loss: 4.17070, valid loss: 17.993480682373047\n",
      "[673/1000] train loss: 4.30698, valid loss: 18.060264587402344\n",
      "[674/1000] train loss: 4.30893, valid loss: 17.82880210876465\n",
      "[675/1000] train loss: 4.21921, valid loss: 17.68506622314453\n",
      "[676/1000] train loss: 4.28720, valid loss: 17.740005493164062\n",
      "[677/1000] train loss: 4.27876, valid loss: 17.741971969604492\n",
      "[678/1000] train loss: 4.24608, valid loss: 17.767108917236328\n",
      "[679/1000] train loss: 4.35868, valid loss: 17.706401824951172\n",
      "[680/1000] train loss: 4.16243, valid loss: 17.627586364746094\n",
      "[681/1000] train loss: 4.32058, valid loss: 17.87851905822754\n",
      "[682/1000] train loss: 4.25827, valid loss: 17.91913414001465\n",
      "[683/1000] train loss: 4.26100, valid loss: 17.62351417541504\n",
      "[684/1000] train loss: 4.27085, valid loss: 17.86018180847168\n",
      "[685/1000] train loss: 4.24310, valid loss: 17.857885360717773\n",
      "[686/1000] train loss: 4.26218, valid loss: 18.142261505126953\n",
      "[687/1000] train loss: 4.24878, valid loss: 18.16258430480957\n",
      "[688/1000] train loss: 4.20875, valid loss: 17.90093231201172\n",
      "[689/1000] train loss: 4.23965, valid loss: 17.923662185668945\n",
      "[690/1000] train loss: 4.33480, valid loss: 17.79653549194336\n",
      "[691/1000] train loss: 4.23708, valid loss: 18.011367797851562\n",
      "[692/1000] train loss: 4.13776, valid loss: 17.822378158569336\n",
      "[693/1000] train loss: 4.24186, valid loss: 17.711830139160156\n",
      "[694/1000] train loss: 4.19543, valid loss: 17.548385620117188\n",
      "[695/1000] train loss: 4.22003, valid loss: 17.762481689453125\n",
      "[696/1000] train loss: 4.18433, valid loss: 17.531383514404297\n",
      "[697/1000] train loss: 4.19370, valid loss: 17.69306182861328\n",
      "[698/1000] train loss: 4.26500, valid loss: 17.811426162719727\n",
      "[699/1000] train loss: 4.17181, valid loss: 18.296815872192383\n",
      "[700/1000] train loss: 4.16406, valid loss: 17.86006736755371\n",
      "[701/1000] train loss: 4.22654, valid loss: 17.829626083374023\n",
      "[702/1000] train loss: 4.24255, valid loss: 17.7735538482666\n",
      "[703/1000] train loss: 4.26431, valid loss: 17.70393180847168\n",
      "[704/1000] train loss: 4.20402, valid loss: 17.724061965942383\n",
      "[705/1000] train loss: 4.17046, valid loss: 17.720762252807617\n",
      "[706/1000] train loss: 4.18017, valid loss: 17.74923324584961\n",
      "[707/1000] train loss: 4.17801, valid loss: 17.60742950439453\n",
      "[708/1000] train loss: 4.22895, valid loss: 18.40727424621582\n",
      "[709/1000] train loss: 4.11238, valid loss: 17.980527877807617\n",
      "[710/1000] train loss: 4.18679, valid loss: 17.687829971313477\n",
      "[711/1000] train loss: 4.14123, valid loss: 17.823827743530273\n",
      "[712/1000] train loss: 4.20782, valid loss: 17.86004638671875\n",
      "[713/1000] train loss: 4.13309, valid loss: 17.890485763549805\n",
      "[714/1000] train loss: 4.17786, valid loss: 17.676063537597656\n",
      "[715/1000] train loss: 4.13919, valid loss: 17.575424194335938\n",
      "[716/1000] train loss: 4.29424, valid loss: 17.827892303466797\n",
      "[717/1000] train loss: 4.15301, valid loss: 17.588985443115234\n",
      "[718/1000] train loss: 4.17808, valid loss: 17.596845626831055\n",
      "[719/1000] train loss: 4.14462, valid loss: 17.83945083618164\n",
      "[720/1000] train loss: 4.14990, valid loss: 17.57509422302246\n",
      "[721/1000] train loss: 4.16575, valid loss: 17.605249404907227\n",
      "[722/1000] train loss: 4.17077, valid loss: 17.99190330505371\n",
      "[723/1000] train loss: 4.06868, valid loss: 17.652143478393555\n",
      "[724/1000] train loss: 4.17507, valid loss: 17.569175720214844\n",
      "[725/1000] train loss: 4.04223, valid loss: 17.723033905029297\n",
      "[726/1000] train loss: 4.09927, valid loss: 17.560632705688477\n",
      "[727/1000] train loss: 4.10706, valid loss: 17.80008316040039\n",
      "[728/1000] train loss: 4.02228, valid loss: 17.604698181152344\n",
      "[729/1000] train loss: 4.13834, valid loss: 17.97926139831543\n",
      "[730/1000] train loss: 4.15625, valid loss: 17.696699142456055\n",
      "[731/1000] train loss: 4.16319, valid loss: 17.86012840270996\n",
      "[732/1000] train loss: 4.07667, valid loss: 17.62261199951172\n",
      "[733/1000] train loss: 4.13455, valid loss: 17.618209838867188\n",
      "[734/1000] train loss: 4.10067, valid loss: 17.45623779296875\n",
      "[735/1000] train loss: 4.10621, valid loss: 17.878265380859375\n",
      "[736/1000] train loss: 4.17112, valid loss: 17.734085083007812\n",
      "[737/1000] train loss: 4.12215, valid loss: 18.02533721923828\n",
      "[738/1000] train loss: 3.97954, valid loss: 17.831058502197266\n",
      "[739/1000] train loss: 4.04361, valid loss: 17.811412811279297\n",
      "[740/1000] train loss: 4.05285, valid loss: 17.490955352783203\n",
      "[741/1000] train loss: 4.07527, valid loss: 17.772966384887695\n",
      "[742/1000] train loss: 4.14700, valid loss: 17.452911376953125\n",
      "[743/1000] train loss: 4.07290, valid loss: 17.698984146118164\n",
      "[744/1000] train loss: 3.94004, valid loss: 17.912460327148438\n",
      "[745/1000] train loss: 4.02199, valid loss: 17.746192932128906\n",
      "[746/1000] train loss: 4.11102, valid loss: 17.752092361450195\n",
      "[747/1000] train loss: 3.82023, valid loss: 17.891313552856445\n",
      "[748/1000] train loss: 4.05425, valid loss: 17.727014541625977\n",
      "[749/1000] train loss: 4.06673, valid loss: 17.44281768798828\n",
      "[750/1000] train loss: 4.03167, valid loss: 18.01160430908203\n",
      "[751/1000] train loss: 4.05650, valid loss: 18.06644058227539\n",
      "[752/1000] train loss: 4.10489, valid loss: 17.539722442626953\n",
      "[753/1000] train loss: 4.02113, valid loss: 17.575525283813477\n",
      "[754/1000] train loss: 4.08108, valid loss: 17.35216522216797\n",
      "[755/1000] train loss: 4.19653, valid loss: 18.063949584960938\n",
      "[756/1000] train loss: 4.09192, valid loss: 17.496931076049805\n",
      "[757/1000] train loss: 4.12092, valid loss: 17.406522750854492\n",
      "[758/1000] train loss: 4.04486, valid loss: 17.7562255859375\n",
      "[759/1000] train loss: 3.96488, valid loss: 17.591800689697266\n",
      "[760/1000] train loss: 3.99293, valid loss: 17.739713668823242\n",
      "[761/1000] train loss: 4.04153, valid loss: 17.63602066040039\n",
      "[762/1000] train loss: 4.00066, valid loss: 17.83243751525879\n",
      "[763/1000] train loss: 4.09250, valid loss: 17.754430770874023\n",
      "[764/1000] train loss: 3.95795, valid loss: 17.671478271484375\n",
      "[765/1000] train loss: 3.92813, valid loss: 17.67620277404785\n",
      "[766/1000] train loss: 4.03429, valid loss: 17.792585372924805\n",
      "[767/1000] train loss: 4.01498, valid loss: 17.899553298950195\n",
      "[768/1000] train loss: 3.98177, valid loss: 17.703584671020508\n",
      "[769/1000] train loss: 3.99649, valid loss: 17.72768211364746\n",
      "[770/1000] train loss: 4.08160, valid loss: 17.686790466308594\n",
      "[771/1000] train loss: 3.96252, valid loss: 17.272768020629883\n",
      "[772/1000] train loss: 4.01867, valid loss: 17.7279109954834\n",
      "[773/1000] train loss: 4.00568, valid loss: 17.85498046875\n",
      "[774/1000] train loss: 4.06898, valid loss: 17.62912368774414\n",
      "[775/1000] train loss: 4.13559, valid loss: 17.819673538208008\n",
      "[776/1000] train loss: 4.04387, valid loss: 17.87625503540039\n",
      "[777/1000] train loss: 4.13548, valid loss: 17.795894622802734\n",
      "[778/1000] train loss: 3.95913, valid loss: 17.677265167236328\n",
      "[779/1000] train loss: 4.02993, valid loss: 17.50606346130371\n",
      "[780/1000] train loss: 3.96052, valid loss: 17.87786102294922\n",
      "[781/1000] train loss: 3.98452, valid loss: 17.85740089416504\n",
      "[782/1000] train loss: 4.00172, valid loss: 17.8780574798584\n",
      "[783/1000] train loss: 3.95316, valid loss: 17.49947738647461\n",
      "[784/1000] train loss: 3.94239, valid loss: 17.65447235107422\n",
      "[785/1000] train loss: 3.88005, valid loss: 17.68163299560547\n",
      "[786/1000] train loss: 3.97181, valid loss: 17.71200942993164\n",
      "[787/1000] train loss: 3.88443, valid loss: 17.611310958862305\n",
      "[788/1000] train loss: 3.90567, valid loss: 18.239463806152344\n",
      "[789/1000] train loss: 3.95040, valid loss: 17.46295738220215\n",
      "[790/1000] train loss: 3.92369, valid loss: 18.1005859375\n",
      "[791/1000] train loss: 4.00453, valid loss: 17.768476486206055\n",
      "[792/1000] train loss: 3.95872, valid loss: 18.022693634033203\n",
      "[793/1000] train loss: 3.89766, valid loss: 17.83411407470703\n",
      "[794/1000] train loss: 3.94256, valid loss: 17.545883178710938\n",
      "[795/1000] train loss: 3.93495, valid loss: 17.670196533203125\n",
      "[796/1000] train loss: 3.94477, valid loss: 18.112165451049805\n",
      "[797/1000] train loss: 3.69142, valid loss: 17.74264907836914\n",
      "[798/1000] train loss: 3.93627, valid loss: 17.76879119873047\n",
      "[799/1000] train loss: 3.89795, valid loss: 17.53396224975586\n",
      "[800/1000] train loss: 3.99259, valid loss: 17.54358673095703\n",
      "[801/1000] train loss: 3.67555, valid loss: 17.785852432250977\n",
      "[802/1000] train loss: 3.97180, valid loss: 17.576982498168945\n",
      "[803/1000] train loss: 3.92967, valid loss: 17.744476318359375\n",
      "[804/1000] train loss: 3.96793, valid loss: 17.997167587280273\n",
      "[805/1000] train loss: 3.94383, valid loss: 17.88340187072754\n",
      "[806/1000] train loss: 3.92798, valid loss: 17.81145477294922\n",
      "[807/1000] train loss: 3.90673, valid loss: 17.385488510131836\n",
      "[808/1000] train loss: 3.59297, valid loss: 17.803892135620117\n",
      "[809/1000] train loss: 3.89856, valid loss: 17.284103393554688\n",
      "[810/1000] train loss: 3.83094, valid loss: 17.476837158203125\n",
      "[811/1000] train loss: 3.87487, valid loss: 17.41515350341797\n",
      "[812/1000] train loss: 3.94308, valid loss: 17.486339569091797\n",
      "[813/1000] train loss: 3.92649, valid loss: 17.37419891357422\n",
      "[814/1000] train loss: 3.95162, valid loss: 17.541017532348633\n",
      "[815/1000] train loss: 3.94872, valid loss: 17.422367095947266\n",
      "[816/1000] train loss: 3.86630, valid loss: 17.76789093017578\n",
      "[817/1000] train loss: 3.92990, valid loss: 17.756752014160156\n",
      "[818/1000] train loss: 3.86457, valid loss: 17.52593231201172\n",
      "[819/1000] train loss: 3.89810, valid loss: 17.50131607055664\n",
      "[820/1000] train loss: 3.87970, valid loss: 17.67852210998535\n",
      "[821/1000] train loss: 3.86647, valid loss: 17.71190643310547\n",
      "[822/1000] train loss: 3.98743, valid loss: 17.680509567260742\n",
      "[823/1000] train loss: 3.88563, valid loss: 17.6740665435791\n",
      "[824/1000] train loss: 3.90909, valid loss: 17.82354164123535\n",
      "[825/1000] train loss: 3.83854, valid loss: 17.541507720947266\n",
      "[826/1000] train loss: 3.89012, valid loss: 17.654651641845703\n",
      "[827/1000] train loss: 4.00338, valid loss: 17.56483268737793\n",
      "[828/1000] train loss: 3.86853, valid loss: 17.40639305114746\n",
      "[829/1000] train loss: 3.88856, valid loss: 17.514020919799805\n",
      "[830/1000] train loss: 3.88827, valid loss: 17.53248405456543\n",
      "[831/1000] train loss: 3.96730, valid loss: 17.309677124023438\n",
      "[832/1000] train loss: 3.85759, valid loss: 17.365625381469727\n",
      "[833/1000] train loss: 3.88107, valid loss: 17.35945701599121\n",
      "[834/1000] train loss: 3.85901, valid loss: 17.2827091217041\n",
      "[835/1000] train loss: 3.83066, valid loss: 17.433765411376953\n",
      "[836/1000] train loss: 3.87033, valid loss: 17.476991653442383\n",
      "[837/1000] train loss: 3.83951, valid loss: 17.34691619873047\n",
      "[838/1000] train loss: 3.81628, valid loss: 17.41985321044922\n",
      "[839/1000] train loss: 3.82372, valid loss: 17.6368465423584\n",
      "[840/1000] train loss: 3.87092, valid loss: 17.453975677490234\n",
      "[841/1000] train loss: 3.83469, valid loss: 17.45587921142578\n",
      "[842/1000] train loss: 3.83794, valid loss: 18.13533592224121\n",
      "[843/1000] train loss: 3.95769, valid loss: 17.992712020874023\n",
      "[844/1000] train loss: 3.83197, valid loss: 17.30830192565918\n",
      "[845/1000] train loss: 3.83033, valid loss: 17.496715545654297\n",
      "[846/1000] train loss: 3.82903, valid loss: 17.562942504882812\n",
      "[847/1000] train loss: 3.83111, valid loss: 17.441133499145508\n",
      "[848/1000] train loss: 3.80626, valid loss: 17.374025344848633\n",
      "[849/1000] train loss: 3.76400, valid loss: 17.623205184936523\n",
      "[850/1000] train loss: 3.82831, valid loss: 17.921680450439453\n",
      "[851/1000] train loss: 3.80351, valid loss: 17.6143741607666\n",
      "[852/1000] train loss: 3.81043, valid loss: 17.304664611816406\n",
      "[853/1000] train loss: 3.82401, valid loss: 17.27664566040039\n",
      "[854/1000] train loss: 3.76285, valid loss: 17.985105514526367\n",
      "[855/1000] train loss: 3.84524, valid loss: 17.655521392822266\n",
      "[856/1000] train loss: 3.83893, valid loss: 17.802932739257812\n",
      "[857/1000] train loss: 3.79385, valid loss: 17.41998863220215\n",
      "[858/1000] train loss: 3.87911, valid loss: 17.36403465270996\n",
      "[859/1000] train loss: 3.71234, valid loss: 17.914758682250977\n",
      "[860/1000] train loss: 3.79979, valid loss: 17.511613845825195\n",
      "[861/1000] train loss: 3.83824, valid loss: 17.624773025512695\n",
      "[862/1000] train loss: 3.81697, valid loss: 17.724958419799805\n",
      "[863/1000] train loss: 3.81270, valid loss: 17.480222702026367\n",
      "[864/1000] train loss: 3.81183, valid loss: 17.328981399536133\n",
      "[865/1000] train loss: 3.80645, valid loss: 17.45487403869629\n",
      "[866/1000] train loss: 3.85018, valid loss: 17.44605255126953\n",
      "[867/1000] train loss: 3.83125, valid loss: 17.400171279907227\n",
      "[868/1000] train loss: 3.79793, valid loss: 17.494810104370117\n",
      "[869/1000] train loss: 3.89172, valid loss: 17.385648727416992\n",
      "[870/1000] train loss: 3.78366, valid loss: 17.187583923339844\n",
      "[871/1000] train loss: 3.77935, valid loss: 17.70836067199707\n",
      "[872/1000] train loss: 3.73593, valid loss: 17.32600212097168\n",
      "[873/1000] train loss: 3.72790, valid loss: 17.766891479492188\n",
      "[874/1000] train loss: 3.76108, valid loss: 17.6547908782959\n",
      "[875/1000] train loss: 3.75597, valid loss: 17.38187026977539\n",
      "[876/1000] train loss: 3.71962, valid loss: 17.703943252563477\n",
      "[877/1000] train loss: 3.76039, valid loss: 17.295536041259766\n",
      "[878/1000] train loss: 3.78571, valid loss: 17.622053146362305\n",
      "[879/1000] train loss: 3.85113, valid loss: 17.964384078979492\n",
      "[880/1000] train loss: 3.75538, valid loss: 17.49390411376953\n",
      "[881/1000] train loss: 3.76603, valid loss: 17.53784942626953\n",
      "[882/1000] train loss: 3.73080, valid loss: 17.39414405822754\n",
      "[883/1000] train loss: 3.70008, valid loss: 17.601476669311523\n",
      "[884/1000] train loss: 3.74097, valid loss: 17.595003128051758\n",
      "[885/1000] train loss: 3.59309, valid loss: 17.543188095092773\n",
      "[886/1000] train loss: 3.91730, valid loss: 17.574487686157227\n",
      "[887/1000] train loss: 3.78786, valid loss: 17.40167999267578\n",
      "[888/1000] train loss: 3.75189, valid loss: 17.50809097290039\n",
      "[889/1000] train loss: 3.69166, valid loss: 17.414512634277344\n",
      "[890/1000] train loss: 3.66540, valid loss: 17.432876586914062\n",
      "[891/1000] train loss: 3.66912, valid loss: 17.79100799560547\n",
      "[892/1000] train loss: 3.81637, valid loss: 17.722061157226562\n",
      "[893/1000] train loss: 3.77539, valid loss: 17.489233016967773\n",
      "[894/1000] train loss: 3.73423, valid loss: 17.639514923095703\n",
      "[895/1000] train loss: 3.69918, valid loss: 17.524295806884766\n",
      "[896/1000] train loss: 3.68776, valid loss: 17.482818603515625\n",
      "[897/1000] train loss: 3.76735, valid loss: 17.38508415222168\n",
      "[898/1000] train loss: 3.88322, valid loss: 17.52960777282715\n",
      "[899/1000] train loss: 3.73903, valid loss: 17.59552574157715\n",
      "[900/1000] train loss: 3.67351, valid loss: 17.620817184448242\n",
      "[901/1000] train loss: 3.72963, valid loss: 17.331748962402344\n",
      "[902/1000] train loss: 3.63795, valid loss: 17.998056411743164\n",
      "[903/1000] train loss: 3.73802, valid loss: 17.689529418945312\n",
      "[904/1000] train loss: 3.73316, valid loss: 17.438282012939453\n",
      "[905/1000] train loss: 3.71270, valid loss: 17.83736228942871\n",
      "[906/1000] train loss: 3.72433, valid loss: 17.218225479125977\n",
      "[907/1000] train loss: 3.69219, valid loss: 17.562597274780273\n",
      "[908/1000] train loss: 3.67134, valid loss: 17.65799903869629\n",
      "[909/1000] train loss: 3.66097, valid loss: 17.568218231201172\n",
      "[910/1000] train loss: 3.59983, valid loss: 17.526487350463867\n",
      "[911/1000] train loss: 3.68380, valid loss: 17.787885665893555\n",
      "[912/1000] train loss: 3.72479, valid loss: 17.662126541137695\n",
      "[913/1000] train loss: 3.60572, valid loss: 17.36159896850586\n",
      "[914/1000] train loss: 3.67257, valid loss: 17.404144287109375\n",
      "[915/1000] train loss: 3.59271, valid loss: 17.509511947631836\n",
      "[916/1000] train loss: 3.71437, valid loss: 17.514984130859375\n",
      "[917/1000] train loss: 3.64841, valid loss: 17.844621658325195\n",
      "[918/1000] train loss: 3.66657, valid loss: 17.57706069946289\n",
      "[919/1000] train loss: 3.82776, valid loss: 17.270538330078125\n",
      "[920/1000] train loss: 3.73373, valid loss: 17.533693313598633\n",
      "[921/1000] train loss: 3.67342, valid loss: 18.0139217376709\n",
      "[922/1000] train loss: 3.67149, valid loss: 17.660480499267578\n",
      "[923/1000] train loss: 3.75991, valid loss: 17.51140022277832\n",
      "[924/1000] train loss: 3.65093, valid loss: 17.43600082397461\n",
      "[925/1000] train loss: 3.62794, valid loss: 17.262720108032227\n",
      "[926/1000] train loss: 3.64966, valid loss: 17.776262283325195\n",
      "[927/1000] train loss: 3.66193, valid loss: 17.585691452026367\n",
      "[928/1000] train loss: 3.63168, valid loss: 17.5847225189209\n",
      "[929/1000] train loss: 3.58050, valid loss: 17.57046127319336\n",
      "[930/1000] train loss: 3.62063, valid loss: 17.524728775024414\n",
      "[931/1000] train loss: 3.62320, valid loss: 17.35067367553711\n",
      "[932/1000] train loss: 3.63976, valid loss: 17.667539596557617\n",
      "[933/1000] train loss: 3.65686, valid loss: 17.547006607055664\n",
      "[934/1000] train loss: 3.57899, valid loss: 17.370670318603516\n",
      "[935/1000] train loss: 3.67403, valid loss: 17.70599937438965\n",
      "[936/1000] train loss: 3.61308, valid loss: 17.76007843017578\n",
      "[937/1000] train loss: 3.63846, valid loss: 17.248455047607422\n",
      "[938/1000] train loss: 3.63145, valid loss: 17.689449310302734\n",
      "[939/1000] train loss: 3.53356, valid loss: 17.488388061523438\n",
      "[940/1000] train loss: 3.61638, valid loss: 17.238842010498047\n",
      "[941/1000] train loss: 3.55414, valid loss: 17.65390396118164\n",
      "[942/1000] train loss: 3.77718, valid loss: 18.04014015197754\n",
      "[943/1000] train loss: 3.67011, valid loss: 17.562719345092773\n",
      "[944/1000] train loss: 3.65987, valid loss: 17.381010055541992\n",
      "[945/1000] train loss: 3.58504, valid loss: 17.64267921447754\n",
      "[946/1000] train loss: 3.53860, valid loss: 17.246658325195312\n",
      "[947/1000] train loss: 3.46650, valid loss: 17.771726608276367\n",
      "[948/1000] train loss: 3.55741, valid loss: 17.55910301208496\n",
      "[949/1000] train loss: 3.57336, valid loss: 17.604154586791992\n",
      "[950/1000] train loss: 3.59064, valid loss: 17.325939178466797\n",
      "[951/1000] train loss: 3.65742, valid loss: 17.261045455932617\n",
      "[952/1000] train loss: 3.63071, valid loss: 17.482498168945312\n",
      "[953/1000] train loss: 3.61574, valid loss: 17.742944717407227\n",
      "[954/1000] train loss: 3.63779, valid loss: 17.642242431640625\n",
      "[955/1000] train loss: 3.56674, valid loss: 17.53306770324707\n",
      "[956/1000] train loss: 3.58346, valid loss: 17.600845336914062\n",
      "[957/1000] train loss: 3.58926, valid loss: 17.173826217651367\n",
      "[958/1000] train loss: 3.59707, valid loss: 17.678077697753906\n",
      "[959/1000] train loss: 3.56938, valid loss: 17.452381134033203\n",
      "[960/1000] train loss: 3.56031, valid loss: 17.53498649597168\n",
      "[961/1000] train loss: 3.58965, valid loss: 17.52242660522461\n",
      "[962/1000] train loss: 3.48094, valid loss: 17.59058380126953\n",
      "[963/1000] train loss: 3.52810, valid loss: 17.665273666381836\n",
      "[964/1000] train loss: 3.58810, valid loss: 17.56012725830078\n",
      "[965/1000] train loss: 3.63186, valid loss: 17.796520233154297\n",
      "[966/1000] train loss: 3.52805, valid loss: 17.511592864990234\n",
      "[967/1000] train loss: 3.56881, valid loss: 17.19973373413086\n",
      "[968/1000] train loss: 3.64457, valid loss: 17.414159774780273\n",
      "[969/1000] train loss: 3.71580, valid loss: 17.688526153564453\n",
      "[970/1000] train loss: 3.48571, valid loss: 17.485870361328125\n",
      "[971/1000] train loss: 3.52644, valid loss: 17.713579177856445\n",
      "[972/1000] train loss: 3.59767, valid loss: 17.492990493774414\n",
      "[973/1000] train loss: 3.61058, valid loss: 17.14242935180664\n",
      "[974/1000] train loss: 3.59921, valid loss: 17.91514778137207\n",
      "[975/1000] train loss: 3.53626, valid loss: 17.538455963134766\n",
      "[976/1000] train loss: 3.54965, valid loss: 17.641115188598633\n",
      "[977/1000] train loss: 3.52880, valid loss: 17.38779640197754\n",
      "[978/1000] train loss: 3.60965, valid loss: 17.507911682128906\n",
      "[979/1000] train loss: 3.59031, valid loss: 17.348798751831055\n",
      "[980/1000] train loss: 3.60225, valid loss: 17.351577758789062\n",
      "[981/1000] train loss: 3.54262, valid loss: 17.635129928588867\n",
      "[982/1000] train loss: 3.54661, valid loss: 17.599050521850586\n",
      "[983/1000] train loss: 3.60492, valid loss: 17.48556900024414\n",
      "[984/1000] train loss: 3.56918, valid loss: 17.257509231567383\n",
      "[985/1000] train loss: 3.48755, valid loss: 17.756555557250977\n",
      "[986/1000] train loss: 3.60586, valid loss: 17.863027572631836\n",
      "[987/1000] train loss: 3.51908, valid loss: 17.616212844848633\n",
      "[988/1000] train loss: 3.55620, valid loss: 17.83466339111328\n",
      "[989/1000] train loss: 3.53498, valid loss: 17.894729614257812\n",
      "[990/1000] train loss: 3.60210, valid loss: 17.360820770263672\n",
      "[991/1000] train loss: 3.52371, valid loss: 17.528282165527344\n",
      "[992/1000] train loss: 3.46557, valid loss: 17.316133499145508\n",
      "[993/1000] train loss: 3.51208, valid loss: 17.330093383789062\n",
      "[994/1000] train loss: 3.50462, valid loss: 17.52587127685547\n",
      "[995/1000] train loss: 3.55277, valid loss: 17.16357421875\n",
      "[996/1000] train loss: 3.58642, valid loss: 17.914037704467773\n",
      "[997/1000] train loss: 3.55613, valid loss: 17.63532066345215\n",
      "[998/1000] train loss: 3.48130, valid loss: 17.70623207092285\n",
      "[999/1000] train loss: 3.53387, valid loss: 17.59395408630371\n",
      "[1000/1000] train loss: 3.57302, valid loss: 17.36060333251953\n"
     ]
    }
   ],
   "source": [
    "# 학습: train + validation\n",
    "\n",
    "train_loss_list = []\n",
    "valid_loss_list = []\n",
    "\n",
    "for epoch in range(1000): # 1000 에폭 학습 (데이터셋을 1000번)\n",
    "    # train 단계\n",
    "    boston_model.train() # train 모드로 들어감.\n",
    "    train_loss = 0.0 # 현재 epoch의 loss를 저장할 변수\n",
    "    # step 단위로 학습\n",
    "    for X_train, y_train in train_loader:\n",
    "        # 1 batch 학습과정 (1 step)\n",
    "\n",
    "        # (1) X, y를 device로 옮기기\n",
    "        X_train, y_train = X_train.to(device), y_train.to(device)\n",
    "        # (2) 모델을 이용해서 추정\n",
    "        pred = boston_model(X_train)\n",
    "        # (3) Loss 계산\n",
    "        loss = loss_fn(pred, y_train) # 파라미터: (모델추정값, 정답값)\n",
    "        # (4) gradient 계산\n",
    "        loss.backward()\n",
    "        # (5) weight, bias 업데이트\n",
    "        optimizer.step()\n",
    "        # (6) gradient 초기화\n",
    "        optimizer.zero_grad()\n",
    "\n",
    "        train_loss += loss.item()\n",
    "\n",
    "    train_loss /= len(train_loader) # 1 epoch 돌린 loss 결과 저장.\n",
    "\n",
    "    # validation 단계\n",
    "    boston_model.eval() # 검증 모드로 들어감.\n",
    "    valid_loss = 0.0\n",
    "    with torch.no_grad():\n",
    "        for X_test, y_test in test_loader:\n",
    "            # (1) X_test, y_test를 device로 옮기기\n",
    "            X_test, y_test = X_test.to(device), y_test.to(device)\n",
    "            # (2) 추정\n",
    "            pred_test = boston_model(X_test)\n",
    "            # (3) 검증 - Loss 계산\n",
    "            valid_loss += loss_fn(pred_test, y_test)\n",
    "        \n",
    "        valid_loss /= len(test_loader)\n",
    "    \n",
    "    # 현재 epoch 학습 결과를 출력\n",
    "    print(f\"[{epoch+1}/1000] train loss: {train_loss:.5f}, valid loss: {valid_loss}\")\n",
    "    train_loss_list.append(train_loss)\n",
    "    valid_loss_list.append(valid_loss)"
   ]
  },
  {
   "cell_type": "code",
   "execution_count": 57,
   "metadata": {},
   "outputs": [
    {
     "data": {
      "image/png": "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",
      "text/plain": [
       "<Figure size 640x480 with 1 Axes>"
      ]
     },
     "metadata": {},
     "output_type": "display_data"
    }
   ],
   "source": [
    "# epoch별 loss 변화 시각화\n",
    "\n",
    "plt.plot(range(1000), train_loss_list, label=\"train loss\")\n",
    "plt.plot(range(1000), valid_loss_list, label=\"valid_loss\")\n",
    "plt.ylim(0, 100)\n",
    "plt.legend()\n",
    "plt.show()"
   ]
  },
  {
   "cell_type": "code",
   "execution_count": null,
   "metadata": {},
   "outputs": [],
   "source": []
   "source": [
    "# 모델 저장 & 불러오기\n",
    "\n",
    "torch.save(boston_model, \"saved_models/boston_model.pt\")"
   ]
  },
  {
   "cell_type": "code",
   "execution_count": 60,
   "metadata": {},
   "outputs": [],
   "source": [
    "load_boston_model = torch.load(\"saved_models/boston_model.pt\", weights_only=False)"
   ]
  },
  {
   "cell_type": "code",
   "execution_count": null,
   "metadata": {},
   "outputs": [],
   "source": []
   "source": [
    "# 모델 파라미터만 저장 & 불러오기\n",
    "# state_dict를 조회\n",
    "\n",
    "torch.save(boston_model.state_dict(), \"saved_models/boston_model_state_dict.pt\")"
   ]
  },
  {
   "cell_type": "code",
   "execution_count": 62,
   "metadata": {},
   "outputs": [
    {
     "data": {
      "text/plain": [
       "<All keys matched successfully>"
      ]
     },
     "execution_count": 62,
     "metadata": {},
     "output_type": "execute_result"
    }
   ],
   "source": [
    "load_sd = torch.load(\"saved_models/boston_model_state_dict.pt\")\n",
    "\n",
    "load_boston_model2 = BostonModel()\n",
    "load_boston_model2.load_state_dict(load_sd)"
   ]
  },
  {
   "cell_type": "code",
   "execution_count": 64,
   "metadata": {},
   "outputs": [
    {
     "name": "stdout",
     "output_type": "stream",
     "text": [
      "17.36060333251953\n"
     ]
    }
   ],
   "source": [
    "# 최종 평가\n",
    "\n",
    "test_loss = 0.0\n",
    "\n",
    "with torch.no_grad():\n",
    "    for X_test, y_test in test_loader:\n",
    "        # device로 이동\n",
    "        X_test, y_test = X_test.to(device), y_test.to(device)\n",
    "        # 추론\n",
    "        # pred_test = boston_model(X_test)\n",
    "        pred_test = load_boston_model2(X_test)\n",
    "        # loss 계산\n",
    "        loss_test = loss_fn(pred_test, y_test)\n",
    "        test_loss += loss_test.item()\n",
    "\n",
    "    test_loss /= len(test_loader)\n",
    "\n",
    "print(test_loss)"
   ]
  },
  {
   "cell_type": "code",
   "execution_count": null,
   "metadata": {},
   "outputs": [],
   "source": []
   "source": [
    "# 새로운 데이터 추론을 한다면\n",
    "\n",
    "new_X, _ = trainset[:5]\n",
    "load_boston_model.eval()\n",
    "\n",
    "with torch.no_grad():\n",
    "    new_y =load_boston_model(new_X)"
   ]
  },
  {
   "cell_type": "code",
   "execution_count": 66,
   "metadata": {},
   "outputs": [
    {
     "data": {
      "text/plain": [
       "tensor([[27.3894],\n",
       "        [21.5523],\n",
       "        [25.3575],\n",
       "        [20.8418],\n",
       "        [ 9.9756]])"
      ]
     },
     "execution_count": 66,
     "metadata": {},
     "output_type": "execute_result"
    }
   ],
   "source": [
    "new_y"
   ]
  },
  {
   "cell_type": "code",
   "execution_count": null,
   "metadata": {},
   "outputs": [],
   "source": []
  },
  {
   "cell_type": "markdown",
   "metadata": {
    "slideshow": {
     "slide_type": "slide"
    }
   },
   "source": [
    "## 분류 (Classification)\n",
    "\n",
    "### Fashion MNIST Dataset - **다중분류(Multi-Class Classification) 문제**\n",
    "\n",
    "10개의 범주(category)와 70,000개의 흑백 이미지로 구성된 [패션 MNIST](https://github.com/zalandoresearch/fashion-mnist) 데이터셋.\n",
    "이미지는 해상도(28x28 픽셀)가 낮고 다음처럼 개별 의류 품목을 나타낸다:\n",
    "\n",
    "<table>\n",
    "  <tr><td>\n",
    "    <img src=\"https://tensorflow.org/images/fashion-mnist-sprite.png\"\n",
    "         alt=\"Fashion MNIST sprite\"  width=\"600\">\n",
    "  </td></tr>\n",
    "  <tr><td align=\"center\">\n",
    "    <b>그림</b> <a href=\"https://github.com/zalandoresearch/fashion-mnist\">패션-MNIST 샘플</a> (Zalando, MIT License).<br/>&nbsp;\n",
    "  </td></tr>\n",
    "</table>"
   ]
  },
  {
   "cell_type": "markdown",
   "metadata": {
    "slideshow": {
     "slide_type": "slide"
    }
   },
   "source": [
    "- **Feature**이미지는 28x28 크기이며 Gray scale이다.\n",
    "- **Target**은 총 10개의 class로 구성되어 있으며 각 class의 class 이름은 다음과 같다.\n",
    "\n",
    "| 레이블 | 클래스       |\n",
    "|--------|--------------|\n",
    "| 0      | T-shirt/top |\n",
    "| 1      | Trousers    |\n",
    "| 2      | Pullover    |\n",
    "| 3      | Dress       |\n",
    "| 4      | Coat        |\n",
    "| 5      | Sandal      |\n",
    "| 6      | Shirt       |\n",
    "| 7      | Sneaker     |\n",
    "| 8      | Bag         |\n",
    "| 9      | Ankle boot  |"
   ]
  },
  {
   "cell_type": "markdown",
   "metadata": {},
   "source": [
    "> #### 학습 도중 모델 저장\n",
    ">\n",
    "> - 학습 도중 가장 좋은 성능을 보이는 모델이 나올 수 있다.\n",
    "> - 학습 도중 모델을 저장하는 방법\n",
    ">   1. 각 에폭이 끝날 때 마다 모델을 저장한다.\n",
    ">   2. 한 에폭 학습 후 성능 개선이 있으면 모델을 저장하여 가장 성능 좋은 모델만 저장되도록 한다.\n",
    ">      - 최고 성능 점수(best score)와 현재 에폭의 성능을 비교하여, 성능이 개선되었을 경우 모델을 저장(덮어쓰기)한다.\n",
    ">\n",
    "> #### 조기 종료(Early Stopping)\n",
    ">\n",
    "> - 학습 도중 성능 개선이 나타나지 않으면, 중간에 학습을 종료하도록 구현한다.\n",
    "> - 에폭 수를 충분히 길게 설정한 뒤, 특정 횟수 동안 성능 개선이 없으면 학습을 조기 종료하도록 구현한다.\n"
   ]
  },
  {
   "cell_type": "code",
   "execution_count": 2,
   "metadata": {},
   "outputs": [
    {
     "name": "stdout",
     "output_type": "stream",
     "text": [
      "cpu\n"
     ]
    }
   ],
   "source": [
    "import torch\n",
    "import torch.nn as nn\n",
    "from torchvision import datasets, transforms\n",
    "\n",
    "device = \"cuda\" if torch.cuda.is_available() else \"cpu\"\n",
    "print(device)"
   ]
  },
  {
   "cell_type": "code",
   "execution_count": 4,
   "metadata": {},
   "outputs": [],
   "source": [
    "# Dataset loading\n",
    "\n",
    "fmnist_trainset = datasets.FashionMNIST(\n",
    "    root=\"data\", train=True, download=True,\n",
    "    transform=transforms.ToTensor() # 이거 없으면 PILLOW 객체로 불러오게 되어서 모델에 넣지 못한다.\n",
    ")\n",
    "fmnist_testset = datasets.FashionMNIST(\n",
    "    root=\"data\", train=False, download=True,\n",
    "    transform=transforms.ToTensor()\n",
    ")"
   ]
  },
  {
   "cell_type": "code",
   "execution_count": 5,
   "metadata": {},
   "outputs": [
    {
     "data": {
      "text/plain": [
       "Dataset FashionMNIST\n",
       "    Number of datapoints: 60000\n",
       "    Root location: data\n",
       "    Split: Train\n",
       "    StandardTransform\n",
       "Transform: ToTensor()"
      ]
     },
     "execution_count": 5,
     "metadata": {},
     "output_type": "execute_result"
    }
   ],
   "source": [
    "fmnist_trainset"
   ]
  },
  {
   "cell_type": "code",
   "execution_count": 6,
   "metadata": {},
   "outputs": [
    {
     "data": {
      "text/plain": [
       "Dataset FashionMNIST\n",
       "    Number of datapoints: 10000\n",
       "    Root location: data\n",
       "    Split: Test\n",
       "    StandardTransform\n",
       "Transform: ToTensor()"
      ]
     },
     "execution_count": 6,
     "metadata": {},
     "output_type": "execute_result"
    }
   ],
   "source": [
    "fmnist_testset"
   ]
  },
  {
   "cell_type": "code",
   "execution_count": 7,
   "metadata": {},
   "outputs": [
    {
     "data": {
      "text/plain": [
       "(tensor([[[0.0000, 0.0000, 0.0000, 0.0000, 0.0000, 0.0000, 0.0000, 0.0000,\n",
       "           0.0000, 0.0000, 0.0000, 0.0000, 0.0000, 0.0000, 0.0000, 0.0000,\n",
       "           0.0000, 0.0000, 0.0000, 0.0000, 0.0000, 0.0000, 0.0000, 0.0000,\n",
       "           0.0000, 0.0000, 0.0000, 0.0000],\n",
       "          [0.0000, 0.0000, 0.0000, 0.0000, 0.0000, 0.0000, 0.0000, 0.0000,\n",
       "           0.0000, 0.0000, 0.0000, 0.0000, 0.0000, 0.0000, 0.0000, 0.0000,\n",
       "           0.0000, 0.0000, 0.0000, 0.0000, 0.0000, 0.0000, 0.0000, 0.0000,\n",
       "           0.0000, 0.0000, 0.0000, 0.0000],\n",
       "          [0.0000, 0.0000, 0.0000, 0.0000, 0.0000, 0.0000, 0.0000, 0.0000,\n",
       "           0.0000, 0.0000, 0.0000, 0.0000, 0.0000, 0.0000, 0.0000, 0.0000,\n",
       "           0.0000, 0.0000, 0.0000, 0.0000, 0.0000, 0.0000, 0.0000, 0.0000,\n",
       "           0.0000, 0.0000, 0.0000, 0.0000],\n",
       "          [0.0000, 0.0000, 0.0000, 0.0000, 0.0000, 0.0000, 0.0000, 0.0000,\n",
       "           0.0000, 0.0000, 0.0000, 0.0000, 0.0039, 0.0000, 0.0000, 0.0510,\n",
       "           0.2863, 0.0000, 0.0000, 0.0039, 0.0157, 0.0000, 0.0000, 0.0000,\n",
       "           0.0000, 0.0039, 0.0039, 0.0000],\n",
       "          [0.0000, 0.0000, 0.0000, 0.0000, 0.0000, 0.0000, 0.0000, 0.0000,\n",
       "           0.0000, 0.0000, 0.0000, 0.0000, 0.0118, 0.0000, 0.1412, 0.5333,\n",
       "           0.4980, 0.2431, 0.2118, 0.0000, 0.0000, 0.0000, 0.0039, 0.0118,\n",
       "           0.0157, 0.0000, 0.0000, 0.0118],\n",
       "          [0.0000, 0.0000, 0.0000, 0.0000, 0.0000, 0.0000, 0.0000, 0.0000,\n",
       "           0.0000, 0.0000, 0.0000, 0.0000, 0.0235, 0.0000, 0.4000, 0.8000,\n",
       "           0.6902, 0.5255, 0.5647, 0.4824, 0.0902, 0.0000, 0.0000, 0.0000,\n",
       "           0.0000, 0.0471, 0.0392, 0.0000],\n",
       "          [0.0000, 0.0000, 0.0000, 0.0000, 0.0000, 0.0000, 0.0000, 0.0000,\n",
       "           0.0000, 0.0000, 0.0000, 0.0000, 0.0000, 0.0000, 0.6078, 0.9255,\n",
       "           0.8118, 0.6980, 0.4196, 0.6118, 0.6314, 0.4275, 0.2510, 0.0902,\n",
       "           0.3020, 0.5098, 0.2824, 0.0588],\n",
       "          [0.0000, 0.0000, 0.0000, 0.0000, 0.0000, 0.0000, 0.0000, 0.0000,\n",
       "           0.0000, 0.0000, 0.0000, 0.0039, 0.0000, 0.2706, 0.8118, 0.8745,\n",
       "           0.8549, 0.8471, 0.8471, 0.6392, 0.4980, 0.4745, 0.4784, 0.5725,\n",
       "           0.5529, 0.3451, 0.6745, 0.2588],\n",
       "          [0.0000, 0.0000, 0.0000, 0.0000, 0.0000, 0.0000, 0.0000, 0.0000,\n",
       "           0.0000, 0.0039, 0.0039, 0.0039, 0.0000, 0.7843, 0.9098, 0.9098,\n",
       "           0.9137, 0.8980, 0.8745, 0.8745, 0.8431, 0.8353, 0.6431, 0.4980,\n",
       "           0.4824, 0.7686, 0.8980, 0.0000],\n",
       "          [0.0000, 0.0000, 0.0000, 0.0000, 0.0000, 0.0000, 0.0000, 0.0000,\n",
       "           0.0000, 0.0000, 0.0000, 0.0000, 0.0000, 0.7176, 0.8824, 0.8471,\n",
       "           0.8745, 0.8941, 0.9216, 0.8902, 0.8784, 0.8706, 0.8784, 0.8667,\n",
       "           0.8745, 0.9608, 0.6784, 0.0000],\n",
       "          [0.0000, 0.0000, 0.0000, 0.0000, 0.0000, 0.0000, 0.0000, 0.0000,\n",
       "           0.0000, 0.0000, 0.0000, 0.0000, 0.0000, 0.7569, 0.8941, 0.8549,\n",
       "           0.8353, 0.7765, 0.7059, 0.8314, 0.8235, 0.8275, 0.8353, 0.8745,\n",
       "           0.8627, 0.9529, 0.7922, 0.0000],\n",
       "          [0.0000, 0.0000, 0.0000, 0.0000, 0.0000, 0.0000, 0.0000, 0.0000,\n",
       "           0.0000, 0.0039, 0.0118, 0.0000, 0.0471, 0.8588, 0.8627, 0.8314,\n",
       "           0.8549, 0.7529, 0.6627, 0.8902, 0.8157, 0.8549, 0.8784, 0.8314,\n",
       "           0.8863, 0.7725, 0.8196, 0.2039],\n",
       "          [0.0000, 0.0000, 0.0000, 0.0000, 0.0000, 0.0000, 0.0000, 0.0000,\n",
       "           0.0000, 0.0000, 0.0235, 0.0000, 0.3882, 0.9569, 0.8706, 0.8627,\n",
       "           0.8549, 0.7961, 0.7765, 0.8667, 0.8431, 0.8353, 0.8706, 0.8627,\n",
       "           0.9608, 0.4667, 0.6549, 0.2196],\n",
       "          [0.0000, 0.0000, 0.0000, 0.0000, 0.0000, 0.0000, 0.0000, 0.0000,\n",
       "           0.0000, 0.0157, 0.0000, 0.0000, 0.2157, 0.9255, 0.8941, 0.9020,\n",
       "           0.8941, 0.9412, 0.9098, 0.8353, 0.8549, 0.8745, 0.9176, 0.8510,\n",
       "           0.8510, 0.8196, 0.3608, 0.0000],\n",
       "          [0.0000, 0.0000, 0.0039, 0.0157, 0.0235, 0.0275, 0.0078, 0.0000,\n",
       "           0.0000, 0.0000, 0.0000, 0.0000, 0.9294, 0.8863, 0.8510, 0.8745,\n",
       "           0.8706, 0.8588, 0.8706, 0.8667, 0.8471, 0.8745, 0.8980, 0.8431,\n",
       "           0.8549, 1.0000, 0.3020, 0.0000],\n",
       "          [0.0000, 0.0118, 0.0000, 0.0000, 0.0000, 0.0000, 0.0000, 0.0000,\n",
       "           0.0000, 0.2431, 0.5686, 0.8000, 0.8941, 0.8118, 0.8353, 0.8667,\n",
       "           0.8549, 0.8157, 0.8275, 0.8549, 0.8784, 0.8745, 0.8588, 0.8431,\n",
       "           0.8784, 0.9569, 0.6235, 0.0000],\n",
       "          [0.0000, 0.0000, 0.0000, 0.0000, 0.0706, 0.1725, 0.3216, 0.4196,\n",
       "           0.7412, 0.8941, 0.8627, 0.8706, 0.8510, 0.8863, 0.7843, 0.8039,\n",
       "           0.8275, 0.9020, 0.8784, 0.9176, 0.6902, 0.7373, 0.9804, 0.9725,\n",
       "           0.9137, 0.9333, 0.8431, 0.0000],\n",
       "          [0.0000, 0.2235, 0.7333, 0.8157, 0.8784, 0.8667, 0.8784, 0.8157,\n",
       "           0.8000, 0.8392, 0.8157, 0.8196, 0.7843, 0.6235, 0.9608, 0.7569,\n",
       "           0.8078, 0.8745, 1.0000, 1.0000, 0.8667, 0.9176, 0.8667, 0.8275,\n",
       "           0.8627, 0.9098, 0.9647, 0.0000],\n",
       "          [0.0118, 0.7922, 0.8941, 0.8784, 0.8667, 0.8275, 0.8275, 0.8392,\n",
       "           0.8039, 0.8039, 0.8039, 0.8627, 0.9412, 0.3137, 0.5882, 1.0000,\n",
       "           0.8980, 0.8667, 0.7373, 0.6039, 0.7490, 0.8235, 0.8000, 0.8196,\n",
       "           0.8706, 0.8941, 0.8824, 0.0000],\n",
       "          [0.3843, 0.9137, 0.7765, 0.8235, 0.8706, 0.8980, 0.8980, 0.9176,\n",
       "           0.9765, 0.8627, 0.7608, 0.8431, 0.8510, 0.9451, 0.2549, 0.2863,\n",
       "           0.4157, 0.4588, 0.6588, 0.8588, 0.8667, 0.8431, 0.8510, 0.8745,\n",
       "           0.8745, 0.8784, 0.8980, 0.1137],\n",
       "          [0.2941, 0.8000, 0.8314, 0.8000, 0.7569, 0.8039, 0.8275, 0.8824,\n",
       "           0.8471, 0.7255, 0.7725, 0.8078, 0.7765, 0.8353, 0.9412, 0.7647,\n",
       "           0.8902, 0.9608, 0.9373, 0.8745, 0.8549, 0.8314, 0.8196, 0.8706,\n",
       "           0.8627, 0.8667, 0.9020, 0.2627],\n",
       "          [0.1882, 0.7961, 0.7176, 0.7608, 0.8353, 0.7725, 0.7255, 0.7451,\n",
       "           0.7608, 0.7529, 0.7922, 0.8392, 0.8588, 0.8667, 0.8627, 0.9255,\n",
       "           0.8824, 0.8471, 0.7804, 0.8078, 0.7294, 0.7098, 0.6941, 0.6745,\n",
       "           0.7098, 0.8039, 0.8078, 0.4510],\n",
       "          [0.0000, 0.4784, 0.8588, 0.7569, 0.7020, 0.6706, 0.7176, 0.7686,\n",
       "           0.8000, 0.8235, 0.8353, 0.8118, 0.8275, 0.8235, 0.7843, 0.7686,\n",
       "           0.7608, 0.7490, 0.7647, 0.7490, 0.7765, 0.7529, 0.6902, 0.6118,\n",
       "           0.6549, 0.6941, 0.8235, 0.3608],\n",
       "          [0.0000, 0.0000, 0.2902, 0.7412, 0.8314, 0.7490, 0.6863, 0.6745,\n",
       "           0.6863, 0.7098, 0.7255, 0.7373, 0.7412, 0.7373, 0.7569, 0.7765,\n",
       "           0.8000, 0.8196, 0.8235, 0.8235, 0.8275, 0.7373, 0.7373, 0.7608,\n",
       "           0.7529, 0.8471, 0.6667, 0.0000],\n",
       "          [0.0078, 0.0000, 0.0000, 0.0000, 0.2588, 0.7843, 0.8706, 0.9294,\n",
       "           0.9373, 0.9490, 0.9647, 0.9529, 0.9569, 0.8667, 0.8627, 0.7569,\n",
       "           0.7490, 0.7020, 0.7137, 0.7137, 0.7098, 0.6902, 0.6510, 0.6588,\n",
       "           0.3882, 0.2275, 0.0000, 0.0000],\n",
       "          [0.0000, 0.0000, 0.0000, 0.0000, 0.0000, 0.0000, 0.0000, 0.1569,\n",
       "           0.2392, 0.1725, 0.2824, 0.1608, 0.1373, 0.0000, 0.0000, 0.0000,\n",
       "           0.0000, 0.0000, 0.0000, 0.0000, 0.0000, 0.0000, 0.0000, 0.0000,\n",
       "           0.0000, 0.0000, 0.0000, 0.0000],\n",
       "          [0.0000, 0.0000, 0.0000, 0.0000, 0.0000, 0.0000, 0.0000, 0.0000,\n",
       "           0.0000, 0.0000, 0.0000, 0.0000, 0.0000, 0.0000, 0.0000, 0.0000,\n",
       "           0.0000, 0.0000, 0.0000, 0.0000, 0.0000, 0.0000, 0.0000, 0.0000,\n",
       "           0.0000, 0.0000, 0.0000, 0.0000],\n",
       "          [0.0000, 0.0000, 0.0000, 0.0000, 0.0000, 0.0000, 0.0000, 0.0000,\n",
       "           0.0000, 0.0000, 0.0000, 0.0000, 0.0000, 0.0000, 0.0000, 0.0000,\n",
       "           0.0000, 0.0000, 0.0000, 0.0000, 0.0000, 0.0000, 0.0000, 0.0000,\n",
       "           0.0000, 0.0000, 0.0000, 0.0000]]]),\n",
       " 9)"
      ]
     },
     "execution_count": 7,
     "metadata": {},
     "output_type": "execute_result"
    }
   ],
   "source": [
    "fmnist_trainset[0]"
   ]
  },
  {
   "cell_type": "code",
   "execution_count": 8,
   "metadata": {},
   "outputs": [
    {
     "data": {
      "text/plain": [
       "tensor([[[0.0000, 0.0000, 0.0000, 0.0000, 0.0000, 0.0000, 0.0000, 0.0431,\n",
       "          0.5569, 0.7843, 0.4157, 0.0000, 0.0000, 0.0000, 0.0000, 0.0000,\n",
       "          0.0000, 0.0000, 0.3333, 0.7255, 0.4392, 0.0000, 0.0000, 0.0000,\n",
       "          0.0000, 0.0000, 0.0000, 0.0000],\n",
       "         [0.0000, 0.0000, 0.0000, 0.0000, 0.0000, 0.0000, 0.5961, 0.8392,\n",
       "          0.8510, 0.7608, 0.9255, 0.8471, 0.7333, 0.5843, 0.5294, 0.6000,\n",
       "          0.8275, 0.8510, 0.9059, 0.8039, 0.8510, 0.7373, 0.1333, 0.0000,\n",
       "          0.0000, 0.0000, 0.0000, 0.0000],\n",
       "         [0.0000, 0.0000, 0.0000, 0.0000, 0.0000, 0.2588, 0.7255, 0.6510,\n",
       "          0.7059, 0.7098, 0.7451, 0.8275, 0.8667, 0.7725, 0.5725, 0.7765,\n",
       "          0.8078, 0.7490, 0.6588, 0.7451, 0.6745, 0.7373, 0.6863, 0.0000,\n",
       "          0.0000, 0.0000, 0.0000, 0.0000],\n",
       "         [0.0000, 0.0000, 0.0000, 0.0000, 0.0000, 0.5294, 0.6000, 0.6275,\n",
       "          0.6863, 0.7059, 0.6667, 0.7294, 0.7333, 0.7451, 0.7373, 0.7451,\n",
       "          0.7333, 0.6824, 0.7647, 0.7255, 0.6824, 0.6314, 0.6863, 0.2314,\n",
       "          0.0000, 0.0000, 0.0000, 0.0000],\n",
       "         [0.0000, 0.0000, 0.0000, 0.0000, 0.0000, 0.6314, 0.5765, 0.6275,\n",
       "          0.6667, 0.6980, 0.6941, 0.7059, 0.6588, 0.6784, 0.6824, 0.6706,\n",
       "          0.7255, 0.7216, 0.7255, 0.6745, 0.6706, 0.6431, 0.6824, 0.4706,\n",
       "          0.0000, 0.0000, 0.0000, 0.0000],\n",
       "         [0.0000, 0.0000, 0.0000, 0.0000, 0.0078, 0.6863, 0.5725, 0.5686,\n",
       "          0.6588, 0.6980, 0.7098, 0.7255, 0.7059, 0.7216, 0.6980, 0.7020,\n",
       "          0.7333, 0.7490, 0.7569, 0.7451, 0.7098, 0.6706, 0.6745, 0.6196,\n",
       "          0.0000, 0.0000, 0.0000, 0.0000],\n",
       "         [0.0000, 0.0000, 0.0000, 0.0000, 0.1373, 0.6941, 0.6078, 0.5490,\n",
       "          0.5922, 0.6745, 0.7490, 0.7333, 0.7294, 0.7333, 0.7294, 0.7333,\n",
       "          0.7137, 0.7490, 0.7608, 0.7373, 0.7059, 0.6314, 0.6314, 0.7255,\n",
       "          0.0000, 0.0000, 0.0000, 0.0000],\n",
       "         [0.0000, 0.0000, 0.0000, 0.0000, 0.2314, 0.6667, 0.6000, 0.5529,\n",
       "          0.4706, 0.6039, 0.6275, 0.6314, 0.6745, 0.6588, 0.6510, 0.6314,\n",
       "          0.6471, 0.6745, 0.6667, 0.6431, 0.5451, 0.5843, 0.6353, 0.6510,\n",
       "          0.0824, 0.0000, 0.0000, 0.0000],\n",
       "         [0.0000, 0.0000, 0.0000, 0.0000, 0.3098, 0.5686, 0.6275, 0.8392,\n",
       "          0.4824, 0.5020, 0.6000, 0.6275, 0.6431, 0.6196, 0.6157, 0.6039,\n",
       "          0.6078, 0.6667, 0.6471, 0.5529, 0.7647, 0.7569, 0.5961, 0.6510,\n",
       "          0.2392, 0.0000, 0.0000, 0.0000],\n",
       "         [0.0000, 0.0000, 0.0000, 0.0000, 0.3922, 0.6157, 0.8824, 0.9608,\n",
       "          0.6863, 0.4431, 0.6824, 0.6196, 0.6196, 0.6275, 0.6078, 0.6275,\n",
       "          0.6431, 0.6980, 0.7373, 0.5294, 0.7255, 0.9412, 0.7882, 0.6745,\n",
       "          0.4235, 0.0000, 0.0000, 0.0000],\n",
       "         [0.0000, 0.0000, 0.0000, 0.0000, 0.0000, 0.1216, 0.6824, 0.1098,\n",
       "          0.4941, 0.6000, 0.6510, 0.5961, 0.6196, 0.6196, 0.6275, 0.6314,\n",
       "          0.6157, 0.6588, 0.7490, 0.7373, 0.0706, 0.5176, 0.6235, 0.0275,\n",
       "          0.0000, 0.0000, 0.0000, 0.0000],\n",
       "         [0.0000, 0.0000, 0.0000, 0.0000, 0.0000, 0.0000, 0.0000, 0.0000,\n",
       "          0.3216, 0.7333, 0.6235, 0.6000, 0.6157, 0.6196, 0.6353, 0.6431,\n",
       "          0.6431, 0.6039, 0.7333, 0.7451, 0.0000, 0.0000, 0.0000, 0.0000,\n",
       "          0.0000, 0.0000, 0.0000, 0.0000],\n",
       "         [0.0000, 0.0000, 0.0000, 0.0000, 0.0039, 0.0118, 0.0196, 0.0000,\n",
       "          0.1451, 0.6863, 0.6196, 0.6078, 0.6353, 0.6196, 0.6275, 0.6353,\n",
       "          0.6471, 0.6000, 0.6941, 0.8039, 0.0000, 0.0000, 0.0118, 0.0118,\n",
       "          0.0000, 0.0000, 0.0000, 0.0000],\n",
       "         [0.0000, 0.0000, 0.0000, 0.0000, 0.0000, 0.0000, 0.0039, 0.0000,\n",
       "          0.0980, 0.6863, 0.5961, 0.6275, 0.6196, 0.6314, 0.6275, 0.6431,\n",
       "          0.6431, 0.6314, 0.6510, 0.7843, 0.0000, 0.0000, 0.0039, 0.0000,\n",
       "          0.0000, 0.0000, 0.0000, 0.0000],\n",
       "         [0.0000, 0.0000, 0.0000, 0.0000, 0.0000, 0.0000, 0.0157, 0.0000,\n",
       "          0.1176, 0.6706, 0.5765, 0.6431, 0.6078, 0.6471, 0.6314, 0.6471,\n",
       "          0.6353, 0.6667, 0.6431, 0.6353, 0.0000, 0.0000, 0.0078, 0.0000,\n",
       "          0.0000, 0.0000, 0.0000, 0.0000],\n",
       "         [0.0000, 0.0000, 0.0000, 0.0000, 0.0000, 0.0000, 0.0157, 0.0000,\n",
       "          0.2235, 0.6510, 0.6078, 0.6431, 0.6510, 0.6314, 0.6314, 0.6431,\n",
       "          0.6549, 0.6471, 0.6471, 0.6353, 0.1098, 0.0000, 0.0118, 0.0000,\n",
       "          0.0000, 0.0000, 0.0000, 0.0000],\n",
       "         [0.0000, 0.0000, 0.0000, 0.0000, 0.0000, 0.0000, 0.0118, 0.0000,\n",
       "          0.4471, 0.6314, 0.6314, 0.6510, 0.6235, 0.6588, 0.6314, 0.6314,\n",
       "          0.6745, 0.6353, 0.6471, 0.6706, 0.1961, 0.0000, 0.0196, 0.0000,\n",
       "          0.0000, 0.0000, 0.0000, 0.0000],\n",
       "         [0.0000, 0.0000, 0.0000, 0.0000, 0.0000, 0.0000, 0.0039, 0.0000,\n",
       "          0.5843, 0.6157, 0.6549, 0.6745, 0.6235, 0.6745, 0.6431, 0.6314,\n",
       "          0.6745, 0.6667, 0.6275, 0.6706, 0.3490, 0.0000, 0.0157, 0.0000,\n",
       "          0.0000, 0.0000, 0.0000, 0.0000],\n",
       "         [0.0000, 0.0000, 0.0000, 0.0000, 0.0000, 0.0078, 0.0000, 0.0157,\n",
       "          0.6706, 0.6431, 0.6510, 0.6784, 0.6235, 0.7020, 0.6510, 0.6275,\n",
       "          0.6824, 0.6549, 0.6353, 0.6510, 0.5020, 0.0000, 0.0078, 0.0000,\n",
       "          0.0000, 0.0000, 0.0000, 0.0000],\n",
       "         [0.0000, 0.0000, 0.0000, 0.0000, 0.0000, 0.0118, 0.0000, 0.0706,\n",
       "          0.5961, 0.6784, 0.6275, 0.7020, 0.6039, 0.7098, 0.6510, 0.6431,\n",
       "          0.6863, 0.6667, 0.6510, 0.6667, 0.6431, 0.0000, 0.0000, 0.0039,\n",
       "          0.0000, 0.0000, 0.0000, 0.0000],\n",
       "         [0.0000, 0.0000, 0.0000, 0.0000, 0.0000, 0.0157, 0.0000, 0.1843,\n",
       "          0.6471, 0.6745, 0.6549, 0.7255, 0.6000, 0.7333, 0.6784, 0.6471,\n",
       "          0.6824, 0.7020, 0.6510, 0.6510, 0.6196, 0.0196, 0.0000, 0.0118,\n",
       "          0.0000, 0.0000, 0.0000, 0.0000],\n",
       "         [0.0000, 0.0000, 0.0000, 0.0000, 0.0000, 0.0157, 0.0000, 0.3412,\n",
       "          0.7059, 0.6353, 0.7020, 0.7020, 0.6157, 0.7490, 0.7137, 0.6471,\n",
       "          0.6588, 0.7451, 0.6784, 0.6471, 0.6510, 0.0784, 0.0000, 0.0157,\n",
       "          0.0000, 0.0000, 0.0000, 0.0000],\n",
       "         [0.0000, 0.0000, 0.0000, 0.0000, 0.0000, 0.0157, 0.0000, 0.4118,\n",
       "          0.7333, 0.6157, 0.7608, 0.6863, 0.6314, 0.7451, 0.7216, 0.6667,\n",
       "          0.6196, 0.8039, 0.6941, 0.6588, 0.6706, 0.1725, 0.0000, 0.0157,\n",
       "          0.0000, 0.0000, 0.0000, 0.0000],\n",
       "         [0.0000, 0.0000, 0.0000, 0.0000, 0.0000, 0.0196, 0.0000, 0.5412,\n",
       "          0.7098, 0.6196, 0.8039, 0.6275, 0.6549, 0.7451, 0.7765, 0.6549,\n",
       "          0.5961, 0.8549, 0.7294, 0.6667, 0.6745, 0.2235, 0.0000, 0.0196,\n",
       "          0.0000, 0.0000, 0.0000, 0.0000],\n",
       "         [0.0000, 0.0000, 0.0000, 0.0000, 0.0000, 0.0196, 0.0000, 0.5294,\n",
       "          0.6824, 0.6549, 0.7804, 0.6078, 0.6510, 0.7882, 0.8588, 0.6471,\n",
       "          0.6196, 0.8549, 0.7373, 0.6549, 0.6863, 0.2196, 0.0000, 0.0275,\n",
       "          0.0000, 0.0000, 0.0000, 0.0000],\n",
       "         [0.0000, 0.0000, 0.0000, 0.0000, 0.0000, 0.0196, 0.0000, 0.5059,\n",
       "          0.6706, 0.6745, 0.6941, 0.6000, 0.6235, 0.8078, 0.8471, 0.5804,\n",
       "          0.6157, 0.8078, 0.7451, 0.6471, 0.6863, 0.1882, 0.0000, 0.0196,\n",
       "          0.0000, 0.0000, 0.0000, 0.0000],\n",
       "         [0.0000, 0.0000, 0.0000, 0.0000, 0.0000, 0.0196, 0.0000, 0.6549,\n",
       "          0.7333, 0.7137, 0.7765, 0.7608, 0.7843, 0.8863, 0.9412, 0.7216,\n",
       "          0.8078, 1.0000, 0.7725, 0.6980, 0.7020, 0.1647, 0.0000, 0.0196,\n",
       "          0.0000, 0.0000, 0.0000, 0.0000],\n",
       "         [0.0000, 0.0000, 0.0000, 0.0000, 0.0000, 0.0118, 0.0000, 0.4510,\n",
       "          0.5294, 0.4431, 0.4157, 0.3333, 0.3216, 0.4235, 0.5216, 0.3255,\n",
       "          0.3529, 0.4745, 0.4706, 0.4314, 0.6196, 0.0706, 0.0000, 0.0118,\n",
       "          0.0000, 0.0000, 0.0000, 0.0000]]])"
      ]
     },
     "execution_count": 8,
     "metadata": {},
     "output_type": "execute_result"
    }
   ],
   "source": [
    "idx = 10\n",
    "fmnist_trainset[idx][0]"
   ]
  },
  {
   "cell_type": "code",
   "execution_count": 9,
   "metadata": {},
   "outputs": [],
   "source": [
    "# trainset -> trainset/validationset으로 분리\n",
    "\n",
    "fmnist_trainset, fmnist_validset = torch.utils.data.random_split(\n",
    "    fmnist_trainset, [50000, 10000]\n",
    ")"
   ]
  },
  {
   "cell_type": "code",
   "execution_count": 10,
   "metadata": {},
   "outputs": [
    {
     "data": {
      "text/plain": [
       "(50000, 10000, 10000)"
      ]
     },
     "execution_count": 10,
     "metadata": {},
     "output_type": "execute_result"
    }
   ],
   "source": [
    "len(fmnist_trainset), len(fmnist_validset), len(fmnist_testset)"
   ]
  },
  {
   "cell_type": "code",
   "execution_count": 11,
   "metadata": {},
   "outputs": [
    {
     "data": {
      "text/plain": [
       "{'T-shirt/top': 0,\n",
       " 'Trouser': 1,\n",
       " 'Pullover': 2,\n",
       " 'Dress': 3,\n",
       " 'Coat': 4,\n",
       " 'Sandal': 5,\n",
       " 'Shirt': 6,\n",
       " 'Sneaker': 7,\n",
       " 'Bag': 8,\n",
       " 'Ankle boot': 9}"
      ]
     },
     "execution_count": 11,
     "metadata": {},
     "output_type": "execute_result"
    }
   ],
   "source": [
    "fmnist_testset.class_to_idx"
   ]
  },
  {
   "cell_type": "code",
   "execution_count": 12,
   "metadata": {},
   "outputs": [
    {
     "data": {
      "text/plain": [
       "['T-shirt/top',\n",
       " 'Trouser',\n",
       " 'Pullover',\n",
       " 'Dress',\n",
       " 'Coat',\n",
       " 'Sandal',\n",
       " 'Shirt',\n",
       " 'Sneaker',\n",
       " 'Bag',\n",
       " 'Ankle boot']"
      ]
     },
     "execution_count": 12,
     "metadata": {},
     "output_type": "execute_result"
    }
   ],
   "source": [
    "fmnist_testset.classes"
   ]
  },
  {
   "cell_type": "code",
   "execution_count": 13,
   "metadata": {},
   "outputs": [],
   "source": [
    "# DataLoader\n",
    "\n",
    "train_loader = torch.utils.data.DataLoader(\n",
    "    fmnist_trainset, batch_size=200, shuffle=True, drop_last=True\n",
    ")\n",
    "\n",
    "valid_loader = torch.utils.data.DataLoader(\n",
    "    fmnist_validset, batch_size=200\n",
    ")\n",
    "\n",
    "test_loader = torch.utils.data.DataLoader(\n",
    "    fmnist_testset, batch_size=200\n",
    ")"
   ]
  },
  {
   "cell_type": "code",
   "execution_count": null,
   "metadata": {},
   "outputs": [],
   "source": []
  },
  {
   "cell_type": "code",
   "execution_count": null,
   "metadata": {},
   "outputs": [],
   "source": []
  },
  {
   "cell_type": "code",
   "execution_count": null,
   "metadata": {},
   "outputs": [],
   "source": []
   "execution_count": 3,
   "metadata": {},
   "outputs": [],
   "source": [
    "# 모델 정의\n",
    "\n",
    "class FMNISTModel(nn.Module):\n",
    "\n",
    "    def __init__(self):\n",
    "        super().__init__()\n",
    "        self.lr1 = nn.Linear(784, 512) # 28*28=784\n",
    "        self.lr2 = nn.Linear(512, 256)\n",
    "        self.lr3 = nn.Linear(256, 128)\n",
    "        self.lr4 = nn.Linear(128, 64)\n",
    "        self.lr5 = nn.Linear(64, 10) # 출력 -> class 개수\n",
    "        self.relu = nn.ReLU()\n",
    "\n",
    "    def forward(self, X):\n",
    "        \"\"\"\n",
    "        X: 입력 tensor - shape: [batch_size, 1, 28, 28]\n",
    "        \"\"\"\n",
    "        # (1) flatten -> 3차원 입력을 1차원으로 변환\n",
    "        # torch.flatten(X, start_dim=1)\n",
    "        X = nn.Flatten()(X) # 1번축 이후를 flatten (위 코드랑 동일한 역할임.)\n",
    "        \n",
    "        X = self.lr1(X)\n",
    "        X = self.relu(X)\n",
    "\n",
    "        X = self.lr2(X)\n",
    "        X = self.relu(X)\n",
    "\n",
    "        X = self.lr3(X)\n",
    "        X = self.relu(X)\n",
    "\n",
    "        X = self.lr4(X)\n",
    "        X = self.relu(X)\n",
    "\n",
    "        return self.lr5(X) # CrossEntropyLoss()를 사용할거임. -> Linear 출력결과를 그대로 반환."
   ]
  },
  {
   "cell_type": "code",
   "execution_count": 14,
   "metadata": {},
   "outputs": [
    {
     "data": {
      "text/plain": [
       "FMNISTModel(\n",
       "  (lr1): Linear(in_features=784, out_features=512, bias=True)\n",
       "  (lr2): Linear(in_features=512, out_features=256, bias=True)\n",
       "  (lr3): Linear(in_features=256, out_features=128, bias=True)\n",
       "  (lr4): Linear(in_features=128, out_features=64, bias=True)\n",
       "  (lr5): Linear(in_features=64, out_features=10, bias=True)\n",
       "  (relu): ReLU()\n",
       ")"
      ]
     },
     "execution_count": 14,
     "metadata": {},
     "output_type": "execute_result"
    }
   ],
   "source": [
    "# 모델 구조 확인\n",
    "m = FMNISTModel()\n",
    "m"
   ]
  },
  {
   "cell_type": "code",
   "execution_count": 94,
   "metadata": {},
   "outputs": [
    {
     "data": {
      "text/plain": [
       "==========================================================================================\n",
       "Layer (type:depth-idx)                   Output Shape              Param #\n",
       "==========================================================================================\n",
       "FMNISTModel                              [200, 10]                 --\n",
       "├─Linear: 1-1                            [200, 512]                401,920\n",
       "├─ReLU: 1-2                              [200, 512]                --\n",
       "├─Linear: 1-3                            [200, 256]                131,328\n",
       "├─ReLU: 1-4                              [200, 256]                --\n",
       "├─Linear: 1-5                            [200, 128]                32,896\n",
       "├─ReLU: 1-6                              [200, 128]                --\n",
       "├─Linear: 1-7                            [200, 64]                 8,256\n",
       "├─ReLU: 1-8                              [200, 64]                 --\n",
       "├─Linear: 1-9                            [200, 10]                 650\n",
       "==========================================================================================\n",
       "Total params: 575,050\n",
       "Trainable params: 575,050\n",
       "Non-trainable params: 0\n",
       "Total mult-adds (Units.MEGABYTES): 115.01\n",
       "==========================================================================================\n",
       "Input size (MB): 0.63\n",
       "Forward/backward pass size (MB): 1.55\n",
       "Params size (MB): 2.30\n",
       "Estimated Total Size (MB): 4.48\n",
       "=========================================================================================="
      ]
     },
     "execution_count": 94,
     "metadata": {},
     "output_type": "execute_result"
    }
   ],
   "source": [
    "from torchinfo import summary\n",
    "\n",
    "summary(m, (200, 1, 28, 28), device=device)"
   ]
  },
  {
   "cell_type": "code",
   "execution_count": 134,
   "metadata": {},
   "outputs": [],
   "source": [
    "# 학습\n",
    "\n",
    "LR = 0.001\n",
    "EPOCHS = 20\n",
    "\n",
    "fmnist_model = FMNISTModel().to(device=device)\n",
    "\n",
    "optimizer = torch.optim.Adam(fmnist_model.parameters(), lr=LR)\n",
    "loss_fn = nn.CrossEntropyLoss()\n",
    "# 다중분류 loss: categorical crossentropy 사용\n",
    "# 1. y(정답)를 one hot encoding\n",
    "# 2. pred 예측값에 softmax 적용\n",
    "# 3. categorical crossentropy를 계산"
   ]
  },
  {
   "cell_type": "code",
   "execution_count": 135,
   "metadata": {},
   "outputs": [
    {
     "name": "stdout",
     "output_type": "stream",
     "text": [
      "[1/100] train loss: 0.690154286623001, valid loss: 0.4854540175199509, valid acc: 0.8275\n",
      ">>>>>>>>>1 에폭에서 저장. 0.4854540175199509에서 0.4854540175199509만큼 개선\n",
      "[2/100] train loss: 0.42109008866548536, valid loss: 0.39058352410793307, valid acc: 0.8603\n",
      ">>>>>>>>>2 에폭에서 저장. 0.39058352410793307에서 0.39058352410793307만큼 개선\n",
      "[3/100] train loss: 0.3747233097553253, valid loss: 0.3575506144762039, valid acc: 0.866\n",
      ">>>>>>>>>3 에폭에서 저장. 0.3575506144762039에서 0.3575506144762039만큼 개선\n",
      "[4/100] train loss: 0.34006388998031617, valid loss: 0.3546869257092476, valid acc: 0.8668\n",
      ">>>>>>>>>4 에폭에서 저장. 0.3546869257092476에서 0.3546869257092476만큼 개선\n",
      "[5/100] train loss: 0.31890449655056, valid loss: 0.33326455324888227, valid acc: 0.8772\n",
      ">>>>>>>>>5 에폭에서 저장. 0.33326455324888227에서 0.33326455324888227만큼 개선\n",
      "[6/100] train loss: 0.2978332703113556, valid loss: 0.32675895243883135, valid acc: 0.8844\n",
      ">>>>>>>>>6 에폭에서 저장. 0.32675895243883135에서 0.32675895243883135만큼 개선\n",
      "[7/100] train loss: 0.28304481184482577, valid loss: 0.3249493807554245, valid acc: 0.8836\n",
      ">>>>>>>>>7 에폭에서 저장. 0.3249493807554245에서 0.3249493807554245만큼 개선\n",
      "[8/100] train loss: 0.2730249624848366, valid loss: 0.31096821069717406, valid acc: 0.8911\n",
      ">>>>>>>>>8 에폭에서 저장. 0.31096821069717406에서 0.31096821069717406만큼 개선\n",
      "[9/100] train loss: 0.25539110881090166, valid loss: 0.3294686365127564, valid acc: 0.8847\n",
      "[10/100] train loss: 0.24594505482912063, valid loss: 0.2918821841478348, valid acc: 0.8948\n",
      ">>>>>>>>>10 에폭에서 저장. 0.2918821841478348에서 0.2918821841478348만큼 개선\n",
      "[11/100] train loss: 0.2402601652741432, valid loss: 0.3130147764086723, valid acc: 0.8899\n",
      "[12/100] train loss: 0.2305578241944313, valid loss: 0.32311472177505496, valid acc: 0.8927\n",
      "[13/100] train loss: 0.22521466380357744, valid loss: 0.31996546626091005, valid acc: 0.8838\n",
      "[14/100] train loss: 0.21264731672406195, valid loss: 0.3095190578699112, valid acc: 0.8933\n",
      "[15/100] train loss: 0.2052235413491726, valid loss: 0.31881007969379427, valid acc: 0.896\n",
      "=========15에폭에서 조기 종료\n",
      "학습에 걸린 총 시간: 115.63633990287781초\n"
     ]
    }
   ],
   "source": [
    "import time\n",
    "\n",
    "train_loss_list = []\n",
    "valid_loss_list = []\n",
    "valid_acc_list = []\n",
    "\n",
    "# 1. 학습 도중 이전 epoch들보다 성능이 개선되면 모델을 저장\n",
    "# 2. 특정 epoch 동안 성능 개선이 없으면 학습을 중지\n",
    "\n",
    "# 변수 선언\n",
    "saved_path = \"saved_models/fashion_mnist_model.pt\"\n",
    "best_score = torch.inf # 현재 가장 좋은 평가지표(loss)\n",
    "# best_score > 검증loss 이라면 성능이 개선된 것임 -> 모델 저장\n",
    "\n",
    "## 조기종료 관련 변수\n",
    "patience = 5 # 성능이 개선될지 몇 에폭을 기다릴지\n",
    "trigger_cnt = 0 # 몇 에폭째 기다리는지 저장할 변수\n",
    "\n",
    "s = time.time()\n",
    "\n",
    "EPOCHS = 100\n",
    "for epoch in range(EPOCHS):\n",
    "    # train set\n",
    "    fmnist_model.train()\n",
    "    train_loss = 0.0\n",
    "    for X_train, y_train in train_loader:\n",
    "\n",
    "        X_train, y_train = X_train.to(device), y_train.to(device)\n",
    "        pred_train = fmnist_model(X_train)\n",
    "        loss = loss_fn(pred_train, y_train)\n",
    "\n",
    "        loss.backward()\n",
    "        optimizer.step()\n",
    "        optimizer.zero_grad()\n",
    "\n",
    "        train_loss += loss.item()\n",
    "\n",
    "    train_loss /= len(train_loader)\n",
    "    train_loss_list.append(train_loss)\n",
    "\n",
    "    # validation set\n",
    "    fmnist_model.eval()\n",
    "    valid_loss = 0.0\n",
    "    valid_acc = 0.0\n",
    "    with torch.no_grad():\n",
    "        for X_valid, y_valid in valid_loader:\n",
    "            X_valid, y_valid = X_valid.to(device), y_valid.to(device)\n",
    "            pred_valid = fmnist_model(X_valid)\n",
    "            valid_loss += loss_fn(pred_valid, y_valid).item()\n",
    "\n",
    "            pred_class = pred_valid.argmax(dim=-1)   \n",
    "            valid_acc += torch.sum(pred_class == y_valid).item()    \n",
    "\n",
    "        valid_loss /= len(valid_loader)\n",
    "        valid_acc /= len(fmnist_validset)\n",
    "        valid_loss_list.append(valid_loss)\n",
    "        valid_acc_list.append(valid_acc)\n",
    "\n",
    "        print(f\"[{epoch+1}/{EPOCHS}] train loss: {train_loss}, valid loss: {valid_loss}, valid acc: {valid_acc}\")\n",
    "\n",
    "    # 하나의 에폭 학습/검증 종료 후 모델 저장(성능개선시), 조기종료(성능개선이 안된 경우)\n",
    "    if valid_loss < best_score: # 이전 에폭의 결과보다 성능 개선됨.\n",
    "        # 모델 저장\n",
    "        torch.save(fmnist_model, saved_path)\n",
    "        best_score = valid_loss\n",
    "        print(f\">>>>>>>>>{epoch+1} 에폭에서 저장. {best_score}에서 {valid_loss}만큼 개선\")\n",
    "        trigger_cnt = 0 # 조기 종료를 위해 성능개선을 기다리는 에폭 수. 성능이 개선되었으므로 0으로 초기화\n",
    "    else:\n",
    "        # 조기종료 처리\n",
    "        trigger_cnt += 1\n",
    "        if patience == trigger_cnt:\n",
    "            print(f\"========={epoch+1}에폭에서 조기 종료\")\n",
    "            break\n",
    "\n",
    "e = time.time()\n",
    "\n",
    "print(f\"학습에 걸린 총 시간: {e-s}초\")"
   ]
  },
  {
   "cell_type": "code",
   "execution_count": 136,
   "metadata": {},
   "outputs": [
    {
     "ename": "ValueError",
     "evalue": "x and y must have same first dimension, but have shapes (100,) and (15,)",
     "output_type": "error",
     "traceback": [
      "\u001b[31m---------------------------------------------------------------------------\u001b[39m",
      "\u001b[31mValueError\u001b[39m                                Traceback (most recent call last)",
      "\u001b[36mCell\u001b[39m\u001b[36m \u001b[39m\u001b[32mIn[136]\u001b[39m\u001b[32m, line 7\u001b[39m\n\u001b[32m      4\u001b[39m plt.figure(figsize=(\u001b[32m10\u001b[39m, \u001b[32m4\u001b[39m))\n\u001b[32m      6\u001b[39m plt.subplot(\u001b[32m1\u001b[39m, \u001b[32m2\u001b[39m, \u001b[32m1\u001b[39m)\n\u001b[32m----> \u001b[39m\u001b[32m7\u001b[39m \u001b[43mplt\u001b[49m\u001b[43m.\u001b[49m\u001b[43mplot\u001b[49m\u001b[43m(\u001b[49m\u001b[38;5;28;43mrange\u001b[39;49m\u001b[43m(\u001b[49m\u001b[43mEPOCHS\u001b[49m\u001b[43m)\u001b[49m\u001b[43m,\u001b[49m\u001b[43m \u001b[49m\u001b[43mtrain_loss_list\u001b[49m\u001b[43m,\u001b[49m\u001b[43m \u001b[49m\u001b[43mlabel\u001b[49m\u001b[43m=\u001b[49m\u001b[33;43m'\u001b[39;49m\u001b[33;43mtrain loss\u001b[39;49m\u001b[33;43m'\u001b[39;49m\u001b[43m)\u001b[49m\n\u001b[32m      8\u001b[39m plt.plot(\u001b[38;5;28mrange\u001b[39m(EPOCHS), valid_loss_list, label=\u001b[33m'\u001b[39m\u001b[33mvalid loss\u001b[39m\u001b[33m'\u001b[39m)\n\u001b[32m      9\u001b[39m plt.ylabel(\u001b[33m\"\u001b[39m\u001b[33mLoss\u001b[39m\u001b[33m\"\u001b[39m)\n",
      "\u001b[36mFile \u001b[39m\u001b[32mc:\\Users\\Playdata\\anaconda3\\envs\\dl\\Lib\\site-packages\\matplotlib\\pyplot.py:3827\u001b[39m, in \u001b[36mplot\u001b[39m\u001b[34m(scalex, scaley, data, *args, **kwargs)\u001b[39m\n\u001b[32m   3819\u001b[39m \u001b[38;5;129m@_copy_docstring_and_deprecators\u001b[39m(Axes.plot)\n\u001b[32m   3820\u001b[39m \u001b[38;5;28;01mdef\u001b[39;00m\u001b[38;5;250m \u001b[39m\u001b[34mplot\u001b[39m(\n\u001b[32m   3821\u001b[39m     *args: \u001b[38;5;28mfloat\u001b[39m | ArrayLike | \u001b[38;5;28mstr\u001b[39m,\n\u001b[32m   (...)\u001b[39m\u001b[32m   3825\u001b[39m     **kwargs,\n\u001b[32m   3826\u001b[39m ) -> \u001b[38;5;28mlist\u001b[39m[Line2D]:\n\u001b[32m-> \u001b[39m\u001b[32m3827\u001b[39m     \u001b[38;5;28;01mreturn\u001b[39;00m \u001b[43mgca\u001b[49m\u001b[43m(\u001b[49m\u001b[43m)\u001b[49m\u001b[43m.\u001b[49m\u001b[43mplot\u001b[49m\u001b[43m(\u001b[49m\n\u001b[32m   3828\u001b[39m \u001b[43m        \u001b[49m\u001b[43m*\u001b[49m\u001b[43margs\u001b[49m\u001b[43m,\u001b[49m\n\u001b[32m   3829\u001b[39m \u001b[43m        \u001b[49m\u001b[43mscalex\u001b[49m\u001b[43m=\u001b[49m\u001b[43mscalex\u001b[49m\u001b[43m,\u001b[49m\n\u001b[32m   3830\u001b[39m \u001b[43m        \u001b[49m\u001b[43mscaley\u001b[49m\u001b[43m=\u001b[49m\u001b[43mscaley\u001b[49m\u001b[43m,\u001b[49m\n\u001b[32m   3831\u001b[39m \u001b[43m        \u001b[49m\u001b[43m*\u001b[49m\u001b[43m*\u001b[49m\u001b[43m(\u001b[49m\u001b[43m{\u001b[49m\u001b[33;43m\"\u001b[39;49m\u001b[33;43mdata\u001b[39;49m\u001b[33;43m\"\u001b[39;49m\u001b[43m:\u001b[49m\u001b[43m \u001b[49m\u001b[43mdata\u001b[49m\u001b[43m}\u001b[49m\u001b[43m \u001b[49m\u001b[38;5;28;43;01mif\u001b[39;49;00m\u001b[43m \u001b[49m\u001b[43mdata\u001b[49m\u001b[43m \u001b[49m\u001b[38;5;129;43;01mis\u001b[39;49;00m\u001b[43m \u001b[49m\u001b[38;5;129;43;01mnot\u001b[39;49;00m\u001b[43m \u001b[49m\u001b[38;5;28;43;01mNone\u001b[39;49;00m\u001b[43m \u001b[49m\u001b[38;5;28;43;01melse\u001b[39;49;00m\u001b[43m \u001b[49m\u001b[43m{\u001b[49m\u001b[43m}\u001b[49m\u001b[43m)\u001b[49m\u001b[43m,\u001b[49m\n\u001b[32m   3832\u001b[39m \u001b[43m        \u001b[49m\u001b[43m*\u001b[49m\u001b[43m*\u001b[49m\u001b[43mkwargs\u001b[49m\u001b[43m,\u001b[49m\n\u001b[32m   3833\u001b[39m \u001b[43m    \u001b[49m\u001b[43m)\u001b[49m\n",
      "\u001b[36mFile \u001b[39m\u001b[32mc:\\Users\\Playdata\\anaconda3\\envs\\dl\\Lib\\site-packages\\matplotlib\\axes\\_axes.py:1777\u001b[39m, in \u001b[36mAxes.plot\u001b[39m\u001b[34m(self, scalex, scaley, data, *args, **kwargs)\u001b[39m\n\u001b[32m   1534\u001b[39m \u001b[38;5;250m\u001b[39m\u001b[33;03m\"\"\"\u001b[39;00m\n\u001b[32m   1535\u001b[39m \u001b[33;03mPlot y versus x as lines and/or markers.\u001b[39;00m\n\u001b[32m   1536\u001b[39m \n\u001b[32m   (...)\u001b[39m\u001b[32m   1774\u001b[39m \u001b[33;03m(``'green'``) or hex strings (``'#008000'``).\u001b[39;00m\n\u001b[32m   1775\u001b[39m \u001b[33;03m\"\"\"\u001b[39;00m\n\u001b[32m   1776\u001b[39m kwargs = cbook.normalize_kwargs(kwargs, mlines.Line2D)\n\u001b[32m-> \u001b[39m\u001b[32m1777\u001b[39m lines = [*\u001b[38;5;28mself\u001b[39m._get_lines(\u001b[38;5;28mself\u001b[39m, *args, data=data, **kwargs)]\n\u001b[32m   1778\u001b[39m \u001b[38;5;28;01mfor\u001b[39;00m line \u001b[38;5;129;01min\u001b[39;00m lines:\n\u001b[32m   1779\u001b[39m     \u001b[38;5;28mself\u001b[39m.add_line(line)\n",
      "\u001b[36mFile \u001b[39m\u001b[32mc:\\Users\\Playdata\\anaconda3\\envs\\dl\\Lib\\site-packages\\matplotlib\\axes\\_base.py:297\u001b[39m, in \u001b[36m_process_plot_var_args.__call__\u001b[39m\u001b[34m(self, axes, data, return_kwargs, *args, **kwargs)\u001b[39m\n\u001b[32m    295\u001b[39m     this += args[\u001b[32m0\u001b[39m],\n\u001b[32m    296\u001b[39m     args = args[\u001b[32m1\u001b[39m:]\n\u001b[32m--> \u001b[39m\u001b[32m297\u001b[39m \u001b[38;5;28;01myield from\u001b[39;00m \u001b[38;5;28;43mself\u001b[39;49m\u001b[43m.\u001b[49m\u001b[43m_plot_args\u001b[49m\u001b[43m(\u001b[49m\n\u001b[32m    298\u001b[39m \u001b[43m    \u001b[49m\u001b[43maxes\u001b[49m\u001b[43m,\u001b[49m\u001b[43m \u001b[49m\u001b[43mthis\u001b[49m\u001b[43m,\u001b[49m\u001b[43m \u001b[49m\u001b[43mkwargs\u001b[49m\u001b[43m,\u001b[49m\u001b[43m \u001b[49m\u001b[43mambiguous_fmt_datakey\u001b[49m\u001b[43m=\u001b[49m\u001b[43mambiguous_fmt_datakey\u001b[49m\u001b[43m,\u001b[49m\n\u001b[32m    299\u001b[39m \u001b[43m    \u001b[49m\u001b[43mreturn_kwargs\u001b[49m\u001b[43m=\u001b[49m\u001b[43mreturn_kwargs\u001b[49m\n\u001b[32m    300\u001b[39m \u001b[43m\u001b[49m\u001b[43m)\u001b[49m\n",
      "\u001b[36mFile \u001b[39m\u001b[32mc:\\Users\\Playdata\\anaconda3\\envs\\dl\\Lib\\site-packages\\matplotlib\\axes\\_base.py:494\u001b[39m, in \u001b[36m_process_plot_var_args._plot_args\u001b[39m\u001b[34m(self, axes, tup, kwargs, return_kwargs, ambiguous_fmt_datakey)\u001b[39m\n\u001b[32m    491\u001b[39m     axes.yaxis.update_units(y)\n\u001b[32m    493\u001b[39m \u001b[38;5;28;01mif\u001b[39;00m x.shape[\u001b[32m0\u001b[39m] != y.shape[\u001b[32m0\u001b[39m]:\n\u001b[32m--> \u001b[39m\u001b[32m494\u001b[39m     \u001b[38;5;28;01mraise\u001b[39;00m \u001b[38;5;167;01mValueError\u001b[39;00m(\u001b[33mf\u001b[39m\u001b[33m\"\u001b[39m\u001b[33mx and y must have same first dimension, but \u001b[39m\u001b[33m\"\u001b[39m\n\u001b[32m    495\u001b[39m                      \u001b[33mf\u001b[39m\u001b[33m\"\u001b[39m\u001b[33mhave shapes \u001b[39m\u001b[38;5;132;01m{\u001b[39;00mx.shape\u001b[38;5;132;01m}\u001b[39;00m\u001b[33m and \u001b[39m\u001b[38;5;132;01m{\u001b[39;00my.shape\u001b[38;5;132;01m}\u001b[39;00m\u001b[33m\"\u001b[39m)\n\u001b[32m    496\u001b[39m \u001b[38;5;28;01mif\u001b[39;00m x.ndim > \u001b[32m2\u001b[39m \u001b[38;5;129;01mor\u001b[39;00m y.ndim > \u001b[32m2\u001b[39m:\n\u001b[32m    497\u001b[39m     \u001b[38;5;28;01mraise\u001b[39;00m \u001b[38;5;167;01mValueError\u001b[39;00m(\u001b[33mf\u001b[39m\u001b[33m\"\u001b[39m\u001b[33mx and y can be no greater than 2D, but have \u001b[39m\u001b[33m\"\u001b[39m\n\u001b[32m    498\u001b[39m                      \u001b[33mf\u001b[39m\u001b[33m\"\u001b[39m\u001b[33mshapes \u001b[39m\u001b[38;5;132;01m{\u001b[39;00mx.shape\u001b[38;5;132;01m}\u001b[39;00m\u001b[33m and \u001b[39m\u001b[38;5;132;01m{\u001b[39;00my.shape\u001b[38;5;132;01m}\u001b[39;00m\u001b[33m\"\u001b[39m)\n",
      "\u001b[31mValueError\u001b[39m: x and y must have same first dimension, but have shapes (100,) and (15,)"
     ]
    },
    {
     "data": {
      "image/png": "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",
      "text/plain": [
       "<Figure size 1000x400 with 1 Axes>"
      ]
     },
     "metadata": {},
     "output_type": "display_data"
    }
   ],
   "source": [
    "# 결과 시각화\n",
    "import matplotlib.pyplot as plt\n",
    "\n",
    "plt.figure(figsize=(10, 4))\n",
    "\n",
    "plt.subplot(1, 2, 1)\n",
    "plt.plot(range(EPOCHS), train_loss_list, label='train loss')\n",
    "plt.plot(range(EPOCHS), valid_loss_list, label='valid loss')\n",
    "plt.ylabel(\"Loss\")\n",
    "plt.xlabel(\"Epoch\")\n",
    "\n",
    "plt.subplot(1, 2 ,2)\n",
    "plt.plot(range(EPOCHS), valid_acc_list, label='valid loss')\n",
    "\n",
    "plt.legend()\n",
    "plt.show()"
   ]
  },
  {
   "cell_type": "code",
   "execution_count": 138,
   "metadata": {},
   "outputs": [],
   "source": [
    "# 최종 평가\n",
    "\n",
    "with torch.no_grad():\n",
    "    test_loss = 0.0\n",
    "    test_acc = 0.0\n",
    "    for X_test, y_test in test_loader:\n",
    "        X_test, y_test = X_test.to(device), y_test.to(device)\n",
    "        pred_test = fmnist_model(X_test)\n",
    "        test_loss += loss_fn(pred_test, y_test).item()\n",
    "        test_acc += torch.sum(pred_test.argmax(dim=-1) == y_test).item()\n",
    "    test_loss /= len(test_loader)\n",
    "    test_acc /= len(fmnist_testset)"
   ]
  },
  {
   "cell_type": "code",
   "execution_count": 139,
   "metadata": {},
   "outputs": [
    {
     "name": "stdout",
     "output_type": "stream",
     "text": [
      "0.352316133081913\n",
      "0.8826\n"
     ]
    }
   ],
   "source": [
    "print(test_loss)\n",
    "print(test_acc)"
   ]
  },
  {
   "cell_type": "code",
   "execution_count": null,
   "metadata": {},
   "outputs": [],
   "source": []
   "source": [
    "# 학습된 모델 가져와서 사용"
   ]
  },
  {
   "cell_type": "code",
   "execution_count": 15,
   "metadata": {},
   "outputs": [
    {
     "data": {
      "text/plain": [
       "FMNISTModel(\n",
       "  (lr1): Linear(in_features=784, out_features=512, bias=True)\n",
       "  (lr2): Linear(in_features=512, out_features=256, bias=True)\n",
       "  (lr3): Linear(in_features=256, out_features=128, bias=True)\n",
       "  (lr4): Linear(in_features=128, out_features=64, bias=True)\n",
       "  (lr5): Linear(in_features=64, out_features=10, bias=True)\n",
       "  (relu): ReLU()\n",
       ")"
      ]
     },
     "execution_count": 15,
     "metadata": {},
     "output_type": "execute_result"
    }
   ],
   "source": [
    "load_fmodel = torch.load(\"fashion_mnist_model.pt\", weights_only=False)\n",
    "load_fmodel"
   ]
  },
  {
   "cell_type": "code",
   "execution_count": 20,
   "metadata": {},
   "outputs": [],
   "source": [
    "dataloader = torch.utils.data.DataLoader(fmnist_testset, batch_size=50)\n",
    "X, y = next(iter(dataloader))"
   ]
  },
  {
   "cell_type": "code",
   "execution_count": null,
   "metadata": {},
   "outputs": [],
   "source": [
    "with torch.no_grad():\n",
    "    pred_logit = load_fmodel(X)\n",
    "    result = torch.max(pred_logit, dim=-1) # max를 구하는 축 방향 설정을 위해 dim=-1"
   ]
  },
  {
   "cell_type": "code",
   "execution_count": 22,
   "metadata": {},
   "outputs": [
    {
     "data": {
      "text/plain": [
       "torch.return_types.max(\n",
       "values=tensor([ 6.6165, 10.2547, 17.5566, 15.8298,  5.5867, 12.9642, 12.3320, 12.8852,\n",
       "        12.3735,  7.2927,  5.8394,  8.4934,  5.0595,  6.3468,  5.9614,  9.6942,\n",
       "         8.1569,  6.4463, 11.1379,  5.2048,  3.2624,  4.3939,  7.9788,  5.0826,\n",
       "        16.5399,  5.5271,  7.8283,  4.4728,  5.8460,  2.2570, 18.4551, 14.1004,\n",
       "         4.2600,  3.6490, 22.8172,  8.0234,  6.0692,  9.5096,  7.7339, 10.2880,\n",
       "         6.9833, 14.9835,  5.2897,  5.6794,  8.4235,  5.0249,  3.5945,  8.6214,\n",
       "         5.4602,  4.6217]),\n",
       "indices=tensor([9, 2, 1, 1, 6, 1, 4, 6, 5, 7, 4, 5, 7, 3, 4, 1, 2, 2, 8, 0, 2, 5, 7, 5,\n",
       "        1, 2, 6, 0, 9, 3, 8, 8, 3, 3, 8, 0, 7, 5, 7, 9, 0, 1, 6, 7, 6, 7, 2, 1,\n",
       "        2, 6]))"
      ]
     },
     "execution_count": 22,
     "metadata": {},
     "output_type": "execute_result"
    }
   ],
   "source": [
    "result"
   ]
  },
  {
   "cell_type": "code",
   "execution_count": null,
   "metadata": {},
   "outputs": [
    {
     "data": {
      "text/plain": [
       "tensor([ 6.6165, 10.2547, 17.5566, 15.8298,  5.5867, 12.9642, 12.3320, 12.8852,\n",
       "        12.3735,  7.2927,  5.8394,  8.4934,  5.0595,  6.3468,  5.9614,  9.6942,\n",
       "         8.1569,  6.4463, 11.1379,  5.2048,  3.2624,  4.3939,  7.9788,  5.0826,\n",
       "        16.5399,  5.5271,  7.8283,  4.4728,  5.8460,  2.2570, 18.4551, 14.1004,\n",
       "         4.2600,  3.6490, 22.8172,  8.0234,  6.0692,  9.5096,  7.7339, 10.2880,\n",
       "         6.9833, 14.9835,  5.2897,  5.6794,  8.4235,  5.0249,  3.5945,  8.6214,\n",
       "         5.4602,  4.6217])"
      ]
     },
     "execution_count": 23,
     "metadata": {},
     "output_type": "execute_result"
    }
   ],
   "source": [
    "result.values # 이건 logit 값임. 확률값은 아님."
   ]
  },
  {
   "cell_type": "code",
   "execution_count": 27,
   "metadata": {},
   "outputs": [
    {
     "data": {
      "text/plain": [
       "tensor([[2.1240e-05, 1.3741e-07, 2.1774e-08, 1.3933e-07, 5.7134e-07, 5.3490e-03,\n",
       "         9.4112e-07, 4.0693e-03, 3.0450e-06, 9.9056e-01],\n",
       "        [7.7839e-05, 8.9436e-09, 9.9583e-01, 1.6291e-06, 2.2422e-03, 1.9047e-13,\n",
       "         1.8472e-03, 4.1912e-14, 1.4444e-07, 3.2516e-14],\n",
       "        [7.1783e-11, 1.0000e+00, 1.9656e-13, 1.3607e-10, 1.3024e-14, 5.8065e-18,\n",
       "         3.2179e-10, 1.4075e-21, 2.1389e-13, 8.0509e-16],\n",
       "        [4.9369e-10, 1.0000e+00, 3.1878e-12, 3.9710e-09, 2.1329e-13, 8.4467e-17,\n",
       "         1.1058e-09, 2.0288e-20, 1.5356e-12, 5.8884e-15],\n",
       "        [2.2420e-01, 8.2326e-06, 1.1056e-03, 6.8042e-04, 3.6434e-04, 4.2179e-05,\n",
       "         7.7358e-01, 1.4358e-08, 1.3949e-05, 5.8992e-08],\n",
       "        [7.3029e-08, 1.0000e+00, 8.7635e-10, 2.0184e-08, 6.9003e-11, 3.8155e-13,\n",
       "         2.0961e-07, 4.9910e-16, 3.4739e-10, 7.3725e-12],\n",
       "        [1.7963e-08, 1.9673e-09, 8.7838e-05, 8.1959e-07, 9.9958e-01, 4.0402e-13,\n",
       "         3.2866e-04, 9.6261e-13, 2.6871e-10, 3.9642e-13],\n",
       "        [1.9375e-06, 1.6715e-11, 4.8659e-07, 4.1520e-07, 5.5161e-04, 4.8450e-08,\n",
       "         9.9945e-01, 1.1513e-13, 3.9517e-10, 2.5628e-14],\n",
       "        [6.9036e-09, 5.9141e-13, 1.8590e-13, 6.4431e-11, 1.1008e-12, 1.0000e+00,\n",
       "         4.1233e-08, 2.9959e-07, 2.6415e-09, 8.2559e-09],\n",
       "        [1.4432e-07, 8.1982e-08, 4.0231e-09, 2.2400e-07, 3.5354e-08, 1.0462e-04,\n",
       "         4.1962e-09, 9.9841e-01, 1.6920e-05, 1.4676e-03],\n",
       "        [1.5653e-04, 4.0892e-05, 3.7660e-02, 1.3993e-04, 9.1648e-01, 5.8436e-06,\n",
       "         4.5450e-02, 6.8648e-06, 5.2893e-05, 2.6680e-06],\n",
       "        [5.2814e-06, 2.5347e-09, 1.0455e-08, 6.9562e-08, 3.6676e-08, 9.9991e-01,\n",
       "         7.7659e-05, 6.2636e-06, 1.8099e-06, 1.6225e-06],\n",
       "        [6.5210e-07, 1.3787e-08, 2.7019e-10, 4.0604e-07, 1.1647e-09, 4.3667e-01,\n",
       "         4.5403e-08, 5.5187e-01, 1.1416e-02, 4.7447e-05],\n",
       "        [6.6132e-04, 7.8482e-04, 7.1012e-05, 9.9793e-01, 2.8724e-04, 4.3745e-08,\n",
       "         2.4706e-04, 4.8163e-10, 2.0656e-05, 1.0565e-08],\n",
       "        [3.7084e-04, 7.7673e-06, 1.3451e-01, 1.2815e-04, 8.4238e-01, 9.2336e-08,\n",
       "         2.2499e-02, 4.8420e-07, 1.0849e-04, 2.6032e-07],\n",
       "        [2.9659e-07, 9.9998e-01, 4.5460e-08, 1.4748e-05, 2.2718e-08, 6.3435e-11,\n",
       "         7.9339e-07, 9.3840e-13, 3.0633e-08, 1.9599e-09],\n",
       "        [1.7073e-03, 5.6315e-07, 9.9479e-01, 3.3224e-05, 9.1322e-04, 5.6828e-11,\n",
       "         2.5554e-03, 2.2726e-12, 2.8646e-06, 4.6834e-12],\n",
       "        [1.1989e-03, 4.9193e-06, 8.7457e-01, 2.0080e-05, 1.1488e-01, 5.0987e-09,\n",
       "         9.3092e-03, 5.5002e-09, 2.0280e-05, 7.1656e-09],\n",
       "        [1.5538e-05, 4.2720e-09, 8.8967e-08, 9.0118e-08, 8.2812e-08, 3.6628e-08,\n",
       "         2.5282e-06, 1.5691e-07, 9.9998e-01, 2.0856e-08],\n",
       "        [9.4708e-01, 1.3649e-04, 3.8657e-03, 4.6147e-03, 5.9512e-05, 1.0366e-06,\n",
       "         4.4206e-02, 1.9832e-09, 3.8399e-05, 2.5830e-08],\n",
       "        [2.1851e-01, 2.7920e-03, 7.3991e-01, 1.2694e-02, 5.6523e-03, 6.9251e-07,\n",
       "         1.9019e-02, 6.0101e-08, 1.4195e-03, 3.7415e-07],\n",
       "        [2.0966e-05, 4.2315e-06, 8.9607e-07, 1.6732e-05, 2.1746e-06, 6.7612e-01,\n",
       "         9.2393e-06, 3.1996e-01, 4.3620e-04, 3.4286e-03],\n",
       "        [2.7950e-08, 1.5399e-08, 5.9913e-10, 7.7373e-08, 8.1517e-09, 5.2188e-05,\n",
       "         9.6033e-10, 9.9971e-01, 1.3444e-05, 2.2745e-04],\n",
       "        [4.9487e-04, 4.6358e-06, 5.2338e-06, 1.1785e-05, 1.7084e-05, 9.8546e-01,\n",
       "         4.9704e-04, 2.4224e-03, 2.7596e-04, 1.0806e-02],\n",
       "        [3.6324e-10, 1.0000e+00, 1.6638e-12, 6.4876e-10, 4.0837e-14, 5.0260e-18,\n",
       "         5.4571e-10, 6.7879e-22, 6.8635e-13, 3.9760e-16],\n",
       "        [1.6860e-03, 9.5312e-06, 7.1867e-01, 1.2392e-03, 1.8441e-01, 2.3507e-08,\n",
       "         9.3963e-02, 8.8200e-09, 2.2876e-05, 4.8521e-09],\n",
       "        [1.0703e-04, 1.4976e-07, 1.3861e-03, 4.3869e-05, 7.2061e-02, 5.1791e-06,\n",
       "         9.2639e-01, 2.6471e-08, 6.7082e-06, 3.0544e-09],\n",
       "        [8.1971e-01, 1.0287e-03, 9.6008e-04, 4.6676e-02, 2.3137e-04, 1.7214e-06,\n",
       "         1.3136e-01, 2.2483e-09, 2.8988e-05, 3.9352e-08],\n",
       "        [2.2820e-05, 6.5440e-07, 2.1976e-07, 6.4225e-07, 3.4981e-06, 4.7281e-04,\n",
       "         1.4829e-06, 2.1526e-02, 1.1337e-05, 9.7796e-01],\n",
       "        [2.2027e-02, 3.3232e-03, 2.2391e-02, 4.0395e-01, 3.4918e-01, 1.0441e-04,\n",
       "         1.9401e-01, 9.0193e-05, 4.8845e-03, 4.5311e-05],\n",
       "        [3.0340e-09, 5.3492e-14, 1.0885e-11, 1.0593e-11, 8.8733e-11, 1.4948e-14,\n",
       "         1.8650e-10, 7.7033e-12, 1.0000e+00, 6.4047e-14],\n",
       "        [4.6165e-07, 8.1769e-12, 2.1189e-09, 2.9633e-09, 1.9006e-08, 9.4766e-11,\n",
       "         1.8523e-07, 3.8034e-10, 1.0000e+00, 5.4991e-12],\n",
       "        [4.6075e-03, 1.5234e-02, 8.4045e-04, 9.7438e-01, 2.2312e-03, 2.4418e-05,\n",
       "         2.1943e-03, 6.8204e-07, 4.8152e-04, 7.9905e-06],\n",
       "        [1.9937e-02, 1.8139e-03, 3.1547e-02, 8.7896e-01, 3.9208e-02, 1.3669e-06,\n",
       "         2.6624e-02, 3.4762e-07, 1.9108e-03, 7.2787e-07],\n",
       "        [7.8073e-12, 6.5543e-18, 1.5022e-14, 6.0852e-14, 9.1430e-14, 9.3881e-18,\n",
       "         8.7896e-13, 3.4265e-15, 1.0000e+00, 2.6413e-19],\n",
       "        [9.9430e-01, 2.9128e-07, 7.8166e-05, 2.3831e-05, 2.1888e-07, 1.2765e-08,\n",
       "         5.5964e-03, 3.9498e-13, 1.5093e-07, 3.3085e-11],\n",
       "        [1.2739e-06, 9.0755e-07, 1.0724e-07, 2.7167e-06, 1.0689e-06, 1.1674e-04,\n",
       "         9.6896e-08, 9.9819e-01, 1.1637e-04, 1.5707e-03],\n",
       "        [2.2607e-07, 5.8327e-10, 1.2351e-10, 1.0837e-08, 3.8437e-10, 9.9993e-01,\n",
       "         3.1892e-07, 6.5637e-05, 2.7902e-07, 3.5584e-06],\n",
       "        [3.1130e-08, 4.0795e-08, 1.9574e-09, 1.1385e-07, 2.3763e-08, 6.7951e-05,\n",
       "         1.5596e-09, 9.9947e-01, 2.4963e-06, 4.6141e-04],\n",
       "        [5.7631e-08, 7.9286e-11, 5.1889e-12, 3.2064e-11, 1.0014e-09, 6.7158e-06,\n",
       "         7.6341e-10, 1.1672e-04, 6.4057e-09, 9.9988e-01],\n",
       "        [9.3499e-01, 1.6137e-06, 1.1395e-04, 2.3849e-05, 5.4689e-06, 9.1605e-07,\n",
       "         6.4861e-02, 6.1576e-11, 4.2281e-07, 2.4916e-09],\n",
       "        [6.1772e-10, 1.0000e+00, 1.7401e-11, 4.0444e-09, 3.0630e-12, 2.4536e-15,\n",
       "         5.5185e-09, 5.1676e-18, 1.4437e-11, 3.3770e-13],\n",
       "        [8.5249e-02, 9.5305e-05, 5.8525e-04, 1.4626e-02, 3.1506e-03, 4.0855e-06,\n",
       "         8.9628e-01, 1.1372e-08, 7.7183e-06, 4.2688e-08],\n",
       "        [2.4017e-06, 9.0810e-07, 2.3873e-07, 2.6587e-06, 1.0011e-06, 4.6179e-04,\n",
       "         9.1797e-08, 9.5470e-01, 1.4990e-05, 4.4812e-02],\n",
       "        [6.6407e-05, 5.3601e-08, 7.3405e-04, 6.2860e-05, 8.2013e-02, 5.5943e-07,\n",
       "         9.1712e-01, 2.2168e-09, 8.1229e-07, 2.6208e-10],\n",
       "        [1.1702e-05, 4.9232e-06, 8.0092e-07, 7.6231e-06, 2.7015e-06, 1.0407e-02,\n",
       "         9.7525e-07, 9.5101e-01, 1.8712e-04, 3.8366e-02],\n",
       "        [3.3584e-02, 6.9408e-04, 7.9344e-01, 6.0374e-02, 4.1582e-02, 2.0755e-06,\n",
       "         6.7457e-02, 3.8633e-07, 2.8661e-03, 5.4528e-07],\n",
       "        [3.5360e-06, 9.9994e-01, 2.4835e-07, 5.2898e-05, 7.6376e-08, 6.6097e-10,\n",
       "         4.7654e-06, 9.6328e-12, 2.3931e-07, 1.1534e-08],\n",
       "        [8.7916e-04, 2.3115e-06, 4.4173e-01, 5.3288e-04, 2.8701e-01, 5.0021e-08,\n",
       "         2.6982e-01, 3.2748e-08, 2.8058e-05, 5.6201e-09],\n",
       "        [1.1282e-02, 6.4487e-05, 8.4631e-02, 4.8295e-03, 6.0088e-02, 8.8198e-05,\n",
       "         8.3841e-01, 2.7847e-06, 6.0336e-04, 1.4931e-06]])"
      ]
     },
     "execution_count": 27,
     "metadata": {},
     "output_type": "execute_result"
    }
   ],
   "source": [
    "# 확률값으로 변환 - softamx\n",
    "pred_proba = nn.Softmax(dim=-1)(pred_logit)\n",
    "pred_proba"
   ]
  },
  {
   "cell_type": "code",
   "execution_count": 28,
   "metadata": {},
   "outputs": [
    {
     "data": {
      "text/plain": [
       "torch.return_types.max(\n",
       "values=tensor([0.9906, 0.9958, 1.0000, 1.0000, 0.7736, 1.0000, 0.9996, 0.9994, 1.0000,\n",
       "        0.9984, 0.9165, 0.9999, 0.5519, 0.9979, 0.8424, 1.0000, 0.9948, 0.8746,\n",
       "        1.0000, 0.9471, 0.7399, 0.6761, 0.9997, 0.9855, 1.0000, 0.7187, 0.9264,\n",
       "        0.8197, 0.9780, 0.4040, 1.0000, 1.0000, 0.9744, 0.8790, 1.0000, 0.9943,\n",
       "        0.9982, 0.9999, 0.9995, 0.9999, 0.9350, 1.0000, 0.8963, 0.9547, 0.9171,\n",
       "        0.9510, 0.7934, 0.9999, 0.4417, 0.8384]),\n",
       "indices=tensor([9, 2, 1, 1, 6, 1, 4, 6, 5, 7, 4, 5, 7, 3, 4, 1, 2, 2, 8, 0, 2, 5, 7, 5,\n",
       "        1, 2, 6, 0, 9, 3, 8, 8, 3, 3, 8, 0, 7, 5, 7, 9, 0, 1, 6, 7, 6, 7, 2, 1,\n",
       "        2, 6]))"
      ]
     },
     "execution_count": 28,
     "metadata": {},
     "output_type": "execute_result"
    }
   ],
   "source": [
    "result = torch.max(pred_proba, dim=-1)\n",
    "result"
   ]
  },
  {
   "cell_type": "code",
   "execution_count": 33,
   "metadata": {},
   "outputs": [
    {
     "name": "stdout",
     "output_type": "stream",
     "text": [
      "<zip object at 0x000001505B3F3440>\n"
     ]
    }
   ],
   "source": [
    "print(zip(result.indices, result.values))"
   ]
  },
  {
   "cell_type": "code",
   "execution_count": 34,
   "metadata": {},
   "outputs": [],
   "source": [
    "def predict(model, x):\n",
    "    with torch.no_grad():\n",
    "        pred = model(x)\n",
    "        pred_proba = nn.Softmax(dim=-1)(pred)\n",
    "        result = torch.max(pred_proba, dim=-1)\n",
    "        return [(idx.item(), proba.item()) for idx, proba in zip(result.indices, result.values)]"
   ]
  },
  {
   "cell_type": "code",
   "execution_count": 35,
   "metadata": {},
   "outputs": [],
   "source": [
    "result = predict(load_fmodel, X)"
   ]
  },
  {
   "cell_type": "code",
   "execution_count": 36,
   "metadata": {},
   "outputs": [
    {
     "data": {
      "text/plain": [
       "[(9, 0.9905555844306946),\n",
       " (2, 0.9958310723304749),\n",
       " (1, 1.0),\n",
       " (1, 1.0),\n",
       " (6, 0.7735845446586609),\n",
       " (1, 0.9999996423721313),\n",
       " (4, 0.9995827078819275),\n",
       " (6, 0.9994454979896545),\n",
       " (5, 0.9999996423721313),\n",
       " (7, 0.9984103441238403),\n",
       " (4, 0.9164848923683167),\n",
       " (5, 0.9999071359634399),\n",
       " (7, 0.5518661737442017),\n",
       " (3, 0.9979277849197388),\n",
       " (4, 0.8423774838447571),\n",
       " (1, 0.9999840259552002),\n",
       " (2, 0.994787335395813),\n",
       " (2, 0.8745715022087097),\n",
       " (8, 0.9999815225601196),\n",
       " (0, 0.9470783472061157),\n",
       " (2, 0.7399144768714905),\n",
       " (5, 0.6761211156845093),\n",
       " (7, 0.9997068047523499),\n",
       " (5, 0.9854647517204285),\n",
       " (1, 1.0),\n",
       " (2, 0.7186679840087891),\n",
       " (6, 0.9263898134231567),\n",
       " (0, 0.819709300994873),\n",
       " (9, 0.9779600501060486),\n",
       " (3, 0.4039537310600281),\n",
       " (8, 1.0),\n",
       " (8, 0.9999992847442627),\n",
       " (3, 0.9743779897689819),\n",
       " (3, 0.8789570927619934),\n",
       " (8, 1.0),\n",
       " (0, 0.9943010807037354),\n",
       " (7, 0.9981901049613953),\n",
       " (5, 0.9999299049377441),\n",
       " (7, 0.9994679093360901),\n",
       " (9, 0.9998764991760254),\n",
       " (0, 0.9349932670593262),\n",
       " (1, 1.0),\n",
       " (6, 0.8962815403938293),\n",
       " (7, 0.954703688621521),\n",
       " (6, 0.9171225428581238),\n",
       " (7, 0.9510108232498169),\n",
       " (2, 0.793440580368042),\n",
       " (1, 0.9999381303787231),\n",
       " (2, 0.44173288345336914),\n",
       " (6, 0.8384090662002563)]"
      ]
     },
     "execution_count": 36,
     "metadata": {},
     "output_type": "execute_result"
    }
   ],
   "source": [
    "result"
   ]
  },
  {
   "cell_type": "markdown",
   "metadata": {
    "slideshow": {
     "slide_type": "slide"
    }
   },
   "source": [
    "### 위스콘신 유방암 데이터셋 - **이진분류(Binary Classification) 문제**\n",
    "\n",
    "-   **이진 분류 문제 처리 모델의 두가지 방법**\n",
    "    1. positive(1)일 확률을 출력하도록 구현\n",
    "        - output layer: units=1, activation='sigmoid'\n",
    "        - loss: binary_crossentropy\n",
    "    2. negative(0)일 확률과 positive(1)일 확률을 출력하도록 구현 => 다중분류 처리 방식으로 해결\n",
    "        - output layer: units=2, activation='softmax', y(정답)은 one hot encoding 처리\n",
    "        - loss: categorical_crossentropy\n",
    "-   위스콘신 대학교에서 제공한 종양의 악성/양성여부 분류를 위한 데이터셋\n",
    "-   Feature\n",
    "    -   종양에 대한 다양한 측정값들\n",
    "-   Target의 class\n",
    "    -   0 - malignant(악성종양)\n",
    "    -   1 - benign(양성종양)\n"
   ]
  },
  {
   "cell_type": "code",
   "execution_count": null,
   "metadata": {},
   "outputs": [],
   "execution_count": 51,
   "metadata": {},
   "outputs": [
    {
     "name": "stdout",
     "output_type": "stream",
     "text": [
      "cpu\n"
     ]
    }
   ],
   "source": [
    "from sklearn.datasets import load_breast_cancer\n",
    "from sklearn.preprocessing import StandardScaler\n",
    "from sklearn.model_selection import train_test_split\n",
    "\n",
    "import torch\n",
    "import torch.nn as nn\n",
    "import torch.optim as optim\n",
    "from torch.utils.data import DataLoader, TensorDataset\n",
    "\n",
    "import numpy as np\n",
    "import matplotlib.pyplot as plt\n",
    "\n",
    "device = \"cuda\" if torch.cuda.is_available() else \"cpu\"\n",
    "print(device)"
   ]
  },
  {
   "cell_type": "code",
   "execution_count": null,
   "execution_count": 52,
   "metadata": {},
   "outputs": [],
   "source": [
    "# Dataset\n",
    "X, y = load_breast_cancer(return_X_y=True)\n",
    "y = y.reshape(-1, 1)\n",
    "y = y.reshape(-1, 1) # 2차원으로 변환. [...] -> [[],[],[],...]\n",
    "# X.shape, y.shape, X.dtype\n",
    "X_train, X_test, y_train, y_test = train_test_split(X, y, stratify=y, test_size=0.25, random_state=0)"
   ]
  },
  {
   "cell_type": "code",
   "execution_count": null,
   "execution_count": 53,
   "metadata": {},
   "outputs": [],
   "source": [
    "# 전처리\n",
    "scaler = StandardScaler()\n",
    "X_train_scaled = scaler.fit_transform(X_train)\n",
    "X_test_scaled = scaler.transform(X_test)"
   ]
  },
  {
   "cell_type": "code",
   "execution_count": null,
   "execution_count": 54,
   "metadata": {},
   "outputs": [],
   "source": [
    "# class name <-> class index\n",
    "classes = np.array([\"악성종양\", \"양성종양\"])\n",
    "class_to_idx = {\"악성종양\":0, \"양성종양\":1}"
   ]
  },
  {
   "cell_type": "code",
   "execution_count": null,
   "execution_count": 55,
   "metadata": {},
   "outputs": [],
   "source": [
    "# Dataset\n",
    "## 모델의 weight, bias -> float32. X, y는 weight, bias와 계산을 하게 되기 때문에 타입을 맞춰준다.\n",
    "trainset = TensorDataset(\n",
    "    torch.tensor(X_train_scaled, dtype=torch.float32),  \n",
    "    torch.tensor(y_train, dtype=torch.float32)\n",
    ")\n",
    "testset = TensorDataset(\n",
    "    torch.tensor(X_test_scaled, dtype=torch.float32), \n",
    "    torch.tensor(y_test, dtype=torch.float32)\n",
    ")"
   ]
  },
  {
   "cell_type": "code",
   "execution_count": null,
   "execution_count": 56,
   "metadata": {},
   "outputs": [],
   "source": [
    "trainset.classes = classes\n",
    "trainset.class_to_idx = class_to_idx"
   ]
  },
  {
   "cell_type": "code",
   "execution_count": null,
   "execution_count": 57,
   "metadata": {},
   "outputs": [],
   "source": [
    "# DataLoader\n",
    "train_loader = DataLoader(trainset, batch_size=200, shuffle=True, drop_last=True)\n",
    "test_loader = DataLoader(testset, batch_size=100)"
   ]
  },
  {
   "cell_type": "code",
   "execution_count": null,
   "execution_count": 58,
   "metadata": {},
   "outputs": [],
   "source": [
    "######### 모델 정의\n",
    "class BreastCancerModel(nn.Module):\n",
    "\n",
    "    def __init__(self):\n",
    "        super().__init__()\n",
    "        self.lr1 = nn.Linear(30, 32)\n",
    "        self.lr2 = nn.Linear(32, 8)\n",
    "        self.lr3 = nn.Linear(8, 1) # 출력 Layer 처리하는 함수. out_features=1 : positive일 확률.\n",
    "        self.relu = nn.ReLU()\n",
    "        self.logistic = nn.Sigmoid() # 입력값을 0 ~ 1 사이 실수로 반환. \n",
    "        self.logistic = nn.Sigmoid() # 입력값을 0 ~ 1 사이 실수로 반환.\n",
    "\n",
    "    def forward(self, X):\n",
    "        X = self.lr1(X)\n",
    "        X = self.relu(X)\n",
    "        X = self.lr2(X)\n",
    "        X = self.relu(X)\n",
    "        # 출력 Layer\n",
    "        output = self.lr3(X)\n",
    "        output = self.logistic(output)\n",
    "        return output"
   ]
  },
  {
   "cell_type": "code",
   "execution_count": null,
   "metadata": {},
   "outputs": [],
   "execution_count": 59,
   "metadata": {},
   "outputs": [
    {
     "data": {
      "text/plain": [
       "BreastCancerModel(\n",
       "  (lr1): Linear(in_features=30, out_features=32, bias=True)\n",
       "  (lr2): Linear(in_features=32, out_features=8, bias=True)\n",
       "  (lr3): Linear(in_features=8, out_features=1, bias=True)\n",
       "  (relu): ReLU()\n",
       "  (logistic): Sigmoid()\n",
       ")"
      ]
     },
     "execution_count": 59,
     "metadata": {},
     "output_type": "execute_result"
    }
   ],
   "source": [
    "b_model = BreastCancerModel()\n",
    "b_model"
   ]
  },
  {
   "cell_type": "code",
   "execution_count": null,
   "metadata": {
    "scrolled": true
   },
   "outputs": [],
   "execution_count": 60,
   "metadata": {
    "scrolled": true
   },
   "outputs": [
    {
     "data": {
      "text/plain": [
       "==========================================================================================\n",
       "Layer (type:depth-idx)                   Output Shape              Param #\n",
       "==========================================================================================\n",
       "BreastCancerModel                        [10, 1]                   --\n",
       "├─Linear: 1-1                            [10, 32]                  992\n",
       "├─ReLU: 1-2                              [10, 32]                  --\n",
       "├─Linear: 1-3                            [10, 8]                   264\n",
       "├─ReLU: 1-4                              [10, 8]                   --\n",
       "├─Linear: 1-5                            [10, 1]                   9\n",
       "├─Sigmoid: 1-6                           [10, 1]                   --\n",
       "==========================================================================================\n",
       "Total params: 1,265\n",
       "Trainable params: 1,265\n",
       "Non-trainable params: 0\n",
       "Total mult-adds (Units.MEGABYTES): 0.01\n",
       "==========================================================================================\n",
       "Input size (MB): 0.00\n",
       "Forward/backward pass size (MB): 0.00\n",
       "Params size (MB): 0.01\n",
       "Estimated Total Size (MB): 0.01\n",
       "=========================================================================================="
      ]
     },
     "execution_count": 60,
     "metadata": {},
     "output_type": "execute_result"
    }
   ],
   "source": [
    "from torchinfo import summary\n",
    "summary(b_model, (10, 30), device=device)"
   ]
  },
  {
   "cell_type": "code",
   "execution_count": null,
   "metadata": {},
   "outputs": [],
   "execution_count": 61,
   "metadata": {},
   "outputs": [
    {
     "data": {
      "text/plain": [
       "tensor([[0.4771],\n",
       "        [0.4537],\n",
       "        [0.4677],\n",
       "        [0.4737],\n",
       "        [0.4906],\n",
       "        [0.4820],\n",
       "        [0.4591],\n",
       "        [0.4558],\n",
       "        [0.4561],\n",
       "        [0.4573]], grad_fn=<SigmoidBackward0>)"
      ]
     },
     "execution_count": 61,
     "metadata": {},
     "output_type": "execute_result"
    }
   ],
   "source": [
    "# dummy data로 출력\n",
    "dummy_x = torch.randn(10, 30)\n",
    "# dummy_x.shape\n",
    "result = b_model(dummy_x)\n",
    "# result.shape\n",
    "result"
   ]
  },
  {
   "cell_type": "code",
   "execution_count": null,
   "metadata": {},
   "outputs": [],
   "execution_count": 62,
   "metadata": {},
   "outputs": [
    {
     "data": {
      "text/plain": [
       "tensor([[0],\n",
       "        [0],\n",
       "        [0],\n",
       "        [0],\n",
       "        [0],\n",
       "        [0],\n",
       "        [0],\n",
       "        [0],\n",
       "        [0],\n",
       "        [0]], dtype=torch.int32)"
      ]
     },
     "execution_count": 62,
     "metadata": {},
     "output_type": "execute_result"
    }
   ],
   "source": [
    "(result > 0.5).type(torch.int32)  # bool -> int (True: 1, False: 0)"
   ]
  },
  {
   "cell_type": "code",
   "execution_count": null,
   "execution_count": 63,
   "metadata": {},
   "outputs": [],
   "source": [
    "lr = 0.001\n",
    "epochs = 1000\n",
    "######## 학습(train)\n",
    "b_model = b_model.to(device)\n",
    "optimizer = optim.Adam(b_model.parameters(), lr=lr)\n",
    "loss_fn = nn.BCELoss()   # 함수이름: binary crossentropy"
   ]
  },
  {
   "cell_type": "code",
   "execution_count": null,
   "execution_count": 70,
   "metadata": {
    "collapsed": true,
    "jupyter": {
     "outputs_hidden": true
    },
    "scrolled": true
   },
   "outputs": [],
   "outputs": [
    {
     "name": "stdout",
     "output_type": "stream",
     "text": [
      "[0001/1000] train loss: 0.023343277163803577, valid loss: 0.10477961972355843, valid accuracy: 0.958041958041958\n",
      ">>>>>> 1에서 성능이 개선되어 저장합니다. 0.10477961972355843\n",
      "[0002/1000] train loss: 0.02326487796381116, valid loss: 0.1046346090734005, valid accuracy: 0.958041958041958\n",
      ">>>>>> 2에서 성능이 개선되어 저장합니다. 0.1046346090734005\n",
      "[0003/1000] train loss: 0.022179463412612677, valid loss: 0.10457753762602806, valid accuracy: 0.958041958041958\n",
      ">>>>>> 3에서 성능이 개선되어 저장합니다. 0.10457753762602806\n",
      "[0004/1000] train loss: 0.02186304982751608, valid loss: 0.10465498268604279, valid accuracy: 0.958041958041958\n",
      "[0005/1000] train loss: 0.022593896836042404, valid loss: 0.10477156192064285, valid accuracy: 0.958041958041958\n",
      "[0006/1000] train loss: 0.022633490152657032, valid loss: 0.10474833846092224, valid accuracy: 0.958041958041958\n",
      "[0007/1000] train loss: 0.02203579619526863, valid loss: 0.10458169505000114, valid accuracy: 0.958041958041958\n",
      "[0008/1000] train loss: 0.02171484986320138, valid loss: 0.10441893339157104, valid accuracy: 0.958041958041958\n",
      ">>>>>> 8에서 성능이 개선되어 저장합니다. 0.10441893339157104\n",
      "[0009/1000] train loss: 0.019437186885625124, valid loss: 0.10428620129823685, valid accuracy: 0.958041958041958\n",
      ">>>>>> 9에서 성능이 개선되어 저장합니다. 0.10428620129823685\n",
      "[0010/1000] train loss: 0.021430907770991325, valid loss: 0.10412352159619331, valid accuracy: 0.958041958041958\n",
      ">>>>>> 10에서 성능이 개선되어 저장합니다. 0.10412352159619331\n",
      "[0011/1000] train loss: 0.02193261543288827, valid loss: 0.10388268902897835, valid accuracy: 0.958041958041958\n",
      ">>>>>> 11에서 성능이 개선되어 저장합니다. 0.10388268902897835\n",
      "[0012/1000] train loss: 0.021400730591267347, valid loss: 0.10377269238233566, valid accuracy: 0.958041958041958\n",
      ">>>>>> 12에서 성능이 개선되어 저장합니다. 0.10377269238233566\n",
      "[0013/1000] train loss: 0.01968352310359478, valid loss: 0.10369529575109482, valid accuracy: 0.958041958041958\n",
      ">>>>>> 13에서 성능이 개선되어 저장합니다. 0.10369529575109482\n",
      "[0014/1000] train loss: 0.020997134502977133, valid loss: 0.10379286110401154, valid accuracy: 0.958041958041958\n",
      "[0015/1000] train loss: 0.021154199726879597, valid loss: 0.10381224751472473, valid accuracy: 0.958041958041958\n",
      "[0016/1000] train loss: 0.02097576530650258, valid loss: 0.10373842716217041, valid accuracy: 0.958041958041958\n",
      "[0017/1000] train loss: 0.020838415250182152, valid loss: 0.10372544825077057, valid accuracy: 0.958041958041958\n",
      "[0018/1000] train loss: 0.019939519930630922, valid loss: 0.10376409441232681, valid accuracy: 0.958041958041958\n",
      "[0019/1000] train loss: 0.020040580071508884, valid loss: 0.10376391932368279, valid accuracy: 0.958041958041958\n",
      "[0020/1000] train loss: 0.020051466301083565, valid loss: 0.10379043966531754, valid accuracy: 0.958041958041958\n",
      "[0021/1000] train loss: 0.020330077968537807, valid loss: 0.10371920466423035, valid accuracy: 0.958041958041958\n",
      "[0022/1000] train loss: 0.019838616251945496, valid loss: 0.10363427177071571, valid accuracy: 0.958041958041958\n",
      ">>>>>> 22에서 성능이 개선되어 저장합니다. 0.10363427177071571\n",
      "[0023/1000] train loss: 0.01990099810063839, valid loss: 0.10359720140695572, valid accuracy: 0.958041958041958\n",
      ">>>>>> 23에서 성능이 개선되어 저장합니다. 0.10359720140695572\n",
      "[0024/1000] train loss: 0.019395571667701006, valid loss: 0.10348044708371162, valid accuracy: 0.958041958041958\n",
      ">>>>>> 24에서 성능이 개선되어 저장합니다. 0.10348044708371162\n",
      "[0025/1000] train loss: 0.018199053592979908, valid loss: 0.10348029807209969, valid accuracy: 0.958041958041958\n",
      ">>>>>> 25에서 성능이 개선되어 저장합니다. 0.10348029807209969\n",
      "[0026/1000] train loss: 0.01944276038557291, valid loss: 0.1034327931702137, valid accuracy: 0.958041958041958\n",
      ">>>>>> 26에서 성능이 개선되어 저장합니다. 0.1034327931702137\n",
      "[0027/1000] train loss: 0.018775859847664833, valid loss: 0.10336453095078468, valid accuracy: 0.958041958041958\n",
      ">>>>>> 27에서 성능이 개선되어 저장합니다. 0.10336453095078468\n",
      "[0028/1000] train loss: 0.018583607859909534, valid loss: 0.10340603068470955, valid accuracy: 0.958041958041958\n",
      "[0029/1000] train loss: 0.01883593015372753, valid loss: 0.10331308841705322, valid accuracy: 0.958041958041958\n",
      ">>>>>> 29에서 성능이 개선되어 저장합니다. 0.10331308841705322\n",
      "[0030/1000] train loss: 0.018325193785130978, valid loss: 0.10325757041573524, valid accuracy: 0.958041958041958\n",
      ">>>>>> 30에서 성능이 개선되어 저장합니다. 0.10325757041573524\n",
      "[0031/1000] train loss: 0.018500621430575848, valid loss: 0.10308753699064255, valid accuracy: 0.958041958041958\n",
      ">>>>>> 31에서 성능이 개선되어 저장합니다. 0.10308753699064255\n",
      "[0032/1000] train loss: 0.01793155027553439, valid loss: 0.10302846878767014, valid accuracy: 0.958041958041958\n",
      ">>>>>> 32에서 성능이 개선되어 저장합니다. 0.10302846878767014\n",
      "[0033/1000] train loss: 0.01775758108124137, valid loss: 0.1029311902821064, valid accuracy: 0.958041958041958\n",
      ">>>>>> 33에서 성능이 개선되어 저장합니다. 0.1029311902821064\n",
      "[0034/1000] train loss: 0.018186774104833603, valid loss: 0.1028740294277668, valid accuracy: 0.958041958041958\n",
      ">>>>>> 34에서 성능이 개선되어 저장합니다. 0.1028740294277668\n",
      "[0035/1000] train loss: 0.018034761305898428, valid loss: 0.10266711190342903, valid accuracy: 0.958041958041958\n",
      ">>>>>> 35에서 성능이 개선되어 저장합니다. 0.10266711190342903\n",
      "[0036/1000] train loss: 0.017261650878936052, valid loss: 0.10257618501782417, valid accuracy: 0.958041958041958\n",
      ">>>>>> 36에서 성능이 개선되어 저장합니다. 0.10257618501782417\n",
      "[0037/1000] train loss: 0.017506930977106094, valid loss: 0.10245809331536293, valid accuracy: 0.958041958041958\n",
      ">>>>>> 37에서 성능이 개선되어 저장합니다. 0.10245809331536293\n",
      "[0038/1000] train loss: 0.01737556979060173, valid loss: 0.10241711139678955, valid accuracy: 0.958041958041958\n",
      ">>>>>> 38에서 성능이 개선되어 저장합니다. 0.10241711139678955\n",
      "[0039/1000] train loss: 0.017371351830661297, valid loss: 0.10238609835505486, valid accuracy: 0.958041958041958\n",
      ">>>>>> 39에서 성능이 개선되어 저장합니다. 0.10238609835505486\n",
      "[0040/1000] train loss: 0.0165170026011765, valid loss: 0.10224191099405289, valid accuracy: 0.958041958041958\n",
      ">>>>>> 40에서 성능이 개선되어 저장합니다. 0.10224191099405289\n",
      "[0041/1000] train loss: 0.016411487944424152, valid loss: 0.10216276720166206, valid accuracy: 0.958041958041958\n",
      ">>>>>> 41에서 성능이 개선되어 저장합니다. 0.10216276720166206\n",
      "[0042/1000] train loss: 0.01683630095794797, valid loss: 0.10222329944372177, valid accuracy: 0.958041958041958\n",
      "[0043/1000] train loss: 0.01644476968795061, valid loss: 0.10223985463380814, valid accuracy: 0.958041958041958\n",
      "[0044/1000] train loss: 0.016539165284484625, valid loss: 0.10227891057729721, valid accuracy: 0.958041958041958\n",
      "[0045/1000] train loss: 0.01676979288458824, valid loss: 0.10225223004817963, valid accuracy: 0.958041958041958\n",
      "[0046/1000] train loss: 0.01636547828093171, valid loss: 0.10217543691396713, valid accuracy: 0.958041958041958\n",
      "[0047/1000] train loss: 0.01654693763703108, valid loss: 0.10213949158787727, valid accuracy: 0.958041958041958\n",
      ">>>>>> 47에서 성능이 개선되어 저장합니다. 0.10213949158787727\n",
      "[0048/1000] train loss: 0.016418212093412876, valid loss: 0.10205727443099022, valid accuracy: 0.958041958041958\n",
      ">>>>>> 48에서 성능이 개선되어 저장합니다. 0.10205727443099022\n",
      "[0049/1000] train loss: 0.010339286644011736, valid loss: 0.10197590664029121, valid accuracy: 0.958041958041958\n",
      ">>>>>> 49에서 성능이 개선되어 저장합니다. 0.10197590664029121\n",
      "[0050/1000] train loss: 0.015933413989841938, valid loss: 0.10189925506711006, valid accuracy: 0.958041958041958\n",
      ">>>>>> 50에서 성능이 개선되어 저장합니다. 0.10189925506711006\n",
      "[0051/1000] train loss: 0.015375534538179636, valid loss: 0.10180672258138657, valid accuracy: 0.958041958041958\n",
      ">>>>>> 51에서 성능이 개선되어 저장합니다. 0.10180672258138657\n",
      "[0052/1000] train loss: 0.01521283620968461, valid loss: 0.10163706168532372, valid accuracy: 0.958041958041958\n",
      ">>>>>> 52에서 성능이 개선되어 저장합니다. 0.10163706168532372\n",
      "[0053/1000] train loss: 0.015657584881410003, valid loss: 0.10146172344684601, valid accuracy: 0.958041958041958\n",
      ">>>>>> 53에서 성능이 개선되어 저장합니다. 0.10146172344684601\n",
      "[0054/1000] train loss: 0.015636085532605648, valid loss: 0.10137034207582474, valid accuracy: 0.958041958041958\n",
      ">>>>>> 54에서 성능이 개선되어 저장합니다. 0.10137034207582474\n",
      "[0055/1000] train loss: 0.01577263930812478, valid loss: 0.10128574818372726, valid accuracy: 0.958041958041958\n",
      ">>>>>> 55에서 성능이 개선되어 저장합니다. 0.10128574818372726\n",
      "[0056/1000] train loss: 0.009426838252693415, valid loss: 0.10119647905230522, valid accuracy: 0.958041958041958\n",
      ">>>>>> 56에서 성능이 개선되어 저장합니다. 0.10119647905230522\n",
      "[0057/1000] train loss: 0.01493791677057743, valid loss: 0.10120299831032753, valid accuracy: 0.958041958041958\n",
      "[0058/1000] train loss: 0.015345826279371977, valid loss: 0.10123008489608765, valid accuracy: 0.958041958041958\n",
      "[0059/1000] train loss: 0.014600951690226793, valid loss: 0.10129785910248756, valid accuracy: 0.958041958041958\n",
      "[0060/1000] train loss: 0.015016749501228333, valid loss: 0.1014019325375557, valid accuracy: 0.958041958041958\n",
      "[0061/1000] train loss: 0.013907489366829395, valid loss: 0.10149059444665909, valid accuracy: 0.958041958041958\n",
      "[0062/1000] train loss: 0.01372978463768959, valid loss: 0.10155624896287918, valid accuracy: 0.958041958041958\n",
      "[0063/1000] train loss: 0.014464986510574818, valid loss: 0.10164202004671097, valid accuracy: 0.958041958041958\n",
      "[0064/1000] train loss: 0.013555208686739206, valid loss: 0.101683109998703, valid accuracy: 0.958041958041958\n",
      "[0065/1000] train loss: 0.01441552909091115, valid loss: 0.10164391249418259, valid accuracy: 0.958041958041958\n",
      "[0066/1000] train loss: 0.014514528214931488, valid loss: 0.10163132846355438, valid accuracy: 0.958041958041958\n",
      "66 에폭에서 조기종료 합니다. 0.10119647905230522에서 개선되지 않음.\n",
      "걸린시간(초): 0.4212625026702881\n"
     ]
    }
   ],
   "source": [
    "import time\n",
    "\n",
    "### 모델 학습(train) 로직 작성\n",
    "#### 검증 결과 -> train loss, valid_loss, valid_accuracy\n",
    "### 모델 성능이 개선될 때 마다 저장.\n",
    "### 조기종료 - 10 epoch 동안 성능 개선이 없으면 조기종료\n",
    "\n",
    "save_path = \"saved_models/bc_model.pt\"\n",
    "best_score = torch.inf   # validation loss 기준으로 저장/조기종료 여부 확인.\n",
    "patience = 10\n",
    "trigger_cnt = 0\n",
    "\n",
    "train_losses, valid_losses, valid_acces = [], [], []\n",
    "\n",
    "s = time.time()\n",
    "for epoch in range(epochs):\n",
    "    ################### train #######################\n",
    "    b_model.train()\n",
    "    train_loss = 0.0\n",
    "    for X_train, y_train in train_loader:\n",
    "        X_train, y_train = X_train.to(device), y_train.to(device)\n",
    "        pred = b_model(X_train)  # positive일 확률\n",
    "        loss = loss_fn(pred, y_train)\n",
    "        loss.backward()\n",
    "        optimizer.step()\n",
    "        optimizer.zero_grad()\n",
    "        train_loss += loss.item()\n",
    "    train_loss /= len(train_loader)\n",
    "    train_losses.append(train_loss)\n",
    "\n",
    "    ################### validation ##################\n",
    "    b_model.eval()\n",
    "    valid_loss = valid_acc = 0.0\n",
    "    with torch.no_grad():\n",
    "        for X_test, y_test in test_loader:\n",
    "            X_test, y_test = X_test.to(device), y_test.to(device)\n",
    "            pred_test = b_model(X_test) # positive일 확률\n",
    "            valid_loss += loss_fn(pred_test, y_test).item()\n",
    "            #  이진 분류에서 accuracy\n",
    "            valid_acc += torch.sum((pred_test > 0.5).type(torch.int32) == y_test).item()\n",
    "        valid_loss /= len(test_loader)\n",
    "        valid_acc /= len(test_loader.dataset)\n",
    "        valid_losses.append(valid_loss)\n",
    "        valid_acces.append(valid_acc)\n",
    "    \n",
    "    log_template = \"[{:04d}/{}] train loss: {}, valid loss: {}, valid accuracy: {}\"\n",
    "    print(log_template.format(epoch+1, epochs, train_loss, valid_loss, valid_acc))\n",
    "    \n",
    "    # 모델 저장, 조기종료\n",
    "    if valid_loss <  best_score: # 성능 개선\n",
    "        print(f\">>>>>> {epoch+1}에서 성능이 개선되어 저장합니다. {valid_loss}\")\n",
    "        torch.save(b_model, save_path)\n",
    "        best_score = valid_loss\n",
    "        trigger_cnt = 0\n",
    "    else:\n",
    "        trigger_cnt += 1\n",
    "        if patience == trigger_cnt:\n",
    "            print(f\"{epoch+1} 에폭에서 조기종료 합니다. {best_score}에서 개선되지 않음.\")\n",
    "            break\n",
    "    \n",
    "e = time.time()\n",
    "print(\"걸린시간(초):\", e-s)"
   ]
  },
  {
   "cell_type": "code",
   "execution_count": null,
   "metadata": {},
   "outputs": [],
   "source": [
    "## loss, acc 시각화"
   "execution_count": 71,
   "metadata": {},
   "outputs": [
    {
     "data": {
      "image/png": "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",
      "text/plain": [
       "<Figure size 640x480 with 1 Axes>"
      ]
     },
     "metadata": {},
     "output_type": "display_data"
    }
   ],
   "source": [
    "## loss, acc 시각화\n",
    "\n",
    "plt.plot(range(len(train_losses)), train_losses, label='train loss')\n",
    "plt.plot(range(len(valid_losses)), valid_losses, label='valid loss')\n",
    "plt.legend()\n",
    "plt.show()"
   ]
  },
  {
   "cell_type": "code",
   "execution_count": 75,
   "metadata": {},
   "outputs": [
    {
     "data": {
      "image/png": "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",
      "text/plain": [
       "<Figure size 640x480 with 1 Axes>"
      ]
     },
     "metadata": {},
     "output_type": "display_data"
    }
   ],
   "source": [
    "plt.plot(range(len(valid_acces)), valid_acces)\n",
    "plt.show()"
   ]
  },
  {
   "cell_type": "code",
   "execution_count": null,
   "metadata": {},
   "outputs": [],
   "source": []
  },
  {
   "cell_type": "code",
   "execution_count": 73,
   "metadata": {
    "collapsed": true,
    "jupyter": {
     "outputs_hidden": true
    },
    "scrolled": true
   },
   "outputs": [],
   "source": [
    "best_model = torch.load(save_path)\n",
   "outputs": [
    {
     "data": {
      "text/plain": [
       "BreastCancerModel(\n",
       "  (lr1): Linear(in_features=30, out_features=32, bias=True)\n",
       "  (lr2): Linear(in_features=32, out_features=8, bias=True)\n",
       "  (lr3): Linear(in_features=8, out_features=1, bias=True)\n",
       "  (relu): ReLU()\n",
       "  (logistic): Sigmoid()\n",
       ")"
      ]
     },
     "execution_count": 73,
     "metadata": {},
     "output_type": "execute_result"
    }
   ],
   "source": [
    "best_model = torch.load(save_path, weights_only=False)\n",
    "best_model"
   ]
  },
  {
   "cell_type": "code",
   "execution_count": null,
   "metadata": {},
   "outputs": [],
   "source": [
    "def predict_bc(model, X, device=device):\n",
    "    # model로 X를 추론한 결과를 반환\n",
    "    # label, 확률\n",
    "    result = []\n",
    "    with torch.no_grad():\n",
    "        pred_proba = model(X)\n",
    "        pred_class = (pred_proba > 0.5).type(torch.int32)\n",
    "        for class_index, proba in zip(pred_class, pred_proba):\n",
    "            # print(class_index, proba if class_index.item() == 1 else 1-proba)\n",
    "            result.append((class_index.item(), proba if class_index.item() == 1 else 1-proba))\n",
    "            # proba: 양성일 확률\n",
    "            # 모델이 예측한 class가 1일때: proba값을 사용\n",
    "            # 모델이 예측한 class가 0일때: 1-proba값을 사용\n",
    "        return result"
   ]
  },
  {
   "cell_type": "code",
   "execution_count": null,
   "execution_count": 77,
   "metadata": {},
   "outputs": [],
   "source": [
    "new_data = torch.tensor(X_test_scaled[:5], dtype=torch.float32)\n",
    "# print(new_data.shape)\n",
    "result = predict_bc(best_model, new_data, device)"
   ]
  },
  {
   "cell_type": "code",
   "execution_count": null,
   "metadata": {},
   "outputs": [],
   "execution_count": 78,
   "metadata": {},
   "outputs": [
    {
     "data": {
      "text/plain": [
       "[(1, tensor([0.9992])),\n",
       " (0, tensor([1.0000])),\n",
       " (0, tensor([1.0000])),\n",
       " (1, tensor([0.9998])),\n",
       " (0, tensor([0.9996]))]"
      ]
     },
     "execution_count": 78,
     "metadata": {},
     "output_type": "execute_result"
    }
   ],
   "source": [
    "result"
   ]
  },
  {
   "cell_type": "code",
   "execution_count": null,
   "metadata": {},
   "outputs": [],
   "source": []
  },
  {
   "cell_type": "markdown",
   "metadata": {},
   "source": [
    "# 모델 유형별 구현 정리\n",
    "\n",
    "## 공통\n",
    "\n",
    "-   Input layer(첫번째 Layer)의 in_features\n",
    "    -   입력데이터의 feature(속성) 개수에 맞춰준다.\n",
    "-   Hidden layer 수\n",
    "    -   경험적(art)으로 정한다.\n",
    "    -   Hidden layer에 Linear를 사용하는 경우 보통 feature 수를 줄여 나간다. (핵심 특성들을 추출해나가는 과정의 개념.)\n",
    "\n",
    "## 회귀 모델\n",
    "\n",
    "-   output layer의 출력 unit개수(out_features)\n",
    "    -   정답의 개수\n",
    "    -   ex\n",
    "        -   집값: 1\n",
    "        -   아파트가격, 단독가격, 빌라가격: 3 => y의 개수에 맞춘다.\n",
    "-   출력 Layer에 적용하는 activation 함수\n",
    "    -   일반적으로 **None**\n",
    "    -   값의 범위가 설정되 있고 그 범위의 값을 출력하는 함수가 있을 경우\n",
    "        -   ex) 0 ~ 1: logistic(Sigmoid), -1 ~ 1: hyperbolic tangent(Tanh)\n",
    "-   loss함수\n",
    "    -   MSELoss\n",
    "-   평가지표\n",
    "    -   MSE, RMSE, R square($R^2$)\n",
    "\n",
    "## 다중분류 모델\n",
    "\n",
    "-   output layer의 unit 개수\n",
    "    -   정답 class(고유값)의 개수\n",
    "-   출력 Layer에 적용하는 activation 함수\n",
    "    -   Softmax: 클래스별 확률을 출력\n",
    "-   loss함수\n",
    "    -   **categrocial crossentropy**\n",
    "    -   파이토치 함수\n",
    "        -   **CrossEntropyLoss** = NLLLoss(정답) + LogSoftmax(모델 예측값)\n",
    "        -   **NLLLoss**\n",
    "            -   정답을 OneHot Encoding 처리 후 Loss를 계산한다.\n",
    "            -   입력으로 LogSoftmax 처리한 모델 예측값과 onehot encoding 안 된 정답을 받는다.\n",
    "        -   **LogSoftmax**\n",
    "            -   입력값에 Softmax 계산후 그 Log를 계산한다.\n",
    "                -   NLLLoss의 모델 예측값 입력값으로 처리할 때 사용한다.\n",
    "\n",
    "```python\n",
    "pred = model(input)\n",
    "loss1 = nn.NLLLoss(nn.LogSoftmax(dim=-1)(pred), y)\n",
    "# or\n",
    "loss2 = nn.CrossEntropyLoss()(pred, y)\n",
    "```\n",
    "\n",
    "## 이진분류 모델\n",
    "\n",
    "-   output layer의 unit 개수\n",
    "    -   1개 (positive일 확률)\n",
    "-   출력 Layer에 적용하는 activation 함수\n",
    "    -   Sigmoid(Logistic)\n",
    "-   loss 함수\n",
    "    -   **Binary crossentropy**\n",
    "    -   파이토치 함수: **BCELoss**\n"
   ]
  }
 ],
 "metadata": {
  "kernelspec": {
   "display_name": "Python 3 (ipykernel)",
   "display_name": "dl",
   "language": "python",
   "name": "python3"
  },
  "language_info": {
   "codemirror_mode": {
    "name": "ipython",
    "version": 3
   },
   "file_extension": ".py",
   "mimetype": "text/x-python",
   "name": "python",
   "nbconvert_exporter": "python",
   "pygments_lexer": "ipython3",
   "version": "3.12.7"
   "version": "3.12.10"
  },
  "toc": {
   "base_numbering": 1,
   "nav_menu": {},
   "number_sections": false,
   "sideBar": true,
   "skip_h1_title": false,
   "title_cell": "Table of Contents",
   "title_sidebar": "Contents",
   "toc_cell": false,
   "toc_position": {
    "height": "calc(100% - 180px)",
    "left": "10px",
    "top": "150px",
    "width": "512px"
   },
   "toc_section_display": true,
   "toc_window_display": false
  },
  "varInspector": {
   "cols": {
    "lenName": 16,
    "lenType": 16,
    "lenVar": 40
   },
   "kernels_config": {
    "python": {
     "delete_cmd_postfix": "",
     "delete_cmd_prefix": "del ",
     "library": "var_list.py",
     "varRefreshCmd": "print(var_dic_list())"
    },
    "r": {
     "delete_cmd_postfix": ") ",
     "delete_cmd_prefix": "rm(",
     "library": "var_list.r",
     "varRefreshCmd": "cat(var_dic_list()) "
    }
   },
   "types_to_exclude": [
    "module",
    "function",
    "builtin_function_or_method",
    "instance",
    "_Feature"
   ],
   "window_display": false
  }
 },
 "nbformat": 4,
 "nbformat_minor": 4
}
