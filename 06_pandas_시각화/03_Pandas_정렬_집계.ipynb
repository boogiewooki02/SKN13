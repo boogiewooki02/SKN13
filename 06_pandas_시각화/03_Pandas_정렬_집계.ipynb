{
 "cells": [
  {
   "cell_type": "markdown",
   "metadata": {
    "slideshow": {
     "slide_type": "slide"
    }
   },
   "source": [
    "# 정렬\n",
    "\n",
    "## index이름, column 이름을 기준으로 정렬\n",
    "\n",
    "-   <b style='font-size:1.2em'>sort_index(axis=0, ascending=True, inplace=False)</b>\n",
    "    -   axis\n",
    "        -   index 이름 기준 정렬(행) : 'index' 또는 0 (기본값)\n",
    "        -   column 이름 기준 정렬(열) : 'columns' 또는 1\n",
    "    -   ascending\n",
    "        -   정렬방식\n",
    "        -   True(기본): 오름차순, False: 내림차순\n",
    "    -   inplace\n",
    "        -   원본에 적용 여부\n",
    "        -   False(기본): 변경한 복사본 반환\n",
    "        -   True : 원본을 변경\n",
    "-   Index name을 정렬하면 앞의 몇글자만 가지고 slicing을 할 수 있다.\n",
    "    -   ex) A로 시작하는 것에서 C로 시작하는 것 까지\n",
    "    -   단 결측치(NA) 값이 index name에 있으면 안된다.\n"
   ]
  },
  {
   "cell_type": "code",
   "execution_count": 2,
   "metadata": {},
   "outputs": [],
   "source": [
    "import pandas as pd\n",
    "import numpy as np"
   ]
  },
  {
   "cell_type": "code",
   "execution_count": 5,
   "metadata": {},
   "outputs": [
    {
     "data": {
      "text/plain": [
       "(4916, 27)"
      ]
     },
     "execution_count": 5,
     "metadata": {},
     "output_type": "execute_result"
    }
   ],
   "source": [
    "df = pd.read_csv(\"data/movie.csv\", index_col=\"movie_title\")\n",
    "df.shape"
   ]
  },
  {
   "cell_type": "code",
   "execution_count": null,
   "metadata": {},
   "outputs": [],
   "source": [
    "# 컬럼 이름을 기준으로 정렬\n",
    "df.sort_index(axis=1)"
   ]
  },
  {
   "cell_type": "code",
   "execution_count": null,
   "metadata": {},
   "outputs": [],
   "source": [
    "#내림차순\n",
    "df.sort_index(axis=1, ascending=False) "
   ]
  },
  {
   "cell_type": "code",
   "execution_count": null,
   "metadata": {},
   "outputs": [],
   "source": [
    "# index name (행 이름) 기준 정렬\n",
    "df.sort_index()"
   ]
  },
  {
   "cell_type": "code",
   "execution_count": null,
   "metadata": {},
   "outputs": [],
   "source": [
    "# 내림차순\n",
    "df.sort_index(ascending=False)"
   ]
  },
  {
   "cell_type": "code",
   "execution_count": null,
   "metadata": {
    "scrolled": true
   },
   "outputs": [],
   "source": [
    "# method chain을 이용해 행, 열 이름으로 정렬\n",
    "df.sort_index().sort_index(axis=1)"
   ]
  },
  {
   "cell_type": "code",
   "execution_count": null,
   "metadata": {},
   "outputs": [],
   "source": [
    "# 행이름 정렬 후 시작부분일치 slicing 조회\n",
    "df.head(10)"
   ]
  },
  {
   "cell_type": "code",
   "execution_count": null,
   "metadata": {},
   "outputs": [],
   "source": [
    "df.loc['Avatar':'John Carter']"
   ]
  },
  {
   "cell_type": "code",
   "execution_count": null,
   "metadata": {},
   "outputs": [],
   "source": [
    "df2 = df.sort_index() # 행 정렬"
   ]
  },
  {
   "cell_type": "code",
   "execution_count": null,
   "metadata": {},
   "outputs": [],
   "source": [
    "df2.loc['A' : 'Jb']  # A ~ J전까지 "
   ]
  },
  {
   "cell_type": "markdown",
   "metadata": {
    "slideshow": {
     "slide_type": "subslide"
    }
   },
   "source": [
    "## 특정 컬럼(열)의 값을 기준으로 정렬\n",
    "\n",
    "-   <b style='font-size:1.2em'>sort_values(by, ascending, inplace)</b>\n",
    "    -   by\n",
    "        -   **정렬 기준 컬럼이름**을 문자열로 지정\n",
    "        -   여러 컬럼에 대해 정렬할 경우 리스트에 담아 전달\n",
    "    -   ascending\n",
    "        -   정렬방식\n",
    "        -   True(기본): 오름차순, False: 내림차순\n",
    "        -   여러 컬럼에 대해 정렬할 경우 정렬방식도 리스트에 담아 전달\n",
    "    -   inplace\n",
    "        -   원본에 적용 여부\n",
    "        -   False(기본): 변경한 복사본 반환\n",
    "        -   True : 원본을 변경\n",
    "    -   결측치는 방식과 상관없이 마지막에 나온다.\n"
   ]
  },
  {
   "cell_type": "code",
   "execution_count": null,
   "metadata": {},
   "outputs": [],
   "source": [
    "df.sort_values(by=\"duration\").head(10)"
   ]
  },
  {
   "cell_type": "code",
   "execution_count": null,
   "metadata": {},
   "outputs": [],
   "source": [
    "df.sort_values('director_name', ascending=False).head(10) "
   ]
  },
  {
   "cell_type": "code",
   "execution_count": null,
   "metadata": {},
   "outputs": [],
   "source": [
    "df.sort_values(by=[\"duration\", \"movie_facebook_likes\"])[[\"duration\", \"movie_facebook_likes\"]].head(15)"
   ]
  },
  {
   "cell_type": "code",
   "execution_count": null,
   "metadata": {},
   "outputs": [],
   "source": [
    "df.sort_values(by=[\"duration\", \"movie_facebook_likes\"], ascending=[True, False])[[\"duration\", \"movie_facebook_likes\"]].head(15)"
   ]
  },
  {
   "cell_type": "code",
   "execution_count": null,
   "metadata": {},
   "outputs": [
    {
     "data": {
      "image/png": "[encoded data removed]",
      "text/plain": [
       "<Figure size 640x480 with 1 Axes>"
      ]
     },
     "metadata": {},
     "output_type": "display_data"
    }
   ],
   "source": [
    "df['color'].value_counts().sort_values().plot(kind='bar')"
   ]
  },
  {
   "cell_type": "code",
   "execution_count": null,
   "metadata": {},
   "outputs": [],
   "source": [
    "result_df = df.query('duration > 250').sort_values(\"duration\", ascending=False)[['duration', 'director_name']]\n",
    "result_df"
   ]
  },
  {
   "cell_type": "markdown",
   "metadata": {
    "slideshow": {
     "slide_type": "slide"
    }
   },
   "source": [
    "# flights.csv (항공기 운항 기록 데이터)\n",
    "\n",
    "-   MONTH : 비행 월\n",
    "-   DAY : 비행 일\n",
    "-   WEEKDAY : 비행 요일 - 1(월요일)~7(일요일)\n",
    "-   AIRLINE : 항공사 코드\n",
    "-   ORG_AIR : 출발공항\n",
    "-   DEST_AIR : 도착공항\n",
    "-   SCHED_DEP : 출발예정시각\n",
    "-   DEP_DELAY : 출발지연시간(분)\n",
    "-   AIR_TIME : 비행시간(분)\n",
    "-   DIST : 비행거리(마일)\n",
    "-   SCHED_ARR : 도착예정시각\n",
    "-   ARR_DELAY : 도착지연시간(분)\n",
    "-   DIVERTED : 회항여부(1: True, 0: False)\n",
    "-   CANCELLED : 취소여부(1: True, 0: False)\n"
   ]
  },
  {
   "cell_type": "code",
   "execution_count": 6,
   "metadata": {},
   "outputs": [
    {
     "data": {
      "text/plain": [
       "(58492, 14)"
      ]
     },
     "execution_count": 6,
     "metadata": {},
     "output_type": "execute_result"
    }
   ],
   "source": [
    "import pandas as pd\n",
    "df = pd.read_csv('data/flights.csv')\n",
    "df.shape"
   ]
  },
  {
   "cell_type": "code",
   "execution_count": 7,
   "metadata": {},
   "outputs": [
    {
     "name": "stdout",
     "output_type": "stream",
     "text": [
      "<class 'pandas.core.frame.DataFrame'>\n",
      "RangeIndex: 58492 entries, 0 to 58491\n",
      "Data columns (total 14 columns):\n",
      " #   Column     Non-Null Count  Dtype  \n",
      "---  ------     --------------  -----  \n",
      " 0   MONTH      58492 non-null  int64  \n",
      " 1   DAY        58492 non-null  int64  \n",
      " 2   WEEKDAY    58492 non-null  int64  \n",
      " 3   AIRLINE    58492 non-null  object \n",
      " 4   ORG_AIR    58492 non-null  object \n",
      " 5   DEST_AIR   58492 non-null  object \n",
      " 6   SCHED_DEP  58492 non-null  int64  \n",
      " 7   DEP_DELAY  57659 non-null  float64\n",
      " 8   AIR_TIME   57474 non-null  float64\n",
      " 9   DIST       58492 non-null  int64  \n",
      " 10  SCHED_ARR  58492 non-null  int64  \n",
      " 11  ARR_DELAY  57474 non-null  float64\n",
      " 12  DIVERTED   58492 non-null  int64  \n",
      " 13  CANCELLED  58492 non-null  int64  \n",
      "dtypes: float64(3), int64(8), object(3)\n",
      "memory usage: 6.2+ MB\n"
     ]
    }
   ],
   "source": [
    "df.info()"
   ]
  },
  {
   "cell_type": "code",
   "execution_count": 8,
   "metadata": {},
   "outputs": [
    {
     "data": {
      "text/html": [
       "<div>\n",
       "<style scoped>\n",
       "    .dataframe tbody tr th:only-of-type {\n",
       "        vertical-align: middle;\n",
       "    }\n",
       "\n",
       "    .dataframe tbody tr th {\n",
       "        vertical-align: top;\n",
       "    }\n",
       "\n",
       "    .dataframe thead th {\n",
       "        text-align: right;\n",
       "    }\n",
       "</style>\n",
       "<table border=\"1\" class=\"dataframe\">\n",
       "  <thead>\n",
       "    <tr style=\"text-align: right;\">\n",
       "      <th></th>\n",
       "      <th>MONTH</th>\n",
       "      <th>DAY</th>\n",
       "      <th>WEEKDAY</th>\n",
       "      <th>AIRLINE</th>\n",
       "      <th>ORG_AIR</th>\n",
       "      <th>DEST_AIR</th>\n",
       "      <th>SCHED_DEP</th>\n",
       "      <th>DEP_DELAY</th>\n",
       "      <th>AIR_TIME</th>\n",
       "      <th>DIST</th>\n",
       "      <th>SCHED_ARR</th>\n",
       "      <th>ARR_DELAY</th>\n",
       "      <th>DIVERTED</th>\n",
       "      <th>CANCELLED</th>\n",
       "    </tr>\n",
       "  </thead>\n",
       "  <tbody>\n",
       "    <tr>\n",
       "      <th>0</th>\n",
       "      <td>1</td>\n",
       "      <td>1</td>\n",
       "      <td>4</td>\n",
       "      <td>WN</td>\n",
       "      <td>LAX</td>\n",
       "      <td>SLC</td>\n",
       "      <td>1625</td>\n",
       "      <td>58.0</td>\n",
       "      <td>94.0</td>\n",
       "      <td>590</td>\n",
       "      <td>1905</td>\n",
       "      <td>65.0</td>\n",
       "      <td>0</td>\n",
       "      <td>0</td>\n",
       "    </tr>\n",
       "    <tr>\n",
       "      <th>1</th>\n",
       "      <td>1</td>\n",
       "      <td>1</td>\n",
       "      <td>4</td>\n",
       "      <td>UA</td>\n",
       "      <td>DEN</td>\n",
       "      <td>IAD</td>\n",
       "      <td>823</td>\n",
       "      <td>7.0</td>\n",
       "      <td>154.0</td>\n",
       "      <td>1452</td>\n",
       "      <td>1333</td>\n",
       "      <td>-13.0</td>\n",
       "      <td>0</td>\n",
       "      <td>0</td>\n",
       "    </tr>\n",
       "    <tr>\n",
       "      <th>2</th>\n",
       "      <td>1</td>\n",
       "      <td>1</td>\n",
       "      <td>4</td>\n",
       "      <td>MQ</td>\n",
       "      <td>DFW</td>\n",
       "      <td>VPS</td>\n",
       "      <td>1305</td>\n",
       "      <td>36.0</td>\n",
       "      <td>85.0</td>\n",
       "      <td>641</td>\n",
       "      <td>1453</td>\n",
       "      <td>35.0</td>\n",
       "      <td>0</td>\n",
       "      <td>0</td>\n",
       "    </tr>\n",
       "    <tr>\n",
       "      <th>3</th>\n",
       "      <td>1</td>\n",
       "      <td>1</td>\n",
       "      <td>4</td>\n",
       "      <td>AA</td>\n",
       "      <td>DFW</td>\n",
       "      <td>DCA</td>\n",
       "      <td>1555</td>\n",
       "      <td>7.0</td>\n",
       "      <td>126.0</td>\n",
       "      <td>1192</td>\n",
       "      <td>1935</td>\n",
       "      <td>-7.0</td>\n",
       "      <td>0</td>\n",
       "      <td>0</td>\n",
       "    </tr>\n",
       "    <tr>\n",
       "      <th>4</th>\n",
       "      <td>1</td>\n",
       "      <td>1</td>\n",
       "      <td>4</td>\n",
       "      <td>WN</td>\n",
       "      <td>LAX</td>\n",
       "      <td>MCI</td>\n",
       "      <td>1720</td>\n",
       "      <td>48.0</td>\n",
       "      <td>166.0</td>\n",
       "      <td>1363</td>\n",
       "      <td>2225</td>\n",
       "      <td>39.0</td>\n",
       "      <td>0</td>\n",
       "      <td>0</td>\n",
       "    </tr>\n",
       "  </tbody>\n",
       "</table>\n",
       "</div>"
      ],
      "text/plain": [
       "   MONTH  DAY  WEEKDAY AIRLINE ORG_AIR DEST_AIR  SCHED_DEP  DEP_DELAY  \\\n",
       "0      1    1        4      WN     LAX      SLC       1625       58.0   \n",
       "1      1    1        4      UA     DEN      IAD        823        7.0   \n",
       "2      1    1        4      MQ     DFW      VPS       1305       36.0   \n",
       "3      1    1        4      AA     DFW      DCA       1555        7.0   \n",
       "4      1    1        4      WN     LAX      MCI       1720       48.0   \n",
       "\n",
       "   AIR_TIME  DIST  SCHED_ARR  ARR_DELAY  DIVERTED  CANCELLED  \n",
       "0      94.0   590       1905       65.0         0          0  \n",
       "1     154.0  1452       1333      -13.0         0          0  \n",
       "2      85.0   641       1453       35.0         0          0  \n",
       "3     126.0  1192       1935       -7.0         0          0  \n",
       "4     166.0  1363       2225       39.0         0          0  "
      ]
     },
     "execution_count": 8,
     "metadata": {},
     "output_type": "execute_result"
    }
   ],
   "source": [
    "df.head()"
   ]
  },
  {
   "cell_type": "code",
   "execution_count": 9,
   "metadata": {},
   "outputs": [
    {
     "data": {
      "text/html": [
       "<div>\n",
       "<style scoped>\n",
       "    .dataframe tbody tr th:only-of-type {\n",
       "        vertical-align: middle;\n",
       "    }\n",
       "\n",
       "    .dataframe tbody tr th {\n",
       "        vertical-align: top;\n",
       "    }\n",
       "\n",
       "    .dataframe thead th {\n",
       "        text-align: right;\n",
       "    }\n",
       "</style>\n",
       "<table border=\"1\" class=\"dataframe\">\n",
       "  <thead>\n",
       "    <tr style=\"text-align: right;\">\n",
       "      <th></th>\n",
       "      <th>MONTH</th>\n",
       "      <th>DAY</th>\n",
       "      <th>WEEKDAY</th>\n",
       "      <th>AIRLINE</th>\n",
       "      <th>ORG_AIR</th>\n",
       "      <th>DEST_AIR</th>\n",
       "      <th>SCHED_DEP</th>\n",
       "      <th>DEP_DELAY</th>\n",
       "      <th>AIR_TIME</th>\n",
       "      <th>DIST</th>\n",
       "      <th>SCHED_ARR</th>\n",
       "      <th>ARR_DELAY</th>\n",
       "      <th>DIVERTED</th>\n",
       "      <th>CANCELLED</th>\n",
       "    </tr>\n",
       "  </thead>\n",
       "  <tbody>\n",
       "    <tr>\n",
       "      <th>58487</th>\n",
       "      <td>12</td>\n",
       "      <td>31</td>\n",
       "      <td>4</td>\n",
       "      <td>AA</td>\n",
       "      <td>SFO</td>\n",
       "      <td>DFW</td>\n",
       "      <td>515</td>\n",
       "      <td>5.0</td>\n",
       "      <td>166.0</td>\n",
       "      <td>1464</td>\n",
       "      <td>1045</td>\n",
       "      <td>-19.0</td>\n",
       "      <td>0</td>\n",
       "      <td>0</td>\n",
       "    </tr>\n",
       "    <tr>\n",
       "      <th>58488</th>\n",
       "      <td>12</td>\n",
       "      <td>31</td>\n",
       "      <td>4</td>\n",
       "      <td>F9</td>\n",
       "      <td>LAS</td>\n",
       "      <td>SFO</td>\n",
       "      <td>1910</td>\n",
       "      <td>13.0</td>\n",
       "      <td>71.0</td>\n",
       "      <td>414</td>\n",
       "      <td>2050</td>\n",
       "      <td>4.0</td>\n",
       "      <td>0</td>\n",
       "      <td>0</td>\n",
       "    </tr>\n",
       "    <tr>\n",
       "      <th>58489</th>\n",
       "      <td>12</td>\n",
       "      <td>31</td>\n",
       "      <td>4</td>\n",
       "      <td>OO</td>\n",
       "      <td>SFO</td>\n",
       "      <td>SBA</td>\n",
       "      <td>1846</td>\n",
       "      <td>-6.0</td>\n",
       "      <td>46.0</td>\n",
       "      <td>262</td>\n",
       "      <td>1956</td>\n",
       "      <td>-5.0</td>\n",
       "      <td>0</td>\n",
       "      <td>0</td>\n",
       "    </tr>\n",
       "    <tr>\n",
       "      <th>58490</th>\n",
       "      <td>12</td>\n",
       "      <td>31</td>\n",
       "      <td>4</td>\n",
       "      <td>WN</td>\n",
       "      <td>MSP</td>\n",
       "      <td>ATL</td>\n",
       "      <td>525</td>\n",
       "      <td>39.0</td>\n",
       "      <td>124.0</td>\n",
       "      <td>907</td>\n",
       "      <td>855</td>\n",
       "      <td>34.0</td>\n",
       "      <td>0</td>\n",
       "      <td>0</td>\n",
       "    </tr>\n",
       "    <tr>\n",
       "      <th>58491</th>\n",
       "      <td>12</td>\n",
       "      <td>31</td>\n",
       "      <td>4</td>\n",
       "      <td>OO</td>\n",
       "      <td>SFO</td>\n",
       "      <td>BOI</td>\n",
       "      <td>859</td>\n",
       "      <td>5.0</td>\n",
       "      <td>73.0</td>\n",
       "      <td>522</td>\n",
       "      <td>1146</td>\n",
       "      <td>-1.0</td>\n",
       "      <td>0</td>\n",
       "      <td>0</td>\n",
       "    </tr>\n",
       "  </tbody>\n",
       "</table>\n",
       "</div>"
      ],
      "text/plain": [
       "       MONTH  DAY  WEEKDAY AIRLINE ORG_AIR DEST_AIR  SCHED_DEP  DEP_DELAY  \\\n",
       "58487     12   31        4      AA     SFO      DFW        515        5.0   \n",
       "58488     12   31        4      F9     LAS      SFO       1910       13.0   \n",
       "58489     12   31        4      OO     SFO      SBA       1846       -6.0   \n",
       "58490     12   31        4      WN     MSP      ATL        525       39.0   \n",
       "58491     12   31        4      OO     SFO      BOI        859        5.0   \n",
       "\n",
       "       AIR_TIME  DIST  SCHED_ARR  ARR_DELAY  DIVERTED  CANCELLED  \n",
       "58487     166.0  1464       1045      -19.0         0          0  \n",
       "58488      71.0   414       2050        4.0         0          0  \n",
       "58489      46.0   262       1956       -5.0         0          0  \n",
       "58490     124.0   907        855       34.0         0          0  \n",
       "58491      73.0   522       1146       -1.0         0          0  "
      ]
     },
     "execution_count": 9,
     "metadata": {},
     "output_type": "execute_result"
    }
   ],
   "source": [
    "df.tail()"
   ]
  },
  {
   "cell_type": "code",
   "execution_count": 10,
   "metadata": {},
   "outputs": [
    {
     "data": {
      "text/plain": [
       "MONTH           0\n",
       "DAY             0\n",
       "WEEKDAY         0\n",
       "AIRLINE         0\n",
       "ORG_AIR         0\n",
       "DEST_AIR        0\n",
       "SCHED_DEP       0\n",
       "DEP_DELAY     833\n",
       "AIR_TIME     1018\n",
       "DIST            0\n",
       "SCHED_ARR       0\n",
       "ARR_DELAY    1018\n",
       "DIVERTED        0\n",
       "CANCELLED       0\n",
       "dtype: int64"
      ]
     },
     "execution_count": 10,
     "metadata": {},
     "output_type": "execute_result"
    }
   ],
   "source": [
    "df.isnull().sum()"
   ]
  },
  {
   "cell_type": "code",
   "execution_count": 14,
   "metadata": {},
   "outputs": [
    {
     "data": {
      "text/plain": [
       "MONTH\n",
       "1     5003\n",
       "2     4608\n",
       "3     5485\n",
       "4     5326\n",
       "5     5545\n",
       "6     5672\n",
       "7     5754\n",
       "8     5635\n",
       "9     5235\n",
       "11    5098\n",
       "12    5131\n",
       "Name: count, dtype: int64"
      ]
     },
     "execution_count": 14,
     "metadata": {},
     "output_type": "execute_result"
    }
   ],
   "source": [
    "# 범주형 컬럼들 확인\n",
    "## MONTH\n",
    "df['MONTH'].value_counts().sort_index()"
   ]
  },
  {
   "cell_type": "code",
   "execution_count": 11,
   "metadata": {
    "scrolled": true
   },
   "outputs": [
    {
     "data": {
      "text/plain": [
       "DAY\n",
       "1     1844\n",
       "2     1958\n",
       "3     1924\n",
       "4     1924\n",
       "5     1966\n",
       "6     1889\n",
       "7     1919\n",
       "8     1929\n",
       "9     1882\n",
       "10    1880\n",
       "11    1943\n",
       "12    1977\n",
       "13    1944\n",
       "14    1905\n",
       "15    1971\n",
       "16    1959\n",
       "17    1957\n",
       "18    1916\n",
       "19    1979\n",
       "20    2012\n",
       "21    1935\n",
       "22    1897\n",
       "23    1893\n",
       "24    1854\n",
       "25    1946\n",
       "26    1896\n",
       "27    1872\n",
       "28    1923\n",
       "29    1795\n",
       "30    1780\n",
       "31    1023\n",
       "Name: count, dtype: int64"
      ]
     },
     "execution_count": 11,
     "metadata": {},
     "output_type": "execute_result"
    }
   ],
   "source": [
    "## DAY\n",
    "df['DAY'].value_counts().sort_index()"
   ]
  },
  {
   "cell_type": "code",
   "execution_count": null,
   "metadata": {},
   "outputs": [],
   "source": [
    "## WEEKDAY (요일)\n",
    "df['WEEKDAY'].value_counts().sort_index()"
   ]
  },
  {
   "cell_type": "code",
   "execution_count": null,
   "metadata": {},
   "outputs": [],
   "source": [
    "# AIRLINE(항공사)\n",
    "df['AIRLINE'].value_counts().sort_index()"
   ]
  },
  {
   "cell_type": "code",
   "execution_count": null,
   "metadata": {},
   "outputs": [],
   "source": [
    "# ORG_AIR(출발 공항코드)\n",
    "df['ORG_AIR'].value_counts().sort_index()"
   ]
  },
  {
   "cell_type": "code",
   "execution_count": null,
   "metadata": {},
   "outputs": [],
   "source": [
    "# DEST_AIR(도착 공항 코드)\n",
    "df['DEST_AIR'].value_counts().sort_index()"
   ]
  },
  {
   "cell_type": "markdown",
   "metadata": {
    "slideshow": {
     "slide_type": "slide"
    }
   },
   "source": [
    "# 기술통계 메소드들을 이용한 데이터 집계\n",
    "\n",
    "## 주요 기술통계 메소드\n",
    "\n",
    "| 함수           | 설명                      |\n",
    "| -------------- | ------------------------- |\n",
    "| **sum()**      | 합계                      |\n",
    "| **mean()**     | 평균                      |\n",
    "| **median()**   | 중위수                    |\n",
    "| **mode()**     | 최빈값                    |\n",
    "| **quantile()** | 분위수                    |\n",
    "| **std()**      | 표준편차                  |\n",
    "| **var()**      | 분산                      |\n",
    "| **count()**    | 결측치를 제외한 원소 개수 |\n",
    "| **min()**      | 최소값                    |\n",
    "| **max()**      | 최대값                    |\n",
    "| **idxmax()**   | 최대값 index              |\n",
    "| **idxmin()**   | 최소값 index              |\n",
    "| **unique()**   | 고유값                    |\n",
    "| **nunique()**  | 고유값의 개수             |\n",
    "\n",
    "<center><b style='font-size:1.2em'>cf) value_counts()는 Series에만 사용할 수 있다.</b></center>\n"
   ]
  },
  {
   "cell_type": "markdown",
   "metadata": {
    "slideshow": {
     "slide_type": "fragment"
    }
   },
   "source": [
    "-   DataFrame에 위의 기술 통계 메소드들을 적용할 경우 **컬럼별로 계산한다.**\n",
    "-   sum(), mode(), max(), min(), idxmax(), idxmin(), unique(), nunique(), count()는 **문자열에 적용가능하다.**"
   ]
  },
  {
   "cell_type": "markdown",
   "metadata": {
    "slideshow": {
     "slide_type": "fragment"
    }
   },
   "source": [
    "-   **공통 매개변수**\n",
    "    -   skipna=True(기본값)\n",
    "        -   결측치(NA)를 포함해서 계산할지 여부 설정.\n",
    "        -   True가 기본값으로 결측치(NA)를 제외하고 처리한다.\n",
    "        -   결측치 제외하지 않으려면 skipna=False로 설정하는데 결측치가 있으면 결과는 결측치가 된다.\n",
    "    -   axis\n",
    "        -   DataFrame에 적용할 때 계산방향을 설정\n",
    "            -   0 또는 'index' (기본값): 컬럼 방향으로 집계\n",
    "            -   1 또는 'columns': 행 방향으로 집계\n",
    "    - numeric_only\n",
    "        - 수치형(정수, 실수) 컬럼만 처리할 경우 True로 설정(default: False)"
   ]
  },
  {
   "cell_type": "code",
   "execution_count": 16,
   "metadata": {},
   "outputs": [
    {
     "data": {
      "text/plain": [
       "MONTH          363858.0\n",
       "DAY            918447.0\n",
       "WEEKDAY        229690.0\n",
       "SCHED_DEP    81186009.0\n",
       "DEP_DELAY      629705.0\n",
       "AIR_TIME      6662879.0\n",
       "DIST         51057671.0\n",
       "SCHED_ARR    90627495.0\n",
       "ARR_DELAY      334057.0\n",
       "DIVERTED          137.0\n",
       "CANCELLED         881.0\n",
       "dtype: float64"
      ]
     },
     "execution_count": 16,
     "metadata": {},
     "output_type": "execute_result"
    }
   ],
   "source": [
    "# df.sum()\n",
    "df.sum(numeric_only=True)"
   ]
  },
  {
   "cell_type": "code",
   "execution_count": 17,
   "metadata": {},
   "outputs": [
    {
     "data": {
      "text/plain": [
       "SCHED_DEP    81186009.0\n",
       "DEP_DELAY      629705.0\n",
       "AIR_TIME      6662879.0\n",
       "DIST         51057671.0\n",
       "SCHED_ARR    90627495.0\n",
       "ARR_DELAY      334057.0\n",
       "DIVERTED          137.0\n",
       "CANCELLED         881.0\n",
       "dtype: float64"
      ]
     },
     "execution_count": 17,
     "metadata": {},
     "output_type": "execute_result"
    }
   ],
   "source": [
    "df[df.columns[3:]].sum(numeric_only=True)"
   ]
  },
  {
   "cell_type": "code",
   "execution_count": 18,
   "metadata": {},
   "outputs": [
    {
     "data": {
      "text/plain": [
       "0        394.818182\n",
       "1        342.000000\n",
       "2        323.727273\n",
       "3        437.636364\n",
       "4        506.090909\n",
       "            ...    \n",
       "58487    293.000000\n",
       "58488    409.909091\n",
       "58489    376.909091\n",
       "58490    230.090909\n",
       "58491    241.000000\n",
       "Length: 58492, dtype: float64"
      ]
     },
     "execution_count": 18,
     "metadata": {},
     "output_type": "execute_result"
    }
   ],
   "source": [
    "df.mean(axis=1, numeric_only=True)"
   ]
  },
  {
   "cell_type": "code",
   "execution_count": 20,
   "metadata": {},
   "outputs": [
    {
     "data": {
      "text/html": [
       "<div>\n",
       "<style scoped>\n",
       "    .dataframe tbody tr th:only-of-type {\n",
       "        vertical-align: middle;\n",
       "    }\n",
       "\n",
       "    .dataframe tbody tr th {\n",
       "        vertical-align: top;\n",
       "    }\n",
       "\n",
       "    .dataframe thead th {\n",
       "        text-align: right;\n",
       "    }\n",
       "</style>\n",
       "<table border=\"1\" class=\"dataframe\">\n",
       "  <thead>\n",
       "    <tr style=\"text-align: right;\">\n",
       "      <th></th>\n",
       "      <th>AIRLINE</th>\n",
       "      <th>ORG_AIR</th>\n",
       "      <th>DEST_AIR</th>\n",
       "    </tr>\n",
       "  </thead>\n",
       "  <tbody>\n",
       "    <tr>\n",
       "      <th>0</th>\n",
       "      <td>DL</td>\n",
       "      <td>ATL</td>\n",
       "      <td>LAX</td>\n",
       "    </tr>\n",
       "  </tbody>\n",
       "</table>\n",
       "</div>"
      ],
      "text/plain": [
       "  AIRLINE ORG_AIR DEST_AIR\n",
       "0      DL     ATL      LAX"
      ]
     },
     "execution_count": 20,
     "metadata": {},
     "output_type": "execute_result"
    }
   ],
   "source": [
    "df.select_dtypes(include=['object']).mode()"
   ]
  },
  {
   "cell_type": "code",
   "execution_count": 23,
   "metadata": {},
   "outputs": [
    {
     "data": {
      "text/plain": [
       "DIVERTED     137\n",
       "CANCELLED    881\n",
       "dtype: int64"
      ]
     },
     "execution_count": 23,
     "metadata": {},
     "output_type": "execute_result"
    }
   ],
   "source": [
    "df[['DIVERTED', 'CANCELLED']].sum()"
   ]
  },
  {
   "cell_type": "code",
   "execution_count": 27,
   "metadata": {},
   "outputs": [
    {
     "data": {
      "text/plain": [
       "MONTH           6.220646\n",
       "DAY            15.702096\n",
       "WEEKDAY         3.926862\n",
       "SCHED_DEP    1387.984836\n",
       "DEP_DELAY            NaN\n",
       "AIR_TIME             NaN\n",
       "DIST          872.900072\n",
       "SCHED_ARR    1549.399832\n",
       "ARR_DELAY            NaN\n",
       "DIVERTED        0.002342\n",
       "CANCELLED       0.015062\n",
       "dtype: float64"
      ]
     },
     "execution_count": 27,
     "metadata": {},
     "output_type": "execute_result"
    }
   ],
   "source": [
    "df.mean(numeric_only=True, skipna=False)"
   ]
  },
  {
   "cell_type": "markdown",
   "metadata": {
    "slideshow": {
     "slide_type": "slide"
    }
   },
   "source": [
    "## aggregate(func, axis=0, \\*args, \\*\\*kwargs) 또는 agg(func, axis=0, \\*args, \\*\\*kwargs)\n",
    "\n",
    "-   DataFrame, Series의 메소드로 **집계결과를 다양한 형태로 모아서 한번에 확인 할 때** 사용한다.\n",
    "    -   **사용자 정의 집계메소드를 사용할 때도 편리하다.**\n",
    "-   **매개변수**\n",
    "    -   func\n",
    "        -   집계 함수 지정\n",
    "            1. 함수명/함수리스트 (문자열)\n",
    "                - 판다스 제공 집계메소드들은 문자열로, 사용자정의 집계함수는 함수 객체로 전달\n",
    "            2. Dictionary : {'집계할컬럼' : 집계함수, ... }\n",
    "                - 컬럼별로 다른 집계를 할 경우\n",
    "    -   axis\n",
    "        -   DataFrame에 적용할 때 0 방향으로 계산할 지 1 방향으로 계산할지 설정\n",
    "            -   0 또는 'index' (기본값): 컬럼 방향으로 집계\n",
    "            -   1 또는 'columns': 행 방향으로 집계\n",
    "    -   \\*args, \\*\\*kwargs\n",
    "        -   함수에 전달할 매개변수.\n",
    "        -   집계함수는 첫번째 매개변수로 Series(컬럼 또는 행)를 받는다. 그 이외의 파라미터가 있는 있는 경우 가변인자로 전달한다.\n"
   ]
  },
  {
   "cell_type": "code",
   "execution_count": 28,
   "metadata": {},
   "outputs": [
    {
     "data": {
      "text/plain": [
       "0        65.0\n",
       "1       -13.0\n",
       "2        35.0\n",
       "3        -7.0\n",
       "4        39.0\n",
       "         ... \n",
       "58487   -19.0\n",
       "58488     4.0\n",
       "58489    -5.0\n",
       "58490    34.0\n",
       "58491    -1.0\n",
       "Name: ARR_DELAY, Length: 58492, dtype: float64"
      ]
     },
     "execution_count": 28,
     "metadata": {},
     "output_type": "execute_result"
    }
   ],
   "source": [
    "df['ARR_DELAY']"
   ]
  },
  {
   "cell_type": "code",
   "execution_count": 30,
   "metadata": {},
   "outputs": [
    {
     "data": {
      "text/plain": [
       "min     -60.0\n",
       "max    1185.0\n",
       "Name: ARR_DELAY, dtype: float64"
      ]
     },
     "execution_count": 30,
     "metadata": {},
     "output_type": "execute_result"
    }
   ],
   "source": [
    "df['ARR_DELAY'].aggregate([\"min\", \"max\"])"
   ]
  },
  {
   "cell_type": "code",
   "execution_count": 32,
   "metadata": {},
   "outputs": [
    {
     "data": {
      "text/html": [
       "<div>\n",
       "<style scoped>\n",
       "    .dataframe tbody tr th:only-of-type {\n",
       "        vertical-align: middle;\n",
       "    }\n",
       "\n",
       "    .dataframe tbody tr th {\n",
       "        vertical-align: top;\n",
       "    }\n",
       "\n",
       "    .dataframe thead th {\n",
       "        text-align: right;\n",
       "    }\n",
       "</style>\n",
       "<table border=\"1\" class=\"dataframe\">\n",
       "  <thead>\n",
       "    <tr style=\"text-align: right;\">\n",
       "      <th></th>\n",
       "      <th>MONTH</th>\n",
       "      <th>DAY</th>\n",
       "      <th>WEEKDAY</th>\n",
       "      <th>SCHED_DEP</th>\n",
       "      <th>DEP_DELAY</th>\n",
       "      <th>AIR_TIME</th>\n",
       "      <th>DIST</th>\n",
       "      <th>SCHED_ARR</th>\n",
       "      <th>ARR_DELAY</th>\n",
       "      <th>DIVERTED</th>\n",
       "      <th>CANCELLED</th>\n",
       "    </tr>\n",
       "  </thead>\n",
       "  <tbody>\n",
       "    <tr>\n",
       "      <th>mean</th>\n",
       "      <td>6.220646</td>\n",
       "      <td>15.702096</td>\n",
       "      <td>3.926862</td>\n",
       "      <td>1387.984836</td>\n",
       "      <td>10.921192</td>\n",
       "      <td>115.928576</td>\n",
       "      <td>872.900072</td>\n",
       "      <td>1549.399832</td>\n",
       "      <td>5.812315</td>\n",
       "      <td>0.002342</td>\n",
       "      <td>0.015062</td>\n",
       "    </tr>\n",
       "    <tr>\n",
       "      <th>std</th>\n",
       "      <td>3.358484</td>\n",
       "      <td>8.760846</td>\n",
       "      <td>1.995777</td>\n",
       "      <td>482.810792</td>\n",
       "      <td>36.146210</td>\n",
       "      <td>71.679591</td>\n",
       "      <td>624.996805</td>\n",
       "      <td>518.599952</td>\n",
       "      <td>38.411948</td>\n",
       "      <td>0.048340</td>\n",
       "      <td>0.121800</td>\n",
       "    </tr>\n",
       "  </tbody>\n",
       "</table>\n",
       "</div>"
      ],
      "text/plain": [
       "         MONTH        DAY   WEEKDAY    SCHED_DEP  DEP_DELAY    AIR_TIME  \\\n",
       "mean  6.220646  15.702096  3.926862  1387.984836  10.921192  115.928576   \n",
       "std   3.358484   8.760846  1.995777   482.810792  36.146210   71.679591   \n",
       "\n",
       "            DIST    SCHED_ARR  ARR_DELAY  DIVERTED  CANCELLED  \n",
       "mean  872.900072  1549.399832   5.812315  0.002342   0.015062  \n",
       "std   624.996805   518.599952  38.411948  0.048340   0.121800  "
      ]
     },
     "execution_count": 32,
     "metadata": {},
     "output_type": "execute_result"
    }
   ],
   "source": [
    "df.select_dtypes(include=['number']).agg(['mean', 'std'])"
   ]
  },
  {
   "cell_type": "code",
   "execution_count": 33,
   "metadata": {},
   "outputs": [
    {
     "data": {
      "text/html": [
       "<div>\n",
       "<style scoped>\n",
       "    .dataframe tbody tr th:only-of-type {\n",
       "        vertical-align: middle;\n",
       "    }\n",
       "\n",
       "    .dataframe tbody tr th {\n",
       "        vertical-align: top;\n",
       "    }\n",
       "\n",
       "    .dataframe thead th {\n",
       "        text-align: right;\n",
       "    }\n",
       "</style>\n",
       "<table border=\"1\" class=\"dataframe\">\n",
       "  <thead>\n",
       "    <tr style=\"text-align: right;\">\n",
       "      <th></th>\n",
       "      <th>ARR_DELAY</th>\n",
       "      <th>AIR_TIME</th>\n",
       "      <th>DEP_DELAY</th>\n",
       "    </tr>\n",
       "  </thead>\n",
       "  <tbody>\n",
       "    <tr>\n",
       "      <th>mean</th>\n",
       "      <td>5.812315</td>\n",
       "      <td>NaN</td>\n",
       "      <td>NaN</td>\n",
       "    </tr>\n",
       "    <tr>\n",
       "      <th>sum</th>\n",
       "      <td>NaN</td>\n",
       "      <td>6662879.0</td>\n",
       "      <td>NaN</td>\n",
       "    </tr>\n",
       "    <tr>\n",
       "      <th>min</th>\n",
       "      <td>NaN</td>\n",
       "      <td>NaN</td>\n",
       "      <td>-24.0</td>\n",
       "    </tr>\n",
       "    <tr>\n",
       "      <th>max</th>\n",
       "      <td>NaN</td>\n",
       "      <td>NaN</td>\n",
       "      <td>1194.0</td>\n",
       "    </tr>\n",
       "  </tbody>\n",
       "</table>\n",
       "</div>"
      ],
      "text/plain": [
       "      ARR_DELAY   AIR_TIME  DEP_DELAY\n",
       "mean   5.812315        NaN        NaN\n",
       "sum         NaN  6662879.0        NaN\n",
       "min         NaN        NaN      -24.0\n",
       "max         NaN        NaN     1194.0"
      ]
     },
     "execution_count": 33,
     "metadata": {},
     "output_type": "execute_result"
    }
   ],
   "source": [
    "df.agg(\n",
    "    {\n",
    "        \"ARR_DELAY\": \"mean\",\n",
    "        \"AIR_TIME\": \"sum\",\n",
    "        \"DEP_DELAY\": [\"min\", \"max\"]\n",
    "    }\n",
    ")"
   ]
  },
  {
   "cell_type": "markdown",
   "metadata": {
    "slideshow": {
     "slide_type": "slide"
    }
   },
   "source": [
    "# Groupby\n",
    "\n",
    "-   특정 열을 기준으로 같은 값을 가지는 행끼리 묶어서 group화 한다.\n",
    "-   **~~ 별 집계를 할 때** 사용한다. (성별, 직급별, 등급별 ...)\n",
    "    -   Group으로 묶을 기준 열은 범주형타입(category)을 사용한다.\n",
    "-   **구문**\n",
    "    -   `DF.groupby('그룹으로묶을기준컬럼')`\n",
    "        -   DataFrameGroupby 객체를 반환한다.\n",
    "        -   DataFrameGroupby 객체는 어떤 행끼리 묶여있는지 정보를 가진다. 이 객체의 집계함수를 사용하면 그룹별 집계를 할 수 있다.\n",
    "            -   `DataFrameGroupby객체['집계할 컬럼'].집계함수()`\n",
    "        -   groupby에 여러개의 컬럼을 기준으로 나눌 경우 리스트에 묶어서 전달한다.\n",
    "        -   집계할 컬럼이 여러개인 경우 리스트로 묶어준다.\n",
    "    -   집계함수\n",
    "        -   기술통계 함수들\n",
    "        -   agg()/aggregate()\n",
    "            -   여러 다른 집계함수 호출시(여러 집계를 같이 볼경우)\n",
    "            -   사용자정의 집계함수 호출시\n",
    "            -   컬럼별로 다른 집계함수들을 호출할 경우\n"
   ]
  },
  {
   "cell_type": "code",
   "execution_count": 35,
   "metadata": {},
   "outputs": [
    {
     "data": {
      "text/plain": [
       "{'AA': [3, 6, 8, 15, 26, 32, 33, 36, 37, 41, 46, 47, 48, 55, 62, 66, 73, 75, 76, 87, 89, 97, 98, 107, 120, 122, 128, 131, 133, 146, 160, 171, 174, 178, 179, 188, 200, 201, 206, 221, 267, 270, 279, 305, 309, 311, 321, 330, 332, 342, 343, 347, 348, 380, 381, 382, 390, 393, 398, 402, 404, 405, 419, 427, 430, 431, 441, 449, 451, 455, 457, 466, 476, 491, 493, 497, 509, 514, 521, 527, 528, 537, 550, 551, 556, 560, 568, 572, 587, 589, 592, 612, 613, 618, 624, 626, 628, 634, 640, 652, ...], 'AS': [38, 198, 241, 277, 397, 450, 453, 500, 518, 591, 718, 737, 741, 808, 820, 867, 872, 1005, 1106, 1146, 1292, 1437, 1530, 1559, 1609, 1636, 1747, 1786, 1810, 1826, 1892, 1921, 2010, 2151, 2269, 2446, 2526, 2576, 2586, 2941, 3112, 3125, 3171, 3176, 3413, 3483, 3494, 3596, 3678, 3734, 3891, 3910, 3937, 3989, 4099, 4128, 4326, 4397, 4432, 4587, 4743, 4799, 4841, 4850, 4912, 4987, 5099, 5154, 5176, 5254, 5261, 5297, 5356, 5372, 5496, 5667, 5685, 5688, 5877, 5976, 6016, 6079, 6122, 6245, 6255, 6393, 6529, 6816, 6824, 6861, 6945, 6988, 7065, 7150, 7153, 7196, 7225, 7235, 7389, 7478, ...], 'B6': [123, 127, 239, 333, 548, 549, 696, 757, 945, 1175, 1361, 1453, 1547, 1561, 1564, 1650, 1670, 1691, 1800, 1939, 1998, 2251, 2253, 2256, 2330, 2385, 2434, 2607, 2650, 2692, 2721, 2781, 2800, 2884, 2936, 3060, 3306, 3648, 3793, 3983, 4347, 4552, 4578, 4639, 4779, 4820, 4885, 5036, 5125, 5131, 5205, 5211, 5228, 5260, 5351, 5483, 5577, 5585, 5777, 5956, 6126, 6151, 6418, 6901, 6952, 6977, 7792, 7798, 7853, 7877, 7904, 8030, 8082, 8091, 8118, 8145, 8177, 8364, 8507, 8541, 8543, 8558, 8732, 8828, 8912, 9093, 9173, 9275, 9371, 9389, 9447, 9482, 9574, 9686, 9896, 10066, 10254, 10416, 10600, 10727, ...], 'DL': [53, 57, 77, 79, 85, 90, 91, 101, 116, 117, 121, 129, 130, 137, 142, 152, 154, 155, 158, 159, 162, 165, 169, 172, 181, 182, 184, 185, 189, 190, 204, 207, 211, 215, 216, 222, 235, 238, 244, 245, 248, 249, 250, 253, 254, 258, 286, 289, 304, 307, 308, 310, 313, 323, 326, 328, 329, 336, 353, 354, 364, 373, 385, 395, 407, 411, 412, 413, 420, 433, 435, 439, 445, 456, 468, 481, 485, 490, 492, 508, 517, 526, 529, 531, 535, 543, 546, 559, 570, 579, 584, 588, 593, 602, 606, 607, 616, 617, 631, 642, ...], 'EV': [11, 13, 29, 40, 69, 100, 106, 118, 136, 143, 147, 164, 167, 170, 194, 196, 199, 205, 208, 219, 220, 225, 231, 233, 236, 251, 252, 261, 264, 265, 268, 282, 291, 293, 298, 312, 319, 337, 352, 362, 363, 369, 371, 383, 403, 414, 415, 424, 429, 437, 442, 443, 459, 460, 465, 470, 495, 499, 503, 505, 506, 522, 525, 530, 541, 567, 574, 580, 583, 632, 645, 654, 659, 677, 683, 689, 693, 695, 697, 714, 721, 723, 725, 730, 740, 742, 761, 764, 765, 768, 772, 776, 777, 778, 785, 787, 790, 791, 794, 799, ...], 'F9': [7, 93, 209, 232, 247, 290, 301, 386, 444, 483, 553, 563, 596, 598, 599, 605, 665, 685, 738, 844, 870, 948, 985, 1103, 1167, 1181, 1264, 1374, 1382, 1407, 1421, 1435, 1489, 1590, 1611, 1697, 1746, 1760, 1775, 1776, 1807, 1830, 1925, 1962, 2014, 2036, 2069, 2078, 2111, 2125, 2208, 2335, 2405, 2515, 2557, 2579, 2600, 2683, 2693, 2708, 2731, 2733, 2805, 2853, 2861, 3024, 3241, 3288, 3374, 3382, 3395, 3418, 3555, 3570, 3575, 3628, 3638, 3716, 3735, 3777, 3843, 3923, 3962, 3977, 4016, 4031, 4046, 4069, 4111, 4151, 4172, 4287, 4356, 4371, 4420, 4469, 4542, 4641, 4671, 4720, ...], 'HA': [582, 712, 878, 1053, 1269, 1345, 1544, 1864, 2316, 2644, 2681, 3002, 3165, 3227, 4359, 4414, 4926, 5187, 5281, 5320, 5363, 7267, 7372, 7744, 7808, 9360, 9761, 10163, 11119, 11626, 11743, 11809, 12275, 12752, 12780, 13466, 13755, 13956, 14566, 15064, 15316, 15959, 16501, 17632, 18467, 18720, 20461, 21558, 21761, 22454, 22584, 22592, 22618, 22858, 22892, 23177, 23374, 23773, 25763, 26127, 27745, 28864, 29608, 29762, 29875, 30610, 31164, 31505, 31530, 31675, 32030, 32037, 32987, 33311, 33747, 34884, 35959, 36068, 36319, 36425, 37119, 37128, 37664, 37983, 38440, 39475, 39482, 39625, 41664, 42165, 42485, 42846, 44068, 45330, 46713, 47772, 48279, 48722, 49667, 49782, ...], 'MQ': [2, 10, 18, 24, 50, 60, 71, 78, 81, 103, 105, 115, 125, 149, 180, 187, 210, 214, 228, 285, 296, 314, 320, 334, 335, 339, 341, 357, 458, 472, 484, 486, 488, 502, 516, 524, 534, 547, 581, 601, 622, 638, 639, 646, 661, 707, 711, 722, 727, 751, 769, 774, 802, 805, 830, 851, 854, 856, 865, 876, 915, 939, 955, 968, 977, 980, 1002, 1006, 1036, 1085, 1087, 1104, 1113, 1150, 1158, 1163, 1168, 1169, 1204, 1229, 1231, 1234, 1238, 1246, 1287, 1296, 1303, 1306, 1328, 1329, 1336, 1393, 1398, 1410, 1423, 1428, 1436, 1448, 1449, 1454, ...], 'NK': [17, 74, 95, 109, 166, 345, 358, 401, 434, 436, 446, 452, 482, 507, 510, 519, 533, 544, 610, 615, 620, 729, 735, 845, 858, 887, 898, 916, 970, 1017, 1095, 1097, 1153, 1188, 1208, 1257, 1342, 1392, 1536, 1579, 1580, 1657, 1732, 1761, 1863, 1943, 1948, 1990, 2026, 2068, 2071, 2118, 2124, 2149, 2177, 2196, 2214, 2244, 2299, 2334, 2378, 2424, 2425, 2447, 2523, 2537, 2592, 2613, 2639, 2643, 2740, 2749, 2752, 2764, 2765, 2770, 2786, 2875, 2886, 3018, 3061, 3065, 3072, 3151, 3153, 3174, 3248, 3315, 3381, 3435, 3566, 3598, 3674, 3696, 3701, 3708, 3840, 3877, 3894, 3934, ...], 'OO': [12, 16, 22, 25, 27, 34, 39, 42, 51, 52, 54, 58, 61, 63, 65, 82, 86, 99, 102, 113, 124, 126, 135, 138, 139, 151, 157, 161, 168, 175, 213, 223, 237, 240, 242, 255, 257, 278, 281, 284, 288, 297, 315, 317, 318, 322, 324, 327, 331, 359, 361, 366, 367, 370, 376, 378, 379, 387, 392, 418, 421, 447, 448, 540, 552, 554, 565, 569, 576, 590, 600, 603, 604, 609, 625, 629, 637, 649, 653, 658, 660, 663, 666, 671, 672, 673, 676, 679, 681, 682, 684, 691, 692, 708, 734, 754, 755, 762, 789, 793, ...], 'UA': [1, 5, 9, 14, 21, 44, 45, 67, 70, 72, 94, 108, 110, 134, 140, 141, 144, 145, 163, 177, 183, 192, 197, 246, 260, 262, 263, 266, 269, 273, 275, 283, 295, 325, 338, 340, 349, 368, 374, 375, 377, 389, 394, 396, 408, 423, 425, 438, 440, 462, 463, 469, 471, 474, 479, 501, 511, 512, 513, 520, 523, 536, 539, 542, 555, 557, 566, 573, 577, 586, 594, 595, 608, 621, 623, 630, 635, 636, 647, 650, 651, 667, 686, 687, 698, 699, 700, 701, 713, 717, 719, 745, 756, 773, 784, 801, 829, 836, 842, 843, ...], 'US': [31, 35, 49, 96, 104, 111, 112, 119, 148, 150, 153, 191, 202, 203, 224, 229, 355, 360, 372, 384, 391, 467, 473, 477, 478, 487, 494, 538, 545, 558, 561, 564, 575, 578, 619, 690, 715, 726, 728, 760, 795, 806, 881, 896, 901, 910, 954, 1028, 1033, 1068, 1134, 1135, 1143, 1155, 1164, 1201, 1210, 1245, 1274, 1288, 1290, 1291, 1335, 1355, 1377, 1399, 1406, 1446, 1459, 1462, 1470, 1471, 1476, 1481, 1493, 1499, 1503, 1552, 1554, 1565, 1589, 1593, 1603, 1661, 1680, 1716, 1731, 1733, 1735, 1743, 1749, 1754, 1755, 1758, 1767, 1773, 1790, 1821, 1904, 1905, ...], 'VX': [56, 227, 243, 417, 432, 464, 614, 641, 703, 759, 812, 825, 943, 1058, 1092, 1093, 1192, 1302, 1312, 1343, 1369, 1452, 1586, 1599, 1644, 1696, 1705, 1805, 1930, 1957, 2048, 2219, 2220, 2270, 2302, 2324, 2484, 2572, 2620, 2646, 2735, 2753, 2808, 2880, 2898, 2919, 3110, 3111, 3120, 3210, 3246, 3261, 3302, 3427, 3501, 3510, 3664, 3680, 3694, 3731, 3860, 3938, 3968, 4005, 4029, 4035, 4056, 4088, 4270, 4351, 4531, 4536, 4540, 4692, 4712, 4728, 4746, 4825, 4856, 4860, 4869, 4876, 4890, 4901, 4928, 4994, 5075, 5078, 5115, 5143, 5167, 5206, 5245, 5265, 5379, 5383, 5413, 5502, 5512, 5522, ...], 'WN': [0, 4, 19, 20, 23, 28, 30, 43, 59, 64, 68, 80, 83, 84, 88, 92, 114, 132, 156, 173, 176, 186, 193, 195, 212, 217, 218, 226, 230, 234, 256, 259, 271, 272, 274, 276, 280, 287, 292, 294, 299, 300, 302, 303, 306, 316, 344, 346, 350, 351, 356, 365, 388, 399, 400, 406, 409, 410, 416, 422, 426, 428, 454, 461, 475, 480, 489, 496, 498, 504, 515, 532, 562, 571, 585, 597, 611, 627, 633, 648, 657, 669, 670, 674, 678, 710, 720, 724, 731, 744, 747, 752, 753, 788, 797, 804, 807, 813, 815, 817, ...]}"
      ]
     },
     "execution_count": 35,
     "metadata": {},
     "output_type": "execute_result"
    }
   ],
   "source": [
    "r = df.groupby(\"AIRLINE\")\n",
    "r.groups"
   ]
  },
  {
   "cell_type": "code",
   "execution_count": 39,
   "metadata": {},
   "outputs": [],
   "source": [
    "result = df.groupby('AIRLINE')[\"AIR_TIME\"].mean().sort_values(ascending=False)"
   ]
  },
  {
   "cell_type": "code",
   "execution_count": 40,
   "metadata": {},
   "outputs": [
    {
     "data": {
      "text/plain": [
       "<Axes: xlabel='AIRLINE'>"
      ]
     },
     "execution_count": 40,
     "metadata": {},
     "output_type": "execute_result"
    },
    {
     "data": {
      "image/png": "[encoded data removed]",
      "text/plain": [
       "<Figure size 640x480 with 1 Axes>"
      ]
     },
     "metadata": {},
     "output_type": "display_data"
    }
   ],
   "source": [
    "result.plot(kind='bar')"
   ]
  },
  {
   "cell_type": "code",
   "execution_count": 41,
   "metadata": {},
   "outputs": [
    {
     "data": {
      "text/html": [
       "<div>\n",
       "<style scoped>\n",
       "    .dataframe tbody tr th:only-of-type {\n",
       "        vertical-align: middle;\n",
       "    }\n",
       "\n",
       "    .dataframe tbody tr th {\n",
       "        vertical-align: top;\n",
       "    }\n",
       "\n",
       "    .dataframe thead th {\n",
       "        text-align: right;\n",
       "    }\n",
       "</style>\n",
       "<table border=\"1\" class=\"dataframe\">\n",
       "  <thead>\n",
       "    <tr style=\"text-align: right;\">\n",
       "      <th></th>\n",
       "      <th>ARR_DELAY</th>\n",
       "      <th>DEP_DELAY</th>\n",
       "    </tr>\n",
       "    <tr>\n",
       "      <th>AIRLINE</th>\n",
       "      <th></th>\n",
       "      <th></th>\n",
       "    </tr>\n",
       "  </thead>\n",
       "  <tbody>\n",
       "    <tr>\n",
       "      <th>AA</th>\n",
       "      <td>5.542661</td>\n",
       "      <td>11.274057</td>\n",
       "    </tr>\n",
       "    <tr>\n",
       "      <th>AS</th>\n",
       "      <td>-0.833333</td>\n",
       "      <td>1.808594</td>\n",
       "    </tr>\n",
       "    <tr>\n",
       "      <th>B6</th>\n",
       "      <td>8.692593</td>\n",
       "      <td>14.287823</td>\n",
       "    </tr>\n",
       "    <tr>\n",
       "      <th>DL</th>\n",
       "      <td>0.339691</td>\n",
       "      <td>7.242450</td>\n",
       "    </tr>\n",
       "    <tr>\n",
       "      <th>EV</th>\n",
       "      <td>7.034580</td>\n",
       "      <td>9.092625</td>\n",
       "    </tr>\n",
       "    <tr>\n",
       "      <th>F9</th>\n",
       "      <td>13.630651</td>\n",
       "      <td>14.310398</td>\n",
       "    </tr>\n",
       "    <tr>\n",
       "      <th>HA</th>\n",
       "      <td>4.972973</td>\n",
       "      <td>2.571429</td>\n",
       "    </tr>\n",
       "    <tr>\n",
       "      <th>MQ</th>\n",
       "      <td>6.860591</td>\n",
       "      <td>11.094323</td>\n",
       "    </tr>\n",
       "    <tr>\n",
       "      <th>NK</th>\n",
       "      <td>18.436070</td>\n",
       "      <td>19.514401</td>\n",
       "    </tr>\n",
       "    <tr>\n",
       "      <th>OO</th>\n",
       "      <td>7.593463</td>\n",
       "      <td>9.662279</td>\n",
       "    </tr>\n",
       "    <tr>\n",
       "      <th>UA</th>\n",
       "      <td>7.765755</td>\n",
       "      <td>16.210485</td>\n",
       "    </tr>\n",
       "    <tr>\n",
       "      <th>US</th>\n",
       "      <td>1.681105</td>\n",
       "      <td>4.361355</td>\n",
       "    </tr>\n",
       "    <tr>\n",
       "      <th>VX</th>\n",
       "      <td>5.348884</td>\n",
       "      <td>8.918946</td>\n",
       "    </tr>\n",
       "    <tr>\n",
       "      <th>WN</th>\n",
       "      <td>6.397353</td>\n",
       "      <td>12.639366</td>\n",
       "    </tr>\n",
       "  </tbody>\n",
       "</table>\n",
       "</div>"
      ],
      "text/plain": [
       "         ARR_DELAY  DEP_DELAY\n",
       "AIRLINE                      \n",
       "AA        5.542661  11.274057\n",
       "AS       -0.833333   1.808594\n",
       "B6        8.692593  14.287823\n",
       "DL        0.339691   7.242450\n",
       "EV        7.034580   9.092625\n",
       "F9       13.630651  14.310398\n",
       "HA        4.972973   2.571429\n",
       "MQ        6.860591  11.094323\n",
       "NK       18.436070  19.514401\n",
       "OO        7.593463   9.662279\n",
       "UA        7.765755  16.210485\n",
       "US        1.681105   4.361355\n",
       "VX        5.348884   8.918946\n",
       "WN        6.397353  12.639366"
      ]
     },
     "execution_count": 41,
     "metadata": {},
     "output_type": "execute_result"
    }
   ],
   "source": [
    "df.groupby('AIRLINE')[['ARR_DELAY', 'DEP_DELAY']].mean()"
   ]
  },
  {
   "cell_type": "code",
   "execution_count": null,
   "metadata": {},
   "outputs": [
    {
     "data": {
      "text/html": [
       "<div>\n",
       "<style scoped>\n",
       "    .dataframe tbody tr th:only-of-type {\n",
       "        vertical-align: middle;\n",
       "    }\n",
       "\n",
       "    .dataframe tbody tr th {\n",
       "        vertical-align: top;\n",
       "    }\n",
       "\n",
       "    .dataframe thead th {\n",
       "        text-align: right;\n",
       "    }\n",
       "</style>\n",
       "<table border=\"1\" class=\"dataframe\">\n",
       "  <thead>\n",
       "    <tr style=\"text-align: right;\">\n",
       "      <th></th>\n",
       "      <th>min</th>\n",
       "      <th>max</th>\n",
       "    </tr>\n",
       "    <tr>\n",
       "      <th>MONTH</th>\n",
       "      <th></th>\n",
       "      <th></th>\n",
       "    </tr>\n",
       "  </thead>\n",
       "  <tbody>\n",
       "    <tr>\n",
       "      <th>1</th>\n",
       "      <td>-57.0</td>\n",
       "      <td>732.0</td>\n",
       "    </tr>\n",
       "    <tr>\n",
       "      <th>2</th>\n",
       "      <td>-58.0</td>\n",
       "      <td>839.0</td>\n",
       "    </tr>\n",
       "    <tr>\n",
       "      <th>3</th>\n",
       "      <td>-47.0</td>\n",
       "      <td>589.0</td>\n",
       "    </tr>\n",
       "    <tr>\n",
       "      <th>4</th>\n",
       "      <td>-53.0</td>\n",
       "      <td>669.0</td>\n",
       "    </tr>\n",
       "    <tr>\n",
       "      <th>5</th>\n",
       "      <td>-51.0</td>\n",
       "      <td>692.0</td>\n",
       "    </tr>\n",
       "    <tr>\n",
       "      <th>6</th>\n",
       "      <td>-50.0</td>\n",
       "      <td>616.0</td>\n",
       "    </tr>\n",
       "    <tr>\n",
       "      <th>7</th>\n",
       "      <td>-46.0</td>\n",
       "      <td>858.0</td>\n",
       "    </tr>\n",
       "    <tr>\n",
       "      <th>8</th>\n",
       "      <td>-51.0</td>\n",
       "      <td>741.0</td>\n",
       "    </tr>\n",
       "    <tr>\n",
       "      <th>9</th>\n",
       "      <td>-48.0</td>\n",
       "      <td>623.0</td>\n",
       "    </tr>\n",
       "    <tr>\n",
       "      <th>11</th>\n",
       "      <td>-57.0</td>\n",
       "      <td>682.0</td>\n",
       "    </tr>\n",
       "    <tr>\n",
       "      <th>12</th>\n",
       "      <td>-60.0</td>\n",
       "      <td>1185.0</td>\n",
       "    </tr>\n",
       "  </tbody>\n",
       "</table>\n",
       "</div>"
      ],
      "text/plain": [
       "        min     max\n",
       "MONTH              \n",
       "1     -57.0   732.0\n",
       "2     -58.0   839.0\n",
       "3     -47.0   589.0\n",
       "4     -53.0   669.0\n",
       "5     -51.0   692.0\n",
       "6     -50.0   616.0\n",
       "7     -46.0   858.0\n",
       "8     -51.0   741.0\n",
       "9     -48.0   623.0\n",
       "11    -57.0   682.0\n",
       "12    -60.0  1185.0"
      ]
     },
     "execution_count": 42,
     "metadata": {},
     "output_type": "execute_result"
    }
   ],
   "source": [
    "df.groupby('MONTH')['ARR_DELAY'].agg(['min', 'max'])"
   ]
  },
  {
   "cell_type": "code",
   "execution_count": 44,
   "metadata": {},
   "outputs": [
    {
     "data": {
      "text/html": [
       "<div>\n",
       "<style scoped>\n",
       "    .dataframe tbody tr th:only-of-type {\n",
       "        vertical-align: middle;\n",
       "    }\n",
       "\n",
       "    .dataframe tbody tr th {\n",
       "        vertical-align: top;\n",
       "    }\n",
       "\n",
       "    .dataframe thead tr th {\n",
       "        text-align: left;\n",
       "    }\n",
       "\n",
       "    .dataframe thead tr:last-of-type th {\n",
       "        text-align: right;\n",
       "    }\n",
       "</style>\n",
       "<table border=\"1\" class=\"dataframe\">\n",
       "  <thead>\n",
       "    <tr>\n",
       "      <th></th>\n",
       "      <th colspan=\"2\" halign=\"left\">ARR_DELAY</th>\n",
       "      <th colspan=\"2\" halign=\"left\">DEP_DELAY</th>\n",
       "    </tr>\n",
       "    <tr>\n",
       "      <th></th>\n",
       "      <th>min</th>\n",
       "      <th>max</th>\n",
       "      <th>min</th>\n",
       "      <th>max</th>\n",
       "    </tr>\n",
       "    <tr>\n",
       "      <th>MONTH</th>\n",
       "      <th></th>\n",
       "      <th></th>\n",
       "      <th></th>\n",
       "      <th></th>\n",
       "    </tr>\n",
       "  </thead>\n",
       "  <tbody>\n",
       "    <tr>\n",
       "      <th>1</th>\n",
       "      <td>-57.0</td>\n",
       "      <td>732.0</td>\n",
       "      <td>-24.0</td>\n",
       "      <td>751.0</td>\n",
       "    </tr>\n",
       "    <tr>\n",
       "      <th>2</th>\n",
       "      <td>-58.0</td>\n",
       "      <td>839.0</td>\n",
       "      <td>-20.0</td>\n",
       "      <td>852.0</td>\n",
       "    </tr>\n",
       "    <tr>\n",
       "      <th>3</th>\n",
       "      <td>-47.0</td>\n",
       "      <td>589.0</td>\n",
       "      <td>-19.0</td>\n",
       "      <td>596.0</td>\n",
       "    </tr>\n",
       "    <tr>\n",
       "      <th>4</th>\n",
       "      <td>-53.0</td>\n",
       "      <td>669.0</td>\n",
       "      <td>-20.0</td>\n",
       "      <td>672.0</td>\n",
       "    </tr>\n",
       "    <tr>\n",
       "      <th>5</th>\n",
       "      <td>-51.0</td>\n",
       "      <td>692.0</td>\n",
       "      <td>-16.0</td>\n",
       "      <td>702.0</td>\n",
       "    </tr>\n",
       "    <tr>\n",
       "      <th>6</th>\n",
       "      <td>-50.0</td>\n",
       "      <td>616.0</td>\n",
       "      <td>-19.0</td>\n",
       "      <td>617.0</td>\n",
       "    </tr>\n",
       "    <tr>\n",
       "      <th>7</th>\n",
       "      <td>-46.0</td>\n",
       "      <td>858.0</td>\n",
       "      <td>-22.0</td>\n",
       "      <td>835.0</td>\n",
       "    </tr>\n",
       "    <tr>\n",
       "      <th>8</th>\n",
       "      <td>-51.0</td>\n",
       "      <td>741.0</td>\n",
       "      <td>-18.0</td>\n",
       "      <td>755.0</td>\n",
       "    </tr>\n",
       "    <tr>\n",
       "      <th>9</th>\n",
       "      <td>-48.0</td>\n",
       "      <td>623.0</td>\n",
       "      <td>-17.0</td>\n",
       "      <td>640.0</td>\n",
       "    </tr>\n",
       "    <tr>\n",
       "      <th>11</th>\n",
       "      <td>-57.0</td>\n",
       "      <td>682.0</td>\n",
       "      <td>-20.0</td>\n",
       "      <td>684.0</td>\n",
       "    </tr>\n",
       "    <tr>\n",
       "      <th>12</th>\n",
       "      <td>-60.0</td>\n",
       "      <td>1185.0</td>\n",
       "      <td>-18.0</td>\n",
       "      <td>1194.0</td>\n",
       "    </tr>\n",
       "  </tbody>\n",
       "</table>\n",
       "</div>"
      ],
      "text/plain": [
       "      ARR_DELAY         DEP_DELAY        \n",
       "            min     max       min     max\n",
       "MONTH                                    \n",
       "1         -57.0   732.0     -24.0   751.0\n",
       "2         -58.0   839.0     -20.0   852.0\n",
       "3         -47.0   589.0     -19.0   596.0\n",
       "4         -53.0   669.0     -20.0   672.0\n",
       "5         -51.0   692.0     -16.0   702.0\n",
       "6         -50.0   616.0     -19.0   617.0\n",
       "7         -46.0   858.0     -22.0   835.0\n",
       "8         -51.0   741.0     -18.0   755.0\n",
       "9         -48.0   623.0     -17.0   640.0\n",
       "11        -57.0   682.0     -20.0   684.0\n",
       "12        -60.0  1185.0     -18.0  1194.0"
      ]
     },
     "execution_count": 44,
     "metadata": {},
     "output_type": "execute_result"
    }
   ],
   "source": [
    "df.groupby('MONTH')[['ARR_DELAY', 'DEP_DELAY']].agg(['min', 'max'])"
   ]
  },
  {
   "cell_type": "markdown",
   "metadata": {
    "slideshow": {
     "slide_type": "subslide"
    }
   },
   "source": [
    "## 복수열 기준 그룹핑\n",
    "\n",
    "-   두개 이상의 열을 그룹으로 묶을 수 있다.\n",
    "-   groupby의 매개변수에 그룹으로 묶을 컬럼들의 이름을 리스트로 전달한다.\n"
   ]
  },
  {
   "cell_type": "code",
   "execution_count": 46,
   "metadata": {},
   "outputs": [
    {
     "data": {
      "text/plain": [
       "ORG_AIR  DEST_AIR\n",
       "DEN      COS          17.103448\n",
       "MSP      RST          18.461538\n",
       "ORD      MKE          19.240876\n",
       "IAH      CLL          20.217391\n",
       "DFW      ACT          20.829787\n",
       "                        ...    \n",
       "         HNL         480.619048\n",
       "ORD      HNL         504.500000\n",
       "         OGG         509.333333\n",
       "MSP      HNL         513.000000\n",
       "ATL      HNL         546.800000\n",
       "Name: AIR_TIME, Length: 1130, dtype: float64"
      ]
     },
     "execution_count": 46,
     "metadata": {},
     "output_type": "execute_result"
    }
   ],
   "source": [
    "df.groupby(['ORG_AIR', 'DEST_AIR'])[\"AIR_TIME\"].mean().sort_values()"
   ]
  },
  {
   "cell_type": "code",
   "execution_count": null,
   "metadata": {},
   "outputs": [],
   "source": []
  },
  {
   "cell_type": "code",
   "execution_count": null,
   "metadata": {},
   "outputs": [],
   "source": []
  },
  {
   "cell_type": "code",
   "execution_count": null,
   "metadata": {},
   "outputs": [],
   "source": []
  },
  {
   "cell_type": "code",
   "execution_count": null,
   "metadata": {},
   "outputs": [],
   "source": []
  },
  {
   "cell_type": "markdown",
   "metadata": {
    "slideshow": {
     "slide_type": "subslide"
    }
   },
   "source": [
    "## Group 별 집계결과에서 특정 조건의 항목만 조회\n",
    "\n",
    "-   Groupby 집계 후 boolean indexing 처리한다.\n"
   ]
  },
  {
   "cell_type": "code",
   "execution_count": null,
   "metadata": {
    "slideshow": {
     "slide_type": "fragment"
    }
   },
   "outputs": [],
   "source": [
    "# 항공사별 취소 건수가 100건 이상인 항공사만 조회\n"
   ]
  },
  {
   "cell_type": "markdown",
   "metadata": {
    "slideshow": {
     "slide_type": "slide"
    }
   },
   "source": [
    "# 사용자 정의 집계함수를 agg() 를 이용해 호출\n",
    "\n",
    "## 사용자 정의 집계 함수 정의\n",
    "\n",
    "-   매개변수\n",
    "    1. Series 또는 DataFrame을 받을 매개변수(필수)\n",
    "    2. 필요한 값을 받을 매개변수를 선언한다. (선택)\n",
    "-   반환값\n",
    "    -   집계결과값 반환\n"
   ]
  },
  {
   "cell_type": "code",
   "execution_count": null,
   "metadata": {},
   "outputs": [],
   "source": [
    "###  최대 최소값의의 차이를 집계하는 사용자 정의 집계함수.\n",
    "def min_max_diff(column):\n",
    "    return column.max() - column.min()"
   ]
  },
  {
   "cell_type": "code",
   "execution_count": null,
   "metadata": {},
   "outputs": [],
   "source": [
    "min_max_diff(df['AIR_TIME'])"
   ]
  },
  {
   "cell_type": "code",
   "execution_count": null,
   "metadata": {},
   "outputs": [],
   "source": [
    "df['AIR_TIME'].agg(min_max_diff)"
   ]
  },
  {
   "cell_type": "code",
   "execution_count": null,
   "metadata": {},
   "outputs": [],
   "source": [
    "df['AIR_TIME'].agg([\"min\", \"max\", min_max_diff])"
   ]
  },
  {
   "cell_type": "code",
   "execution_count": null,
   "metadata": {},
   "outputs": [],
   "source": [
    "df[['DEP_DELAY', 'ARR_DELAY']].agg(min_max_diff)"
   ]
  },
  {
   "cell_type": "markdown",
   "metadata": {},
   "source": [
    "# pivot_table()\n",
    "\n",
    "엑셀의 pivot table 기능을 제공하는 메소드.  \n",
    "분류별 집계(Group으로 묶어 집계)를 처리하는 함수로 group으로 묶고자 하는 컬럼들을 행과 열로 위치시키고 집계값을 값으로 보여준다.  \n",
    "역할은 `groupby()`를 이용한 집계와 같은데 **여러개 컬럼을 기준으로 groupby 를 할 경우 집계결과를 읽는 것이 더 편하다.(가독성이 좋다)**\n",
    "\n",
    "> pivot() 함수와 역할이 다르다.  \n",
    "> pivot() 은 index와 column의 형태를 바꾸는 reshape 함수.\n",
    "\n",
    "-   `DataFrame.pivot_table(values=None, index=None, columns=None, aggfunc='mean', fill_value=None, margins=False, dropna=True, margins_name='All')`\n",
    "-   **매개변수**\n",
    "    -   **index**\n",
    "        -   문자열 또는 리스트. index로 올 컬럼들 => groupby였으면 묶었을 컬럼\n",
    "    -   **columns**\n",
    "        -   문자열 또는 리스트. column으로 올 컬럼들 => groupby였으면 묶었을 컬럼 (index/columns가 묶여서 groupby에 묶을 컬럼들이 된다.)\n",
    "    -   **values**\n",
    "        -   문자열 또는 리스트. 집계할 대상 컬럼들\n",
    "    -   **aggfunc**\n",
    "        -   집계함수 지정. 함수, 함수이름문자열, 함수리스트(함수이름 문자열/함수객체), dict: 집계할 함수\n",
    "        -   기본(생략시): 평균을 구한다. (mean이 기본값)\n",
    "    -   **fill_value, dropna**\n",
    "        -   fill_value: 집계시 NA가 나올경우 채울 값\n",
    "        -   dropna: boolean. 컬럼의 전체값이 NA인 경우 그 컬럼 제거(기본: True)\n",
    "    -   **margins/margins_name**\n",
    "        -   margin: boolean(기본: False). 총집계결과를 만들지 여부.\n",
    "        -   margin_name: margin의 이름 문자열로 지정 (생략시 All)\n"
   ]
  },
  {
   "cell_type": "markdown",
   "metadata": {
    "slideshow": {
     "slide_type": "fragment"
    }
   },
   "source": [
    "### 두개의 컬럼을 grouping 해서 집계\n",
    "\n",
    "-   항공사/출발공항코드 별 취소 총수 (1이 취소이므로 합계를 구한다.)\n",
    "-   사용컬럼\n",
    "    -   grouping할 컬럼\n",
    "        -   AIRLINE: 항공사\n",
    "        -   ORG_AIR: 출발 공항코드\n",
    "    -   집계대상컬럼\n",
    "        -   CANCELLED: 취소여부 - 1:취소, 0: 취소안됨\n",
    "-   집계: sum\n"
   ]
  },
  {
   "cell_type": "code",
   "execution_count": null,
   "metadata": {
    "scrolled": true
   },
   "outputs": [],
   "source": [
    "df.groupby([\"AIRLINE\", \"ORG_AIR\"])['CANCELLED'].sum()"
   ]
  },
  {
   "cell_type": "code",
   "execution_count": null,
   "metadata": {},
   "outputs": [],
   "source": []
  },
  {
   "cell_type": "code",
   "execution_count": null,
   "metadata": {},
   "outputs": [],
   "source": []
  },
  {
   "cell_type": "markdown",
   "metadata": {},
   "source": [
    "### 3개 이상의 컬럼을 grouping해서 집계\n",
    "\n",
    "-   항공사/월/출발공항코드 별 취소 총수\n",
    "-   grouping할 컬럼\n",
    "    -   AIRLINE:항공사\n",
    "    -   MONTH:월\n",
    "    -   ORG_AIR: 출발지 공항\n",
    "-   집계 대상컬럼\n",
    "    -   CANCELLED: 취소여부\n",
    "-   집계 : sum\n"
   ]
  },
  {
   "cell_type": "code",
   "execution_count": null,
   "metadata": {},
   "outputs": [],
   "source": [
    "df.pivot_table(\n",
    "    index=\"MONTH\", \n",
    "    columns=[\"AIRLINE\", \"ORG_AIR\"],\n",
    "    values=\"CANCELLED\",\n",
    "    aggfunc=\"sum\"\n",
    ").T"
   ]
  },
  {
   "cell_type": "code",
   "execution_count": null,
   "metadata": {},
   "outputs": [],
   "source": []
  },
  {
   "cell_type": "markdown",
   "metadata": {},
   "source": [
    "# cut() - 연속형(수치형)을 범주형으로 변환\n",
    "\n",
    "-   cut() : 지정한 값을 기준으로 구간을 나눠 그룹으로 묶는다.\n",
    "    -   `pd.cut(x, bins,right=True, labels=None)`\n",
    "    -   매개변수\n",
    "        -   **x**: 범주형으로 바꿀 대상. 1차원 배열형태(Series, 리스트, ndarray)의 자료구조\n",
    "        -   **bins**: 범주로 나눌때의 기준값(구간경계)들을 리스트로 묶어서 전달한다.\n",
    "        -   **right**: 구간경계의 오른쪽(True-기본)을 포함할지 왼쪽(False)을 포함할지\n",
    "        -   **labels**: 각 구간(범주)의 label을 리스트로 전달\n",
    "            -   생략하면 범위를 범주명으로 사용한다. (ex: (10, 20], ()-포함안함, []-포함)\n"
   ]
  },
  {
   "cell_type": "code",
   "execution_count": null,
   "metadata": {
    "scrolled": true
   },
   "outputs": [],
   "source": [
    "import numpy as np\n",
    "np.random.seed(0)\n",
    "d = {\n",
    "    \"age\": np.random.randint(1, 100, size=30),\n",
    "    \"tall\": np.round(np.random.normal(170, 10, size=30), 2),\n",
    "}\n",
    "df = pd.DataFrame(d)\n",
    "df"
   ]
  },
  {
   "cell_type": "markdown",
   "metadata": {},
   "source": [
    "> ### np.random.normal(평균, 표준편차, size=개수): 정규분포를 따르는 난수 생성\n",
    "> - 난수란 예측할 수 없고 일정한 규칙이 없는, 임의로 발생하는 수를 의미한다. 주로 통계적 분석이나 알고리즘에서 무작위성을 구현할 때 사용된다.\n",
    "> - 특정 데이터 분포를 이용해 난수를 발생시키면, 해당 분포의 특성을 따르는 난수가 생성되도록 제어할 수 있다.\n",
    ">   \n",
    "> #### 데이터 분포\n",
    "> - 분포의 사전적의미는 특정 범위나 구역 내에서 사물이나 현상이 퍼져 있는 상태를 의미\n",
    "> - **데이터 분포는** 값들이 전체 범위 내에서 어떻게 퍼져 있는지를 나타내는 패턴이다. 이를 통해 데이터의 중심 경향, 변동성, 대칭성 등을 파악할 수 있다.\n",
    "> #### 정규분포:\n",
    "> - 정규분포는 데이터가 **평균을 중심으로 좌우 대칭**을 이루며 **종 모양의 분포**를 나타내는 확률 분포다. 평균 주변에 데이터들이 집중되고, 평균에서 멀어질수록 데이터의 빈도가 감소하는 특징을 가진다. 대표적인 예로 사람들의 키나 시험 점수가 정규분포를 따르는 경우가 많다.\n",
    "> - 정규분포는 평균과 분산을 통해 표현된다.\n",
    "> - 정규분포중 평균이 0이고 표준편차가 1인 것을 **표준 정규 분포** 라고 한다.\n",
    "> - 정규분포를 이용한 난수\n",
    ">     - 평균 +- 표준편차  범위: 대략 70% 분포됨.\n",
    ">     - 평균 +- 표준편차 * 2 범위: 대략 95% 분포됨.\n",
    ">     - 평균 +- 표준편차 * 3 범위: 대략 99% 분포됨.\n",
    "> - ex)\n",
    ">    - 평균: 170, 표준편차: 10, 100 개 난수 생성\n",
    ">         - 160 ~ 180 : 70 개\n",
    ">         - 150 ~ 190 : 95 개"
   ]
  },
  {
   "cell_type": "code",
   "execution_count": null,
   "metadata": {},
   "outputs": [],
   "source": [
    "나이대 = pd.cut(\n",
    "    df['age'],    # 범주형으로 만들 수치형값들.\n",
    "    bins=3,       # 몇개의 범주로 나눌지. (범위로 등분)  \n",
    "    right=False   #default: True -> 등분 범위에 어느쪽을 포함시킬지.  # True: 끝 포함, False: 시작 포함\n",
    ")"
   ]
  },
  {
   "cell_type": "code",
   "execution_count": null,
   "metadata": {},
   "outputs": [],
   "source": [
    "pd.DataFrame({\"age\": df['age'], \"나이대\":나이대})"
   ]
  },
  {
   "cell_type": "code",
   "execution_count": null,
   "metadata": {},
   "outputs": [],
   "source": [
    "나이대.value_counts()"
   ]
  },
  {
   "cell_type": "markdown",
   "metadata": {},
   "source": [
    "-   범위를 표현방식\n",
    "    -   (시작값, 종료값), \\[시작값, 종료값\\] : 시작값 ~ 종료값\n",
    "    -   () : opened - 불포함, [] : closed - 포함\n",
    "    -   (100, 200): 100 ~ 200 (100, 200 불포함)\n",
    "    -   \\[100, 200\\]: 100 ~ 200 (100, 200 포함)\n",
    "    -   (100, 200]: 100 ~ 200 (100: 불포함, 200 포함)\n"
   ]
  },
  {
   "cell_type": "code",
   "execution_count": null,
   "metadata": {
    "scrolled": true
   },
   "outputs": [],
   "source": [
    "나이대 = pd.cut(\n",
    "    df['age'],   # 범주형으로 만들 수치형값들.\n",
    "    bins=3,      # 몇개의 범주로 나눌지. (범위로 등분)     \n",
    "    labels=[\"나이대1\", \"나이대2\", \"나이대3\"] # 범주값 지정.\n",
    ")\n",
    "나이대"
   ]
  },
  {
   "cell_type": "code",
   "execution_count": null,
   "metadata": {
    "scrolled": true
   },
   "outputs": [],
   "source": [
    "### 원하는 간격으로 범주값들을 나누기.\n",
    "\n",
    "l = [1, 5, 20, 40, 50, 100]   # 최소값, 분위값들(나누는 지점의 값), 최대값\n",
    "                              # 0 ~ 5, 5 ~ 20, 20 ~ 40, 40 ~ 50, 50 ~ 100\n",
    "result = pd.cut(df['age'], bins=l, labels=[\"유아\", \"청소년\", \"청년\", \"장년\", \"노년\"])\n",
    "result"
   ]
  },
  {
   "cell_type": "code",
   "execution_count": null,
   "metadata": {},
   "outputs": [],
   "source": [
    "result_tall = pd.cut(df['tall'], bins=3, labels=[\"소\", \"중\", \"대\"])\n",
    "result_tall"
   ]
  },
  {
   "cell_type": "code",
   "execution_count": null,
   "metadata": {},
   "outputs": [],
   "source": [
    "df.insert(1, \"나이대\", result)\n",
    "df.head()"
   ]
  },
  {
   "cell_type": "code",
   "execution_count": null,
   "metadata": {},
   "outputs": [],
   "source": [
    "df['키크기'] = result_tall\n",
    "df.head()"
   ]
  },
  {
   "cell_type": "code",
   "execution_count": null,
   "metadata": {},
   "outputs": [],
   "source": [
    "df.groupby(\"나이대\")['tall'].mean()"
   ]
  },
  {
   "cell_type": "code",
   "execution_count": null,
   "metadata": {},
   "outputs": [],
   "source": [
    "df.groupby('키크기')['age'].mean()"
   ]
  },
  {
   "cell_type": "code",
   "execution_count": null,
   "metadata": {},
   "outputs": [],
   "source": []
  },
  {
   "cell_type": "markdown",
   "metadata": {},
   "source": [
    "# apply() - Series, DataFrame의 데이터 일괄 처리\n",
    "\n",
    "데이터프레임의 행들과 열들 또는 Series의 원소들에 공통된 처리를 할 때 apply 함수를 이용하면 반복문을 사용하지 않고 일괄 처리가 가능하다.\n",
    "\n",
    "-   DataFrame.apply(함수, axis=0, args=(), \\*\\*kwarg)\n",
    "    -   인수로 행이나 열을 받는 함수를 apply 메서드의 인수로 넣으면 데이터프레임의 행이나 열들을 하나씩 함수에 전달한다.\n",
    "    -   매개변수\n",
    "        -   **함수**: DataFrame의 행들 또는 열들을 전달할 함수\n",
    "        -   **axis**: **0-컬럼(열)을 전달, 1-행을 전달 (기본값 0)**\n",
    "        -   **args**: 함수에 행/열 이외에 전달할 매개변수를 위치기반(순서대로) 튜플로 전달\n",
    "        -   **\\*\\*kwarg**: 함수에 행/열 이외에 전달할 매개변수를 키워드 인자로 전달\n",
    "-   Series.apply(함수, args=(), \\*\\*kwarg)\n",
    "    -   인수로 Series의 원소들을 받는 함수를 apply 메소드의 인수로 넣으면 Series의 원소들을 하나씩 함수로 전달한다.\n",
    "    -   매개변수\n",
    "        -   **함수**: Series의 원소들을 전달할 함수\n",
    "        -   **args**: 함수에 원소 이외에 전달할 매개변수를 위치기반(순서대로) 튜플로 전달\n",
    "        -   **\\*\\*kwarg**: 함수에 원소 이외에 전달할 매개변수를 키워드 인자로 전달\n"
   ]
  },
  {
   "cell_type": "code",
   "execution_count": 1,
   "metadata": {},
   "outputs": [
    {
     "data": {
      "text/plain": [
       "Index(['MONTH', 'DAY', 'WEEKDAY', 'AIRLINE', 'ORG_AIR', 'DEST_AIR',\n",
       "       'SCHED_DEP', 'DEP_DELAY', 'AIR_TIME', 'DIST', 'SCHED_ARR', 'ARR_DELAY',\n",
       "       'DIVERTED', 'CANCELLED'],\n",
       "      dtype='object')"
      ]
     },
     "execution_count": 1,
     "metadata": {},
     "output_type": "execute_result"
    }
   ],
   "source": [
    "import pandas as pd\n",
    "df = pd.read_csv(\"data/flights.csv\")\n",
    "df.columns"
   ]
  },
  {
   "cell_type": "code",
   "execution_count": 2,
   "metadata": {},
   "outputs": [
    {
     "data": {
      "text/plain": [
       "WEEKDAY\n",
       "1    8720\n",
       "2    8535\n",
       "3    8706\n",
       "4    8659\n",
       "5    8453\n",
       "6    7052\n",
       "7    8367\n",
       "Name: count, dtype: int64"
      ]
     },
     "execution_count": 2,
     "metadata": {},
     "output_type": "execute_result"
    }
   ],
   "source": [
    "# 요일: 1 (월), 7 (일)\n",
    "df['WEEKDAY'].value_counts().sort_index()"
   ]
  },
  {
   "cell_type": "code",
   "execution_count": null,
   "metadata": {},
   "outputs": [],
   "source": [
    "\"월화수목금토일\"[1]"
   ]
  },
  {
   "cell_type": "code",
   "execution_count": null,
   "metadata": {},
   "outputs": [],
   "source": [
    "# 일괄처리 함수 (정수->요일 문자열로 변환)\n",
    "import numpy as np\n",
    "def convert_weekday(value):\n",
    "    if pd.isna(value):\n",
    "        return np.nan\n",
    "    return \"월화수목금토일\"[value-1]+\"요일\""
   ]
  },
  {
   "cell_type": "code",
   "execution_count": 4,
   "metadata": {
    "scrolled": true
   },
   "outputs": [
    {
     "data": {
      "text/plain": [
       "150    금요일\n",
       "151    금요일\n",
       "152    금요일\n",
       "153    금요일\n",
       "154    금요일\n",
       "155    금요일\n",
       "156    금요일\n",
       "157    금요일\n",
       "158    금요일\n",
       "159    금요일\n",
       "Name: WEEKDAY, dtype: object"
      ]
     },
     "execution_count": 4,
     "metadata": {},
     "output_type": "execute_result"
    }
   ],
   "source": [
    "df['WEEKDAY'].apply(convert_weekday)[150:160]"
   ]
  },
  {
   "cell_type": "code",
   "execution_count": 6,
   "metadata": {},
   "outputs": [
    {
     "data": {
      "text/html": [
       "<div>\n",
       "<style scoped>\n",
       "    .dataframe tbody tr th:only-of-type {\n",
       "        vertical-align: middle;\n",
       "    }\n",
       "\n",
       "    .dataframe tbody tr th {\n",
       "        vertical-align: top;\n",
       "    }\n",
       "\n",
       "    .dataframe thead th {\n",
       "        text-align: right;\n",
       "    }\n",
       "</style>\n",
       "<table border=\"1\" class=\"dataframe\">\n",
       "  <thead>\n",
       "    <tr style=\"text-align: right;\">\n",
       "      <th></th>\n",
       "      <th>MONTH</th>\n",
       "      <th>DAY</th>\n",
       "      <th>WEEKDAY</th>\n",
       "      <th>AIRLINE</th>\n",
       "      <th>ORG_AIR</th>\n",
       "      <th>DEST_AIR</th>\n",
       "      <th>SCHED_DEP</th>\n",
       "      <th>DEP_DELAY</th>\n",
       "      <th>AIR_TIME</th>\n",
       "      <th>DIST</th>\n",
       "      <th>SCHED_ARR</th>\n",
       "      <th>ARR_DELAY</th>\n",
       "      <th>DIVERTED</th>\n",
       "      <th>CANCELLED</th>\n",
       "    </tr>\n",
       "  </thead>\n",
       "  <tbody>\n",
       "    <tr>\n",
       "      <th>0</th>\n",
       "      <td>1</td>\n",
       "      <td>1</td>\n",
       "      <td>목요일</td>\n",
       "      <td>WN</td>\n",
       "      <td>LAX</td>\n",
       "      <td>SLC</td>\n",
       "      <td>1625</td>\n",
       "      <td>58.0</td>\n",
       "      <td>94.0</td>\n",
       "      <td>590</td>\n",
       "      <td>1905</td>\n",
       "      <td>65.0</td>\n",
       "      <td>0</td>\n",
       "      <td>0</td>\n",
       "    </tr>\n",
       "    <tr>\n",
       "      <th>1</th>\n",
       "      <td>1</td>\n",
       "      <td>1</td>\n",
       "      <td>목요일</td>\n",
       "      <td>UA</td>\n",
       "      <td>DEN</td>\n",
       "      <td>IAD</td>\n",
       "      <td>823</td>\n",
       "      <td>7.0</td>\n",
       "      <td>154.0</td>\n",
       "      <td>1452</td>\n",
       "      <td>1333</td>\n",
       "      <td>-13.0</td>\n",
       "      <td>0</td>\n",
       "      <td>0</td>\n",
       "    </tr>\n",
       "    <tr>\n",
       "      <th>2</th>\n",
       "      <td>1</td>\n",
       "      <td>1</td>\n",
       "      <td>목요일</td>\n",
       "      <td>MQ</td>\n",
       "      <td>DFW</td>\n",
       "      <td>VPS</td>\n",
       "      <td>1305</td>\n",
       "      <td>36.0</td>\n",
       "      <td>85.0</td>\n",
       "      <td>641</td>\n",
       "      <td>1453</td>\n",
       "      <td>35.0</td>\n",
       "      <td>0</td>\n",
       "      <td>0</td>\n",
       "    </tr>\n",
       "    <tr>\n",
       "      <th>3</th>\n",
       "      <td>1</td>\n",
       "      <td>1</td>\n",
       "      <td>목요일</td>\n",
       "      <td>AA</td>\n",
       "      <td>DFW</td>\n",
       "      <td>DCA</td>\n",
       "      <td>1555</td>\n",
       "      <td>7.0</td>\n",
       "      <td>126.0</td>\n",
       "      <td>1192</td>\n",
       "      <td>1935</td>\n",
       "      <td>-7.0</td>\n",
       "      <td>0</td>\n",
       "      <td>0</td>\n",
       "    </tr>\n",
       "    <tr>\n",
       "      <th>4</th>\n",
       "      <td>1</td>\n",
       "      <td>1</td>\n",
       "      <td>목요일</td>\n",
       "      <td>WN</td>\n",
       "      <td>LAX</td>\n",
       "      <td>MCI</td>\n",
       "      <td>1720</td>\n",
       "      <td>48.0</td>\n",
       "      <td>166.0</td>\n",
       "      <td>1363</td>\n",
       "      <td>2225</td>\n",
       "      <td>39.0</td>\n",
       "      <td>0</td>\n",
       "      <td>0</td>\n",
       "    </tr>\n",
       "  </tbody>\n",
       "</table>\n",
       "</div>"
      ],
      "text/plain": [
       "   MONTH  DAY WEEKDAY AIRLINE ORG_AIR DEST_AIR  SCHED_DEP  DEP_DELAY  \\\n",
       "0      1    1     목요일      WN     LAX      SLC       1625       58.0   \n",
       "1      1    1     목요일      UA     DEN      IAD        823        7.0   \n",
       "2      1    1     목요일      MQ     DFW      VPS       1305       36.0   \n",
       "3      1    1     목요일      AA     DFW      DCA       1555        7.0   \n",
       "4      1    1     목요일      WN     LAX      MCI       1720       48.0   \n",
       "\n",
       "   AIR_TIME  DIST  SCHED_ARR  ARR_DELAY  DIVERTED  CANCELLED  \n",
       "0      94.0   590       1905       65.0         0          0  \n",
       "1     154.0  1452       1333      -13.0         0          0  \n",
       "2      85.0   641       1453       35.0         0          0  \n",
       "3     126.0  1192       1935       -7.0         0          0  \n",
       "4     166.0  1363       2225       39.0         0          0  "
      ]
     },
     "execution_count": 6,
     "metadata": {},
     "output_type": "execute_result"
    }
   ],
   "source": [
    "df2 = df.copy()\n",
    "df2['WEEKDAY'] = df2['WEEKDAY'].apply(convert_weekday)\n",
    "df2.head()"
   ]
  },
  {
   "cell_type": "code",
   "execution_count": 5,
   "metadata": {},
   "outputs": [
    {
     "data": {
      "text/plain": [
       "0        목요일\n",
       "1        목요일\n",
       "2        목요일\n",
       "3        목요일\n",
       "4        목요일\n",
       "        ... \n",
       "58487    목요일\n",
       "58488    목요일\n",
       "58489    목요일\n",
       "58490    목요일\n",
       "58491    목요일\n",
       "Name: WEEKDAY, Length: 58492, dtype: object"
      ]
     },
     "execution_count": 5,
     "metadata": {},
     "output_type": "execute_result"
    }
   ],
   "source": [
    "df['WEEKDAY'].apply(lambda x : \"월화수목금토일\"[x-1]+\"요일\")"
   ]
  },
  {
   "cell_type": "code",
   "execution_count": null,
   "metadata": {},
   "outputs": [],
   "source": []
  },
  {
   "cell_type": "code",
   "execution_count": null,
   "metadata": {},
   "outputs": [],
   "source": []
  }
 ],
 "metadata": {
  "kernelspec": {
   "display_name": "ml",
   "language": "python",
   "name": "python3"
  },
  "language_info": {
   "codemirror_mode": {
    "name": "ipython",
    "version": 3
   },
   "file_extension": ".py",
   "mimetype": "text/x-python",
   "name": "python",
   "nbconvert_exporter": "python",
   "pygments_lexer": "ipython3",
   "version": "3.12.10"
  },
  "toc": {
   "base_numbering": 1,
   "nav_menu": {},
   "number_sections": false,
   "sideBar": false,
   "skip_h1_title": false,
   "title_cell": "Table of Contents",
   "title_sidebar": "Contents",
   "toc_cell": false,
   "toc_position": {},
   "toc_section_display": true,
   "toc_window_display": false
  },
  "varInspector": {
   "cols": {
    "lenName": 16,
    "lenType": 16,
    "lenVar": 40
   },
   "kernels_config": {
    "python": {
     "delete_cmd_postfix": "",
     "delete_cmd_prefix": "del ",
     "library": "var_list.py",
     "varRefreshCmd": "print(var_dic_list())"
    },
    "r": {
     "delete_cmd_postfix": ") ",
     "delete_cmd_prefix": "rm(",
     "library": "var_list.r",
     "varRefreshCmd": "cat(var_dic_list()) "
    }
   },
   "types_to_exclude": [
    "module",
    "function",
    "builtin_function_or_method",
    "instance",
    "_Feature"
   ],
   "window_display": false
  }
 },
 "nbformat": 4,
 "nbformat_minor": 4
}
