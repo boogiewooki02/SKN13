{
 "cells": [
  {
   "cell_type": "markdown",
   "id": "74df2380-7ec3-41d5-b030-5df2d83c10ce",
   "metadata": {},
   "source": [
    "# Retriever\n",
    "- 비정형 질의(query)를 입력 받아 Vector store에서 관련된 내용을 검색하는 기능을 제공하는 인터페이스로 다양한 데이터 소스에서 정보를 검색하여 대규모 언어 모델(LLM) 기반 애플리케이션의 **정확성을** 향상시키는 데 핵심적인 역할을 한다.\n",
    "\n",
    "![RAG](figures/rag2.png)\n",
    "\n",
    "## 주요 특징\n",
    "- **다양한 데이터 소스 지원**\n",
    "\t- Retriever는 벡터 스토어, 그래프 데이터베이스, 관계형 데이터베이스 등 여러 종류의 검색 시스템과 상호작용할 수 있는 통일된 인터페이스를 제공한다다.\n",
    "- **간단한 인터페이스**: Retriever는 문자열 형태의 쿼리를 입력받아 관련 문서의 리스트를 반환한다. 이러한 단순한 구조 덕분에 다양한 검색 시스템과 쉽게 통합할 수 있다. \n"
   ]
  },
  {
   "cell_type": "markdown",
   "id": "52d25d4d",
   "metadata": {},
   "source": [
    "## 다양한 Retriever 방식\n",
    "\n",
    "**Retriever**란, 사용자의 질문(쿼리)에 가장 관련성 높은 정보를 찾아주는 구성 요소이다. 주로 검색 기반 질문응답 시스템(RAG, Retrieval-Augmented Generation)에서 사용된다. 다음은 자주 사용되는 다양한 Retriever의 유형과 그 특징이다.\n",
    "\n",
    "1. **벡터 스토어(Vector Store) Retriever**\n",
    "   - VectorStore로 부터 유사도를 기반으로 검색하는 가장 기본 Retriever\n",
    "   - 텍스트 조각(청크)마다 **임베딩(embedding)을** 생성하여 벡터 공간에 저장하고, 쿼리 임베딩과의 **코사인 유사도(cosine similarity)** 등을 기반으로 유사한 텍스트를 검색한다.\n",
    "   - 검색 속도가 빠르고 구현이 간단하여, 기본적인 검색 시스템을 구축할 때 적합하다.\n",
    "2. **[ParentDocumentRetriever](https://python.langchain.com/docs/how_to/parent_document_retriever/)**\n",
    "   - 하나의 문서를 여러 청크로 나눈 뒤 각각을 인덱싱하고, 쿼리와 가장 유사한 청크를 찾은 다음 해당 청크가 속한 **전체 원본 문서**를 반환한다.\n",
    "   - 작은 정보 조각들이 모여 하나의 문서를 구성할 때 유용하며, 문맥을 넓게 유지할 수 있다.\n",
    "3. **[MultiVectorRetriever](https://python.langchain.com/docs/how_to/multi_vector/)**\n",
    "   - 각 문서에 대해 요약을 하거나, 가상의 질문을 생성하거나, 사람이 중요한 내용을 직접 추가하여 문서당 여러 개의 임베딩 벡터를 생성한다.\n",
    "   - 텍스트 전체보다 더 핵심적인 정보가 검색에 반영되도록 하고자 할 때 효과적이다.\n",
    "   - 특히, 문서가 길거나, 중요한 내용이 문서의 특정 부분에 집중되어 있는 경우에 유리하다.\n",
    "4. **[SelfQueryRetriever](https://python.langchain.com/docs/how_to/self_query/)**\n",
    "   - 대규모 언어 모델(LLM, Large Language Model)을 활용하여 사용자의 질문을 적절한 검색어와 **메타데이터(metadata)** 필터로 자동 변환한다.\n",
    "   - 예를 들어, 문서의 작성자, 날짜, 태그와 같은 메타데이터를 기준으로 검색할 수 있다.\n",
    "   - 문서 자체의 내용뿐만 아니라, 문서에 부가된 속성 정보에 대해 질문할 때 유용하다.\n",
    "5. **[ContextualCompressionRetriever](https://python.langchain.com/docs/how_to/contextual_compression/)**\n",
    "   - 기존 Retriever와 조합되어 사용된다.\n",
    "   - 먼저 일반적인 검색을 수행한 후, 검색된 문서들에서 쿼리와 관련 없는 불필요한 정보를 제거하고 핵심 내용만을 추출하여 반환한다.\n",
    "   - 정보를 요약하거나 압축하여 LLM에 전달할 문서 길이를 줄일 때 유용하다.\n",
    "6. **[MultiQueryRetriever](https://python.langchain.com/docs/how_to/MultiQueryRetriever/)**\n",
    "   - LLM을 이용해 하나의 쿼리로부터 여러 가지 변형된 쿼리를 생성하고, 각 쿼리에 대해 검색을 수행한 뒤 결과를 합치는 방식.\n",
    "   - 다양한 표현에 강해 검색 범위를 넓히고 성능을 높인다.\n",
    "7. **[EnsembleRetriever](https://python.langchain.com/docs/how_to/ensemble_retriever/)**\n",
    "   - 여러 개의 Retriever(예: BM25, 벡터 기반 등)를 결합해 가중치를 기반으로 결과를 조합(re-ranking)한다.\n",
    "   - 서로 다른 장점을 가진 Retriever를 하나로 묶어 성능을 강화한다."
   ]
  },
  {
   "cell_type": "code",
   "execution_count": 1,
   "id": "a5c5b8a9-c216-4115-acfa-b5f187698883",
   "metadata": {},
   "outputs": [
    {
     "data": {
      "text/plain": [
       "True"
      ]
     },
     "execution_count": 1,
     "metadata": {},
     "output_type": "execute_result"
    }
   ],
   "source": [
    "from langchain_community.document_loaders import TextLoader\n",
    "from langchain.text_splitter import RecursiveCharacterTextSplitter\n",
    "from langchain_chroma import Chroma\n",
    "from langchain_openai import OpenAIEmbeddings\n",
    "from dotenv import load_dotenv\n",
    "\n",
    "load_dotenv()"
   ]
  },
  {
   "cell_type": "code",
   "execution_count": 2,
   "id": "0455f582-74bf-47b8-9276-58f978936629",
   "metadata": {},
   "outputs": [
    {
     "name": "stdout",
     "output_type": "stream",
     "text": [
      "61\n"
     ]
    }
   ],
   "source": [
    "# Load -> Chunking -> Embedding -> Store\n",
    "text_path = \"data/olympic.txt\"\n",
    "collection_name = \"olympic_info\"\n",
    "persist_directory = \"vector_store/chroma/olympic_info\"\n",
    "\n",
    "# Load\n",
    "loader = TextLoader(file_path=text_path, encoding='utf-8')\n",
    "# Split(Chunking)\n",
    "splitter = RecursiveCharacterTextSplitter(chunk_size=500, chunk_overlap=50)\n",
    "\n",
    "docs = loader.load_and_split(text_splitter=splitter)\n",
    "print(len(docs))"
   ]
  },
  {
   "cell_type": "code",
   "execution_count": null,
   "id": "a4db555d-ca62-445d-999a-d46713cb5f06",
   "metadata": {},
   "outputs": [],
   "source": [
    "# Embedding\n",
    "embedding_model = OpenAIEmbeddings(model='text-embedding-3-large')\n",
    "\n",
    "# Store\n",
    "## DB 연결\n",
    "vector_store = Chroma(\n",
    "    collection_name=collection_name,\n",
    "    embedding_function=embedding_model,\n",
    "    persist_directory=persist_directory\n",
    ")\n",
    "## DB에 문서 추가\n",
    "# add_ids = vector_store.add_documents(docs)"
   ]
  },
  {
   "cell_type": "code",
   "execution_count": 8,
   "id": "089d067b",
   "metadata": {},
   "outputs": [],
   "source": [
    "# Vector Store로부터 검색(Retrieve)하는 Retriever 생성\n",
    "retriever = vector_store.as_retriever()\n",
    "\n",
    "result_docs = retriever.invoke(\"올림픽과 관련된 논란들은 무엇이 있나요?\") # 검색할 쿼리를 문자열로 전달한다."
   ]
  },
  {
   "cell_type": "code",
   "execution_count": null,
   "id": "6ad75eaf",
   "metadata": {},
   "outputs": [
    {
     "data": {
      "text/plain": [
       "[Document(id='ab92989e-7d3e-498e-8918-97c6634367b7', metadata={'source': 'data/olympic.txt'}, page_content='올림픽'),\n",
       " Document(id='302b7a4d-4b3f-4c1b-ae13-2776e324732c', metadata={'source': 'data/olympic.txt'}, page_content='현대 올림픽에서는 프로 선수의 참가 불허가 많은 분쟁을 가져왔다. 1912년 하계 올림픽의 근대 5종 경기와 10종 경기에서 우승한 짐 소프는 올림픽에 나가기 전에 준프로야구선수로 활동했다는 게 나중에 밝혀져 메달이 박탈되었다. 소프는 후에 동정적 여론의 힘을 업고 1983년에 메달을 돌려받게 된다. 1936년 동계 올림픽 때 스위스와 오스트리아 스키선수들은 돈을 벌기 위해 스포츠를 했는데 이러한 행동이 아마추어 정신에 위배된다고 결정되어 그들은 스키종목에 참가할 수 없었다.'),\n",
       " Document(id='2abca5c0-1125-4dd4-a7c9-d2970edae0bb', metadata={'source': 'data/olympic.txt'}, page_content='쿠베르탱의 생각과는 달리, 올림픽이 세계에 완벽한 평화를 가져다주지는 못했다. 실제로 제1차 세계대전으로 인해 독일 베를린에서 열리기로 했던 제6회 1916년 하계 올림픽이 취소되었고, 제2차 세계대전 때는 일본 도쿄에서 열리기로 했던 제12회 1940년 하계 올림픽, 삿포로에서 열리기로 했던 1940년 동계 올림픽, 영국 런던에서 열리기로 했던 제13회 1944년 하계 올림픽, 이탈리아 코르티나담페초에서 열릴 예정인 1944년 동계 올림픽이 취소되었다. 베이징에서 열린 2008년 하계 올림픽 개막식날 조지아와 러시아 간의 2008년 남오세티아 전쟁이 일어나기도 했다. 부시 대통령과 푸틴 대통령이 이 올림픽을 보러 왔으며 중국 주석인 후진타오가 주최한 오찬에 참석해서 이 현안에 대해 논의하기도 했다. 조지아 대표인 니노 살루크바체와 러시아 대표인 나탈리야 파데리나가 여자 10m 공기권총 경기에서 각각 동메달과 은메달을 땄을 때 이 일은 베이징 올림픽의 유명한 사건 중 하나로 남게'),\n",
       " Document(id='86ec926b-dc1c-4017-9127-2f7f6791057b', metadata={'source': 'data/olympic.txt'}, page_content='국제 올림픽 위원회(이하 IOC로 지칭)는 몇몇 위원들이 한 행위에 대해서 비판을 받고 있다. 그 예로 IOC 위원장이었던 에이버리 브런디지와 후안 안토니오 사마란치가 대표적인 사람이다. 브런디지는 20년 넘게 IOC 위원장직을 맡았고 임기 중에 올림픽을 정치적으로 휘말려들지 않게 하기 위해 보호했다. 그러나 그는 남아프리카 공화국 대표단에게 아파르트헤이트와 관련된 이슈를 건드리고 반유대정책을 함으로써 비난을 받았다. 사마란치 위원장 시기 때는 족벌 정치와 부패로 비난받았다. 사마란치가 스페인에서 프랑코 정권에 협력했다는 것도 비판의 이유가 되었다.')]"
      ]
     },
     "execution_count": 9,
     "metadata": {},
     "output_type": "execute_result"
    }
   ],
   "source": [
    "result_docs\n",
    "# 나중에 prompt는 사용자의 query와 result_docs를 합쳐서 생성한다."
   ]
  },
  {
   "cell_type": "code",
   "execution_count": null,
   "id": "ac12bc79",
   "metadata": {},
   "outputs": [
    {
     "data": {
      "text/plain": [
       "[Document(id='ab92989e-7d3e-498e-8918-97c6634367b7', metadata={'source': 'data/olympic.txt'}, page_content='올림픽'),\n",
       " Document(id='302b7a4d-4b3f-4c1b-ae13-2776e324732c', metadata={'source': 'data/olympic.txt'}, page_content='현대 올림픽에서는 프로 선수의 참가 불허가 많은 분쟁을 가져왔다. 1912년 하계 올림픽의 근대 5종 경기와 10종 경기에서 우승한 짐 소프는 올림픽에 나가기 전에 준프로야구선수로 활동했다는 게 나중에 밝혀져 메달이 박탈되었다. 소프는 후에 동정적 여론의 힘을 업고 1983년에 메달을 돌려받게 된다. 1936년 동계 올림픽 때 스위스와 오스트리아 스키선수들은 돈을 벌기 위해 스포츠를 했는데 이러한 행동이 아마추어 정신에 위배된다고 결정되어 그들은 스키종목에 참가할 수 없었다.'),\n",
       " Document(id='2abca5c0-1125-4dd4-a7c9-d2970edae0bb', metadata={'source': 'data/olympic.txt'}, page_content='쿠베르탱의 생각과는 달리, 올림픽이 세계에 완벽한 평화를 가져다주지는 못했다. 실제로 제1차 세계대전으로 인해 독일 베를린에서 열리기로 했던 제6회 1916년 하계 올림픽이 취소되었고, 제2차 세계대전 때는 일본 도쿄에서 열리기로 했던 제12회 1940년 하계 올림픽, 삿포로에서 열리기로 했던 1940년 동계 올림픽, 영국 런던에서 열리기로 했던 제13회 1944년 하계 올림픽, 이탈리아 코르티나담페초에서 열릴 예정인 1944년 동계 올림픽이 취소되었다. 베이징에서 열린 2008년 하계 올림픽 개막식날 조지아와 러시아 간의 2008년 남오세티아 전쟁이 일어나기도 했다. 부시 대통령과 푸틴 대통령이 이 올림픽을 보러 왔으며 중국 주석인 후진타오가 주최한 오찬에 참석해서 이 현안에 대해 논의하기도 했다. 조지아 대표인 니노 살루크바체와 러시아 대표인 나탈리야 파데리나가 여자 10m 공기권총 경기에서 각각 동메달과 은메달을 땄을 때 이 일은 베이징 올림픽의 유명한 사건 중 하나로 남게'),\n",
       " Document(id='86ec926b-dc1c-4017-9127-2f7f6791057b', metadata={'source': 'data/olympic.txt'}, page_content='국제 올림픽 위원회(이하 IOC로 지칭)는 몇몇 위원들이 한 행위에 대해서 비판을 받고 있다. 그 예로 IOC 위원장이었던 에이버리 브런디지와 후안 안토니오 사마란치가 대표적인 사람이다. 브런디지는 20년 넘게 IOC 위원장직을 맡았고 임기 중에 올림픽을 정치적으로 휘말려들지 않게 하기 위해 보호했다. 그러나 그는 남아프리카 공화국 대표단에게 아파르트헤이트와 관련된 이슈를 건드리고 반유대정책을 함으로써 비난을 받았다. 사마란치 위원장 시기 때는 족벌 정치와 부패로 비난받았다. 사마란치가 스페인에서 프랑코 정권에 협력했다는 것도 비판의 이유가 되었다.'),\n",
       " Document(id='c6e8fd50-ea1d-4d04-a6eb-e13f3f1dc17c', metadata={'source': 'data/olympic.txt'}, page_content='1998년에 몇몇 IOC위원들이 2002년 솔트레이크 시티 동계 올림픽 유치 과정에서 미국에게 미국을 올림픽 개최지로 뽑아달라는 뇌물청탁을 받았다는 것이 폭로되었다. 이에 IOC는 사퇴한 IOC위원 4명과 강제 퇴출된 6명에 대한 조사를 했다. 이 스캔들은 이후에 개최지 선정에서 이와 같은 불미스러운 일이 일어나지 않게 하기 위해서 IOC가 개혁에 착수하도록 하는 긍정적인 역할을 하기도 했다.'),\n",
       " Document(id='7fe81a1d-75a9-4f82-8891-064c33f3ca53', metadata={'source': 'data/olympic.txt'}, page_content=\"BBC 다큐멘터리인 '파노라마'에서는 '매수된 올림픽'이란 주제로 2004년 8월에 방송을 내보내기도 했다. 이때 이 프로그램에서는 2012년 하계 올림픽의 개최지 선정과 관련된 뇌물에 대해서 조사했다. 이 다큐멘터리에서는 특정 후보 도시가 IOC 위원들에게 뇌물수수하는 것이 가능했다고 주장했으며, 특히 파리 시장이었던 베르트랑 들라노에(Bertrand Delanoë)는 영국의 총리인 토니 블레어와 런던올림픽유치위원회가 입후보 규정을 위반했다고 비난했다. 그는 당시 프랑스 대통령이었던 자크 시라크를 목격자로 내세웠지만 시라크 대통령은 이 분쟁에 휘말려드는 것을 주의했으며 인터뷰를 삼갔다. 결국 베르트랑 들라노에의 주장에 대한 조사는 체계적으로 이루어지지는 않았다. 2006년 동계 올림픽을 유치했던 토리노도 이 논쟁에서 빠져나갈 수 없었다. 이번에는 스위스 국적의 IOC위원 마크 호들러(Marc Hodler)가 이 논쟁의 중심이 되었는데, 이 위원은 스위스 시온의 경쟁 도시였던\"),\n",
       " Document(id='e9c17d64-5e6c-4c13-8fe3-d03c84124454', metadata={'source': 'data/olympic.txt'}, page_content='테러도 올림픽에서 공포의 대상이었다. 뮌헨 참사로 알려진 1972년에 서독 바이에른의 뮌헨에서 열린 하계 올림픽때의 사건은 테러리스트인 검은 9월단이 일으킨 사건으로서 이스라엘 선수 11명을 인질로 붙잡았다가 전원이 사망한 사건이다. 당시 미숙한 진압으로 인해 인질 9명(선수 1명과 코치 1명은 인질로 잡기 이전에 살해), 테러범 5명, 독일 경찰관 1명이 사망했으며 이 진압 작전 이전에는 인질들은 단 한 명도 죽지 않았다. 애틀란타에서 열린 1996년 하계 올림픽 때는 센테니얼 올림픽 공원(Centennial Olympic Park)에서 폭발 사건이 일어나 2명이 죽고 111명이 다치는 사건이 발생했다. 이 사건의 주모자 에릭 로버트 루돌프는 종신형을 선고받았다. 참고로 마라톤 역시 전쟁에서 유래한 것이다.'),\n",
       " Document(id='f9c5f859-27f1-455e-9420-17c16ca87edc', metadata={'source': 'data/olympic.txt'}, page_content='올림픽(영어: Olympic Games, 프랑스어: Jeux olympiques)은 전 세계 각 대륙 각국에서 모인 수천 명의 선수가 참가해 여름과 겨울에 스포츠 경기를 하는 국제적인 대회이다. 전 세계에서 가장 큰 지구촌 최대의 스포츠 축제인 올림픽은 세계에서 가장 인지도있는 국제 행사이다. 올림픽은 2년마다 하계 올림픽과 동계 올림픽이 번갈아 열리며, 국제 올림픽 위원회(IOC)가 감독하고 있다. 또한 오늘날의 올림픽은 기원전 8세기부터 서기 5세기에 이르기까지 고대 그리스 올림피아에서 열렸던 올림피아 제전에서 비롯되었다. 그리고 19세기 말에 피에르 드 쿠베르탱 남작이 고대 올림피아 제전에서 영감을 얻어, 근대 올림픽을 부활시켰다. 이를 위해 쿠베르탱 남작은 1894년에 IOC를 창설했으며, 2년 뒤인 1896년에 그리스 아테네에서 제 1회 올림픽이 열렸다. 이때부터 IOC는 올림픽 운동의 감독 기구가 되었으며, 조직과 활동은 올림픽 헌장을 따른다. 오늘날 전 세계 대부분의'),\n",
       " Document(id='3cc997f2-0a81-4e40-82b5-490f80e31692', metadata={'source': 'data/olympic.txt'}, page_content='또한 20세기에 올림픽 운동이 발전함에 따라, IOC는 변화하는 세계의 사회 환경에 적응해야 했다. 이러한 변화의 예로는 얼음과 눈을 이용한 경기 종목을 다루는 동계 올림픽, 장애인이 참여하는 패럴림픽, 스페셜 올림픽, 데플림픽, 10대 선수들이 참여하는 유스 올림픽 등을 들 수 있다. 그 뿐만 아니라 IOC는 20세기의 변화하는 경제, 정치, 기술 환경에도 적응해야 했다. 그리하여 올림픽은 피에르 드 쿠베르탱이 기대했던 순수한 아마추어 정신에서 벗어나서, 프로 선수도 참가할 수 있게 되었다. 올림픽은 점차 대중 매체의 중요성이 커짐에 따라 올림픽의 상업화와 기업 후원을 놓고도 논란이 생겨났다. 또한 올림픽을 치르며 발생한 보이콧, 도핑, 심판 매수, 테러와 같은 수많은 일들은 올림픽이 더욱 굳건히 성장할 수 있는 원동력이 되었다.'),\n",
       " Document(id='ce36a18c-5f26-404f-9aad-a053c8e0561b', metadata={'source': 'data/olympic.txt'}, page_content='1990년대 후반, 여러 뜻있는 사람들이 도핑과의 전쟁을 선포하면서 1999년에 세계반도핑기구(WADA)를 설립한다. 2000년 하계 올림픽과 2002년 동계 올림픽 때는 약물 양성 반응을 보인 선수들이 급격히 증가했고, 역도와 크로스컨트리에서는 몇몇 선수들이 도핑 테스트에 걸려서 실격되기도 했다. 2006년 동계 올림픽 때는 메달리스트 한 명이 양성반응을 보여 메달을 반납해야 했다. IOC가 만든 약물 반응 판정(현재 올림픽 도핑테스트의 기준이 됨)은 인정을 받게 되었고 이제는 다른 경기 연맹에서도 벤치마킹을 할 정도가 되었다. 2008년 베이징 올림픽 기간중에는 3,667명의 선수들이 세계반도핑기구의 검사를 받았으며 소변과 혈액 검사로 약물 복용 검사를 했다. 몇몇 선수들은 국가 올림픽 위원회(NOC)에 의해 올림픽이 시작되기 전에 출전금지 조치를 당했고, 올림픽 기간중에는 단 3명만이 도핑 검사에 걸렸다.')]"
      ]
     },
     "execution_count": 15,
     "metadata": {},
     "output_type": "execute_result"
    }
   ],
   "source": [
    "# 옵션을 추가한 retriever\n",
    "retriever2 = vector_store.as_retriever(\n",
    "    search_type=\"similarity\",\n",
    "    search_kwargs={\n",
    "        'k': 10,\n",
    "        # 'filter': {\"source\": \"abc\"}\n",
    "    }\n",
    ")\n",
    "result_docs2 = retriever2.invoke(\"올림픽과 관련된 논란들은 무엇이 있나요?\")\n",
    "result_docs2"
   ]
  },
  {
   "cell_type": "code",
   "execution_count": 13,
   "id": "3978d81d",
   "metadata": {},
   "outputs": [
    {
     "data": {
      "text/plain": [
       "[Document(id='ab92989e-7d3e-498e-8918-97c6634367b7', metadata={'source': 'data/olympic.txt'}, page_content='올림픽'),\n",
       " Document(id='302b7a4d-4b3f-4c1b-ae13-2776e324732c', metadata={'source': 'data/olympic.txt'}, page_content='현대 올림픽에서는 프로 선수의 참가 불허가 많은 분쟁을 가져왔다. 1912년 하계 올림픽의 근대 5종 경기와 10종 경기에서 우승한 짐 소프는 올림픽에 나가기 전에 준프로야구선수로 활동했다는 게 나중에 밝혀져 메달이 박탈되었다. 소프는 후에 동정적 여론의 힘을 업고 1983년에 메달을 돌려받게 된다. 1936년 동계 올림픽 때 스위스와 오스트리아 스키선수들은 돈을 벌기 위해 스포츠를 했는데 이러한 행동이 아마추어 정신에 위배된다고 결정되어 그들은 스키종목에 참가할 수 없었다.')]"
      ]
     },
     "execution_count": 13,
     "metadata": {},
     "output_type": "execute_result"
    }
   ],
   "source": [
    "retriever3 = vector_store.as_retriever(\n",
    "    search_type=\"similarity_score_threshold\", # 유사도 점수가 지정한 값 이상이면 조회\n",
    "    search_kwargs={\n",
    "        'k': 10,\n",
    "        'score_threshold': 0.3\n",
    "    }\n",
    ")\n",
    "result_docs3 = retriever3.invoke(\"올림픽과 관련된 논란들은 무엇이 있나요?\")\n",
    "result_docs3"
   ]
  },
  {
   "cell_type": "code",
   "execution_count": 16,
   "id": "8e3eb3e7",
   "metadata": {},
   "outputs": [
    {
     "data": {
      "text/plain": [
       "[Document(id='ab92989e-7d3e-498e-8918-97c6634367b7', metadata={'source': 'data/olympic.txt'}, page_content='올림픽'),\n",
       " Document(id='302b7a4d-4b3f-4c1b-ae13-2776e324732c', metadata={'source': 'data/olympic.txt'}, page_content='현대 올림픽에서는 프로 선수의 참가 불허가 많은 분쟁을 가져왔다. 1912년 하계 올림픽의 근대 5종 경기와 10종 경기에서 우승한 짐 소프는 올림픽에 나가기 전에 준프로야구선수로 활동했다는 게 나중에 밝혀져 메달이 박탈되었다. 소프는 후에 동정적 여론의 힘을 업고 1983년에 메달을 돌려받게 된다. 1936년 동계 올림픽 때 스위스와 오스트리아 스키선수들은 돈을 벌기 위해 스포츠를 했는데 이러한 행동이 아마추어 정신에 위배된다고 결정되어 그들은 스키종목에 참가할 수 없었다.'),\n",
       " Document(id='2abca5c0-1125-4dd4-a7c9-d2970edae0bb', metadata={'source': 'data/olympic.txt'}, page_content='쿠베르탱의 생각과는 달리, 올림픽이 세계에 완벽한 평화를 가져다주지는 못했다. 실제로 제1차 세계대전으로 인해 독일 베를린에서 열리기로 했던 제6회 1916년 하계 올림픽이 취소되었고, 제2차 세계대전 때는 일본 도쿄에서 열리기로 했던 제12회 1940년 하계 올림픽, 삿포로에서 열리기로 했던 1940년 동계 올림픽, 영국 런던에서 열리기로 했던 제13회 1944년 하계 올림픽, 이탈리아 코르티나담페초에서 열릴 예정인 1944년 동계 올림픽이 취소되었다. 베이징에서 열린 2008년 하계 올림픽 개막식날 조지아와 러시아 간의 2008년 남오세티아 전쟁이 일어나기도 했다. 부시 대통령과 푸틴 대통령이 이 올림픽을 보러 왔으며 중국 주석인 후진타오가 주최한 오찬에 참석해서 이 현안에 대해 논의하기도 했다. 조지아 대표인 니노 살루크바체와 러시아 대표인 나탈리야 파데리나가 여자 10m 공기권총 경기에서 각각 동메달과 은메달을 땄을 때 이 일은 베이징 올림픽의 유명한 사건 중 하나로 남게'),\n",
       " Document(id='86ec926b-dc1c-4017-9127-2f7f6791057b', metadata={'source': 'data/olympic.txt'}, page_content='국제 올림픽 위원회(이하 IOC로 지칭)는 몇몇 위원들이 한 행위에 대해서 비판을 받고 있다. 그 예로 IOC 위원장이었던 에이버리 브런디지와 후안 안토니오 사마란치가 대표적인 사람이다. 브런디지는 20년 넘게 IOC 위원장직을 맡았고 임기 중에 올림픽을 정치적으로 휘말려들지 않게 하기 위해 보호했다. 그러나 그는 남아프리카 공화국 대표단에게 아파르트헤이트와 관련된 이슈를 건드리고 반유대정책을 함으로써 비난을 받았다. 사마란치 위원장 시기 때는 족벌 정치와 부패로 비난받았다. 사마란치가 스페인에서 프랑코 정권에 협력했다는 것도 비판의 이유가 되었다.'),\n",
       " Document(id='c6e8fd50-ea1d-4d04-a6eb-e13f3f1dc17c', metadata={'source': 'data/olympic.txt'}, page_content='1998년에 몇몇 IOC위원들이 2002년 솔트레이크 시티 동계 올림픽 유치 과정에서 미국에게 미국을 올림픽 개최지로 뽑아달라는 뇌물청탁을 받았다는 것이 폭로되었다. 이에 IOC는 사퇴한 IOC위원 4명과 강제 퇴출된 6명에 대한 조사를 했다. 이 스캔들은 이후에 개최지 선정에서 이와 같은 불미스러운 일이 일어나지 않게 하기 위해서 IOC가 개혁에 착수하도록 하는 긍정적인 역할을 하기도 했다.'),\n",
       " Document(id='e9c17d64-5e6c-4c13-8fe3-d03c84124454', metadata={'source': 'data/olympic.txt'}, page_content='테러도 올림픽에서 공포의 대상이었다. 뮌헨 참사로 알려진 1972년에 서독 바이에른의 뮌헨에서 열린 하계 올림픽때의 사건은 테러리스트인 검은 9월단이 일으킨 사건으로서 이스라엘 선수 11명을 인질로 붙잡았다가 전원이 사망한 사건이다. 당시 미숙한 진압으로 인해 인질 9명(선수 1명과 코치 1명은 인질로 잡기 이전에 살해), 테러범 5명, 독일 경찰관 1명이 사망했으며 이 진압 작전 이전에는 인질들은 단 한 명도 죽지 않았다. 애틀란타에서 열린 1996년 하계 올림픽 때는 센테니얼 올림픽 공원(Centennial Olympic Park)에서 폭발 사건이 일어나 2명이 죽고 111명이 다치는 사건이 발생했다. 이 사건의 주모자 에릭 로버트 루돌프는 종신형을 선고받았다. 참고로 마라톤 역시 전쟁에서 유래한 것이다.'),\n",
       " Document(id='ce36a18c-5f26-404f-9aad-a053c8e0561b', metadata={'source': 'data/olympic.txt'}, page_content='1990년대 후반, 여러 뜻있는 사람들이 도핑과의 전쟁을 선포하면서 1999년에 세계반도핑기구(WADA)를 설립한다. 2000년 하계 올림픽과 2002년 동계 올림픽 때는 약물 양성 반응을 보인 선수들이 급격히 증가했고, 역도와 크로스컨트리에서는 몇몇 선수들이 도핑 테스트에 걸려서 실격되기도 했다. 2006년 동계 올림픽 때는 메달리스트 한 명이 양성반응을 보여 메달을 반납해야 했다. IOC가 만든 약물 반응 판정(현재 올림픽 도핑테스트의 기준이 됨)은 인정을 받게 되었고 이제는 다른 경기 연맹에서도 벤치마킹을 할 정도가 되었다. 2008년 베이징 올림픽 기간중에는 3,667명의 선수들이 세계반도핑기구의 검사를 받았으며 소변과 혈액 검사로 약물 복용 검사를 했다. 몇몇 선수들은 국가 올림픽 위원회(NOC)에 의해 올림픽이 시작되기 전에 출전금지 조치를 당했고, 올림픽 기간중에는 단 3명만이 도핑 검사에 걸렸다.'),\n",
       " Document(id='3c757d54-226b-4916-94cc-796e4c6fc98e', metadata={'source': 'data/olympic.txt'}, page_content=\"이라크는 경기를 끝낸 선수들이 있었지만 탄자니아가 이끄는 올림픽 보이콧에 가세했다. 중화민국(타이완)도 1976년 몬트리올 올림픽 참가를 보이콧했는데, 그 이유는 중화인민공화국(중국)이 몬트리올 올림픽 조직위원회에게 타이완을 '중화민국'의 이름으로 참가하지 못하도록 압박을 가했기 때문이다. 타이완은 이것에 반발해서 중화민국의 국기와 중화민국의 국가를 계속 쓸 것이라고 밝혔다. 타이완은 1984년까지 올림픽에 참가하지 않았으며 그 후 참가할 때는 중화 타이베이 올림픽기와 특별한 찬가를 사용한다. 1980년과 1984년 올림픽 때는 냉전의 당사국들이 각각 반대진영에서 개최된 올림픽에 불참했다. 1980년에 열린 모스크바 올림픽 때는 소련의 아프가니스탄 침공에 대한 항의의 표시로 미국을 비롯한 65개국이 불참해서 1956년 이후 가장 적은 국가의 수인 81개국만 참가하는 대회가 되었다. 1984년에 열린 L.A 올림픽때는 루마니아와 유고슬라비아를 제외한 소련과 동구권의 14개 국가가\"),\n",
       " Document(id='27cc3955-3a4b-4bab-b729-eb0ccd23e8eb', metadata={'source': 'data/olympic.txt'}, page_content='선수 개인이 자신의 정치적 성향에 대해 표현하기도 했다. 멕시코 시티에서 열린 1968년 하계 올림픽의 육상부문 200m 경기에서 각각 1위와 3위를 한 미국의 토미 스미스와 존 카를로스는 시상식 때 블랙 파워 설루트(Black Power salute , 흑인 차별 반대 행위)를 선보였으며 2위를 한 피터 노먼도 상황을 깨닫고 스미스와 카를로스의 행위를 지지한다는 뜻에서 급하게 인권을 위한 올림픽 프로젝트(OPHR) 배지를 달았다. 이 사건에 대해서 IOC 위원장이었던 에이버리 브런디지는 미국 올림픽 위원회에 이 두 선수를 미국으로 돌려보내거나 미국 육상팀 전부를 돌려보내는 둘 중 하나의 선택을 하게 했고, 미국 올림픽 위원회는 두 선수를 미국으로 돌려 보낸다.'),\n",
       " Document(id='85494522-d1eb-43a5-afd6-7cd6c45c5a25', metadata={'source': 'data/olympic.txt'}, page_content='각각 동메달과 은메달을 땄을 때 이 일은 베이징 올림픽의 유명한 사건 중 하나로 남게 되었다. 살루크바체와 파데리나는 시상식이 끝난 뒤 서로 포옹을 하며 국적에 상관없이 기쁨을 나누었다.')]"
      ]
     },
     "execution_count": 16,
     "metadata": {},
     "output_type": "execute_result"
    }
   ],
   "source": [
    "retriever4 = vector_store.as_retriever(\n",
    "    search_type=\"mmr\",\n",
    "    search_kwargs={\n",
    "        'k': 10, # 최종 반환 개수\n",
    "        'fetch_k': 20,\n",
    "        'lambda_mult': 0.5\n",
    "    }\n",
    ")\n",
    "result_docs4 = retriever4.invoke(\"올림픽과 관련된 논란들은 무엇이 있나요?\")\n",
    "result_docs4"
   ]
  },
  {
   "cell_type": "code",
   "execution_count": 17,
   "id": "cbe726fe",
   "metadata": {},
   "outputs": [],
   "source": [
    "##############################################################\n",
    "# 질문(query)과 검색 결과를 prompt로 생성\n",
    "# chain 생성: retriever | 프롬프트 생성 | LLM | output parser\n",
    "\n",
    "from langchain_core.runnables import RunnableLambda, RunnablePassthrough\n",
    "from langchain.prompts import PromptTemplate\n",
    "from langchain_core.output_parsers import StrOutputParser\n",
    "from langchain_openai import ChatOpenAI"
   ]
  },
  {
   "cell_type": "code",
   "execution_count": 18,
   "id": "e79df9c5",
   "metadata": {},
   "outputs": [],
   "source": [
    "# RAG 프롬프트 템플릿은 LLM의 답변이 context 기반으로 해야된다는 표현이 들어가야 함\n",
    "template = \"\"\"\n",
    "# Instruction:\n",
    "당신은 정확한 정보 제공을 우선시하는 인공지능 어시스턴트입니다.\n",
    "주어진 Context에 포함된 정보만 사용해서 질문에 답변하세요.\n",
    "Context에 질문에 대한 명확한 정보가 있는 경우 그 내용을 바탕으로 답변하세요.\n",
    "Context에 질문에 대한 명확한 정보없을 경우 \"정보가 부족해서 답을 알 수 없습니다.\" 라고 대답합니다.\n",
    "절대 Context에 없는 내용을 추측하거나 일반 상식을 이용해 답을 만들어서 대답하지 않습니다.\n",
    "\n",
    "# Context:\n",
    "{context}\n",
    "\n",
    "# 질문:\n",
    "{query}\n",
    "\"\"\"\n",
    "prompt_template = PromptTemplate(template=template)"
   ]
  },
  {
   "cell_type": "code",
   "execution_count": 19,
   "id": "4758c042",
   "metadata": {},
   "outputs": [],
   "source": [
    "from langchain_core.documents import Document\n",
    "\n",
    "def format_docs(docs: list[Document]) -> str:\n",
    "    \"\"\"\n",
    "    Retriever가 검색한 문서들에서 page_content(문서 내용)만 추출해서 반환.\n",
    "    추출된 문서들의 내용을 \"\\n\\n\"으로 연결한다.\n",
    "    Args:\n",
    "        docs: list[Document] - 검색한 문서 리스트\n",
    "    Returns:\n",
    "        str - 문서1내용+\\n\\n문서2내용+\\n\\n ...\n",
    "    \"\"\"\n",
    "    return \"\\n\\n\".join(doc.page_content for doc in docs)"
   ]
  },
  {
   "cell_type": "code",
   "execution_count": 20,
   "id": "91fcfe2f",
   "metadata": {},
   "outputs": [
    {
     "name": "stdout",
     "output_type": "stream",
     "text": [
      "올림픽\n",
      "\n",
      "현대 올림픽에서는 프로 선수의 참가 불허가 많은 분쟁을 가져왔다. 1912년 하계 올림픽의 근대 5종 경기와 10종 경기에서 우승한 짐 소프는 올림픽에 나가기 전에 준프로야구선수로 활동했다는 게 나중에 밝혀져 메달이 박탈되었다. 소프는 후에 동정적 여론의 힘을 업고 1983년에 메달을 돌려받게 된다. 1936년 동계 올림픽 때 스위스와 오스트리아 스키선수들은 돈을 벌기 위해 스포츠를 했는데 이러한 행동이 아마추어 정신에 위배된다고 결정되어 그들은 스키종목에 참가할 수 없었다.\n",
      "\n",
      "쿠베르탱의 생각과는 달리, 올림픽이 세계에 완벽한 평화를 가져다주지는 못했다. 실제로 제1차 세계대전으로 인해 독일 베를린에서 열리기로 했던 제6회 1916년 하계 올림픽이 취소되었고, 제2차 세계대전 때는 일본 도쿄에서 열리기로 했던 제12회 1940년 하계 올림픽, 삿포로에서 열리기로 했던 1940년 동계 올림픽, 영국 런던에서 열리기로 했던 제13회 1944년 하계 올림픽, 이탈리아 코르티나담페초에서 열릴 예정인 1944년 동계 올림픽이 취소되었다. 베이징에서 열린 2008년 하계 올림픽 개막식날 조지아와 러시아 간의 2008년 남오세티아 전쟁이 일어나기도 했다. 부시 대통령과 푸틴 대통령이 이 올림픽을 보러 왔으며 중국 주석인 후진타오가 주최한 오찬에 참석해서 이 현안에 대해 논의하기도 했다. 조지아 대표인 니노 살루크바체와 러시아 대표인 나탈리야 파데리나가 여자 10m 공기권총 경기에서 각각 동메달과 은메달을 땄을 때 이 일은 베이징 올림픽의 유명한 사건 중 하나로 남게\n",
      "\n",
      "국제 올림픽 위원회(이하 IOC로 지칭)는 몇몇 위원들이 한 행위에 대해서 비판을 받고 있다. 그 예로 IOC 위원장이었던 에이버리 브런디지와 후안 안토니오 사마란치가 대표적인 사람이다. 브런디지는 20년 넘게 IOC 위원장직을 맡았고 임기 중에 올림픽을 정치적으로 휘말려들지 않게 하기 위해 보호했다. 그러나 그는 남아프리카 공화국 대표단에게 아파르트헤이트와 관련된 이슈를 건드리고 반유대정책을 함으로써 비난을 받았다. 사마란치 위원장 시기 때는 족벌 정치와 부패로 비난받았다. 사마란치가 스페인에서 프랑코 정권에 협력했다는 것도 비판의 이유가 되었다.\n"
     ]
    }
   ],
   "source": [
    "print(format_docs(result_docs))"
   ]
  },
  {
   "cell_type": "code",
   "execution_count": 21,
   "id": "067754c7",
   "metadata": {},
   "outputs": [],
   "source": [
    "model = ChatOpenAI(model='gpt-4.1-mini')"
   ]
  },
  {
   "cell_type": "code",
   "execution_count": null,
   "id": "596fa071",
   "metadata": {},
   "outputs": [],
   "source": [
    "# chain 구성: {retriever, query} -> prompt template -> llm -> output parser\n",
    "\n",
    "chain = (\n",
    "    {\"context\": retriever|format_docs, \"query\": RunnablePassthrough()} # 병렬\n",
    "    | prompt_template\n",
    "    | model\n",
    "    | StrOutputParser()\n",
    ")\n",
    "\n",
    "## chain은 아래처럼 구현해도 된다.\n",
    "# @chain\n",
    "# def final_chain(query: str):\n",
    "#     docs = retriever.invoke(query)\n",
    "#     docs = format_docs(docs)\n",
    "#     prompt = prompt_template.invoke({\"context\": docs, \"query\": query})\n",
    "#     result = model.invoke(prompt)\n",
    "#     return StrOutputParser().invoke(result)\n",
    "# final_chain.invoke(\"올림픽 설명해줘.\")"
   ]
  },
  {
   "cell_type": "code",
   "execution_count": 23,
   "id": "582d6bbf",
   "metadata": {},
   "outputs": [],
   "source": [
    "query = \"올림픽과 관련된 논란에 대해 알려줘.\"\n",
    "result = chain.invoke(query)"
   ]
  },
  {
   "cell_type": "code",
   "execution_count": 24,
   "id": "78e047f6",
   "metadata": {},
   "outputs": [
    {
     "name": "stdout",
     "output_type": "stream",
     "text": [
      "올림픽과 관련된 논란으로는 다음과 같은 사례들이 있습니다.\n",
      "\n",
      "1. 1998년에 몇몇 IOC위원들이 2002년 솔트레이크 시티 동계 올림픽 유치 과정에서 미국에게 미국을 올림픽 개최지로 뽑아달라는 뇌물청탁을 받았다는 것이 폭로되었습니다. 이에 IOC는 사퇴한 IOC위원 4명과 강제 퇴출된 6명에 대한 조사를 실시했습니다. 이 사건은 이후 개최지 선정 과정에서 불미스러운 일이 일어나지 않도록 IOC가 개혁에 착수하는 계기가 되기도 했습니다.\n",
      "\n",
      "2. 2004년 8월 BBC 다큐멘터리 '파노라마'에서는 '매수된 올림픽'이라는 주제로 2012년 하계 올림픽 개최지 선정과 관련된 뇌물 문제를 조사했습니다. 이 다큐멘터리에서는 특정 후보 도시가 IOC 위원들에게 뇌물을 수수하는 것이 가능했다고 주장했으며, 프랑스 파리 시장인 베르트랑 들라노에가 영국 총리 토니 블레어와 런던올림픽유치위원회가 입후보 규정을 위반했다고 비난했습니다. 들라노에는 당시 프랑스 대통령 자크 시라크를 목격자로 내세웠으나 시라크 대통령은 인터뷰를 삼갔고 이 주장에 대한 체계적인 조사는 이루어지지 않았습니다.\n",
      "\n",
      "3. 또한 2006년 동계 올림픽을 유치한 토리노도 이 논쟁에서 자유롭지 않았으며, 스위스 국적의 IOC위원 마크 호들러가 이 논쟁의 중심에 있었습니다.\n",
      "\n",
      "이와 같이 올림픽의 개최지 선정 과정에서 뇌물 청탁과 관련된 의혹과 논란이 여러 차례 발생하였습니다.\n"
     ]
    }
   ],
   "source": [
    "print(result)"
   ]
  },
  {
   "cell_type": "code",
   "execution_count": 25,
   "id": "68b35bec",
   "metadata": {},
   "outputs": [
    {
     "data": {
      "text/plain": [
       "'정보가 부족해서 답을 알 수 없습니다.'"
      ]
     },
     "execution_count": 25,
     "metadata": {},
     "output_type": "execute_result"
    }
   ],
   "source": [
    "chain.invoke(\"구름에 대해 설명해줘.\")"
   ]
  },
  {
   "cell_type": "markdown",
   "id": "fce6b3aa-ecf9-4874-b71d-35d74c9e6574",
   "metadata": {},
   "source": [
    "# TODO 다음을 작성한다."
   ]
  },
  {
   "cell_type": "code",
   "execution_count": null,
   "id": "b567e3a0-df09-4ebc-91ad-34d1a56ebca7",
   "metadata": {
    "execution": {
     "iopub.execute_input": "2024-12-02T12:14:52.978789Z",
     "iopub.status.busy": "2024-12-02T12:14:52.977794Z",
     "iopub.status.idle": "2024-12-02T12:14:56.143202Z",
     "shell.execute_reply": "2024-12-02T12:14:56.142870Z",
     "shell.execute_reply.started": "2024-12-02T12:14:52.978789Z"
    }
   },
   "outputs": [],
   "source": [
    "from langchain_community.document_loaders import TextLoader\n",
    "from langchain_chroma import Chroma\n",
    "from langchain_openai import OpenAIEmbeddings, ChatOpenAI\n",
    "from langchain_text_splitters import RecursiveCharacterTextSplitter\n",
    "from langchain.prompts import ChatPromptTemplate\n",
    "from langchain_core.runnables import RunnablePassthrough\n",
    "\n",
    "\n",
    "collection_name = \"olympic_docs\"\n",
    "persist_directory = \"vector_store/chroma/olympic\"\n",
    "\n",
    "# Text Loading\n",
    "\n",
    "\n",
    "# Split\n",
    "\n",
    "\n",
    "# Vector Store 생성\n",
    "\n",
    "\n",
    "# Retriever 생성 - \"mmr\" 방식\n",
    "\n"
   ]
  },
  {
   "cell_type": "code",
   "execution_count": null,
   "id": "ace68f09-666b-4e17-83e7-d5ecb64ef5e0",
   "metadata": {},
   "outputs": [],
   "source": [
    "# Prompt Template 생성\n",
    "\n",
    "\n",
    "\n",
    "# Chain 구성\n",
    "\n",
    "\n"
   ]
  },
  {
   "cell_type": "code",
   "execution_count": null,
   "id": "b82baeb6-6a5f-4026-aa98-1873a65dfe3b",
   "metadata": {},
   "outputs": [],
   "source": [
    "# Chain을 이용해 질의\n",
    "\n",
    "\n"
   ]
  },
  {
   "cell_type": "code",
   "execution_count": null,
   "id": "1b551faf-f1ce-44dc-bbfe-c0ad84fbcdcf",
   "metadata": {},
   "outputs": [],
   "source": []
  },
  {
   "cell_type": "code",
   "execution_count": null,
   "id": "8177863b-e4d9-44c3-9af2-0acbb4482548",
   "metadata": {},
   "outputs": [],
   "source": []
  }
 ],
 "metadata": {
  "kernelspec": {
   "display_name": "lang_env",
   "language": "python",
   "name": "python3"
  },
  "language_info": {
   "codemirror_mode": {
    "name": "ipython",
    "version": 3
   },
   "file_extension": ".py",
   "mimetype": "text/x-python",
   "name": "python",
   "nbconvert_exporter": "python",
   "pygments_lexer": "ipython3",
   "version": "3.12.11"
  }
 },
 "nbformat": 4,
 "nbformat_minor": 5
}
