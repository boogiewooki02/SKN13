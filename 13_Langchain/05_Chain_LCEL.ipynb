{
 "cells": [
  {
   "cell_type": "markdown",
   "id": "35ee8245-0329-4185-971d-21bf20cc780e",
   "metadata": {},
   "source": [
    "# Chain\n",
    "\n",
    "**Chain**(체인)은 여러 컴포넌트(요소)를 정해진 순서대로 연결하여 **복잡한 AI 작업을 단계별로 자동화**할 수 있도록 돕는 구조이다.\n",
    "\n",
    "- 각 컴포넌트는 입력을 받아 특정 처리를 수행한 후 다음 단계로 결과를 전달한다.\n",
    "- 복잡한 작업을 여러 개의 단순한 단계로 나누고, 각 단계를 순차적으로 실행함으로써 전체 작업을 체계적으로 구성할 수 있다.\n",
    "\n",
    "## 기본 개념\n",
    "\n",
    "- 체인은 하나의 LLM 호출에 그치지 않고 **여러 LLM 호출이나 도구 실행을 순차적으로 연결**할 수 있다.\n",
    "- 예를 들어, 사용자의 질문 → 검색 → 요약 → 응답 생성 같은 일련의 작업을 체인으로 구성할 수 있다.\n",
    "- 체인을 사용하면 코드의 재사용성과 유지 보수성이 향상된다.\n",
    "\n",
    "## LangChain에서의 Chain 구성 방식\n",
    "\n",
    "LangChain은 다음 두 가지 방식을 통해 체인을 구성할 수 있다.\n",
    "\n",
    "### 1. Off-the-shelf Chains 방식 (클래식 방식)\n",
    "\n",
    "- LangChain에서 제공하는 **미리 정의된 Chain 클래스**(예: `LLMChain`, `SequentialChain`, `SimpleSequentialChain`)를 활용하는 방식이다.\n",
    "- 이 방식은 LangChain의 **초기 구조**이며, 대부분의 클래스는 현재 **더 이상 사용되지 않음(deprecated)** 상태이다.\n",
    "\n",
    "> 현재 LangChain에서는 이 방식을 권장하지 않는다.\n",
    "\n",
    "### 2. LCEL (LangChain Expression Language) 방식\n",
    "\n",
    "- 체인을 함수형 방식으로 선언할 수 있는 **표현식 기반의 체인 구성 언어**이다.\n",
    "- LCEL 방식은 간결하고 선언적인 문법을 제공하여 **직관적이고 확장성 있는 체인 구성**이 가능하다.\n",
    "- `Runnable`이라는 공통 인터페이스를 기반으로 다양한 요소를 조합하여 체인을 구성한다.\n",
    "- 체인의 각 구성 요소는 `invoke()` 메서드로 실행된다."
   ]
  },
  {
   "cell_type": "code",
   "execution_count": 1,
   "id": "c63bafa8",
   "metadata": {},
   "outputs": [],
   "source": [
    "# off-the-shelf 방식\n",
    "from dotenv import load_dotenv\n",
    "from langchain.prompts import PromptTemplate\n",
    "from langchain_openai import ChatOpenAI\n",
    "from langchain_core.output_parsers import StrOutputParser\n",
    "\n",
    "load_dotenv()\n",
    "\n",
    "prompt_template = PromptTemplate(\n",
    "    template=\"{item}에 어울리는 이름 {count}개를 만들어 주세요.\"\n",
    ")\n",
    "model = ChatOpenAI(model=\"gpt-4o-mini\")\n",
    "parser = StrOutputParser()"
   ]
  },
  {
   "cell_type": "code",
   "execution_count": 2,
   "id": "272fac60",
   "metadata": {},
   "outputs": [
    {
     "name": "stderr",
     "output_type": "stream",
     "text": [
      "C:\\Users\\Playdata\\AppData\\Local\\Temp\\ipykernel_16644\\3018763423.py:3: LangChainDeprecationWarning: The class `LLMChain` was deprecated in LangChain 0.1.17 and will be removed in 1.0. Use :meth:`~RunnableSequence, e.g., `prompt | llm`` instead.\n",
      "  chain = LLMChain(\n"
     ]
    }
   ],
   "source": [
    "from langchain import LLMChain\n",
    "\n",
    "chain = LLMChain(\n",
    "    prompt=prompt_template,\n",
    "    llm=model,\n",
    "    output_parser=parser\n",
    ")\n",
    "response = chain.invoke({\"item\": \"가방\", \"count\": 5})"
   ]
  },
  {
   "cell_type": "code",
   "execution_count": 3,
   "id": "0f279152",
   "metadata": {},
   "outputs": [
    {
     "data": {
      "text/plain": [
       "{'item': '가방',\n",
       " 'count': 5,\n",
       " 'text': '물론입니다! 가방에 어울리는 이름을 5개 제안드립니다.\\n\\n1. **세련된 소풍 (Chic Picnic)** - 가벼운 나들이나 소풍에 잘 어울리는 가방.\\n2. **일상의 동반자 (Everyday Companion)** - 매일 사용할 수 있는 실용적인 디자인의 가방.\\n3. **스타일리시 셔틀 (Stylish Shuttle)** - 도시에서의 이동을 쉽게 해주는 세련된 가방.\\n4. **편안한 여행자 (Comfort Traveler)** - 여행 시 편리하게 사용할 수 있는 공간과 기능을 갖춘 가방.\\n5. **심플 라인 (Simple Line)** - 미니멀한 디자인으로 어떤 옷과도 잘 어울리는 가방.\\n\\n이 이름들이 도움이 되길 바랍니다!'}"
      ]
     },
     "execution_count": 3,
     "metadata": {},
     "output_type": "execute_result"
    }
   ],
   "source": [
    "response"
   ]
  },
  {
   "cell_type": "code",
   "execution_count": 6,
   "id": "8c1e487f",
   "metadata": {},
   "outputs": [
    {
     "data": {
      "text/plain": [
       "dict"
      ]
     },
     "execution_count": 6,
     "metadata": {},
     "output_type": "execute_result"
    }
   ],
   "source": [
    "type(response)"
   ]
  },
  {
   "cell_type": "code",
   "execution_count": 4,
   "id": "4847677c",
   "metadata": {},
   "outputs": [
    {
     "name": "stdout",
     "output_type": "stream",
     "text": [
      "물론입니다! 가방에 어울리는 이름을 5개 제안드립니다.\n",
      "\n",
      "1. **세련된 소풍 (Chic Picnic)** - 가벼운 나들이나 소풍에 잘 어울리는 가방.\n",
      "2. **일상의 동반자 (Everyday Companion)** - 매일 사용할 수 있는 실용적인 디자인의 가방.\n",
      "3. **스타일리시 셔틀 (Stylish Shuttle)** - 도시에서의 이동을 쉽게 해주는 세련된 가방.\n",
      "4. **편안한 여행자 (Comfort Traveler)** - 여행 시 편리하게 사용할 수 있는 공간과 기능을 갖춘 가방.\n",
      "5. **심플 라인 (Simple Line)** - 미니멀한 디자인으로 어떤 옷과도 잘 어울리는 가방.\n",
      "\n",
      "이 이름들이 도움이 되길 바랍니다!\n"
     ]
    }
   ],
   "source": [
    "print(response['text'])"
   ]
  },
  {
   "cell_type": "markdown",
   "id": "59ba00ec-6c7c-496e-b31f-f3978b74bdba",
   "metadata": {},
   "source": [
    "# [LCEL](https://python.langchain.com/docs/how_to/#langchain-expression-language-lcel) (LangChain Expression Language)\n",
    "- LCEL은 LangChain의 핵심 기능인 체인(Chain)을 더욱 간결하고 유연하게 구성할 수 있도록 고안된 **선언형 체인(chain) 구성 언어**이다.\n",
    "- 파이프 연산자 `|`를 사용해 선언적 방법으로 여러 작업을 연결한다.\n",
    "- 체인을 구성하는 각 요소는 `Runnable` 타입으로, 체인 내에서 실행 가능한 단위이다.\n",
    "- 각 단계는 invoke() 메서드를 통해 실행되며, 앞 단계의 출력이 다음 단계의 입력으로 자동 전달된다.\n",
    "    - [Runnable 컴포넌트별 입출력 타입](https://python.langchain.com/docs/concepts/runnables/#input-and-output-types)\n",
    "    - 각 컴포넌트의 input과 output 타입에 맞춰 값이 전달되도록 한다.\n",
    "- https://python.langchain.com/v0.2/docs/concepts/#langchain-expression-language-lcel"
   ]
  },
  {
   "cell_type": "markdown",
   "id": "b3f0d52c-23da-4ec6-87cc-925e3d6259ea",
   "metadata": {},
   "source": [
    "## [Runnable](https://python.langchain.com/api_reference/core/runnables/langchain_core.runnables.base.Runnable.html)\n",
    "- LangChain의 Runnable은 실행 가능한 작업 단위를 캡슐화한 개념으로, 데이터 흐름의 각 단계를 정의하고 **체인(chain) 에 포함 되어**  복잡한 작업의 각 단계를 수행 한다.\n",
    "- Chain을 구성하는 class들은 Runnable의 상속 받아 구현한다.\n",
    "- **Prompt Template클래스**, **Chat 모델, LLM 모델 클래스**, **Output Parser 클래스** 등 다양한 컴포넌트가 Runnable을 상속받아 구현된다.\n",
    "\n",
    "### 주요 특징\n",
    "- 작업 단위의 캡슐화:\n",
    "    - Runnable은 특정 작업(예: 프롬프트 생성, LLM 호출, 출력 파싱 등)을 수행하는 독립적인 컴포넌트이다.\n",
    "    - 각 컴포넌트는 독립적으로 테스트 및 재사용이 가능하며, 조합하여 복잡한 체인을 구성할 수 있다.\n",
    "- 체인 연결 및 작업 흐름 관리:\n",
    "    - Runnable은 체인(chain, 일련의 연결된 작업 흐름)을 구성하는 기본 단위로 사용된다.\n",
    "    - LangChain Expression Language(LCEL)를 사용하면 | 연산자를 통해 여러 Runnable을 쉽게 연결할 수 있다.\n",
    "    - 력과 출력의 형식을 일관되게 유지하여 각 단계가 자연스럽게 연결된다.\n",
    "- 모듈화 및 디버깅 용이성:\n",
    "    - 각 단계가 명확히 분리되어 문제 발생 시 어느 단계에서 오류가 발생했는지 쉽게 확인할 수 있다.\n",
    "    - 복잡한 작업을 작은 단위로 나누어 체계적으로 관리할 수 있다.\n",
    "      \n",
    "### Runnable의 표준 메소드\n",
    "- 모든 Runnable이 구현하는 공통 메소드\n",
    "    - `invoke()`: 단일 입력을 처리하여 결과를 반환.\n",
    "    - `batch()`: 여러 입력 데이터들을 한 번에 처리.\n",
    "    - `stream()`: 입력에 대해 스트리밍 방식으로 응답을 반환.\n",
    "    - `ainvoke()`: 비동기 방식으로 입력을 처리하여 결과를 반환.\n",
    "\n",
    "### Runnable의 주요 구현체(하위 클래스)\n",
    "\n",
    "- `RunnableSequence`\n",
    "    - 여러 `Runnable`을 순차적으로 연결하여 실행하는 구성이다.\n",
    "    - 각 단계의 출력이 다음 단계의 입력으로 전달된다.\n",
    "    - LCEL을 사용하여 체인을 구성할 경우 자동으로 `RunnableSequence`로 변환된다.\n",
    "-  `RunnablePassThrough`\n",
    "    - 입력 데이터를 가공하지 않고 그대로 다음 단계로 전달하는 `Runnable`이다.\n",
    "    - 선택적으로 미리 정의된 키-값 쌍을 함께 전달할 수 있다.\n",
    "\n",
    "- `RunnableParallel`\n",
    "    - 여러 `Runnable`을 병렬로 실행한 후, 결과를 결합하여 다음 단계로 전달한다.\n",
    "    - 병렬 처리를 통해 처리 속도를 개선할 수 있다.\n",
    "\n",
    "- `RunnableLambda`\n",
    "    - 일반 함수 또는 `lambda` 함수를 `Runnable`로 변환하여 체인에 포함할 수 있다.\n",
    "    - 사용자 정의 함수로 동작을 확장할 때 유용하다."
   ]
  },
  {
   "cell_type": "markdown",
   "id": "ad98816c-6666-4d36-a91d-4b4f64519de4",
   "metadata": {},
   "source": [
    "#### Runnable 예제"
   ]
  },
  {
   "cell_type": "code",
   "execution_count": 11,
   "id": "6f4040f4-b373-4f15-9c34-9026541ad755",
   "metadata": {},
   "outputs": [],
   "source": [
    "from langchain_core.runnables import Runnable # 모든 Runnable의 최상위\n",
    "\n",
    "# 사용자 정의 Runnable 클래스를 만들어보자.\n",
    "class MyRunnable(Runnable):\n",
    "    # invoke(): 구현하는 Runnable이 해야하는 작업을 구현하는 메소드\n",
    "    def invoke(self, input_data:str, config:dict=None):\n",
    "        # input_data: 입력 값\n",
    "        # config: 일 할 때 필요한 설정 값들\n",
    "        if config is not None and config.get('lang') == \"en\":\n",
    "            return f\"Explain {input_data} is one sentence.\"\n",
    "        return f\"{input_data}에 대해 한 문장으로 설명해줘.\""
   ]
  },
  {
   "cell_type": "code",
   "execution_count": 14,
   "id": "a8731e2a",
   "metadata": {},
   "outputs": [
    {
     "data": {
      "text/plain": [
       "'사과에 대해 한 문장으로 설명해줘.'"
      ]
     },
     "execution_count": 14,
     "metadata": {},
     "output_type": "execute_result"
    }
   ],
   "source": [
    "my_runnable = MyRunnable()\n",
    "my_runnable.invoke(\"사과\")"
   ]
  },
  {
   "cell_type": "code",
   "execution_count": 15,
   "id": "cabcf6df",
   "metadata": {},
   "outputs": [
    {
     "data": {
      "text/plain": [
       "'Explain Apple is one sentence.'"
      ]
     },
     "execution_count": 15,
     "metadata": {},
     "output_type": "execute_result"
    }
   ],
   "source": [
    "my_runnable.invoke(\"Apple\", config={\"lang\": \"en\"})"
   ]
  },
  {
   "cell_type": "code",
   "execution_count": 17,
   "id": "0904f69f",
   "metadata": {},
   "outputs": [
    {
     "name": "stdout",
     "output_type": "stream",
     "text": [
      "content='사과는 달콤하고 상큼한 맛을 지닌 과일로, 다양한 품종이 있으며 건강에 유익한 영양소가 풍부하다.' additional_kwargs={'refusal': None} response_metadata={'token_usage': {'completion_tokens': 36, 'prompt_tokens': 19, 'total_tokens': 55, 'completion_tokens_details': {'accepted_prediction_tokens': 0, 'audio_tokens': 0, 'reasoning_tokens': 0, 'rejected_prediction_tokens': 0}, 'prompt_tokens_details': {'audio_tokens': 0, 'cached_tokens': 0}}, 'model_name': 'gpt-4o-mini-2024-07-18', 'system_fingerprint': 'fp_34a54ae93c', 'id': 'chatcmpl-BgjJKpRjwGPfvVsWgm4NUGAvCfn6R', 'service_tier': 'default', 'finish_reason': 'stop', 'logprobs': None} id='run--ddfccbc6-11d9-4f0a-b682-b6199d91bac3-0' usage_metadata={'input_tokens': 19, 'output_tokens': 36, 'total_tokens': 55, 'input_token_details': {'audio': 0, 'cache_read': 0}, 'output_token_details': {'audio': 0, 'reasoning': 0}}\n"
     ]
    }
   ],
   "source": [
    "from langchain_openai import ChatOpenAI\n",
    "\n",
    "my_runnable = MyRunnable()\n",
    "model = ChatOpenAI(model='gpt-4o-mini')\n",
    "\n",
    "# prompt = my_runnable.invoke(\"Apple\", config={\"lang\": \"en\"})\n",
    "prompt = my_runnable.invoke(\"사과\")\n",
    "response = model.invoke(prompt)\n",
    "print(response)"
   ]
  },
  {
   "cell_type": "code",
   "execution_count": 19,
   "id": "08ebbb3a",
   "metadata": {},
   "outputs": [
    {
     "name": "stdout",
     "output_type": "stream",
     "text": [
      "과일 배는 주로 아시아에서 재배되는 과일로, 부드럽고 달콤한 맛과 아삭한 식감을 가진 과일입니다.\n"
     ]
    }
   ],
   "source": [
    "# chain으로 묶어보자. Runnable | Runnable | Runnable\n",
    "chain = my_runnable | model\n",
    "# chain 호출도 invoke 메서드 사용\n",
    "res = chain.invoke(\"과일 배\")\n",
    "print(res.content)"
   ]
  },
  {
   "cell_type": "code",
   "execution_count": 20,
   "id": "12e0a3f5",
   "metadata": {},
   "outputs": [
    {
     "name": "stdout",
     "output_type": "stream",
     "text": [
      "<class 'langchain_core.runnables.base.RunnableSequence'>\n"
     ]
    }
   ],
   "source": [
    "# 기본 체인 구성: prompt_template -> model -> output parser\n",
    "from langchain_openai import ChatOpenAI\n",
    "from langchain.prompts import ChatPromptTemplate\n",
    "from langchain_core.output_parsers import CommaSeparatedListOutputParser\n",
    "\n",
    "# role: system(지침 지정), user/human, ai/assistant\n",
    "prompt_template = ChatPromptTemplate(\n",
    "    messages=[\n",
    "        (\"system\", \"당신은 오랜 경력의 한국 관광 가이드입니다. 여행객들에게 설명하듯이 친절하게 답변을 해주세요.\"),\n",
    "        (\"human\", \"{query}\")\n",
    "    ]\n",
    ")\n",
    "model = ChatOpenAI(model='gpt-4o-mini', temperature=1.0)\n",
    "\n",
    "chain = prompt_template | model | StrOutputParser()\n",
    "\n",
    "print(type(chain))"
   ]
  },
  {
   "cell_type": "code",
   "execution_count": 21,
   "id": "860a1cc3",
   "metadata": {},
   "outputs": [],
   "source": [
    "query = \"서울에서 꼭 가봐야하는 여행지를 세 곳만 알려줘.\"\n",
    "response = chain.invoke({\"query\": query})"
   ]
  },
  {
   "cell_type": "code",
   "execution_count": 22,
   "id": "a3875bb5",
   "metadata": {},
   "outputs": [
    {
     "name": "stdout",
     "output_type": "stream",
     "text": [
      "안녕하세요! 서울 여행을 계획하고 계시군요. 서울은 역사와 현대가 조화를 이루는 멋진 도시입니다. 꼭 가봐야 할 여행지를 세 곳 소개해 드릴게요.\n",
      "\n",
      "1. **경복궁**: 서울의 대표적인 고궁으로, 조선왕조의 주요 거처였습니다. 아름다운 건축물과 넓은 정원을 구경할 수 있으며, 매일 열리는 수문장 교대식도 꼭 보시길 추천드립니다. 경복궁 근처에는 국립고궁박물관도 있어 궁의 역사와 문화를 더 깊이 이해할 수 있습니다.\n",
      "\n",
      "2. **명동**: 한국의 대표적인 쇼핑과 음식의 중심지인 명동은 활기차고 다양한 매력을 가진 곳입니다. 다양한 패션 매장과 화장품 가게, 길거리 음식도 즐길 수 있어 젊은층에게 특히 인기가 많습니다. 또한, 명동성당도 꼭 들러보세요. 아름다운 고딕 양식의 건축물이 인상적입니다.\n",
      "\n",
      "3. **홍대**: 홍익대학교 주변 지역으로, 예술과 문화의 중심지입니다. 다양한 카페와 갤러리, 독립 음악 공연도 많이 열려 젊은 감각을 느낄 수 있습니다. 길거리 공연과 플리 마켓도 종종 열리니 우연히 마주칠 수 있는 특별한 체험도 기대해보세요.\n",
      "\n",
      "서울은 정말 다양한 매력을 가진 도시이니, 이렇게 세 곳을 방문하면서 즐거운 추억 많이 만드시길 바랍니다! 여행 중 궁금한 점이 있으면 언제든지 물어보세요.\n"
     ]
    }
   ],
   "source": [
    "print(response)"
   ]
  },
  {
   "cell_type": "code",
   "execution_count": 23,
   "id": "962c825c",
   "metadata": {},
   "outputs": [
    {
     "name": "stdout",
     "output_type": "stream",
     "text": [
      "User: \n",
      "AI: 안녕하세요! 궁금한 점이 있으신가요? 한국의 아름다운 명소, 문화, 음식 등 어떤 것이든 편하게 질문해 주세요. 제가 기쁜 마음으로 도와드리겠습니다!\n",
      "--------------------------------------------------\n",
      "User: 경복궁에 대해 설명해줘.\n",
      "AI: 안녕하세요! 경복궁에 대해 말씀드리겠습니다. 경복궁은 서울특별시에 위치한 조선왕조의 가장 큰 궁궐 중 하나로, 1395년에 건립되었습니다. 이 궁궐은 조선의 태조 이성계에 의해 세워졌으며, 조선 왕조의 정치와 문화의 중심지로서 중요한 역할을 했습니다.\n",
      "\n",
      "경복궁의 이름은 '경복'(慶福)이란 한자로 '복을 기뻐하다'는 의미를 가지고 있습니다. 이 궁궐은 아름다운 전통 건축과 넓은 정원, 그리고 궁궐의 상징인 근정전을 비롯한 여러 전각들로 유명합니다. 근정전은 조선의 왕이 공식적으로 접견을 하고 국가의 중요한 의사결정을 내리는 장소였습니다.\n",
      "\n",
      "특히, 경복궁의 정문인 광화문은 매혹적인 인상과 함께 궁궐의 시작을 알리는 상징적인 문입니다. 광화문에서는 매일 오전 10시와 오후 2시에 변경식도 열리며, 전통 복장을 입은 군인들이 경비를 서고 있어 관광객들에게 큰 인기를 끌고 있습니다.\n",
      "\n",
      "궁궐 내부에는 국립고궁박물관과 국립민속박물관이 있어 조선의 역사와 문화에 대해 보다 깊이 이해할 수 있는 기회를 제공합니다.\n",
      "\n",
      "경복궁은 사계절마다 그 매력이 다르니, 봄에는 아름다운 벚꽃과 가을의 단풍이 특히 아름답습니다. 방문하시게 되면 경복궁의 역사와 아름다움을 느끼며, 조선 왕조가 남긴 유산을 충분히 만끽하실 수 있을 것입니다.\n",
      "\n",
      "여행 준비 잘 하시고, 경복궁에서 좋은 시간 보내시길 바랍니다!\n",
      "--------------------------------------------------\n"
     ]
    }
   ],
   "source": [
    "while True:\n",
    "    query = input(\"질문:\")\n",
    "    if query == \"!quit\":\n",
    "        break\n",
    "    resp = chain.invoke({\"query\": query})\n",
    "    print(\"User:\", query)\n",
    "    print(\"AI:\", resp)\n",
    "    print(\"-\"*50)"
   ]
  },
  {
   "cell_type": "markdown",
   "id": "9d6c137e-35bb-4e4d-8561-859b0650b62f",
   "metadata": {},
   "source": [
    "#### RunnableLambda 예제"
   ]
  },
  {
   "cell_type": "code",
   "execution_count": 24,
   "id": "7a5ac9fd-2616-4031-a079-a1822d784e93",
   "metadata": {},
   "outputs": [
    {
     "data": {
      "text/plain": [
       "'LLM를 한 문장으로 설명해줘.'"
      ]
     },
     "execution_count": 24,
     "metadata": {},
     "output_type": "execute_result"
    }
   ],
   "source": [
    "from langchain_core.runnables import RunnableLambda\n",
    "\n",
    "# RunnableLambda(함수) -> 함수를 실행하는 Runnable을 생성한다.\n",
    "my_runnable2 = RunnableLambda(lambda input_data: f\"{input_data}를 한 문장으로 설명해줘.\")\n",
    "my_runnable2.invoke(\"LLM\")"
   ]
  },
  {
   "cell_type": "code",
   "execution_count": null,
   "id": "204dfcb3",
   "metadata": {},
   "outputs": [
    {
     "data": {
      "text/plain": [
       "AIMessage(content='LLM(대규모 언어 모델)은 자연어 처리를 위해 대량의 텍스트 데이터를 학습하여 사람의 언어를 이해하고 생성하는 인공지능 모델입니다.', additional_kwargs={'refusal': None}, response_metadata={'token_usage': {'completion_tokens': 40, 'prompt_tokens': 18, 'total_tokens': 58, 'completion_tokens_details': {'accepted_prediction_tokens': 0, 'audio_tokens': 0, 'reasoning_tokens': 0, 'rejected_prediction_tokens': 0}, 'prompt_tokens_details': {'audio_tokens': 0, 'cached_tokens': 0}}, 'model_name': 'gpt-4o-mini-2024-07-18', 'system_fingerprint': 'fp_34a54ae93c', 'id': 'chatcmpl-BgkAE8J3OGKUfcSNVtIi1wYl9QoUW', 'service_tier': 'default', 'finish_reason': 'stop', 'logprobs': None}, id='run--bc9e09c7-e826-4c7c-957f-ac96baf41b9f-0', usage_metadata={'input_tokens': 18, 'output_tokens': 40, 'total_tokens': 58, 'input_token_details': {'audio': 0, 'cache_read': 0}, 'output_token_details': {'audio': 0, 'reasoning': 0}})"
      ]
     },
     "execution_count": 25,
     "metadata": {},
     "output_type": "execute_result"
    }
   ],
   "source": [
    "chain = my_runnable2 | model\n",
    "chain.invoke(\"LLM\")\n",
    "# invoke(입력데이터:str|dict, 설정정보:dict)\n",
    "## 입력 데이터가 여러개일 경우, dict등의 자료구조를 이용해서 받는다."
   ]
  },
  {
   "cell_type": "markdown",
   "id": "b884fd4c-feaa-46f1-af21-c5779900e502",
   "metadata": {},
   "source": [
    "#### RunnablePassthrough 예제"
   ]
  },
  {
   "cell_type": "code",
   "execution_count": null,
   "id": "d7fd0e2c",
   "metadata": {},
   "outputs": [
    {
     "data": {
      "text/plain": [
       "{'key': 'value'}"
      ]
     },
     "execution_count": 27,
     "metadata": {},
     "output_type": "execute_result"
    }
   ],
   "source": [
    "# 1. 앞 Runnable이 처리한 결과를 다음 Runnable에 그대로 전달.\n",
    "from langchain_core.runnables import RunnablePassthrough\n",
    "\n",
    "# RunnablePassthrough().invoke(\"안녕하세요\") \n",
    "RunnablePassthrough().invoke({\"key\": \"value\"}) # 받은 것을 그냥 그대로 넘긴다."
   ]
  },
  {
   "cell_type": "code",
   "execution_count": null,
   "id": "6e43fcf5-e5c7-4502-830f-b722b832f3bf",
   "metadata": {},
   "outputs": [
    {
     "data": {
      "text/plain": [
       "{'name': '홍길동', 'address': '서울시 금천구', 'phone': '010-1111-2222'}"
      ]
     },
     "execution_count": 28,
     "metadata": {},
     "output_type": "execute_result"
    }
   ],
   "source": [
    "# 2. 앞 Runnable이 처리한 결과에 Item을 추가해서 다음 Runnable에 전달.\n",
    "# RunnablePassthrough().assign(key1=Runnable, key2=Runnable, ...)\n",
    "# 받은 dictionary에 key:Runnable반환값 추가해서 다음으로 전달.\n",
    "address_runnable = RunnableLambda(lambda x: \"서울시 금천구\")\n",
    "phone_runnable = RunnableLambda(lambda x: \"010-1111-2222\")\n",
    "\n",
    "RunnablePassthrough.assign(address=address_runnable, phone=phone_runnable).invoke({\"name\": \"홍길동\"})"
   ]
  },
  {
   "cell_type": "markdown",
   "id": "6e3ba482-5dab-41df-96d1-c6649ecb8cee",
   "metadata": {},
   "source": [
    "#### RunnableSequence 예제"
   ]
  },
  {
   "cell_type": "code",
   "execution_count": null,
   "id": "afd2c247-a4e3-4b1b-a494-400b077eba54",
   "metadata": {},
   "outputs": [
    {
     "name": "stdout",
     "output_type": "stream",
     "text": [
      "<class 'langchain_core.runnables.base.RunnableSequence'>\n"
     ]
    },
    {
     "data": {
      "text/plain": [
       "62"
      ]
     },
     "execution_count": 29,
     "metadata": {},
     "output_type": "execute_result"
    }
   ],
   "source": [
    "from langchain_core.runnables import RunnableSequence\n",
    "\n",
    "run1 = RunnableLambda(lambda x: x + 1)\n",
    "run2 = RunnableLambda(lambda x: x * 2)\n",
    "\n",
    "chain = run1 | run2\n",
    "# chain = RunnableSequence(run1, run2) # 동일한 기능\n",
    "print(type(chain))\n",
    "chain.invoke(30)"
   ]
  },
  {
   "cell_type": "markdown",
   "id": "4c1531bb-ad33-4d1b-a59b-62cf08cb4457",
   "metadata": {},
   "source": [
    "#### RunnableParallel 예제"
   ]
  },
  {
   "cell_type": "code",
   "execution_count": null,
   "id": "cce6992c-85e1-4a2f-b16f-e294c50a3c1a",
   "metadata": {},
   "outputs": [
    {
     "data": {
      "text/plain": [
       "{'result1': 21, 'result2': 40, 'result3': 6, 'result4': 20}"
      ]
     },
     "execution_count": 31,
     "metadata": {},
     "output_type": "execute_result"
    }
   ],
   "source": [
    "from langchain_core.runnables import RunnableParallel, RunnableLambda\n",
    "\n",
    "run1 = RunnableLambda(lambda x: x + 1)\n",
    "run2 = RunnableLambda(lambda x: x * 2)\n",
    "run3 = RunnableLambda(lambda x: x // 3)\n",
    "\n",
    "runnable = RunnableParallel(\n",
    "    {\n",
    "        \"result1\": run1,\n",
    "        \"result2\": run2,\n",
    "        \"result3\": run3,\n",
    "        \"result4\": RunnablePassthrough() # 전달받은 값을 그대로 전달하는 용도\n",
    "    }\n",
    ")\n",
    "# 각 Runnable들을 각각 실행하고, 그 결과를 key에 할당한 dictionary를 반환한다. (순서대로 실행하지 않음.)\n",
    "\n",
    "runnable.invoke(20)"
   ]
  },
  {
   "cell_type": "markdown",
   "id": "1fe6327f-591c-4d0b-87b2-796d41ad6b98",
   "metadata": {},
   "source": [
    "#### LCEL Chain 예제"
   ]
  },
  {
   "cell_type": "code",
   "execution_count": null,
   "id": "e916435d-e288-4ca3-9e32-b3c17e95d5ad",
   "metadata": {},
   "outputs": [],
   "source": [
    "# 음식 이름을 받아서 레시피를 영어로 출력하는 chain을 구성해보자.\n",
    "# 흐름: prompt template -> model -> output parser\n",
    "from langchain.prompts import PromptTemplate\n",
    "from langchain_openai import ChatOpenAI\n",
    "from langchain_core.output_parsers import StrOutputParser\n",
    "from textwrap import dedent\n",
    "\n",
    "prompt_template = PromptTemplate(\n",
    "    template=dedent(\"\"\"\n",
    "    # Instruction\n",
    "    당신은 숙련된 요리 연구가입니다. 요청한 음식의 레시피를 작성해 주세요.\n",
    "                    \n",
    "    # Input data\n",
    "    음식 이름: {food}\n",
    "    \"\"\")\n",
    ")\n",
    "model = ChatOpenAI(model='gpt-4o-mini')\n",
    "\n",
    "food_chain = prompt_template | model | StrOutputParser()"
   ]
  },
  {
   "cell_type": "code",
   "execution_count": 38,
   "id": "047be191-28eb-4674-af53-9ac2a0d0ab97",
   "metadata": {},
   "outputs": [],
   "source": [
    "response = food_chain.invoke({\"food\": \"pasta\"})"
   ]
  },
  {
   "cell_type": "code",
   "execution_count": 39,
   "id": "13606ae1",
   "metadata": {},
   "outputs": [
    {
     "name": "stdout",
     "output_type": "stream",
     "text": [
      "# Pasta Recipe\n",
      "\n",
      "## Ingredients\n",
      "\n",
      "- 400g spaghetti or your preferred pasta\n",
      "- 2 tablespoons olive oil\n",
      "- 3 cloves garlic, minced\n",
      "- 1 can (400g) diced tomatoes\n",
      "- 1 teaspoon dried oregano\n",
      "- 1 teaspoon dried basil\n",
      "- Salt and pepper to taste\n",
      "- Fresh basil leaves for garnish (optional)\n",
      "- Grated Parmesan cheese for serving (optional)\n",
      "\n",
      "## Instructions\n",
      "\n",
      "1. **Boil the Pasta**: \n",
      "   - In a large pot, bring water to a boil. Add a generous pinch of salt.\n",
      "   - Add the spaghetti (or your chosen pasta) and cook according to the package instructions until al dente. \n",
      "\n",
      "2. **Prepare the Sauce**: \n",
      "   - While the pasta is cooking, heat olive oil in a large skillet over medium heat.\n",
      "   - Add the minced garlic and sauté for about 1 to 2 minutes, or until fragrant, being careful not to burn it.\n",
      "\n",
      "3. **Add Tomatoes**: \n",
      "   - Pour the canned diced tomatoes into the skillet with the garlic.\n",
      "   - Stir in the dried oregano and dried basil. Season with salt and pepper to taste.\n",
      "   - Let the sauce simmer for about 10-15 minutes, stirring occasionally, until it thickens slightly.\n",
      "\n",
      "4. **Combine Pasta and Sauce**:\n",
      "   - Once the pasta is cooked, reserve about 1 cup of pasta water and then drain the rest.\n",
      "   - Add the drained pasta directly into the skillet with the tomato sauce. Toss to combine.\n",
      "   - If the sauce is too thick, add a little reserved pasta water until you reach the desired consistency.\n",
      "\n",
      "5. **Serve**:\n",
      "   - Divide the pasta among plates. Garnish with fresh basil leaves and sprinkle with grated Parmesan cheese if desired.\n",
      "\n",
      "6. **Enjoy!**:\n",
      "   - Serve your delicious homemade pasta warm and enjoy your meal!\n",
      "\n",
      "### Tips:\n",
      "- You can customize the sauce by adding vegetables, protein (like grilled chicken or shrimp), or spices according to your preference.\n",
      "- For a creamy sauce, consider adding a splash of cream or a dollop of ricotta cheese just before serving.\n"
     ]
    }
   ],
   "source": [
    "print(response)"
   ]
  },
  {
   "cell_type": "code",
   "execution_count": 62,
   "id": "d2f09db9",
   "metadata": {},
   "outputs": [],
   "source": [
    "# 번역 chain (입력 내용을 특정 언어로 번역한다.)\n",
    "# 흐름: prompt template -> model -> output parser\n",
    "\n",
    "prompt_template = PromptTemplate(\n",
    "    template=dedent(\"\"\"\n",
    "    # Instruction\n",
    "    당신은 다국어가능한 숙력된 번역가입니다. \n",
    "    요청된 문장을 {language} 로 번역해 주세요.\n",
    "                    \n",
    "    # Input data(번역할 문장)\n",
    "    {content}\n",
    "                    \n",
    "    # Output Indicator\n",
    "    - 번역한 내용만 출력해 주세요.\n",
    "    \"\"\")\n",
    ")\n",
    "\n",
    "translate_chain = prompt_template | model | StrOutputParser()"
   ]
  },
  {
   "cell_type": "code",
   "execution_count": null,
   "id": "83d6c684",
   "metadata": {},
   "outputs": [],
   "source": [
    "response_german = translate_chain.invoke({\"content\": response, \"language\": \"독일어\"})"
   ]
  },
  {
   "cell_type": "code",
   "execution_count": null,
   "id": "f012d071",
   "metadata": {},
   "outputs": [
    {
     "name": "stdout",
     "output_type": "stream",
     "text": [
      "# Pasta-Rezept\n",
      "\n",
      "## Zutaten\n",
      "\n",
      "- Spaghetti oder gewünschte Pasta 400 g\n",
      "- Olivenöl 2 Esslöffel\n",
      "- Gehackter Knoblauch 3 Zehen\n",
      "- Gehackte Tomaten aus der Dose 1 Dose (400 g)\n",
      "- Getrockneter Oregano 1 Teelöffel\n",
      "- Getrockneter Basilikum 1 Teelöffel\n",
      "- Salz und Pfeffer (nach Geschmack)\n",
      "- Frische Basilikumblätter zur Dekoration (optional)\n",
      "- Geriebener Parmesan zum Servieren (optional)\n",
      "\n",
      "## Zubereitung\n",
      "\n",
      "1. **Pasta kochen**:\n",
      "   - Einen großen Topf mit Wasser zum Kochen bringen. Ausreichend Salz hinzufügen.\n",
      "   - Spaghetti (oder die gewählte Pasta) hineingeben und nach Packungsanweisung al dente kochen.\n",
      "\n",
      "2. **Soße vorbereiten**:\n",
      "   - Während die Pasta kocht, in einer großen Pfanne das Olivenöl bei mittlerer Hitze erhitzen.\n",
      "   - Den gehackten Knoblauch hinzufügen und etwa 1–2 Minuten anbraten, bis er duftet. Dabei darauf achten, dass er nicht verbrennt.\n",
      "\n",
      "3. **Tomaten hinzufügen**:\n",
      "   - Die gehackten Tomaten aus der Dose in die Pfanne mit dem Knoblauch gießen.\n",
      "   - Getrockneten Oregano und Basilikum hinzufügen und mit Salz und Pfeffer würzen.\n",
      "   - Die Soße 10–15 Minuten lang unter häufigem Rühren köcheln lassen, bis sie etwas eindickt.\n",
      "\n",
      "4. **Pasta und Soße vermengen**:\n",
      "   - Wenn die Pasta gekocht ist, etwa eine Tasse Nudelwasser abnehmen und die restliche Pasta abgießen.\n",
      "   - Die abgetropfte Pasta sofort in die Pfanne mit der Tomatensoße geben und gut vermengen.\n",
      "   - Wenn die Soße zu dick ist, nach und nach etwas vom zurückbehaltenen Nudelwasser hinzufügen, um die gewünschte Konsistenz zu erreichen.\n",
      "\n",
      "5. **Servieren**:\n",
      "   - Die Pasta auf Teller verteilen. Nach Belieben mit frischen Basilikumblättern und geriebenem Parmesan garnieren.\n",
      "\n",
      "6. **Genießen!**:\n",
      "   - Servieren Sie die köstliche hausgemachte Pasta warm und genießen Sie Ihr Essen!\n",
      "\n",
      "### Tipp:\n",
      "- Sie können die Soße anpassen, indem Sie Gemüse, Protein (gegrilltes Hähnchen oder Garnelen usw.) oder gewünschte Gewürze hinzufügen.\n",
      "- Wenn Sie eine Cremesoße möchten, fügen Sie vor dem Servieren einen Löffel Sahne oder Ricotta-Käse hinzu.\n"
     ]
    }
   ],
   "source": [
    "print(response_german)"
   ]
  },
  {
   "cell_type": "markdown",
   "id": "70cfbc5c-6c03-48fc-9e4d-ddf8f34893f5",
   "metadata": {},
   "source": [
    "## Chain과 Chain간의 연결"
   ]
  },
  {
   "cell_type": "code",
   "execution_count": 63,
   "id": "98e306d3-430f-4bfa-982c-a806e1910f23",
   "metadata": {},
   "outputs": [],
   "source": [
    "# food_chain + translate_chain\n",
    "## food_chain_prompt의 변수: food\n",
    "## translate_chain_prompt의 변수: language, content\n",
    "\n",
    "\n",
    "chain = {\n",
    "    \"content\": food_chain,\n",
    "    \"language\": RunnableLambda(lambda x: x['language'])\n",
    "} | translate_chain\n",
    "# 병렬로 처리한 첫번째 체인 결과인 {\"content\":레시피, \"language\":언어}를 두번째 체인(transalte_chain)에 넘긴다."
   ]
  },
  {
   "cell_type": "code",
   "execution_count": 66,
   "id": "7d1ab4d0-0f9f-4227-a821-5d9751d49942",
   "metadata": {},
   "outputs": [],
   "source": [
    "response = chain.invoke({\"food\": \"파스타\", \"language\": \"일본어\"})"
   ]
  },
  {
   "cell_type": "code",
   "execution_count": 67,
   "id": "cf7549e1",
   "metadata": {},
   "outputs": [
    {
     "name": "stdout",
     "output_type": "stream",
     "text": [
      "パスタレシピ\n",
      "\n",
      "### 材料\n",
      "- スパゲッティ: 200g\n",
      "- オリーブオイル: 大さじ2\n",
      "- 刻みニンニク: 3片\n",
      "- チェリートマト: 200g（半分に切ったもの）\n",
      "- バジルの葉: 一握り（新鮮なもの）\n",
      "- 塩: 適量\n",
      "- 胡椒: 適量\n",
      "- パルメザンチーズ: 適量（オプショナル）\n",
      "\n",
      "### 調理方法\n",
      "\n",
      "1. **パスタを茹でる**:\n",
      "   - 大きな鍋に水を沸かし、塩を加えます。\n",
      "   - 沸騰した水にスパゲッティを入れ、パッケージに記載された時間（通常8〜10分）に従って茹でます。\n",
      "   - パスタが茹で上がったら、ザルにあけて水を切り、少々のオリーブオイルを加えてよく混ぜます。\n",
      "\n",
      "2. **ソースを作る**:\n",
      "   - フライパンにオリーブオイルを入れ、中火で加熱します。\n",
      "   - 刻みニンニクを加え、茶色がかるまで炒めます（約1〜2分）。\n",
      "   - チェリートマトを追加し、塩と胡椒で味付けしながら約5分間調理します。チェリートマトが柔らかくなり、汁が出るまで炒めます。\n",
      "\n",
      "3. **パスタとソースを合わせる**:\n",
      "   - 茹でたパスタをフライパンに加え、新鮮なバジルの葉を入れます。\n",
      "   - すべての材料をよく混ぜながら1〜2分間さらに加熱します（希望する場合はここでパルメザンチーズを加えても良いです）。\n",
      "\n",
      "4. **サーブする**:\n",
      "   - 完成したパスタを皿に盛り付け、バジルの葉とパルメザンチーズを添えて飾ります。\n",
      "   - お好みでさらに胡椒を振りかけて提供します。\n",
      "\n",
      "### ヒント\n",
      "- 様々な材料を加えてアレンジできます。（例：海鮮、野菜、肉など）\n",
      "- ソースに刻んだ唐辛子を入れると辛みを加えることができます。\n",
      "- ソースにクリームを加えてクリームソースパスタにアレンジできます。\n",
      "\n",
      "美味しく召し上がれ！\n"
     ]
    }
   ],
   "source": [
    "print(response)"
   ]
  },
  {
   "cell_type": "markdown",
   "id": "c6b59505-5ef9-4bc5-9a32-9e359d3bf0a1",
   "metadata": {},
   "source": [
    "# 사용자 함수를 Chain에 적용하기\n",
    "\n",
    "## 사용자 함수를 Runnable로 정의 (RunnableLambda)\n",
    "- 임의의 함수를 Runnable로 정의 할 수있다.\n",
    "  - chain에 포함할 기능을 함수로 정의할 때 주로 사용. \n",
    "- `RunnableLambda(함수)` 사용\n",
    "  - 함수는 invoke() 메소드를 통해 입력받은 값을 받을 **한개의 파라미터**를 선언해야 한다.\n",
    "\n",
    "## 사용자 함수를 Chain으로 정의\n",
    "- Chain 을 구성하는 작업 사이에 추가 작업이 필요할 경우, 중간 결과를 모두 사용해야 하는 경우 함수로 구현한다.\n",
    "- `@chain` 데코레이터를 사용해 함수에 선언한다.\n",
    "\n",
    "### Runnable 에 사용할 **사용자 정의 함수** 구문\n",
    "- 이전 Chain의 출력을 입력 받는 **파라미터를 한개** 선언한다. (첫번째 파라미터)\n",
    "- `invoke()`로 호출 할때 전달 하는 추가 설정을 입력받는 파라미터를 선언한다.(두번째 파라미터 - Optional)\n",
    "  - RunnableConfig 타입의 값을 받는데 Dictionary 형식으로 `{\"configuable\": {\"설정이름\":\"설정값\"}}` 형식으로 받는다.\n",
    "- 만약 함수가 여러개의 인자를 받는 경우 단일 입력을 받아들이고 이를 여러 인수로 풀어내는 래퍼 함수를 작성하여 Runnable로 만든다.\n",
    "  ```python\n",
    "  def plus(num1, num2):\n",
    "      ...\n",
    "\n",
    "  def wrapper_plus(nums:dict|list):\n",
    "      return plus(nums['num1'], nums['num2'])\n",
    "  ```"
   ]
  },
  {
   "cell_type": "code",
   "execution_count": null,
   "id": "2c0de6e8-4bcf-412c-8983-9be3d7679ae5",
   "metadata": {},
   "outputs": [],
   "source": []
  },
  {
   "cell_type": "code",
   "execution_count": null,
   "id": "69710192-a281-43a2-b944-ccd3705d3b1b",
   "metadata": {},
   "outputs": [],
   "source": []
  },
  {
   "cell_type": "code",
   "execution_count": null,
   "id": "370c44ce-3e5b-4992-9ddf-cb2835c361be",
   "metadata": {},
   "outputs": [],
   "source": []
  },
  {
   "cell_type": "markdown",
   "id": "1c8b48ae-b4b2-412f-a7b5-17e9c1ebc1a4",
   "metadata": {},
   "source": [
    "# Cache\n",
    "\n",
    "- 응답 결과를 저장해서 같은 질문이 들어오면 LLM에 요청하지 않고 저장된 결과를 보여주도록 한다.\n",
    "    - 처리속도와 비용을 절감할 수 있다.\n",
    "    - 특히 chatbot같이 비슷한 질문을 하는 경우 유용하다.\n",
    "- 저장 방식은 `메모리`, `sqlite` 등 다양한 방식을 지원한다.\n",
    "  \n",
    "    ```python\n",
    "    set_llm_cache(Cache객체)\n",
    "    ```"
   ]
  },
  {
   "cell_type": "code",
   "execution_count": null,
   "id": "3e8c002f-7f0c-4357-b3ae-efe8569f04cf",
   "metadata": {},
   "outputs": [],
   "source": []
  },
  {
   "cell_type": "code",
   "execution_count": null,
   "id": "b74a46a8-703c-452b-9d57-e80749c3f528",
   "metadata": {},
   "outputs": [],
   "source": []
  },
  {
   "cell_type": "code",
   "execution_count": null,
   "id": "520effd5-677c-46e3-9068-553e973bfea4",
   "metadata": {},
   "outputs": [],
   "source": []
  }
 ],
 "metadata": {
  "kernelspec": {
   "display_name": "lang_env",
   "language": "python",
   "name": "python3"
  },
  "language_info": {
   "codemirror_mode": {
    "name": "ipython",
    "version": 3
   },
   "file_extension": ".py",
   "mimetype": "text/x-python",
   "name": "python",
   "nbconvert_exporter": "python",
   "pygments_lexer": "ipython3",
   "version": "3.12.11"
  }
 },
 "nbformat": 4,
 "nbformat_minor": 5
}
