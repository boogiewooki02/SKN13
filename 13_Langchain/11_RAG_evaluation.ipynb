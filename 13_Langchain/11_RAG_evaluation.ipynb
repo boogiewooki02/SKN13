{
 "cells": [
  {
   "cell_type": "markdown",
   "metadata": {},
   "source": [
    "# RAG 평가 개요\n",
    "- RAG 평가란 RAG 시스템이 주어진 입력에 대해 얼마나 효과적으로 관련 정보를 검색하고, 이를 기반으로 정확하고 유의미한 응답을 생성하는지를 측정하는 과정이다. \n",
    "- **평가 요소**\n",
    "    - **검색 단계 평가**\n",
    "        - 입력 질문에 대해 검색된 문서나 정보의 관련성과 정확성을 평가.\n",
    "    - **생성 단계 평가**\n",
    "        - 검색된 정보를 기반으로 생성된 응답의 품질, 정확성등을 평가.\n",
    "- **평가 방법**\n",
    "    - 온/오프라인 평가\n",
    "        1. **오프라인 평가**\n",
    "            - 미리 준비된 데이터셋을 활용하여 RAG 시스템의 성능을 측정한다.\n",
    "        2. **온라인 평가**\n",
    "            - 실제 사용자 트래픽과 피드백을 기반으로 시스템의 실시간 성능을 평가한다.\n",
    "    - 정량적/정성적 평가\n",
    "        1. 정량적 평가\n",
    "            - 자동화된 지표를 사용하여 생성된 텍스트의 품질을 평가한다.\n",
    "        2. 정성적 평가\n",
    "            - 전문가나 일반 사용자가 직접 생성된 응답의 품질을 평가하여 주관적인 지표를 평가한다."
   ]
  },
  {
   "cell_type": "markdown",
   "metadata": {},
   "source": [
    "# [RAGAS](https://www.ragas.io/)\n",
    "- RAGAS는 RAG 파이프라인을 **정량적 으로 평가하는** 오픈소스 프레임 워크이다. \n",
    "- RAGAS 문서: https://docs.ragas.io/en/stable/\n",
    "## 설치\n",
    "- `pip install ragas`"
   ]
  },
  {
   "cell_type": "code",
   "execution_count": 1,
   "metadata": {},
   "outputs": [
    {
     "data": {
      "text/plain": [
       "'0.2.15'"
      ]
     },
     "execution_count": 1,
     "metadata": {},
     "output_type": "execute_result"
    }
   ],
   "source": [
    "import ragas\n",
    "\n",
    "ragas.__version__"
   ]
  },
  {
   "cell_type": "markdown",
   "metadata": {},
   "source": [
    "## RAGAS 평가 지표 개요\n",
    "![ragas_score](figures/ragas_score.png)\n",
    "- **Generation**\n",
    "    - llm 모델이 생성한 답변에 대한 평가 지표들.\n",
    "    - **Faithfulness(신뢰성)**\n",
    "        -  생성된 답변과 검색된 문서(context)간의 관련성을 평가하는 지표\n",
    "        -  생성된 답변이 주어진 문맥(context)에 얼마나 충실한지를 평가하는 지표로 할루시네이션에 대한 평가로 볼 수있다.\n",
    "    - **Answer relevancy(답변 적합성)**\n",
    "        - 생성된 답변과 사용자의 질문간의 관련성을 평가하는 지표\n",
    "        - 생성된 답변이 사용자의 질문과 얼마나 관련성이 있는지를 평가하는 지표.\n",
    "- **Retrieval**\n",
    "    -  질문에 대해 검색한 문서(context)들에 대한 평가\n",
    "    -  **Context Precision(문맥 정밀도)**\n",
    "        -  검색된 문서(context)들 중 질문과 관련 있는 것들이 **얼마나 상위 순위에 위치하는지** 평가하는 지표.\n",
    "    -  **Context Recall(문맥 재현률)**\n",
    "        -  검색된 문서(context)가 정답(ground-truth)의 정보를 얼마나 포함하고 있는지 평가하는 지표.\n",
    "- 이러한 지표들은 RAG 파이프라인의 성능을 다각도로 평가하는 데 활용된다.\n",
    "![RAGAS_score2](figures/RAGAS_score2.png)"
   ]
  },
  {
   "cell_type": "markdown",
   "metadata": {},
   "source": [
    "## 주요 평가지표\n",
    "### Generation 평가\n",
    "- LLM이 생성한 답변에 대한 평가\n",
    "  \n",
    "#### Faithfulness (신뢰성)\n",
    "- 생성된 답변이 얼마나 주어진 검색 문서들(context)를 잘 반영해서 생성되었는지 평가한다. 할루시네이션에 대한 평가라고 할 수 있다. \n",
    "- 점수범위: **0 ~ 1** (1에 가까울수록 좋음)\n",
    "- 답변에 포함된 모든 주장이 context에서 얼마나 추출 가능한지를 확인한다.\n",
    "\n",
    "##### 평가 방법\n",
    "1. Answer에서 주장 구문(claim statement)들을 생성(추출)한다. (주장이란, 질문(user input)과 관련된 내용)\n",
    "    - 예) \n",
    "        - **질문**: 한국의 수도는 어디이고 인구는 얼마나 되나요? \n",
    "        - **LLM 답변**: 한국의 수도는 서울이고 인구수는 3000만명이다. \n",
    "        - **주장(claim)**: \n",
    "            1. 한국의 수도는 서울이다.\n",
    "            2. 인구수는 3000만명이다.\n",
    "2. 각 주장들을 context로 부터 추론 가능한지 판단한다. 이를 바탕으로 faithfulness 점수를 계산한다.\n",
    "    - 예)\n",
    "        - context: 한국은 동아시아에 위치하고 있는 나라다. 한국의 수도는 서울이다. .... 한국의 인구는 5000만명이고 서울에 1000만이 살고 있다.\n",
    "        - 위 context에서 추론 가능한 주장: \n",
    "            - 한국의 수도는 서울이다. -> context에서 추론가능한 주장.\n",
    "            - 한국의 인구는 3000만명이다. -> context에서 추론 불가능한 주장.\n",
    "3. **Faithfulness score** 를 계산한다. 총 주장 수 중에서 context로 부터 추론가능한 주장의 개수.    \n",
    "    - 예)\n",
    "        - Faithfulness Score = $\\cfrac{1}{2} = 0.5$ (두 개의 주장 중 한 개의 주장만 context에서 유추할 수있다.)\n",
    "    - LLM 답변에서 주장을 추출 하는 것과 각 주장이 context에서 추론 가능한 지를 판단하는 것은 LLM 을 활용한다.\n",
    "- 공식\n",
    "    $$\n",
    "    \\text{Faithfulness Score}\\;=\\;\\cfrac{\\text{주어진\\;context\\;에서\\;추론할\\;수\\;있는\\;주장의\\;개수}}{\\text{총\\;주장\\;개수}}\n",
    "    $$"
   ]
  },
  {
   "cell_type": "code",
   "execution_count": null,
   "metadata": {},
   "outputs": [],
   "source": []
  },
  {
   "cell_type": "markdown",
   "metadata": {},
   "source": [
    "#### Answer relevancy (답변 적합성)\n",
    "- 생성된 답변이 질문(user input)에 얼마나 잘 부합하는 지를 평가한다.\n",
    "- 점수 범위: -1~1 (1에 가까울수록 좋음)\n",
    "- LLM이 생성한 답변을 기반으로 질문들을 생성한다. 이렇게 생성한 질문들과 실제 질문(user input)의 embedding vector 간의 **코사인 유사도**를 측정한다.\n",
    "\n",
    "##### 평가방법\n",
    "1. LLM이 생성한 답변을 기반으로 질문들을 생성한다.\n",
    "    - 예) \n",
    "        - **LLM** 답변: 한국의 수도는 서울이고 인구수는 3000만명이다. \n",
    "        - **생성된 질문**: \n",
    "            1. 한국의 수도는 어디이고 인구는 얼마나 되나요?\n",
    "            2. 한국의 수도는 어디인가요?\n",
    "            3. 한국의 인구는 얼마나 되나요?\n",
    "2. 실제 질문과 생성한 질문간의 코사인 유사도를 측정한다. 그 평균이 최종 점수가 된다.\n",
    "    - 예)\n",
    "        - **실제 질문**: 한국의 수도는 어디이고 인구는 얼마나 되나요?\n",
    "        - **생성된 질문**: \n",
    "            1. 한국의 수도는 어디이고 인구는 얼마나 되나요?\n",
    "            2. 한국의 수도는 어디인가요?\n",
    "            3. 한국의 인구는 얼마나 되나요?\n",
    "- 공식\n",
    "  $$\n",
    "    \\cfrac{1}{N} \\sum_{i=1}^{N} \\text{cosine\\_similarity}(q_{\\text{user}_{_i}}, q_{\\text{generated}})\n",
    "  $$"
   ]
  },
  {
   "cell_type": "code",
   "execution_count": null,
   "metadata": {},
   "outputs": [],
   "source": []
  },
  {
   "cell_type": "markdown",
   "metadata": {},
   "source": [
    "### Retrieval 평가\n",
    "User input에 대해 Vector store에서 검색한 context에 대한 평가\n",
    "\n",
    "#### Context Precision\n",
    "- 사용자가 질문(query)에 대해 검색된 문서들이 답변 생성에 얼마나 유용한지를 평가한다.\n",
    "- 검색된 K개의 문서(context)들 중 **질문과 관련 있는 문서들이 얼마나 상위 순위**에 있는 지로 평가.\n",
    "- 점수 범위: 0~1 (1에 가까울수록 좋음)\n",
    "\n",
    "\n",
    "##### 평가방법\n",
    "\n",
    "- 공식\n",
    "$$\n",
    " \\text{Context\\;Precision@K} = \\frac{\\sum_{k=1}^{K} \\left( \\text{Precision@k} \\times v_k \\right)}{\\ 상위\\;K개\\;결과에서의\\;관련\\;항목\\;수}\n",
    "$$\n",
    "$$\n",
    " \\text{Precision@k} = \\frac{\\text{True\\;positive@k}}{(\\text{True\\;positive@k} + \\text{False\\;positive@k})} \\\\\n",
    "$$\n",
    "- $\\text{True Positive@k}$: 상위 k개의 문서 중 질문과 관련있는 문서의 개수\n",
    "- $\\text{False Positive@k}$: 상위 k개의 문서 중 질문과 관련없는 문서의 개수\n",
    "- $\\text{Precision@k}$: 상위 k개의 문서 중 질문과 관련된 문서들이 차지하는 비율\n",
    "- K: 검색한 context(문서)의 개수(chuck 수)\n",
    "- $v_k$: 질문과의 context간의 관련성 여부로 0 또는 1. (0: 관련 없음, 1: 관련 있음)\n",
    "\n",
    "##### 예시\n",
    "- 질문과 context 관련성 예\n",
    "    - 질문: 한국의 수도는 어디이고 인구는 얼마나 되나요?\n",
    "    - 높은 정밀도 context(관련성 높은 문서의 예)\n",
    "        - 한국의 수도는 서울이고 인구는 5000명 입니다. \n",
    "        - 한국의 수도는 서울입니다.\n",
    "        - 한국은 동아시아에 위치해 있는 국가로 수도는 서울입니다.\n",
    "        - 한국의 인구는 5000만명 입니다.\n",
    "    - 낮은 정밀도 context(관련성 낮은 문서의 예)\n",
    "        - 한국은 동아시아에 위치한 국가입니다.\n",
    "        - 한국의 K-pop은 전 세계적으로 유명합니다.\n",
    "        - 비빔밥, 불고기는 한국의 대표적인 음식입니다.\n",
    "    - **높은 정밀도의 context이 상위 순위에 위치했으면 높은 점수를 받는다.**\n",
    "- 점수 계산의 예\n",
    "  - 상위 5개의 검색 결과 중 1번째, 3번째, 4번째 문서가 관련이 있다고 가정\n",
    "    ```bash\n",
    "    Precision@1 = 1/1 = 1.0    # True positive@1/(True positive@1 + False positive@1).  1/1(1번 문서 계산 시에는 1개 문서만 있으므로 분모가 1이 된다.)\n",
    "    Precision@2 = 1/2 = 0.5     \n",
    "    Precision@3 = 2/3 ≈ 0.67    \n",
    "    Precision@4 = 3/4 = 0.75\n",
    "    Precision@5 = 3/5 = 0.6\n",
    "    ```\n",
    "- vk의 값\n",
    "    - 1번째: $v_1 = 1$\n",
    "    - 2번째: $v_2 = 0$\n",
    "    - 3번째: $v_3 = 1$\n",
    "    - 4번째: $v_4 = 1$\n",
    "    - 5번째: $v_5 = 0$\n",
    "\n",
    "- Context Precision@5\n",
    "$$\n",
    "\\text{Context\\;Precision@5} = \\frac{(1.0 \\times 1) + (0.5 \\times 0) + (0.67 \\times 1) + (0.75 \\times 1) + (0.6 \\times 0)}{3} = \\frac{1.0 + 0 + 0.67 + 0.75 + 0}{3} ≈ 0.807\n",
    "$$"
   ]
  },
  {
   "cell_type": "code",
   "execution_count": null,
   "metadata": {},
   "outputs": [],
   "source": []
  },
  {
   "cell_type": "markdown",
   "metadata": {},
   "source": [
    "#### Context Recall (문맥 재현률)\n",
    "- 검색된 문서(context)가 얼마나 정답(ground-truth)의 정보를 포함있는 지 평가하는 지표\n",
    "- 점수 범위: 0~1 (1에 가까울수록 좋음)\n",
    "- **정답(ground truth)의 각 주장(claim)이 검색된 context와 얼마나 일치**하는지 계산함.\n",
    "\n",
    "##### 평가방법\n",
    "1. **정답**에서 주장 문장(claim statement)들을 생성(추출)한다.\n",
    "    - 예) \n",
    "        - **정답**: 한국의 수도는 서울이고 인구수는 5000만명이다. \n",
    "        - **주장(claim)**: \n",
    "            1. 한국의 수도는 서울이다.\n",
    "            2. 인구수는 5000만명이다.\n",
    "2. 각 주장 문장(claim statement)의 정보를 검색된 context들에서 찾을 수 있는지 판별한다. 이를 바탕으로 context recall 점수를 계산한다.\n",
    "    - 예)\n",
    "        - context: 한국은 동아시아에 위치하고 있는 나라다. 한국의 수도는 서울이다.\n",
    "        - 위 context에서 추론 가능한 주장: \n",
    "            - 한국의 수도는 서울이다. -> context에서 찾을 수 있다.\n",
    "            - 한국의 인구는 5000만명이다. -> context에서 찾을 수 없다.\n",
    "3. **Context Recall Score** 를 계산한다. 총 주장 수 중에서 context로 부터 찾을 수 있는 주장의 개수.\n",
    "    - 예)\n",
    "        - Context Recall Score = $\\cfrac{1}{2} = 0.5$ (두 개의 주장 중 한 개의 주장만 context에서 찾을 수 있다.)\n",
    "\n",
    "- 공식\n",
    "    $$\n",
    "    \\text{Context Recall Score}\\;=\\;\\cfrac{\\text{GT의\\;주장\\;중\\;주어진\\;context\\;에서\\;찾을\\;수\\;있는\\;주장의\\;개수}}{\\text{GT의\\;총\\;주장\\;개수}}\n",
    "    $$ "
   ]
  },
  {
   "cell_type": "markdown",
   "metadata": {},
   "source": [
    "# RAGAS 평가 실습"
   ]
  },
  {
   "cell_type": "code",
   "execution_count": 2,
   "metadata": {},
   "outputs": [],
   "source": [
    "# %pip install ragas"
   ]
  },
  {
   "cell_type": "code",
   "execution_count": 20,
   "metadata": {},
   "outputs": [],
   "source": [
    "from langchain_openai import ChatOpenAI, OpenAIEmbeddings\n",
    "from dotenv import load_dotenv\n",
    "\n",
    "load_dotenv()\n",
    "\n",
    "model = ChatOpenAI(model=\"gpt-4.1-mini\")\n",
    "embedding_model = OpenAIEmbeddings(\n",
    "    model=\"text-embedding-3-large\"\n",
    ")\n"
   ]
  },
  {
   "cell_type": "code",
   "execution_count": 21,
   "metadata": {},
   "outputs": [
    {
     "name": "stdout",
     "output_type": "stream",
     "text": [
      "183\n"
     ]
    }
   ],
   "source": [
    "## ChromaDB와 연결 하고 vector store 생성\n",
    "from langchain_chroma import Chroma\n",
    "\n",
    "COLLECTION_NAME = 'olympic_info'\n",
    "PERSIST_DIRECTORY = 'vector_store/chroma/olympic_info'\n",
    "\n",
    "vector_store = Chroma(\n",
    "    embedding_function=embedding_model,\n",
    "    collection_name=COLLECTION_NAME,\n",
    "    persist_directory=PERSIST_DIRECTORY\n",
    ")\n",
    "print(vector_store._collection.count())"
   ]
  },
  {
   "cell_type": "code",
   "execution_count": 22,
   "metadata": {},
   "outputs": [],
   "source": [
    "from langchain_community.document_loaders import TextLoader\n",
    "from langchain.text_splitter import RecursiveCharacterTextSplitter\n",
    "\n",
    "loader = TextLoader(\"data/olympic.txt\", encoding=\"utf-8\")\n",
    "splitter = RecursiveCharacterTextSplitter(chunk_size=500, chunk_overlap=50)\n",
    "\n",
    "docs = loader.load_and_split(splitter)\n",
    "# vector_store.add_documents(docs)"
   ]
  },
  {
   "cell_type": "code",
   "execution_count": 23,
   "metadata": {},
   "outputs": [
    {
     "name": "stdout",
     "output_type": "stream",
     "text": [
      "183\n"
     ]
    }
   ],
   "source": [
    "print(vector_store._collection.count())"
   ]
  },
  {
   "cell_type": "markdown",
   "metadata": {},
   "source": [
    "## RAG Chain 구성\n",
    "- Vector Store 연결\n",
    "- Chain 응답 결과\n",
    "    - 평가를 위해 **Vector Store에서 검색한 context**들과 **LLM 응답**이 출력되도록 chain을 구성한다."
   ]
  },
  {
   "cell_type": "code",
   "execution_count": 24,
   "metadata": {},
   "outputs": [],
   "source": [
    "from langchain.prompts import PromptTemplate\n",
    "from langchain_core.runnables import RunnablePassthrough, RunnableLambda\n",
    "from langchain_core.output_parsers import StrOutputParser\n",
    "from langchain_core.documents import Document\n",
    "\n",
    "retriever = vector_store.as_retriever()\n",
    "\n",
    "template = \"\"\"# Instruction:\n",
    "당신은 정확한 정보 제공을 우선시하는 인공지능 어시스턴트입니다.\n",
    "주어진 Context에 포함된 정보만 사용해서 질문에 답변하세요.\n",
    "Context에 질문에 대한 명확한 정보가 있는 경우 그 내용을 바탕으로 답변하세요.\n",
    "Context에 질문에 대한 명확한 정보없을 경우 \"정보가 부족해서 답을 알 수 없습니다.\" 라고 대답합니다.\n",
    "절대 Context에 없는 내용을 추측하거나 일반 상식을 이용해 답을 만들어서 대답하지 않습니다.\n",
    "\n",
    "# Context:\n",
    "{context}\n",
    "\n",
    "# 질문:\n",
    "{query}\n",
    "\"\"\"\n",
    "prompt_template = PromptTemplate(template=template)"
   ]
  },
  {
   "cell_type": "code",
   "execution_count": 25,
   "metadata": {},
   "outputs": [],
   "source": [
    "def format_docs(src_dict:dict)->str:\n",
    "    \"\"\"\n",
    "    Vector_store에 조회한 문서들에서 내용(page_content)만 추출해서 str으로 합쳐서 반환.\n",
    "    \n",
    "    Args:\n",
    "        src_dict(dict): {\"context\":list[Document],  \"query\":\"사용자질문\"}\n",
    "    Returns:\n",
    "        str: 각 문서의 내용을 \"\\n\\n\"으로 연결한 string\n",
    "    \"\"\"\n",
    "    docs = src_dict[\"context\"]\n",
    "    return \"\\n\\n\".join(doc.page_content for doc in docs)\n",
    "\n",
    "def format_docs_list(src_dict:dict)->list[str]:\n",
    "    \"\"\"\n",
    "    Vector_store에 조회한 문서들에서 내용(page_content)만 추출해서 list로 묶어서 반환.\n",
    "    \n",
    "    Args:\n",
    "        src_dict(dict): {\"context\":list[Document],  \"query\":\"사용자질문\"}\n",
    "    Returns:\n",
    "        list[str]: 각 문서의 내용을 담은 list\n",
    "    \"\"\"\n",
    "    return [doc.page_content for doc in src_dict[\"context\"]]"
   ]
  },
  {
   "cell_type": "code",
   "execution_count": 26,
   "metadata": {},
   "outputs": [],
   "source": [
    "# docs = retriever.invoke(\"올림픽 논란\")\n",
    "# docs\n",
    "# format_docs({\"context\":docs})\n",
    "# format_docs_list({\"context\":docs})"
   ]
  },
  {
   "cell_type": "code",
   "execution_count": 27,
   "metadata": {},
   "outputs": [],
   "source": [
    "# 평가를 위한 Rag Chain을 구성\n",
    "## chain의 응답: LLM 응답, Retriever가 검색한 context들 \n",
    "rag_chain = (\n",
    "    RunnablePassthrough()  # dict | dict 를 LCEL로 연결하기 위해 하는일 없는 Runnable(RunnablePassthrough) 을 추가\n",
    "    | {\"context\":retriever, \"query\":RunnablePassthrough()} # retrieve\n",
    "    | {\n",
    "        \"source_context\":format_docs_list, # list[Document] -> list[str]\n",
    "        \"llm_answer\": {\n",
    "                        \"context\":format_docs, # list[Document] -> str(문서\\n\\n문서\\n\\n...)\n",
    "                        \"query\": lambda x : x[\"query\"]    # query만 추출\n",
    "                    } | prompt_template | model | StrOutputParser()\n",
    "    } # 응답처리 - 입력: {\"context\":검색문서들, \"query\":\"사용자질문\"} \n",
    "      #          - 출력: {\"source_context\":검색한 문서들(list[str]), \"llm_answer\":LLM응답(str)}\n",
    "      #             -> 응답처리 출력이 chain의 최종 출력\n",
    "    \n",
    ")"
   ]
  },
  {
   "cell_type": "code",
   "execution_count": 28,
   "metadata": {},
   "outputs": [],
   "source": [
    "user_input = \"국제 올림픽 위원회에 대해서 설명해주세요.\"\n",
    "response = rag_chain.invoke(user_input)"
   ]
  },
  {
   "cell_type": "code",
   "execution_count": 29,
   "metadata": {},
   "outputs": [
    {
     "name": "stdout",
     "output_type": "stream",
     "text": [
      "<class 'dict'> dict_keys(['source_context', 'llm_answer'])\n"
     ]
    }
   ],
   "source": [
    "print(type(response), response.keys())"
   ]
  },
  {
   "cell_type": "code",
   "execution_count": 30,
   "metadata": {},
   "outputs": [
    {
     "name": "stdout",
     "output_type": "stream",
     "text": [
      "국제올림픽위원회(IOC)는 올림픽 활동을 통솔하는 단체로서, 올림픽 개최 도시 선정, 계획 감독, 종목 변경, 스폰서 및 방송권 계약 체결 등의 권리를 가지고 있습니다. 올림픽 활동은 많은 국가, 국제 경기 연맹과 협회, 미디어 파트너와 협력하며, 선수, 직원, 심판 등 모든 사람과 기관이 올림픽 헌장을 지키는 것을 의미합니다. IOC는 올림픽과 관련된 모든 활동의 최고 의사 결정 기구입니다.\n"
     ]
    }
   ],
   "source": [
    "llm_answer = response['llm_answer']\n",
    "print(llm_answer)"
   ]
  },
  {
   "cell_type": "code",
   "execution_count": 31,
   "metadata": {},
   "outputs": [
    {
     "data": {
      "text/plain": [
       "['국제 올림픽 위원회\\n올림픽 활동이란 많은 수의 국가, 국제 경기 연맹과 협회 • 미디어 파트너를 맺기 • 선수, 직원, 심판, 모든 사람과 기관이 올림픽 헌장을 지키는 것을 말한다. 국제올림픽위원회(IOC)는 모든 올림픽 활동을 통솔하는 단체로서, 올림픽 개최 도시 선정, 계획 감독, 종목 변경, 스폰서 및 방송권 계약 체결 등의 권리가 있다. 올림픽 활동은 크게 세 가지로 구성된다.\\n- 국제경기연맹(IF)은 국제적인 규모의 경기를 관리, 감독하는 기구이다. 예를 들어서 국제 축구 연맹(FIFA)는 축구를 주관하며, 국제 배구 연맹(FIVB)은 배구를 주관하는 기구이다. 올림픽에는 현재 35개의 국제경기연맹이 있고 각 종목을 대표한다. (이 중에는 올림픽 종목은 아니지만 IOC의 승인을 받은 연맹도 있다.)',\n",
       " '국제 올림픽 위원회\\n올림픽 활동이란 많은 수의 국가, 국제 경기 연맹과 협회 • 미디어 파트너를 맺기 • 선수, 직원, 심판, 모든 사람과 기관이 올림픽 헌장을 지키는 것을 말한다. 국제올림픽위원회(IOC)는 모든 올림픽 활동을 통솔하는 단체로서, 올림픽 개최 도시 선정, 계획 감독, 종목 변경, 스폰서 및 방송권 계약 체결 등의 권리가 있다. 올림픽 활동은 크게 세 가지로 구성된다.\\n- 국제경기연맹(IF)은 국제적인 규모의 경기를 관리, 감독하는 기구이다. 예를 들어서 국제 축구 연맹(FIFA)는 축구를 주관하며, 국제 배구 연맹(FIVB)은 배구를 주관하는 기구이다. 올림픽에는 현재 35개의 국제경기연맹이 있고 각 종목을 대표한다. (이 중에는 올림픽 종목은 아니지만 IOC의 승인을 받은 연맹도 있다.)',\n",
       " '국제 올림픽 위원회\\n올림픽 활동이란 많은 수의 국가, 국제 경기 연맹과 협회 • 미디어 파트너를 맺기 • 선수, 직원, 심판, 모든 사람과 기관이 올림픽 헌장을 지키는 것을 말한다. 국제올림픽위원회(IOC)는 모든 올림픽 활동을 통솔하는 단체로서, 올림픽 개최 도시 선정, 계획 감독, 종목 변경, 스폰서 및 방송권 계약 체결 등의 권리가 있다. 올림픽 활동은 크게 세 가지로 구성된다.\\n- 국제경기연맹(IF)은 국제적인 규모의 경기를 관리, 감독하는 기구이다. 예를 들어서 국제 축구 연맹(FIFA)는 축구를 주관하며, 국제 배구 연맹(FIVB)은 배구를 주관하는 기구이다. 올림픽에는 현재 35개의 국제경기연맹이 있고 각 종목을 대표한다. (이 중에는 올림픽 종목은 아니지만 IOC의 승인을 받은 연맹도 있다.)',\n",
       " '올림픽은 국제경기연맹(IF), 국가 올림픽 위원회(NOC), 각 올림픽의 위원회(예-벤쿠버동계올림픽조직위원회)로 구성된다. 의사 결정 기구인 IOC는 올림픽 개최 도시를 선정하며, 각 올림픽 대회마다 열리는 올림픽 종목도 IOC에서 결정한다. 올림픽 경기 개최 도시는 경기 축하 의식이 올림픽 헌장에 부합하도록 조직하고 기금을 마련해야 한다. 올림픽 축하 행사로는 여러 의식과 상징을 들 수 있는데 올림픽기나 성화가 그 예이다.']"
      ]
     },
     "execution_count": 31,
     "metadata": {},
     "output_type": "execute_result"
    }
   ],
   "source": [
    "context = response[\"source_context\"]\n",
    "context"
   ]
  },
  {
   "cell_type": "markdown",
   "metadata": {},
   "source": [
    "## 평가"
   ]
  },
  {
   "cell_type": "code",
   "execution_count": 32,
   "metadata": {},
   "outputs": [],
   "source": [
    "# 평가데이터셋: user_input, response(정답)\n",
    "user_input = \"국제 올림픽 위원회에 대해 설명해주세요.\"\n",
    "reference = \"국제올림픽위원회(IOC)는 올림픽 활동을 통솔하는 기구로, 올림픽 개최 도시 선정, 계획 감독, 종목 변경, 스폰서 및 방송권 계약 체결 등의 역할을 수행한다.\"\n",
    "\n",
    "resp = rag_chain.invoke(user_input)\n",
    "retrieved_context = resp['source_context']  # RAG에서 검색된 문서\n",
    "response = resp['llm_answer']  # RAG의 답변"
   ]
  },
  {
   "cell_type": "code",
   "execution_count": 34,
   "metadata": {},
   "outputs": [],
   "source": [
    "from ragas import SingleTurnSample, EvaluationDataset\n",
    "\n",
    "# RAGAS의 평가 데이터셋의 구성\n",
    "# - user_input: 사용자 입력(질문)\n",
    "# - retrieved_context: RAG에서 검색한 context(문서)들\n",
    "# - response: llm의 출력(응답)\n",
    "# - reference: 정답.\n",
    "\n",
    "eval_sample1 = SingleTurnSample(  # 1개의 평가 데이터을 생성할 때 사용.\n",
    "    user_input=user_input,\n",
    "    retrieved_contexts=retrieved_context,\n",
    "    response=response,\n",
    "    reference=reference\n",
    ")\n",
    "# 평가용 Dataset을 생성\n",
    "eval_dataset = EvaluationDataset(samples=[eval_sample1])"
   ]
  },
  {
   "cell_type": "code",
   "execution_count": 35,
   "metadata": {},
   "outputs": [
    {
     "data": {
      "text/plain": [
       "EvaluationDataset(features=['user_input', 'retrieved_contexts', 'response', 'reference'], len=1)"
      ]
     },
     "execution_count": 35,
     "metadata": {},
     "output_type": "execute_result"
    }
   ],
   "source": [
    "eval_dataset"
   ]
  },
  {
   "cell_type": "code",
   "execution_count": 36,
   "metadata": {},
   "outputs": [
    {
     "data": {
      "text/html": [
       "<div>\n",
       "<style scoped>\n",
       "    .dataframe tbody tr th:only-of-type {\n",
       "        vertical-align: middle;\n",
       "    }\n",
       "\n",
       "    .dataframe tbody tr th {\n",
       "        vertical-align: top;\n",
       "    }\n",
       "\n",
       "    .dataframe thead th {\n",
       "        text-align: right;\n",
       "    }\n",
       "</style>\n",
       "<table border=\"1\" class=\"dataframe\">\n",
       "  <thead>\n",
       "    <tr style=\"text-align: right;\">\n",
       "      <th></th>\n",
       "      <th>user_input</th>\n",
       "      <th>retrieved_contexts</th>\n",
       "      <th>response</th>\n",
       "      <th>reference</th>\n",
       "    </tr>\n",
       "  </thead>\n",
       "  <tbody>\n",
       "    <tr>\n",
       "      <th>0</th>\n",
       "      <td>국제 올림픽 위원회에 대해 설명해주세요.</td>\n",
       "      <td>[국제 올림픽 위원회\\n올림픽 활동이란 많은 수의 국가, 국제 경기 연맹과 협회 •...</td>\n",
       "      <td>국제 올림픽 위원회(IOC)는 모든 올림픽 활동을 통솔하는 단체입니다. IOC는 올...</td>\n",
       "      <td>국제올림픽위원회(IOC)는 올림픽 활동을 통솔하는 기구로, 올림픽 개최 도시 선정,...</td>\n",
       "    </tr>\n",
       "  </tbody>\n",
       "</table>\n",
       "</div>"
      ],
      "text/plain": [
       "               user_input                                 retrieved_contexts  \\\n",
       "0  국제 올림픽 위원회에 대해 설명해주세요.  [국제 올림픽 위원회\\n올림픽 활동이란 많은 수의 국가, 국제 경기 연맹과 협회 •...   \n",
       "\n",
       "                                            response  \\\n",
       "0  국제 올림픽 위원회(IOC)는 모든 올림픽 활동을 통솔하는 단체입니다. IOC는 올...   \n",
       "\n",
       "                                           reference  \n",
       "0  국제올림픽위원회(IOC)는 올림픽 활동을 통솔하는 기구로, 올림픽 개최 도시 선정,...  "
      ]
     },
     "execution_count": 36,
     "metadata": {},
     "output_type": "execute_result"
    }
   ],
   "source": [
    "# eval_dataset을 DataFrame으로 변환\n",
    "eval_dataset.to_pandas()"
   ]
  },
  {
   "cell_type": "code",
   "execution_count": 37,
   "metadata": {},
   "outputs": [
    {
     "data": {
      "text/plain": [
       "True"
      ]
     },
     "execution_count": 37,
     "metadata": {},
     "output_type": "execute_result"
    }
   ],
   "source": [
    "##########################\n",
    "# 평가\n",
    "from ragas.metrics import (\n",
    "    LLMContextRecall, # Context recall을 계산하는 **평가함수**\n",
    "    LLMContextPrecisionWithReference, # Context Precision\n",
    "    Faithfulness,     # Faithfulness \n",
    "    AnswerRelevancy,  # AnswerRelevancy\n",
    ")\n",
    "from ragas import evaluate\n",
    "from ragas.llms import LangchainLLMWrapper\n",
    "from ragas.embeddings import LangchainEmbeddingsWrapper\n",
    "# Langchain으로 생성된 LLM 모델, 임베딩모델 객체를 RAGAS에서 사용할 있도록 wrapping하는 클래스.\n",
    "# 모든 평가 지표들이 LLM 모델을 사용한다.\n",
    "\n",
    "from langchain_openai import ChatOpenAI, OpenAIEmbeddings\n",
    "from dotenv import load_dotenv\n",
    "load_dotenv()"
   ]
  },
  {
   "cell_type": "code",
   "execution_count": 38,
   "metadata": {},
   "outputs": [
    {
     "data": {
      "application/vnd.jupyter.widget-view+json": {
       "model_id": "1b81ced4363242c69e046c4efac33cad",
       "version_major": 2,
       "version_minor": 0
      },
      "text/plain": [
       "Evaluating:   0%|          | 0/4 [00:00<?, ?it/s]"
      ]
     },
     "metadata": {},
     "output_type": "display_data"
    }
   ],
   "source": [
    "# 평가 함수(객체)에 넣어줄 LLM 모델, Embedding 모델 생성.\n",
    "llm_model = ChatOpenAI(model=\"gpt-4.1-mini\")\n",
    "e_model = OpenAIEmbeddings(model=\"text-embedding-3-large\")\n",
    "\n",
    "eval_model = LangchainLLMWrapper(llm_model)\n",
    "eval_embedding_model = LangchainEmbeddingsWrapper(e_model)\n",
    "\n",
    "## 평가지표 객체를 생성 -> 리스트에 묶어준다.\n",
    "metrics = [\n",
    "    LLMContextRecall(llm=eval_model),\n",
    "    LLMContextPrecisionWithReference(llm=eval_model),\n",
    "    Faithfulness(llm=eval_model),\n",
    "    AnswerRelevancy(llm=eval_model)\n",
    "]\n",
    "\n",
    "# 평가지표 객체를 이용해서 평가\n",
    "eval_result = evaluate(dataset=eval_dataset, metrics=metrics)"
   ]
  },
  {
   "cell_type": "code",
   "execution_count": 39,
   "metadata": {},
   "outputs": [
    {
     "name": "stdout",
     "output_type": "stream",
     "text": [
      "<class 'ragas.dataset_schema.EvaluationResult'>\n"
     ]
    },
    {
     "data": {
      "text/plain": [
       "{'context_recall': 1.0000, 'llm_context_precision_with_reference': 1.0000, 'faithfulness': 1.0000, 'answer_relevancy': 0.8474}"
      ]
     },
     "execution_count": 39,
     "metadata": {},
     "output_type": "execute_result"
    }
   ],
   "source": [
    "# context recall: 검색 context와 정답간의 연관성\n",
    "# context precision: 검색 context와 사용자 질문간의 연관성\n",
    "# faithfulness: LLM 답변과 검색 context간의 연관성\n",
    "# answer relevancy: LLM 답변과 사용자 질문간의 연관성.\n",
    "print(type(eval_result))\n",
    "eval_result"
   ]
  },
  {
   "cell_type": "code",
   "execution_count": null,
   "metadata": {},
   "outputs": [],
   "source": []
  },
  {
   "cell_type": "code",
   "execution_count": 40,
   "metadata": {},
   "outputs": [
    {
     "data": {
      "text/html": [
       "<div>\n",
       "<style scoped>\n",
       "    .dataframe tbody tr th:only-of-type {\n",
       "        vertical-align: middle;\n",
       "    }\n",
       "\n",
       "    .dataframe tbody tr th {\n",
       "        vertical-align: top;\n",
       "    }\n",
       "\n",
       "    .dataframe thead th {\n",
       "        text-align: right;\n",
       "    }\n",
       "</style>\n",
       "<table border=\"1\" class=\"dataframe\">\n",
       "  <thead>\n",
       "    <tr style=\"text-align: right;\">\n",
       "      <th></th>\n",
       "      <th>user_input</th>\n",
       "      <th>retrieved_contexts</th>\n",
       "      <th>response</th>\n",
       "      <th>reference</th>\n",
       "      <th>context_recall</th>\n",
       "      <th>llm_context_precision_with_reference</th>\n",
       "      <th>faithfulness</th>\n",
       "      <th>answer_relevancy</th>\n",
       "    </tr>\n",
       "  </thead>\n",
       "  <tbody>\n",
       "    <tr>\n",
       "      <th>0</th>\n",
       "      <td>국제 올림픽 위원회에 대해 설명해주세요.</td>\n",
       "      <td>[국제 올림픽 위원회\\n올림픽 활동이란 많은 수의 국가, 국제 경기 연맹과 협회 •...</td>\n",
       "      <td>국제 올림픽 위원회(IOC)는 모든 올림픽 활동을 통솔하는 단체입니다. IOC는 올...</td>\n",
       "      <td>국제올림픽위원회(IOC)는 올림픽 활동을 통솔하는 기구로, 올림픽 개최 도시 선정,...</td>\n",
       "      <td>1.0</td>\n",
       "      <td>1.0</td>\n",
       "      <td>1.0</td>\n",
       "      <td>0.847435</td>\n",
       "    </tr>\n",
       "  </tbody>\n",
       "</table>\n",
       "</div>"
      ],
      "text/plain": [
       "               user_input                                 retrieved_contexts  \\\n",
       "0  국제 올림픽 위원회에 대해 설명해주세요.  [국제 올림픽 위원회\\n올림픽 활동이란 많은 수의 국가, 국제 경기 연맹과 협회 •...   \n",
       "\n",
       "                                            response  \\\n",
       "0  국제 올림픽 위원회(IOC)는 모든 올림픽 활동을 통솔하는 단체입니다. IOC는 올...   \n",
       "\n",
       "                                           reference  context_recall  \\\n",
       "0  국제올림픽위원회(IOC)는 올림픽 활동을 통솔하는 기구로, 올림픽 개최 도시 선정,...             1.0   \n",
       "\n",
       "   llm_context_precision_with_reference  faithfulness  answer_relevancy  \n",
       "0                                   1.0           1.0          0.847435  "
      ]
     },
     "execution_count": 40,
     "metadata": {},
     "output_type": "execute_result"
    }
   ],
   "source": [
    "eval_result.to_pandas()"
   ]
  },
  {
   "cell_type": "markdown",
   "metadata": {},
   "source": [
    "# 평가 데이터 셋 만들기\n",
    "\n",
    "1. 문서를 Loading하고 split하여 Context 들을 만든다.\n",
    "2. Context들 중 평가에 사용할 것을 Random하게 선택한다.\n",
    "3. 선택된 context를 기반으로 LLM 모델을 이용해서 질문과 답변을 생성한다. \n",
    "4. 생성된 질문과 답변을 검토하여 품질을 높인다. \n",
    "   - 질문과 답변 자체가 맞는지 검사한다.\n",
    "   - 나올만한 질문인 지 확인한다.\n",
    "\n",
    "- **생성된 질문-답변의 질이 낮으면 좋은 평가를 할 수 없다.**\n",
    "    - 질문-답변 생성시 사용하는 LLM 모델은 성능이 좋은 것을 사용해야 한다. \n",
    "    - 생성된 질문-답변을 사람이 검토해서 품질을 더 높여야 한다.\n",
    "\n",
    "## 데이터셋에 포함될 내용\n",
    "- Dataset을 생성할 때는 다음 항목이 들어가야 한다.\n",
    "    -  **user_input**: 질문. `string`\n",
    "    -  **reference**: 정답. `string`\n",
    "    -  qa_context : context. `str` - QA를 만들 때 어떤 context를 사용했는지 값. 생성된 데이터셋을 확인하기 위한 것으로 **평가시에는 사용하지 않는다.**\n",
    "-  평가할 때 추가할 것\n",
    "    - **response**: RAG 시스템에서 질문에 대해 LLM 모델이 생성한 답변. `string`\n",
    "    - **retrieved_contexts**: RAG 시스템에서 질문에 대해 Vector DB에서 검색한 context들. `list(string)`"
   ]
  },
  {
   "cell_type": "code",
   "execution_count": 41,
   "metadata": {},
   "outputs": [
    {
     "data": {
      "text/plain": [
       "True"
      ]
     },
     "execution_count": 41,
     "metadata": {},
     "output_type": "execute_result"
    }
   ],
   "source": [
    "from langchain_community.document_loaders import TextLoader\n",
    "from langchain_text_splitters import RecursiveCharacterTextSplitter\n",
    "from langchain_chroma import Chroma\n",
    "\n",
    "from langchain_openai import ChatOpenAI, OpenAIEmbeddings\n",
    "from langchain.prompts import PromptTemplate\n",
    "from langchain_core.output_parsers import JsonOutputParser,StrOutputParser\n",
    "\n",
    "from langchain import hub\n",
    "from langchain_core.runnables import RunnablePassthrough, RunnableLambda\n",
    "from langchain_core.documents import Document\n",
    "\n",
    "from ragas import EvaluationDataset, RunConfig, evaluate\n",
    "from ragas.metrics import (\n",
    "    LLMContextRecall, Faithfulness, LLMContextPrecisionWithReference, AnswerRelevancy\n",
    ")\n",
    "from ragas.llms import LangchainLLMWrapper\n",
    "from ragas.embeddings import LangchainEmbeddingsWrapper\n",
    "\n",
    "from pydantic import BaseModel, Field\n",
    "\n",
    "import random\n",
    "import pandas as pd\n",
    "\n",
    "from dotenv import load_dotenv\n",
    "\n",
    "load_dotenv()"
   ]
  },
  {
   "cell_type": "code",
   "execution_count": 42,
   "metadata": {},
   "outputs": [],
   "source": [
    "# context를 바탕으로 \"질문\"과 \"답변\" 생성\n",
    "# 생성된 질문을 rag_chain에 넣어서 \"context\"와 \"llm 응답\" 생성"
   ]
  },
  {
   "cell_type": "code",
   "execution_count": 45,
   "metadata": {},
   "outputs": [
    {
     "data": {
      "text/plain": [
       "61"
      ]
     },
     "execution_count": 45,
     "metadata": {},
     "output_type": "execute_result"
    }
   ],
   "source": [
    "# context 생성\n",
    "DOC_PATH = 'data/olympic.txt'\n",
    "\n",
    "loader = TextLoader(file_path=DOC_PATH, encoding='utf-8')\n",
    "# Vector DB에 저장한 context와 동일하게 chunking(split)을 한다.\n",
    "splitter = RecursiveCharacterTextSplitter(chunk_size=500, chunk_overlap=50)\n",
    "\n",
    "docs = loader.load_and_split(text_splitter=splitter)\n",
    "\n",
    "len(docs)"
   ]
  },
  {
   "cell_type": "code",
   "execution_count": 46,
   "metadata": {},
   "outputs": [
    {
     "data": {
      "text/plain": [
       "['올림픽 경기 종목\\n올림픽 경기 종목은 총 33개부문 52개 종목에서 약 400개의 경기로 이루어져있다. 예를 들어서 하계 올림픽 부문인 레슬링은 자유형과 그레코로만형의 두 종목으로 나뉜다. 여기에서 10경기는 남자부, 4경기는 여자부로 열리며 분류기준은 체중이다. 하계 올림픽은 26개, 동계 올림픽은 7개 부문으로 이루어져있다. 하계 올림픽에서는 육상, 수영, 펜싱, 체조가 1회 대회때부터 한번도 빠짐없이 정식종목이었으며, 동계 올림픽에서는 크로스컨트리, 피겨 스케이팅, 아이스 하키, 노르딕 복합, 스키 점프, 스피드 스케이팅이 1924년 동계 올림픽부터 빠짐없이 정식종목이었다. 배드민턴, 농구, 배구와 같은 정식종목들은 처음에는 시범종목이었으며 그 후에 정식종목으로 승인 되었다. 야구처럼 예전에는 정식종목 이었지만 지금은 정식 종목에서 빠진 종목도 있다.',\n",
       " '1990년대 후반, 여러 뜻있는 사람들이 도핑과의 전쟁을 선포하면서 1999년에 세계반도핑기구(WADA)를 설립한다. 2000년 하계 올림픽과 2002년 동계 올림픽 때는 약물 양성 반응을 보인 선수들이 급격히 증가했고, 역도와 크로스컨트리에서는 몇몇 선수들이 도핑 테스트에 걸려서 실격되기도 했다. 2006년 동계 올림픽 때는 메달리스트 한 명이 양성반응을 보여 메달을 반납해야 했다. IOC가 만든 약물 반응 판정(현재 올림픽 도핑테스트의 기준이 됨)은 인정을 받게 되었고 이제는 다른 경기 연맹에서도 벤치마킹을 할 정도가 되었다. 2008년 베이징 올림픽 기간중에는 3,667명의 선수들이 세계반도핑기구의 검사를 받았으며 소변과 혈액 검사로 약물 복용 검사를 했다. 몇몇 선수들은 국가 올림픽 위원회(NOC)에 의해 올림픽이 시작되기 전에 출전금지 조치를 당했고, 올림픽 기간중에는 단 3명만이 도핑 검사에 걸렸다.',\n",
       " '고대의 올림픽 경기(올림피아 경기)는 고대 그리스의 여러 도시 국가의 대표선수들이 모여 벌인 일련의 시합이었으며, 육상 경기가 주 종목이지만 격투기와 전차 경기도 열렸다. 그리고 패배하면 죽기도 하였다. 고대 올림픽의 유래는 수수께끼로 남아있다. 잘 알려진 신화로는 헤라클레스와 그의 아버지인 제우스가 올림픽의 창시자였다는 것이다. 전설에 따르면 이 경기를 최초로 \\'올림픽\\'이라고 부르고, 4년마다 대회를 개최하는 관례를 만든 사람이 헤라클레스라고 한다. 어떤 전설에서는 헤라클레스가 이른바 헤라클레스의 12업을 달성한 뒤에 제우스를 기리고자 올림픽 경기장을 지었다고 한다. 경기장이 완성되자 헤라클레스는 일직선으로 200 걸음을 걸었으며, 이 거리를 \"스타디온\"이라 불렀는데, 후에 이것이 길이 단위인 \\'스타디온\\'(그리스어: στάδιον → 라틴어: 영어: stadium)이 되었다. 또 다른 설로는 \\'올림픽 휴전\\'(그리스어: ἐκεχειρία 에케케이리아[*])이라는 고대 그리스의',\n",
       " '패럴림픽(Paralympic)은 신체·감각 장애가 있는운동 선수가 참가하는 국제 스포츠 대회로, 장애인 올림픽으로 불린다. 1948년에 루드비히 구트만 경(Sir Ludwig Guttman)은 제2차 세계대전에 참전한 군인들의 사회 복귀를 위한 일환으로 1948년 런던 올림픽과 동시에 몇몇 병원들을 연합해서 여러 경기를 펼쳤다. 구트만의 세계 휠체어, 신체부자유자대회(World Wheelchair and Amputee Games)로 알려진 이 대회는 매년 열리는 스포츠대회가 되었다. 12년이 넘도록 구트만과 다른 사람들은 스포츠를 상처를 치료하는 방법 중 하나로써 계속 대회 개최에 노력을 기울였다. 로마에서 열린 1960년 하계 올림픽때 구트만은 400명의 선수들을 \"Parallel Olympics\"에 참가시켰으며 이것이 곧 1회 패럴림픽으로 알려지게 되었다. 그 때부터 패럴림픽은 하계 올림픽이 열린 년도에 열리게 되었다. 서울에서 열린 1988년 하계 올림픽부터는 하계 올림픽을',\n",
       " '쿠베르탱의 생각과는 달리, 올림픽이 세계에 완벽한 평화를 가져다주지는 못했다. 실제로 제1차 세계대전으로 인해 독일 베를린에서 열리기로 했던 제6회 1916년 하계 올림픽이 취소되었고, 제2차 세계대전 때는 일본 도쿄에서 열리기로 했던 제12회 1940년 하계 올림픽, 삿포로에서 열리기로 했던 1940년 동계 올림픽, 영국 런던에서 열리기로 했던 제13회 1944년 하계 올림픽, 이탈리아 코르티나담페초에서 열릴 예정인 1944년 동계 올림픽이 취소되었다. 베이징에서 열린 2008년 하계 올림픽 개막식날 조지아와 러시아 간의 2008년 남오세티아 전쟁이 일어나기도 했다. 부시 대통령과 푸틴 대통령이 이 올림픽을 보러 왔으며 중국 주석인 후진타오가 주최한 오찬에 참석해서 이 현안에 대해 논의하기도 했다. 조지아 대표인 니노 살루크바체와 러시아 대표인 나탈리야 파데리나가 여자 10m 공기권총 경기에서 각각 동메달과 은메달을 땄을 때 이 일은 베이징 올림픽의 유명한 사건 중 하나로 남게']"
      ]
     },
     "execution_count": 46,
     "metadata": {},
     "output_type": "execute_result"
    }
   ],
   "source": [
    "# docs 중에서 평가 데이터를 생성할 때 사용할 문서 k개 추출 (수업이니깐 k개만)\n",
    "#### 실제 평가 데이터셋을 생성할 때는 모든 문서를 다 사용한다.\n",
    "\n",
    "total_samples = 5 # context 5개만 사용\n",
    "index_list = list(range(len(docs)))\n",
    "random.shuffle(index_list)\n",
    "\n",
    "eval_context = [] # 추출한 context들을 담는다.\n",
    "while len(eval_context) < total_samples:\n",
    "    index = index_list.pop()\n",
    "    context = docs[index].page_content\n",
    "    if len(context) >= 200:\n",
    "        eval_context.append(context)\n",
    "\n",
    "eval_context"
   ]
  },
  {
   "cell_type": "code",
   "execution_count": 49,
   "metadata": {},
   "outputs": [],
   "source": [
    "# Context로부터 질문과 답변을 생성하는 chain 생성\n",
    "# parser는 JsonOutputParser를 사용한다.\n",
    "## 먼저 스키마 생성\n",
    "### LLM으로부터 응답받을 값들을 설계\n",
    "class EvalSchema(BaseModel):\n",
    "    user_input: str = Field(..., description=\"사용자 질문\") # 스키마에 대한 설정 (`...`은 필수임을 의미)\n",
    "    reference: str = Field(..., description=\"user_input(사용자 질문)에 대한 정답\")\n",
    "    qa_context: str = Field(..., description=\"질문, 답변 쌍을 만들 때 참조한 context. 입력된 context를 수정하지 않고 그대로 넣는다.\")\n",
    "\n",
    "\n",
    "parser = JsonOutputParser(pydantic_object=EvalSchema)\n",
    "\n",
    "template = \"\"\"\n",
    "# Instruction:\n",
    "당신은 RAG 평가를 위해 질문과 정답 쌍을 생성하는 인공지능 비서입니다.\n",
    "다음 [Context] 에 문서가 주어지면 해당 문서를 기반으로 {num_questions}개 질문-정답 쌍을 생성하세요. \n",
    "\n",
    "질문과 정답을 생성한 후 Output Indicator의 format으로 출력합니다.\n",
    "질문은 반드시 Context 문서에 있는 정보를 바탕으로 생성해야 합니다. Context에 없는 내용을 가지고 질문-정답을 절대 만들면 안됩니다.\n",
    "올림픽에 관심있는 일반 사용자 관점의 자연스러운 질문을 작성합니다.\n",
    "질문은 간결하게 작성합니다.\n",
    "하나의 질문에는 한 가지씩만 내용만 작성합니다.\n",
    "질문을 만들 때 \"제공된 문맥에서\", \"문서에 설명된 대로\", \"주어진 문서에 따라\" 또는 이와 유사한 말을 하지 마세요.\n",
    "정답은 반드시 Context에 있는 정보를 바탕으로 작성합니다. 없는 내용을 추가하지 않습니다.\n",
    "질문과 정답을 만들고 그 내용이 Context에 있는 항목인지 다시 한번 확인합니다.\n",
    "생성된 질문-답변 쌍은 반드시 dictionary 형태로 정의하고 list로 묶어서 반환해야 합니다.\n",
    "질문-답변 쌍은 반드시 {num_questions}개를 만들어야 합니다.\n",
    "\n",
    "# Context:\n",
    "{context}\n",
    "\n",
    "# Output Indicator:\n",
    "{format_instructions}\n",
    "\"\"\"\n",
    "\n",
    "prompt_template = PromptTemplate(\n",
    "    template=template, \n",
    "    partial_variables={\"format_instructions\": parser.get_format_instructions()}\n",
    ")\n",
    "\n",
    "eval_model = ChatOpenAI(model='gpt-4.1')\n",
    "\n",
    "eval_dataset_chain = prompt_template | eval_model | JsonOutputParser()"
   ]
  },
  {
   "cell_type": "code",
   "execution_count": 50,
   "metadata": {},
   "outputs": [
    {
     "data": {
      "text/plain": [
       "[{'user_input': '올림픽 경기 종목은 총 몇 부문 몇 종목으로 구성되어 있나요?',\n",
       "  'reference': '올림픽 경기 종목은 총 33개 부문 52개 종목으로 구성되어 있습니다.',\n",
       "  'qa_context': '올림픽 경기 종목\\n올림픽 경기 종목은 총 33개부문 52개 종목에서 약 400개의 경기로 이루어져있다. 예를 들어서 하계 올림픽 부문인 레슬링은 자유형과 그레코로만형의 두 종목으로 나뉜다. 여기에서 10경기는 남자부, 4경기는 여자부로 열리며 분류기준은 체중이다. 하계 올림픽은 26개, 동계 올림픽은 7개 부문으로 이루어져있다. 하계 올림픽에서는 육상, 수영, 펜싱, 체조가 1회 대회때부터 한번도 빠짐없이 정식종목이었으며, 동계 올림픽에서는 크로스컨트리, 피겨 스케이팅, 아이스 하키, 노르딕 복합, 스키 점프, 스피드 스케이팅이 1924년 동계 올림픽부터 빠짐없이 정식종목이었다. 배드민턴, 농구, 배구와 같은 정식종목들은 처음에는 시범종목이었으며 그 후에 정식종목으로 승인 되었다. 야구처럼 예전에는 정식종목 이었지만 지금은 정식 종목에서 빠진 종목도 있다.'},\n",
       " {'user_input': '레슬링 종목은 어떻게 나뉘고 각각 몇 경기가 열리나요?',\n",
       "  'reference': '레슬링은 자유형과 그레코로만형 두 종목으로 나뉘고, 10경기는 남자부에서, 4경기는 여자부에서 열립니다.',\n",
       "  'qa_context': '올림픽 경기 종목\\n올림픽 경기 종목은 총 33개부문 52개 종목에서 약 400개의 경기로 이루어져있다. 예를 들어서 하계 올림픽 부문인 레슬링은 자유형과 그레코로만형의 두 종목으로 나뉜다. 여기에서 10경기는 남자부, 4경기는 여자부로 열리며 분류기준은 체중이다. 하계 올림픽은 26개, 동계 올림픽은 7개 부문으로 이루어져있다. 하계 올림픽에서는 육상, 수영, 펜싱, 체조가 1회 대회때부터 한번도 빠짐없이 정식종목이었으며, 동계 올림픽에서는 크로스컨트리, 피겨 스케이팅, 아이스 하키, 노르딕 복합, 스키 점프, 스피드 스케이팅이 1924년 동계 올림픽부터 빠짐없이 정식종목이었다. 배드민턴, 농구, 배구와 같은 정식종목들은 처음에는 시범종목이었으며 그 후에 정식종목으로 승인 되었다. 야구처럼 예전에는 정식종목 이었지만 지금은 정식 종목에서 빠진 종목도 있다.'},\n",
       " {'user_input': '하계 올림픽과 동계 올림픽의 부문 수는 각각 몇 개인가요?',\n",
       "  'reference': '하계 올림픽은 26개, 동계 올림픽은 7개 부문으로 이루어져 있습니다.',\n",
       "  'qa_context': '올림픽 경기 종목\\n올림픽 경기 종목은 총 33개부문 52개 종목에서 약 400개의 경기로 이루어져있다. 예를 들어서 하계 올림픽 부문인 레슬링은 자유형과 그레코로만형의 두 종목으로 나뉜다. 여기에서 10경기는 남자부, 4경기는 여자부로 열리며 분류기준은 체중이다. 하계 올림픽은 26개, 동계 올림픽은 7개 부문으로 이루어져있다. 하계 올림픽에서는 육상, 수영, 펜싱, 체조가 1회 대회때부터 한번도 빠짐없이 정식종목이었으며, 동계 올림픽에서는 크로스컨트리, 피겨 스케이팅, 아이스 하키, 노르딕 복합, 스키 점프, 스피드 스케이팅이 1924년 동계 올림픽부터 빠짐없이 정식종목이었다. 배드민턴, 농구, 배구와 같은 정식종목들은 처음에는 시범종목이었으며 그 후에 정식종목으로 승인 되었다. 야구처럼 예전에는 정식종목 이었지만 지금은 정식 종목에서 빠진 종목도 있다.'},\n",
       " {'user_input': '1회 하계 올림픽부터 빠짐없이 정식 종목이었던 종목은 무엇인가요?',\n",
       "  'reference': '육상, 수영, 펜싱, 체조가 1회 하계 올림픽부터 빠짐없이 정식종목이었습니다.',\n",
       "  'qa_context': '올림픽 경기 종목\\n올림픽 경기 종목은 총 33개부문 52개 종목에서 약 400개의 경기로 이루어져있다. 예를 들어서 하계 올림픽 부문인 레슬링은 자유형과 그레코로만형의 두 종목으로 나뉜다. 여기에서 10경기는 남자부, 4경기는 여자부로 열리며 분류기준은 체중이다. 하계 올림픽은 26개, 동계 올림픽은 7개 부문으로 이루어져있다. 하계 올림픽에서는 육상, 수영, 펜싱, 체조가 1회 대회때부터 한번도 빠짐없이 정식종목이었으며, 동계 올림픽에서는 크로스컨트리, 피겨 스케이팅, 아이스 하키, 노르딕 복합, 스키 점프, 스피드 스케이팅이 1924년 동계 올림픽부터 빠짐없이 정식종목이었다. 배드민턴, 농구, 배구와 같은 정식종목들은 처음에는 시범종목이었으며 그 후에 정식종목으로 승인 되었다. 야구처럼 예전에는 정식종목 이었지만 지금은 정식 종목에서 빠진 종목도 있다.'},\n",
       " {'user_input': '야구 종목은 현재 올림픽 정식종목인가요?',\n",
       "  'reference': '야구는 예전에 정식종목이었지만 지금은 정식 종목에서 빠졌습니다.',\n",
       "  'qa_context': '올림픽 경기 종목\\n올림픽 경기 종목은 총 33개부문 52개 종목에서 약 400개의 경기로 이루어져있다. 예를 들어서 하계 올림픽 부문인 레슬링은 자유형과 그레코로만형의 두 종목으로 나뉜다. 여기에서 10경기는 남자부, 4경기는 여자부로 열리며 분류기준은 체중이다. 하계 올림픽은 26개, 동계 올림픽은 7개 부문으로 이루어져있다. 하계 올림픽에서는 육상, 수영, 펜싱, 체조가 1회 대회때부터 한번도 빠짐없이 정식종목이었으며, 동계 올림픽에서는 크로스컨트리, 피겨 스케이팅, 아이스 하키, 노르딕 복합, 스키 점프, 스피드 스케이팅이 1924년 동계 올림픽부터 빠짐없이 정식종목이었다. 배드민턴, 농구, 배구와 같은 정식종목들은 처음에는 시범종목이었으며 그 후에 정식종목으로 승인 되었다. 야구처럼 예전에는 정식종목 이었지만 지금은 정식 종목에서 빠진 종목도 있다.'}]"
      ]
     },
     "execution_count": 50,
     "metadata": {},
     "output_type": "execute_result"
    }
   ],
   "source": [
    "eval_dataset_chain.invoke(\n",
    "    {\"context\": eval_context[0], \"num_questions\": 5}\n",
    ")"
   ]
  },
  {
   "cell_type": "code",
   "execution_count": 57,
   "metadata": {},
   "outputs": [],
   "source": [
    "# context당 질문 5개씩 생성\n",
    "eval_dataset_list = []\n",
    "num_questions = 5\n",
    "for context in eval_context:\n",
    "    eval_data = eval_dataset_chain.invoke({\"context\": context, \"num_questions\": num_questions})\n",
    "    # eval_dataset_list.append(eval_data)\n",
    "    eval_dataset_list.extend(eval_data)"
   ]
  },
  {
   "cell_type": "code",
   "execution_count": 60,
   "metadata": {},
   "outputs": [
    {
     "data": {
      "text/plain": [
       "{'user_input': '동계 올림픽에서 1924년부터 계속 정식종목인 경기는 무엇인가요?',\n",
       " 'reference': '크로스컨트리, 피겨 스케이팅, 아이스 하키, 노르딕 복합, 스키 점프, 스피드 스케이팅이 1924년 동계 올림픽부터 계속 정식종목입니다.',\n",
       " 'qa_context': '올림픽 경기 종목\\n올림픽 경기 종목은 총 33개부문 52개 종목에서 약 400개의 경기로 이루어져있다. 예를 들어서 하계 올림픽 부문인 레슬링은 자유형과 그레코로만형의 두 종목으로 나뉜다. 여기에서 10경기는 남자부, 4경기는 여자부로 열리며 분류기준은 체중이다. 하계 올림픽은 26개, 동계 올림픽은 7개 부문으로 이루어져있다. 하계 올림픽에서는 육상, 수영, 펜싱, 체조가 1회 대회때부터 한번도 빠짐없이 정식종목이었으며, 동계 올림픽에서는 크로스컨트리, 피겨 스케이팅, 아이스 하키, 노르딕 복합, 스키 점프, 스피드 스케이팅이 1924년 동계 올림픽부터 빠짐없이 정식종목이었다. 배드민턴, 농구, 배구와 같은 정식종목들은 처음에는 시범종목이었으며 그 후에 정식종목으로 승인 되었다. 야구처럼 예전에는 정식종목 이었지만 지금은 정식 종목에서 빠진 종목도 있다.'}"
      ]
     },
     "execution_count": 60,
     "metadata": {},
     "output_type": "execute_result"
    }
   ],
   "source": [
    "eval_dataset_list[3]\n",
    "## 생성된 질문 쌍을 반드시 검토해야 한다. ##"
   ]
  },
  {
   "cell_type": "code",
   "execution_count": 59,
   "metadata": {},
   "outputs": [
    {
     "data": {
      "text/html": [
       "<div>\n",
       "<style scoped>\n",
       "    .dataframe tbody tr th:only-of-type {\n",
       "        vertical-align: middle;\n",
       "    }\n",
       "\n",
       "    .dataframe tbody tr th {\n",
       "        vertical-align: top;\n",
       "    }\n",
       "\n",
       "    .dataframe thead th {\n",
       "        text-align: right;\n",
       "    }\n",
       "</style>\n",
       "<table border=\"1\" class=\"dataframe\">\n",
       "  <thead>\n",
       "    <tr style=\"text-align: right;\">\n",
       "      <th></th>\n",
       "      <th>user_input</th>\n",
       "      <th>reference</th>\n",
       "      <th>qa_context</th>\n",
       "    </tr>\n",
       "  </thead>\n",
       "  <tbody>\n",
       "    <tr>\n",
       "      <th>0</th>\n",
       "      <td>올림픽 경기 종목은 총 몇 개 부문과 몇 개 종목으로 구성되어 있나요?</td>\n",
       "      <td>올림픽 경기 종목은 총 33개 부문 52개 종목으로 구성되어 있습니다.</td>\n",
       "      <td>올림픽 경기 종목\\n올림픽 경기 종목은 총 33개부문 52개 종목에서 약 400개의...</td>\n",
       "    </tr>\n",
       "    <tr>\n",
       "      <th>1</th>\n",
       "      <td>레슬링은 어떤 종목으로 나뉘어져 있나요?</td>\n",
       "      <td>레슬링은 자유형과 그레코로만형의 두 종목으로 나뉩니다.</td>\n",
       "      <td>올림픽 경기 종목\\n올림픽 경기 종목은 총 33개부문 52개 종목에서 약 400개의...</td>\n",
       "    </tr>\n",
       "    <tr>\n",
       "      <th>2</th>\n",
       "      <td>하계 올림픽에는 몇 개 부문이 있나요?</td>\n",
       "      <td>하계 올림픽에는 26개 부문이 있습니다.</td>\n",
       "      <td>올림픽 경기 종목\\n올림픽 경기 종목은 총 33개부문 52개 종목에서 약 400개의...</td>\n",
       "    </tr>\n",
       "    <tr>\n",
       "      <th>3</th>\n",
       "      <td>동계 올림픽에서 1924년부터 계속 정식종목인 경기는 무엇인가요?</td>\n",
       "      <td>크로스컨트리, 피겨 스케이팅, 아이스 하키, 노르딕 복합, 스키 점프, 스피드 스케...</td>\n",
       "      <td>올림픽 경기 종목\\n올림픽 경기 종목은 총 33개부문 52개 종목에서 약 400개의...</td>\n",
       "    </tr>\n",
       "    <tr>\n",
       "      <th>4</th>\n",
       "      <td>야구는 현재 올림픽 정식 종목인가요?</td>\n",
       "      <td>야구는 예전에는 정식종목이었지만 지금은 정식종목에서 빠진 종목입니다.</td>\n",
       "      <td>올림픽 경기 종목\\n올림픽 경기 종목은 총 33개부문 52개 종목에서 약 400개의...</td>\n",
       "    </tr>\n",
       "  </tbody>\n",
       "</table>\n",
       "</div>"
      ],
      "text/plain": [
       "                                user_input  \\\n",
       "0  올림픽 경기 종목은 총 몇 개 부문과 몇 개 종목으로 구성되어 있나요?   \n",
       "1                   레슬링은 어떤 종목으로 나뉘어져 있나요?   \n",
       "2                    하계 올림픽에는 몇 개 부문이 있나요?   \n",
       "3     동계 올림픽에서 1924년부터 계속 정식종목인 경기는 무엇인가요?   \n",
       "4                     야구는 현재 올림픽 정식 종목인가요?   \n",
       "\n",
       "                                           reference  \\\n",
       "0            올림픽 경기 종목은 총 33개 부문 52개 종목으로 구성되어 있습니다.   \n",
       "1                     레슬링은 자유형과 그레코로만형의 두 종목으로 나뉩니다.   \n",
       "2                             하계 올림픽에는 26개 부문이 있습니다.   \n",
       "3  크로스컨트리, 피겨 스케이팅, 아이스 하키, 노르딕 복합, 스키 점프, 스피드 스케...   \n",
       "4             야구는 예전에는 정식종목이었지만 지금은 정식종목에서 빠진 종목입니다.   \n",
       "\n",
       "                                          qa_context  \n",
       "0  올림픽 경기 종목\\n올림픽 경기 종목은 총 33개부문 52개 종목에서 약 400개의...  \n",
       "1  올림픽 경기 종목\\n올림픽 경기 종목은 총 33개부문 52개 종목에서 약 400개의...  \n",
       "2  올림픽 경기 종목\\n올림픽 경기 종목은 총 33개부문 52개 종목에서 약 400개의...  \n",
       "3  올림픽 경기 종목\\n올림픽 경기 종목은 총 33개부문 52개 종목에서 약 400개의...  \n",
       "4  올림픽 경기 종목\\n올림픽 경기 종목은 총 33개부문 52개 종목에서 약 400개의...  "
      ]
     },
     "execution_count": 59,
     "metadata": {},
     "output_type": "execute_result"
    }
   ],
   "source": [
    "# DataFrame으로 변환\n",
    "import pandas as pd\n",
    "eval_df = pd.DataFrame(eval_dataset_list)\n",
    "eval_df.head()"
   ]
  },
  {
   "cell_type": "code",
   "execution_count": 64,
   "metadata": {},
   "outputs": [],
   "source": [
    "### 평가할 RAG chain(rag_chain)을 이용해서 context 문서들과 llm 응답을 받아서 평가 데이터셋을 완성하자\n",
    "# user_input -> (rag_chain) -> {llm_answer, source_context}\n",
    "\n",
    "context_list = [] # source_context들을 저장할 리스트\n",
    "response_list = [] # llm_answer들을 저장할 리스트\n",
    "\n",
    "for user_input in eval_df['user_input']:\n",
    "    resp = rag_chain.invoke(user_input)\n",
    "    context_list.append(resp['source_context'])\n",
    "    response_list.append(resp['llm_answer'])"
   ]
  },
  {
   "cell_type": "code",
   "execution_count": 66,
   "metadata": {},
   "outputs": [
    {
     "data": {
      "text/plain": [
       "(25, 25)"
      ]
     },
     "execution_count": 66,
     "metadata": {},
     "output_type": "execute_result"
    }
   ],
   "source": [
    "len(context_list), len(response_list)"
   ]
  },
  {
   "cell_type": "code",
   "execution_count": 69,
   "metadata": {},
   "outputs": [
    {
     "data": {
      "text/plain": [
       "('올림픽 경기 종목은 총 몇 개 부문과 몇 개 종목으로 구성되어 있나요?',\n",
       " '올림픽 경기 종목은 총 33개 부문 52개 종목으로 구성되어 있습니다.',\n",
       " ['올림픽 경기 종목\\n올림픽 경기 종목은 총 33개부문 52개 종목에서 약 400개의 경기로 이루어져있다. 예를 들어서 하계 올림픽 부문인 레슬링은 자유형과 그레코로만형의 두 종목으로 나뉜다. 여기에서 10경기는 남자부, 4경기는 여자부로 열리며 분류기준은 체중이다. 하계 올림픽은 26개, 동계 올림픽은 7개 부문으로 이루어져있다. 하계 올림픽에서는 육상, 수영, 펜싱, 체조가 1회 대회때부터 한번도 빠짐없이 정식종목이었으며, 동계 올림픽에서는 크로스컨트리, 피겨 스케이팅, 아이스 하키, 노르딕 복합, 스키 점프, 스피드 스케이팅이 1924년 동계 올림픽부터 빠짐없이 정식종목이었다. 배드민턴, 농구, 배구와 같은 정식종목들은 처음에는 시범종목이었으며 그 후에 정식종목으로 승인 되었다. 야구처럼 예전에는 정식종목 이었지만 지금은 정식 종목에서 빠진 종목도 있다.',\n",
       "  '올림픽 경기 종목\\n올림픽 경기 종목은 총 33개부문 52개 종목에서 약 400개의 경기로 이루어져있다. 예를 들어서 하계 올림픽 부문인 레슬링은 자유형과 그레코로만형의 두 종목으로 나뉜다. 여기에서 10경기는 남자부, 4경기는 여자부로 열리며 분류기준은 체중이다. 하계 올림픽은 26개, 동계 올림픽은 7개 부문으로 이루어져있다. 하계 올림픽에서는 육상, 수영, 펜싱, 체조가 1회 대회때부터 한번도 빠짐없이 정식종목이었으며, 동계 올림픽에서는 크로스컨트리, 피겨 스케이팅, 아이스 하키, 노르딕 복합, 스키 점프, 스피드 스케이팅이 1924년 동계 올림픽부터 빠짐없이 정식종목이었다. 배드민턴, 농구, 배구와 같은 정식종목들은 처음에는 시범종목이었으며 그 후에 정식종목으로 승인 되었다. 야구처럼 예전에는 정식종목 이었지만 지금은 정식 종목에서 빠진 종목도 있다.',\n",
       "  '올림픽 경기 종목\\n올림픽 경기 종목은 총 33개부문 52개 종목에서 약 400개의 경기로 이루어져있다. 예를 들어서 하계 올림픽 부문인 레슬링은 자유형과 그레코로만형의 두 종목으로 나뉜다. 여기에서 10경기는 남자부, 4경기는 여자부로 열리며 분류기준은 체중이다. 하계 올림픽은 26개, 동계 올림픽은 7개 부문으로 이루어져있다. 하계 올림픽에서는 육상, 수영, 펜싱, 체조가 1회 대회때부터 한번도 빠짐없이 정식종목이었으며, 동계 올림픽에서는 크로스컨트리, 피겨 스케이팅, 아이스 하키, 노르딕 복합, 스키 점프, 스피드 스케이팅이 1924년 동계 올림픽부터 빠짐없이 정식종목이었다. 배드민턴, 농구, 배구와 같은 정식종목들은 처음에는 시범종목이었으며 그 후에 정식종목으로 승인 되었다. 야구처럼 예전에는 정식종목 이었지만 지금은 정식 종목에서 빠진 종목도 있다.',\n",
       "  '2002년에 열린 제114차 IOC 총회에서는 하계 올림픽 종목은 최대 28부문 301개 경기에 10,500명이 참가하는 것으로 제한하기로 결정했다.그 후 3년 뒤인 제117차 IOC 총회에서는 정식종목이었던 야구와 소프트볼을 정식 종목에서 제외시킨다. 이 결과에 대한 이견이 없었으므로 2012년 올림픽 때는 26개부문에서 경기가 열린다. 2016년과 2020년 올림픽 때는 럭비와 골프가 추가되어 다시 28개부문에서 경기가 열린다.\\n프로 NHL선수들은 1998년부터 아이스 하키종목에 출전할 수 있게 되었다. (나가노 올림픽 결승전 러시아 vs 체코).'])"
      ]
     },
     "execution_count": 69,
     "metadata": {},
     "output_type": "execute_result"
    }
   ],
   "source": [
    "eval_df.loc[0, 'user_input'], response_list[0], context_list[0]"
   ]
  },
  {
   "cell_type": "code",
   "execution_count": 70,
   "metadata": {},
   "outputs": [],
   "source": [
    "eval_df['response'] = response_list\n",
    "eval_df['retrieved_contexts'] = context_list"
   ]
  },
  {
   "cell_type": "code",
   "execution_count": 71,
   "metadata": {},
   "outputs": [
    {
     "data": {
      "text/html": [
       "<div>\n",
       "<style scoped>\n",
       "    .dataframe tbody tr th:only-of-type {\n",
       "        vertical-align: middle;\n",
       "    }\n",
       "\n",
       "    .dataframe tbody tr th {\n",
       "        vertical-align: top;\n",
       "    }\n",
       "\n",
       "    .dataframe thead th {\n",
       "        text-align: right;\n",
       "    }\n",
       "</style>\n",
       "<table border=\"1\" class=\"dataframe\">\n",
       "  <thead>\n",
       "    <tr style=\"text-align: right;\">\n",
       "      <th></th>\n",
       "      <th>user_input</th>\n",
       "      <th>reference</th>\n",
       "      <th>qa_context</th>\n",
       "      <th>response</th>\n",
       "      <th>retrieved_contexts</th>\n",
       "    </tr>\n",
       "  </thead>\n",
       "  <tbody>\n",
       "    <tr>\n",
       "      <th>0</th>\n",
       "      <td>올림픽 경기 종목은 총 몇 개 부문과 몇 개 종목으로 구성되어 있나요?</td>\n",
       "      <td>올림픽 경기 종목은 총 33개 부문 52개 종목으로 구성되어 있습니다.</td>\n",
       "      <td>올림픽 경기 종목\\n올림픽 경기 종목은 총 33개부문 52개 종목에서 약 400개의...</td>\n",
       "      <td>올림픽 경기 종목은 총 33개 부문 52개 종목으로 구성되어 있습니다.</td>\n",
       "      <td>[올림픽 경기 종목\\n올림픽 경기 종목은 총 33개부문 52개 종목에서 약 400개...</td>\n",
       "    </tr>\n",
       "    <tr>\n",
       "      <th>1</th>\n",
       "      <td>레슬링은 어떤 종목으로 나뉘어져 있나요?</td>\n",
       "      <td>레슬링은 자유형과 그레코로만형의 두 종목으로 나뉩니다.</td>\n",
       "      <td>올림픽 경기 종목\\n올림픽 경기 종목은 총 33개부문 52개 종목에서 약 400개의...</td>\n",
       "      <td>레슬링은 자유형과 그레코로만형의 두 종목으로 나뉘어져 있습니다.</td>\n",
       "      <td>[올림픽 경기 종목\\n올림픽 경기 종목은 총 33개부문 52개 종목에서 약 400개...</td>\n",
       "    </tr>\n",
       "    <tr>\n",
       "      <th>2</th>\n",
       "      <td>하계 올림픽에는 몇 개 부문이 있나요?</td>\n",
       "      <td>하계 올림픽에는 26개 부문이 있습니다.</td>\n",
       "      <td>올림픽 경기 종목\\n올림픽 경기 종목은 총 33개부문 52개 종목에서 약 400개의...</td>\n",
       "      <td>하계 올림픽은 26개 부문으로 이루어져 있습니다.</td>\n",
       "      <td>[올림픽 경기 종목\\n올림픽 경기 종목은 총 33개부문 52개 종목에서 약 400개...</td>\n",
       "    </tr>\n",
       "    <tr>\n",
       "      <th>3</th>\n",
       "      <td>동계 올림픽에서 1924년부터 계속 정식종목인 경기는 무엇인가요?</td>\n",
       "      <td>크로스컨트리, 피겨 스케이팅, 아이스 하키, 노르딕 복합, 스키 점프, 스피드 스케...</td>\n",
       "      <td>올림픽 경기 종목\\n올림픽 경기 종목은 총 33개부문 52개 종목에서 약 400개의...</td>\n",
       "      <td>1924년 동계 올림픽부터 빠짐없이 정식종목인 경기는 크로스컨트리, 피겨 스케이팅,...</td>\n",
       "      <td>[동계올림픽\\n동계 올림픽은 눈과 얼음을 이용하는 스포츠들을 모아 이루어졌으며 하계...</td>\n",
       "    </tr>\n",
       "    <tr>\n",
       "      <th>4</th>\n",
       "      <td>야구는 현재 올림픽 정식 종목인가요?</td>\n",
       "      <td>야구는 예전에는 정식종목이었지만 지금은 정식종목에서 빠진 종목입니다.</td>\n",
       "      <td>올림픽 경기 종목\\n올림픽 경기 종목은 총 33개부문 52개 종목에서 약 400개의...</td>\n",
       "      <td>야구는 예전에는 올림픽 정식종목이었지만 지금은 정식 종목에서 빠진 종목입니다. 따라...</td>\n",
       "      <td>[올림픽 경기 종목\\n올림픽 경기 종목은 총 33개부문 52개 종목에서 약 400개...</td>\n",
       "    </tr>\n",
       "  </tbody>\n",
       "</table>\n",
       "</div>"
      ],
      "text/plain": [
       "                                user_input  \\\n",
       "0  올림픽 경기 종목은 총 몇 개 부문과 몇 개 종목으로 구성되어 있나요?   \n",
       "1                   레슬링은 어떤 종목으로 나뉘어져 있나요?   \n",
       "2                    하계 올림픽에는 몇 개 부문이 있나요?   \n",
       "3     동계 올림픽에서 1924년부터 계속 정식종목인 경기는 무엇인가요?   \n",
       "4                     야구는 현재 올림픽 정식 종목인가요?   \n",
       "\n",
       "                                           reference  \\\n",
       "0            올림픽 경기 종목은 총 33개 부문 52개 종목으로 구성되어 있습니다.   \n",
       "1                     레슬링은 자유형과 그레코로만형의 두 종목으로 나뉩니다.   \n",
       "2                             하계 올림픽에는 26개 부문이 있습니다.   \n",
       "3  크로스컨트리, 피겨 스케이팅, 아이스 하키, 노르딕 복합, 스키 점프, 스피드 스케...   \n",
       "4             야구는 예전에는 정식종목이었지만 지금은 정식종목에서 빠진 종목입니다.   \n",
       "\n",
       "                                          qa_context  \\\n",
       "0  올림픽 경기 종목\\n올림픽 경기 종목은 총 33개부문 52개 종목에서 약 400개의...   \n",
       "1  올림픽 경기 종목\\n올림픽 경기 종목은 총 33개부문 52개 종목에서 약 400개의...   \n",
       "2  올림픽 경기 종목\\n올림픽 경기 종목은 총 33개부문 52개 종목에서 약 400개의...   \n",
       "3  올림픽 경기 종목\\n올림픽 경기 종목은 총 33개부문 52개 종목에서 약 400개의...   \n",
       "4  올림픽 경기 종목\\n올림픽 경기 종목은 총 33개부문 52개 종목에서 약 400개의...   \n",
       "\n",
       "                                            response  \\\n",
       "0            올림픽 경기 종목은 총 33개 부문 52개 종목으로 구성되어 있습니다.   \n",
       "1                레슬링은 자유형과 그레코로만형의 두 종목으로 나뉘어져 있습니다.   \n",
       "2                        하계 올림픽은 26개 부문으로 이루어져 있습니다.   \n",
       "3  1924년 동계 올림픽부터 빠짐없이 정식종목인 경기는 크로스컨트리, 피겨 스케이팅,...   \n",
       "4  야구는 예전에는 올림픽 정식종목이었지만 지금은 정식 종목에서 빠진 종목입니다. 따라...   \n",
       "\n",
       "                                  retrieved_contexts  \n",
       "0  [올림픽 경기 종목\\n올림픽 경기 종목은 총 33개부문 52개 종목에서 약 400개...  \n",
       "1  [올림픽 경기 종목\\n올림픽 경기 종목은 총 33개부문 52개 종목에서 약 400개...  \n",
       "2  [올림픽 경기 종목\\n올림픽 경기 종목은 총 33개부문 52개 종목에서 약 400개...  \n",
       "3  [동계올림픽\\n동계 올림픽은 눈과 얼음을 이용하는 스포츠들을 모아 이루어졌으며 하계...  \n",
       "4  [올림픽 경기 종목\\n올림픽 경기 종목은 총 33개부문 52개 종목에서 약 400개...  "
      ]
     },
     "execution_count": 71,
     "metadata": {},
     "output_type": "execute_result"
    }
   ],
   "source": [
    "eval_df.head()"
   ]
  },
  {
   "cell_type": "code",
   "execution_count": 72,
   "metadata": {},
   "outputs": [
    {
     "data": {
      "text/plain": [
       "EvaluationDataset(features=['user_input', 'retrieved_contexts', 'response', 'reference'], len=25)"
      ]
     },
     "execution_count": 72,
     "metadata": {},
     "output_type": "execute_result"
    }
   ],
   "source": [
    "#### RAGAS에서의 EvaluationDataset 생성 ####\n",
    "# \"user_input\", \"response\", \"retrieved_context\", \"reference\"를 가진 DataFrame으로부터 EvaluationDataset 생성\n",
    "evaluation_dataset = EvaluationDataset.from_pandas(dataframe=eval_df)\n",
    "evaluation_dataset"
   ]
  },
  {
   "cell_type": "code",
   "execution_count": 73,
   "metadata": {},
   "outputs": [
    {
     "data": {
      "application/vnd.jupyter.widget-view+json": {
       "model_id": "0c7661c554294698add5eae60a5f4c6e",
       "version_major": 2,
       "version_minor": 0
      },
      "text/plain": [
       "Evaluating:   0%|          | 0/100 [00:00<?, ?it/s]"
      ]
     },
     "metadata": {},
     "output_type": "display_data"
    }
   ],
   "source": [
    "############################\n",
    "# 평가\n",
    "############################\n",
    "eval_llm = LangchainLLMWrapper(ChatOpenAI(model='gpt-4.1-mini'))\n",
    "eval_embedding = LangchainEmbeddingsWrapper(OpenAIEmbeddings(model='text-embedding-3-large'))\n",
    "metrics = [\n",
    "    LLMContextPrecisionWithReference(llm=eval_llm),\n",
    "    LLMContextRecall(llm=eval_llm),\n",
    "    Faithfulness(llm=eval_llm),\n",
    "    AnswerRelevancy(llm=eval_llm, embeddings=eval_embedding)\n",
    "]\n",
    "\n",
    "eval_result = evaluate(dataset=evaluation_dataset, metrics=metrics)"
   ]
  },
  {
   "cell_type": "code",
   "execution_count": 74,
   "metadata": {},
   "outputs": [
    {
     "data": {
      "text/plain": [
       "{'llm_context_precision_with_reference': 0.6133, 'context_recall': 0.8400, 'faithfulness': 0.8897, 'answer_relevancy': 0.5547}"
      ]
     },
     "execution_count": 74,
     "metadata": {},
     "output_type": "execute_result"
    }
   ],
   "source": [
    "eval_result"
   ]
  },
  {
   "cell_type": "code",
   "execution_count": 75,
   "metadata": {},
   "outputs": [
    {
     "data": {
      "text/html": [
       "<div>\n",
       "<style scoped>\n",
       "    .dataframe tbody tr th:only-of-type {\n",
       "        vertical-align: middle;\n",
       "    }\n",
       "\n",
       "    .dataframe tbody tr th {\n",
       "        vertical-align: top;\n",
       "    }\n",
       "\n",
       "    .dataframe thead th {\n",
       "        text-align: right;\n",
       "    }\n",
       "</style>\n",
       "<table border=\"1\" class=\"dataframe\">\n",
       "  <thead>\n",
       "    <tr style=\"text-align: right;\">\n",
       "      <th></th>\n",
       "      <th>user_input</th>\n",
       "      <th>retrieved_contexts</th>\n",
       "      <th>response</th>\n",
       "      <th>reference</th>\n",
       "      <th>llm_context_precision_with_reference</th>\n",
       "      <th>context_recall</th>\n",
       "      <th>faithfulness</th>\n",
       "      <th>answer_relevancy</th>\n",
       "    </tr>\n",
       "  </thead>\n",
       "  <tbody>\n",
       "    <tr>\n",
       "      <th>0</th>\n",
       "      <td>올림픽 경기 종목은 총 몇 개 부문과 몇 개 종목으로 구성되어 있나요?</td>\n",
       "      <td>[올림픽 경기 종목\\n올림픽 경기 종목은 총 33개부문 52개 종목에서 약 400개...</td>\n",
       "      <td>올림픽 경기 종목은 총 33개 부문 52개 종목으로 구성되어 있습니다.</td>\n",
       "      <td>올림픽 경기 종목은 총 33개 부문 52개 종목으로 구성되어 있습니다.</td>\n",
       "      <td>1.000000</td>\n",
       "      <td>1.0</td>\n",
       "      <td>1.000000</td>\n",
       "      <td>0.868411</td>\n",
       "    </tr>\n",
       "    <tr>\n",
       "      <th>1</th>\n",
       "      <td>레슬링은 어떤 종목으로 나뉘어져 있나요?</td>\n",
       "      <td>[올림픽 경기 종목\\n올림픽 경기 종목은 총 33개부문 52개 종목에서 약 400개...</td>\n",
       "      <td>레슬링은 자유형과 그레코로만형의 두 종목으로 나뉘어져 있습니다.</td>\n",
       "      <td>레슬링은 자유형과 그레코로만형의 두 종목으로 나뉩니다.</td>\n",
       "      <td>1.000000</td>\n",
       "      <td>1.0</td>\n",
       "      <td>1.000000</td>\n",
       "      <td>0.701039</td>\n",
       "    </tr>\n",
       "    <tr>\n",
       "      <th>2</th>\n",
       "      <td>하계 올림픽에는 몇 개 부문이 있나요?</td>\n",
       "      <td>[올림픽 경기 종목\\n올림픽 경기 종목은 총 33개부문 52개 종목에서 약 400개...</td>\n",
       "      <td>하계 올림픽은 26개 부문으로 이루어져 있습니다.</td>\n",
       "      <td>하계 올림픽에는 26개 부문이 있습니다.</td>\n",
       "      <td>1.000000</td>\n",
       "      <td>1.0</td>\n",
       "      <td>1.000000</td>\n",
       "      <td>0.777083</td>\n",
       "    </tr>\n",
       "    <tr>\n",
       "      <th>3</th>\n",
       "      <td>동계 올림픽에서 1924년부터 계속 정식종목인 경기는 무엇인가요?</td>\n",
       "      <td>[동계올림픽\\n동계 올림픽은 눈과 얼음을 이용하는 스포츠들을 모아 이루어졌으며 하계...</td>\n",
       "      <td>1924년 동계 올림픽부터 빠짐없이 정식종목인 경기는 크로스컨트리, 피겨 스케이팅,...</td>\n",
       "      <td>크로스컨트리, 피겨 스케이팅, 아이스 하키, 노르딕 복합, 스키 점프, 스피드 스케...</td>\n",
       "      <td>0.250000</td>\n",
       "      <td>1.0</td>\n",
       "      <td>1.000000</td>\n",
       "      <td>0.698054</td>\n",
       "    </tr>\n",
       "    <tr>\n",
       "      <th>4</th>\n",
       "      <td>야구는 현재 올림픽 정식 종목인가요?</td>\n",
       "      <td>[올림픽 경기 종목\\n올림픽 경기 종목은 총 33개부문 52개 종목에서 약 400개...</td>\n",
       "      <td>야구는 예전에는 올림픽 정식종목이었지만 지금은 정식 종목에서 빠진 종목입니다. 따라...</td>\n",
       "      <td>야구는 예전에는 정식종목이었지만 지금은 정식종목에서 빠진 종목입니다.</td>\n",
       "      <td>1.000000</td>\n",
       "      <td>1.0</td>\n",
       "      <td>1.000000</td>\n",
       "      <td>0.470935</td>\n",
       "    </tr>\n",
       "    <tr>\n",
       "      <th>5</th>\n",
       "      <td>세계반도핑기구(WADA)는 언제 설립되었나요?</td>\n",
       "      <td>[1990년대 후반, 여러 뜻있는 사람들이 도핑과의 전쟁을 선포하면서 1999년에 ...</td>\n",
       "      <td>세계반도핑기구(WADA)는 1999년에 설립되었습니다.</td>\n",
       "      <td>1999년에 설립되었습니다.</td>\n",
       "      <td>1.000000</td>\n",
       "      <td>1.0</td>\n",
       "      <td>1.000000</td>\n",
       "      <td>0.608097</td>\n",
       "    </tr>\n",
       "    <tr>\n",
       "      <th>6</th>\n",
       "      <td>2006년 동계 올림픽에서 도핑 양성 반응으로 메달을 반납한 선수는 몇 명인가요?</td>\n",
       "      <td>[올림픽에서 약물 복용 양성 반응이 나와서 메달을 박탈당한 첫 번째 사례로는 196...</td>\n",
       "      <td>2006년 동계 올림픽에서 도핑 양성 반응으로 메달을 반납한 선수는 1명입니다.</td>\n",
       "      <td>한 명입니다.</td>\n",
       "      <td>0.250000</td>\n",
       "      <td>1.0</td>\n",
       "      <td>1.000000</td>\n",
       "      <td>0.674238</td>\n",
       "    </tr>\n",
       "    <tr>\n",
       "      <th>7</th>\n",
       "      <td>IOC가 만든 약물 반응 판정은 현재 어떤 역할을 하고 있나요?</td>\n",
       "      <td>[1990년대 후반, 여러 뜻있는 사람들이 도핑과의 전쟁을 선포하면서 1999년에 ...</td>\n",
       "      <td>IOC가 만든 약물 반응 판정은 현재 올림픽 도핑테스트의 기준이 되고 있으며, 다른...</td>\n",
       "      <td>올림픽 도핑테스트의 기준이 되었으며 다른 경기 연맹에서도 벤치마킹할 정도로 인정을 ...</td>\n",
       "      <td>1.000000</td>\n",
       "      <td>1.0</td>\n",
       "      <td>1.000000</td>\n",
       "      <td>0.383112</td>\n",
       "    </tr>\n",
       "    <tr>\n",
       "      <th>8</th>\n",
       "      <td>2008년 베이징 올림픽 기간 중 몇 명의 선수가 도핑 검사를 받았나요?</td>\n",
       "      <td>[1990년대 후반, 여러 뜻있는 사람들이 도핑과의 전쟁을 선포하면서 1999년에 ...</td>\n",
       "      <td>2008년 베이징 올림픽 기간 중 3,667명의 선수가 세계반도핑기구의 검사를 받았...</td>\n",
       "      <td>3,667명의 선수가 도핑 검사를 받았습니다.</td>\n",
       "      <td>1.000000</td>\n",
       "      <td>1.0</td>\n",
       "      <td>1.000000</td>\n",
       "      <td>0.607361</td>\n",
       "    </tr>\n",
       "    <tr>\n",
       "      <th>9</th>\n",
       "      <td>2008년 베이징 올림픽에서는 도핑 검사에서 양성 반응이 나온 선수가 몇 명인가요?</td>\n",
       "      <td>[올림픽에서 약물 복용 양성 반응이 나와서 메달을 박탈당한 첫 번째 사례로는 196...</td>\n",
       "      <td>2008년 베이징 올림픽 기간 중 도핑 검사에 걸린 선수는 단 3명입니다.</td>\n",
       "      <td>올림픽 기간 중에는 단 3명만이 도핑 검사에 걸렸습니다.</td>\n",
       "      <td>0.333333</td>\n",
       "      <td>1.0</td>\n",
       "      <td>1.000000</td>\n",
       "      <td>0.634579</td>\n",
       "    </tr>\n",
       "    <tr>\n",
       "      <th>10</th>\n",
       "      <td>고대 올림픽에서 어떤 종목들이 열렸나요?</td>\n",
       "      <td>[고대올림픽, 고대올림픽, 고대올림픽, 고대 올림피아 경기가 처음 열린 시점은 보통...</td>\n",
       "      <td>고대 올림픽에서는 육상, 5종 경기(원반던지기, 창던지기, 달리기, 레슬링, 멀리뛰...</td>\n",
       "      <td>육상 경기, 격투기, 전차 경기가 열렸다.</td>\n",
       "      <td>0.000000</td>\n",
       "      <td>0.0</td>\n",
       "      <td>1.000000</td>\n",
       "      <td>0.490397</td>\n",
       "    </tr>\n",
       "    <tr>\n",
       "      <th>11</th>\n",
       "      <td>고대 올림픽에서 패배한 선수에게 어떤 일이 있었나요?</td>\n",
       "      <td>[고대올림픽, 고대올림픽, 고대올림픽, 올림픽에서 약물 복용 양성 반응이 나와서 메...</td>\n",
       "      <td>정보가 부족해서 답을 알 수 없습니다.</td>\n",
       "      <td>패배하면 죽기도 하였다.</td>\n",
       "      <td>0.000000</td>\n",
       "      <td>0.0</td>\n",
       "      <td>0.000000</td>\n",
       "      <td>0.000000</td>\n",
       "    </tr>\n",
       "    <tr>\n",
       "      <th>12</th>\n",
       "      <td>고대 올림픽의 창시자로 알려진 인물은 누구인가요?</td>\n",
       "      <td>[고대올림픽, 고대올림픽, 고대올림픽, 고대의 올림픽 경기(올림피아 경기)는 고대 ...</td>\n",
       "      <td>고대 올림픽의 창시자로 알려진 인물은 헤라클레스와 그의 아버지인 제우스입니다.</td>\n",
       "      <td>헤라클레스와 그의 아버지인 제우스가 창시자로 유명하다.</td>\n",
       "      <td>0.250000</td>\n",
       "      <td>1.0</td>\n",
       "      <td>0.666667</td>\n",
       "      <td>0.539317</td>\n",
       "    </tr>\n",
       "    <tr>\n",
       "      <th>13</th>\n",
       "      <td>올림픽이 4년마다 열리게 된 계기는 무엇인가요?</td>\n",
       "      <td>[올림픽(영어: Olympic Games, 프랑스어: Jeux olympiques)...</td>\n",
       "      <td>정보가 부족해서 답을 알 수 없습니다.</td>\n",
       "      <td>헤라클레스가 4년마다 대회를 개최하는 관례를 만들었다고 전해진다.</td>\n",
       "      <td>0.000000</td>\n",
       "      <td>0.0</td>\n",
       "      <td>0.000000</td>\n",
       "      <td>0.000000</td>\n",
       "    </tr>\n",
       "    <tr>\n",
       "      <th>14</th>\n",
       "      <td>고대 올림픽 경기장의 길이 단위인 '스타디온'은 어떻게 만들어졌나요?</td>\n",
       "      <td>[고대의 올림픽 경기(올림피아 경기)는 고대 그리스의 여러 도시 국가의 대표선수들이...</td>\n",
       "      <td>고대 올림픽 경기장이 완성되자 헤라클레스가 일직선으로 200 걸음을 걸었으며, 이 ...</td>\n",
       "      <td>헤라클레스가 경기장이 완성된 후 200 걸음을 걸은 거리를 '스타디온'이라 불렀고,...</td>\n",
       "      <td>1.000000</td>\n",
       "      <td>1.0</td>\n",
       "      <td>1.000000</td>\n",
       "      <td>0.491453</td>\n",
       "    </tr>\n",
       "    <tr>\n",
       "      <th>15</th>\n",
       "      <td>패럴림픽은 어떤 선수들이 참가하는 대회인가요?</td>\n",
       "      <td>[패럴림픽, 패럴림픽, 패럴림픽, 패럴림픽(Paralympic)은 신체·감각 장애가...</td>\n",
       "      <td>패럴림픽은 신체·감각 장애가 있는 운동 선수가 참가하는 국제 스포츠 대회입니다.</td>\n",
       "      <td>패럴림픽은 신체·감각 장애가 있는 운동 선수가 참가하는 국제 스포츠 대회입니다.</td>\n",
       "      <td>0.250000</td>\n",
       "      <td>1.0</td>\n",
       "      <td>1.000000</td>\n",
       "      <td>0.512623</td>\n",
       "    </tr>\n",
       "    <tr>\n",
       "      <th>16</th>\n",
       "      <td>패럴림픽이 처음 개최된 연도와 장소는 어디인가요?</td>\n",
       "      <td>[패럴림픽, 패럴림픽, 패럴림픽, 국제올림픽위원회(IOC)는 근대 올림픽은 순환 개...</td>\n",
       "      <td>정보가 부족해서 답을 알 수 없습니다.</td>\n",
       "      <td>패럴림픽은 1960년 로마 하계 올림픽 때 처음 개최되었습니다.</td>\n",
       "      <td>0.000000</td>\n",
       "      <td>0.0</td>\n",
       "      <td>1.000000</td>\n",
       "      <td>0.000000</td>\n",
       "    </tr>\n",
       "    <tr>\n",
       "      <th>17</th>\n",
       "      <td>패럴림픽이라는 명칭은 어떤 의미에서 붙여진 것인가요?</td>\n",
       "      <td>[패럴림픽, 패럴림픽, 패럴림픽, 패럴림픽(Paralympic)은 신체·감각 장애가...</td>\n",
       "      <td>Context에 따르면, 1960년 로마 하계 올림픽 때 구트만 경이 400명의 선...</td>\n",
       "      <td>\"Parallel Olympics\"에서 유래된 것으로, 올림픽과 나란히 치러지는 대...</td>\n",
       "      <td>0.250000</td>\n",
       "      <td>1.0</td>\n",
       "      <td>0.666667</td>\n",
       "      <td>0.544007</td>\n",
       "    </tr>\n",
       "    <tr>\n",
       "      <th>18</th>\n",
       "      <td>루드비히 구트만 경이 패럴림픽의 창설에 어떻게 기여했나요?</td>\n",
       "      <td>[역사학자였던 쿠베르탱은 프로이센-프랑스 전쟁(1870–1871)에서 프랑스의 패배...</td>\n",
       "      <td>루드비히 구트만 경은 제2차 세계대전에 참전한 군인들의 사회 복귀를 위한 일환으로 ...</td>\n",
       "      <td>루드비히 구트만 경은 1948년 런던 올림픽과 동시에 병원들을 연합해 장애인 운동 ...</td>\n",
       "      <td>0.500000</td>\n",
       "      <td>1.0</td>\n",
       "      <td>0.909091</td>\n",
       "      <td>0.524622</td>\n",
       "    </tr>\n",
       "    <tr>\n",
       "      <th>19</th>\n",
       "      <td>패럴림픽은 어느 해부터 하계 올림픽과 같은 해에 열리기 시작했나요?</td>\n",
       "      <td>[패럴림픽(Paralympic)은 신체·감각 장애가 있는운동 선수가 참가하는 국제 ...</td>\n",
       "      <td>패럴림픽은 1960년 로마에서 열린 하계 올림픽 때부터 하계 올림픽이 열린 해에 열...</td>\n",
       "      <td>패럴림픽은 1960년부터 하계 올림픽이 열린 해에 같이 열리기 시작했습니다.</td>\n",
       "      <td>1.000000</td>\n",
       "      <td>1.0</td>\n",
       "      <td>1.000000</td>\n",
       "      <td>0.542396</td>\n",
       "    </tr>\n",
       "    <tr>\n",
       "      <th>20</th>\n",
       "      <td>1916년 하계 올림픽이 취소된 이유는 무엇인가요?</td>\n",
       "      <td>[쿠베르탱의 생각과는 달리, 올림픽이 세계에 완벽한 평화를 가져다주지는 못했다. 실...</td>\n",
       "      <td>1916년 하계 올림픽은 제1차 세계대전으로 인해 취소되었습니다.</td>\n",
       "      <td>제1차 세계대전으로 인해 1916년 하계 올림픽이 취소되었습니다.</td>\n",
       "      <td>1.000000</td>\n",
       "      <td>1.0</td>\n",
       "      <td>1.000000</td>\n",
       "      <td>0.819243</td>\n",
       "    </tr>\n",
       "    <tr>\n",
       "      <th>21</th>\n",
       "      <td>1940년과 1944년 올림픽이 취소된 원인은 무엇인가요?</td>\n",
       "      <td>[쿠베르탱의 생각과는 달리, 올림픽이 세계에 완벽한 평화를 가져다주지는 못했다. 실...</td>\n",
       "      <td>1940년과 1944년 올림픽이 취소된 원인은 제2차 세계대전 때문입니다.</td>\n",
       "      <td>제2차 세계대전으로 인해 1940년과 1944년의 하계 및 동계 올림픽이 취소되었습니다.</td>\n",
       "      <td>1.000000</td>\n",
       "      <td>1.0</td>\n",
       "      <td>1.000000</td>\n",
       "      <td>0.938165</td>\n",
       "    </tr>\n",
       "    <tr>\n",
       "      <th>22</th>\n",
       "      <td>2008년 하계 올림픽 개막식 당시 어떤 전쟁이 일어났나요?</td>\n",
       "      <td>[쿠베르탱의 생각과는 달리, 올림픽이 세계에 완벽한 평화를 가져다주지는 못했다. 실...</td>\n",
       "      <td>2008년 하계 올림픽 개막식 당시 조지아와 러시아 간의 2008년 남오세티아 전쟁...</td>\n",
       "      <td>2008년 하계 올림픽 개막식날 조지아와 러시아 간의 2008년 남오세티아 전쟁이 ...</td>\n",
       "      <td>1.000000</td>\n",
       "      <td>1.0</td>\n",
       "      <td>1.000000</td>\n",
       "      <td>0.630534</td>\n",
       "    </tr>\n",
       "    <tr>\n",
       "      <th>23</th>\n",
       "      <td>2008년 베이징 올림픽에서 부시 대통령과 푸틴 대통령이 참석한 행사에서 누구와 현...</td>\n",
       "      <td>[쿠베르탱의 생각과는 달리, 올림픽이 세계에 완벽한 평화를 가져다주지는 못했다. 실...</td>\n",
       "      <td>2008년 베이징 올림픽에서 부시 대통령과 푸틴 대통령은 중국 주석인 후진타오가 주...</td>\n",
       "      <td>중국 주석인 후진타오가 주최한 오찬에서 부시 대통령과 푸틴 대통령이 현안에 대해 논...</td>\n",
       "      <td>1.000000</td>\n",
       "      <td>1.0</td>\n",
       "      <td>1.000000</td>\n",
       "      <td>0.644649</td>\n",
       "    </tr>\n",
       "    <tr>\n",
       "      <th>24</th>\n",
       "      <td>2008년 베이징 올림픽 여자 10m 공기권총 경기에서 어떤 선수가 동메달과 은메달...</td>\n",
       "      <td>[우승자와 메달리스트, 우승자와 메달리스트, 우승자와 메달리스트, 쿠베르탱의 생각과...</td>\n",
       "      <td>2008년 베이징 올림픽 여자 10m 공기권총 경기에서 동메달은 조지아 대표인 니노...</td>\n",
       "      <td>조지아 대표인 니노 살루크바체가 동메달을, 러시아 대표인 나탈리야 파데리나가 은메달...</td>\n",
       "      <td>0.250000</td>\n",
       "      <td>1.0</td>\n",
       "      <td>1.000000</td>\n",
       "      <td>0.768144</td>\n",
       "    </tr>\n",
       "  </tbody>\n",
       "</table>\n",
       "</div>"
      ],
      "text/plain": [
       "                                           user_input  \\\n",
       "0             올림픽 경기 종목은 총 몇 개 부문과 몇 개 종목으로 구성되어 있나요?   \n",
       "1                              레슬링은 어떤 종목으로 나뉘어져 있나요?   \n",
       "2                               하계 올림픽에는 몇 개 부문이 있나요?   \n",
       "3                동계 올림픽에서 1924년부터 계속 정식종목인 경기는 무엇인가요?   \n",
       "4                                야구는 현재 올림픽 정식 종목인가요?   \n",
       "5                           세계반도핑기구(WADA)는 언제 설립되었나요?   \n",
       "6       2006년 동계 올림픽에서 도핑 양성 반응으로 메달을 반납한 선수는 몇 명인가요?   \n",
       "7                 IOC가 만든 약물 반응 판정은 현재 어떤 역할을 하고 있나요?   \n",
       "8            2008년 베이징 올림픽 기간 중 몇 명의 선수가 도핑 검사를 받았나요?   \n",
       "9      2008년 베이징 올림픽에서는 도핑 검사에서 양성 반응이 나온 선수가 몇 명인가요?   \n",
       "10                             고대 올림픽에서 어떤 종목들이 열렸나요?   \n",
       "11                      고대 올림픽에서 패배한 선수에게 어떤 일이 있었나요?   \n",
       "12                        고대 올림픽의 창시자로 알려진 인물은 누구인가요?   \n",
       "13                         올림픽이 4년마다 열리게 된 계기는 무엇인가요?   \n",
       "14             고대 올림픽 경기장의 길이 단위인 '스타디온'은 어떻게 만들어졌나요?   \n",
       "15                          패럴림픽은 어떤 선수들이 참가하는 대회인가요?   \n",
       "16                        패럴림픽이 처음 개최된 연도와 장소는 어디인가요?   \n",
       "17                      패럴림픽이라는 명칭은 어떤 의미에서 붙여진 것인가요?   \n",
       "18                   루드비히 구트만 경이 패럴림픽의 창설에 어떻게 기여했나요?   \n",
       "19              패럴림픽은 어느 해부터 하계 올림픽과 같은 해에 열리기 시작했나요?   \n",
       "20                       1916년 하계 올림픽이 취소된 이유는 무엇인가요?   \n",
       "21                   1940년과 1944년 올림픽이 취소된 원인은 무엇인가요?   \n",
       "22                  2008년 하계 올림픽 개막식 당시 어떤 전쟁이 일어났나요?   \n",
       "23  2008년 베이징 올림픽에서 부시 대통령과 푸틴 대통령이 참석한 행사에서 누구와 현...   \n",
       "24  2008년 베이징 올림픽 여자 10m 공기권총 경기에서 어떤 선수가 동메달과 은메달...   \n",
       "\n",
       "                                   retrieved_contexts  \\\n",
       "0   [올림픽 경기 종목\\n올림픽 경기 종목은 총 33개부문 52개 종목에서 약 400개...   \n",
       "1   [올림픽 경기 종목\\n올림픽 경기 종목은 총 33개부문 52개 종목에서 약 400개...   \n",
       "2   [올림픽 경기 종목\\n올림픽 경기 종목은 총 33개부문 52개 종목에서 약 400개...   \n",
       "3   [동계올림픽\\n동계 올림픽은 눈과 얼음을 이용하는 스포츠들을 모아 이루어졌으며 하계...   \n",
       "4   [올림픽 경기 종목\\n올림픽 경기 종목은 총 33개부문 52개 종목에서 약 400개...   \n",
       "5   [1990년대 후반, 여러 뜻있는 사람들이 도핑과의 전쟁을 선포하면서 1999년에 ...   \n",
       "6   [올림픽에서 약물 복용 양성 반응이 나와서 메달을 박탈당한 첫 번째 사례로는 196...   \n",
       "7   [1990년대 후반, 여러 뜻있는 사람들이 도핑과의 전쟁을 선포하면서 1999년에 ...   \n",
       "8   [1990년대 후반, 여러 뜻있는 사람들이 도핑과의 전쟁을 선포하면서 1999년에 ...   \n",
       "9   [올림픽에서 약물 복용 양성 반응이 나와서 메달을 박탈당한 첫 번째 사례로는 196...   \n",
       "10  [고대올림픽, 고대올림픽, 고대올림픽, 고대 올림피아 경기가 처음 열린 시점은 보통...   \n",
       "11  [고대올림픽, 고대올림픽, 고대올림픽, 올림픽에서 약물 복용 양성 반응이 나와서 메...   \n",
       "12  [고대올림픽, 고대올림픽, 고대올림픽, 고대의 올림픽 경기(올림피아 경기)는 고대 ...   \n",
       "13  [올림픽(영어: Olympic Games, 프랑스어: Jeux olympiques)...   \n",
       "14  [고대의 올림픽 경기(올림피아 경기)는 고대 그리스의 여러 도시 국가의 대표선수들이...   \n",
       "15  [패럴림픽, 패럴림픽, 패럴림픽, 패럴림픽(Paralympic)은 신체·감각 장애가...   \n",
       "16  [패럴림픽, 패럴림픽, 패럴림픽, 국제올림픽위원회(IOC)는 근대 올림픽은 순환 개...   \n",
       "17  [패럴림픽, 패럴림픽, 패럴림픽, 패럴림픽(Paralympic)은 신체·감각 장애가...   \n",
       "18  [역사학자였던 쿠베르탱은 프로이센-프랑스 전쟁(1870–1871)에서 프랑스의 패배...   \n",
       "19  [패럴림픽(Paralympic)은 신체·감각 장애가 있는운동 선수가 참가하는 국제 ...   \n",
       "20  [쿠베르탱의 생각과는 달리, 올림픽이 세계에 완벽한 평화를 가져다주지는 못했다. 실...   \n",
       "21  [쿠베르탱의 생각과는 달리, 올림픽이 세계에 완벽한 평화를 가져다주지는 못했다. 실...   \n",
       "22  [쿠베르탱의 생각과는 달리, 올림픽이 세계에 완벽한 평화를 가져다주지는 못했다. 실...   \n",
       "23  [쿠베르탱의 생각과는 달리, 올림픽이 세계에 완벽한 평화를 가져다주지는 못했다. 실...   \n",
       "24  [우승자와 메달리스트, 우승자와 메달리스트, 우승자와 메달리스트, 쿠베르탱의 생각과...   \n",
       "\n",
       "                                             response  \\\n",
       "0             올림픽 경기 종목은 총 33개 부문 52개 종목으로 구성되어 있습니다.   \n",
       "1                 레슬링은 자유형과 그레코로만형의 두 종목으로 나뉘어져 있습니다.   \n",
       "2                         하계 올림픽은 26개 부문으로 이루어져 있습니다.   \n",
       "3   1924년 동계 올림픽부터 빠짐없이 정식종목인 경기는 크로스컨트리, 피겨 스케이팅,...   \n",
       "4   야구는 예전에는 올림픽 정식종목이었지만 지금은 정식 종목에서 빠진 종목입니다. 따라...   \n",
       "5                      세계반도핑기구(WADA)는 1999년에 설립되었습니다.   \n",
       "6        2006년 동계 올림픽에서 도핑 양성 반응으로 메달을 반납한 선수는 1명입니다.   \n",
       "7   IOC가 만든 약물 반응 판정은 현재 올림픽 도핑테스트의 기준이 되고 있으며, 다른...   \n",
       "8   2008년 베이징 올림픽 기간 중 3,667명의 선수가 세계반도핑기구의 검사를 받았...   \n",
       "9           2008년 베이징 올림픽 기간 중 도핑 검사에 걸린 선수는 단 3명입니다.   \n",
       "10  고대 올림픽에서는 육상, 5종 경기(원반던지기, 창던지기, 달리기, 레슬링, 멀리뛰...   \n",
       "11                              정보가 부족해서 답을 알 수 없습니다.   \n",
       "12        고대 올림픽의 창시자로 알려진 인물은 헤라클레스와 그의 아버지인 제우스입니다.   \n",
       "13                              정보가 부족해서 답을 알 수 없습니다.   \n",
       "14  고대 올림픽 경기장이 완성되자 헤라클레스가 일직선으로 200 걸음을 걸었으며, 이 ...   \n",
       "15       패럴림픽은 신체·감각 장애가 있는 운동 선수가 참가하는 국제 스포츠 대회입니다.   \n",
       "16                              정보가 부족해서 답을 알 수 없습니다.   \n",
       "17  Context에 따르면, 1960년 로마 하계 올림픽 때 구트만 경이 400명의 선...   \n",
       "18  루드비히 구트만 경은 제2차 세계대전에 참전한 군인들의 사회 복귀를 위한 일환으로 ...   \n",
       "19  패럴림픽은 1960년 로마에서 열린 하계 올림픽 때부터 하계 올림픽이 열린 해에 열...   \n",
       "20               1916년 하계 올림픽은 제1차 세계대전으로 인해 취소되었습니다.   \n",
       "21          1940년과 1944년 올림픽이 취소된 원인은 제2차 세계대전 때문입니다.   \n",
       "22  2008년 하계 올림픽 개막식 당시 조지아와 러시아 간의 2008년 남오세티아 전쟁...   \n",
       "23  2008년 베이징 올림픽에서 부시 대통령과 푸틴 대통령은 중국 주석인 후진타오가 주...   \n",
       "24  2008년 베이징 올림픽 여자 10m 공기권총 경기에서 동메달은 조지아 대표인 니노...   \n",
       "\n",
       "                                            reference  \\\n",
       "0             올림픽 경기 종목은 총 33개 부문 52개 종목으로 구성되어 있습니다.   \n",
       "1                      레슬링은 자유형과 그레코로만형의 두 종목으로 나뉩니다.   \n",
       "2                              하계 올림픽에는 26개 부문이 있습니다.   \n",
       "3   크로스컨트리, 피겨 스케이팅, 아이스 하키, 노르딕 복합, 스키 점프, 스피드 스케...   \n",
       "4              야구는 예전에는 정식종목이었지만 지금은 정식종목에서 빠진 종목입니다.   \n",
       "5                                     1999년에 설립되었습니다.   \n",
       "6                                             한 명입니다.   \n",
       "7   올림픽 도핑테스트의 기준이 되었으며 다른 경기 연맹에서도 벤치마킹할 정도로 인정을 ...   \n",
       "8                           3,667명의 선수가 도핑 검사를 받았습니다.   \n",
       "9                     올림픽 기간 중에는 단 3명만이 도핑 검사에 걸렸습니다.   \n",
       "10                            육상 경기, 격투기, 전차 경기가 열렸다.   \n",
       "11                                      패배하면 죽기도 하였다.   \n",
       "12                     헤라클레스와 그의 아버지인 제우스가 창시자로 유명하다.   \n",
       "13               헤라클레스가 4년마다 대회를 개최하는 관례를 만들었다고 전해진다.   \n",
       "14  헤라클레스가 경기장이 완성된 후 200 걸음을 걸은 거리를 '스타디온'이라 불렀고,...   \n",
       "15       패럴림픽은 신체·감각 장애가 있는 운동 선수가 참가하는 국제 스포츠 대회입니다.   \n",
       "16                패럴림픽은 1960년 로마 하계 올림픽 때 처음 개최되었습니다.   \n",
       "17  \"Parallel Olympics\"에서 유래된 것으로, 올림픽과 나란히 치러지는 대...   \n",
       "18  루드비히 구트만 경은 1948년 런던 올림픽과 동시에 병원들을 연합해 장애인 운동 ...   \n",
       "19         패럴림픽은 1960년부터 하계 올림픽이 열린 해에 같이 열리기 시작했습니다.   \n",
       "20               제1차 세계대전으로 인해 1916년 하계 올림픽이 취소되었습니다.   \n",
       "21  제2차 세계대전으로 인해 1940년과 1944년의 하계 및 동계 올림픽이 취소되었습니다.   \n",
       "22  2008년 하계 올림픽 개막식날 조지아와 러시아 간의 2008년 남오세티아 전쟁이 ...   \n",
       "23  중국 주석인 후진타오가 주최한 오찬에서 부시 대통령과 푸틴 대통령이 현안에 대해 논...   \n",
       "24  조지아 대표인 니노 살루크바체가 동메달을, 러시아 대표인 나탈리야 파데리나가 은메달...   \n",
       "\n",
       "    llm_context_precision_with_reference  context_recall  faithfulness  \\\n",
       "0                               1.000000             1.0      1.000000   \n",
       "1                               1.000000             1.0      1.000000   \n",
       "2                               1.000000             1.0      1.000000   \n",
       "3                               0.250000             1.0      1.000000   \n",
       "4                               1.000000             1.0      1.000000   \n",
       "5                               1.000000             1.0      1.000000   \n",
       "6                               0.250000             1.0      1.000000   \n",
       "7                               1.000000             1.0      1.000000   \n",
       "8                               1.000000             1.0      1.000000   \n",
       "9                               0.333333             1.0      1.000000   \n",
       "10                              0.000000             0.0      1.000000   \n",
       "11                              0.000000             0.0      0.000000   \n",
       "12                              0.250000             1.0      0.666667   \n",
       "13                              0.000000             0.0      0.000000   \n",
       "14                              1.000000             1.0      1.000000   \n",
       "15                              0.250000             1.0      1.000000   \n",
       "16                              0.000000             0.0      1.000000   \n",
       "17                              0.250000             1.0      0.666667   \n",
       "18                              0.500000             1.0      0.909091   \n",
       "19                              1.000000             1.0      1.000000   \n",
       "20                              1.000000             1.0      1.000000   \n",
       "21                              1.000000             1.0      1.000000   \n",
       "22                              1.000000             1.0      1.000000   \n",
       "23                              1.000000             1.0      1.000000   \n",
       "24                              0.250000             1.0      1.000000   \n",
       "\n",
       "    answer_relevancy  \n",
       "0           0.868411  \n",
       "1           0.701039  \n",
       "2           0.777083  \n",
       "3           0.698054  \n",
       "4           0.470935  \n",
       "5           0.608097  \n",
       "6           0.674238  \n",
       "7           0.383112  \n",
       "8           0.607361  \n",
       "9           0.634579  \n",
       "10          0.490397  \n",
       "11          0.000000  \n",
       "12          0.539317  \n",
       "13          0.000000  \n",
       "14          0.491453  \n",
       "15          0.512623  \n",
       "16          0.000000  \n",
       "17          0.544007  \n",
       "18          0.524622  \n",
       "19          0.542396  \n",
       "20          0.819243  \n",
       "21          0.938165  \n",
       "22          0.630534  \n",
       "23          0.644649  \n",
       "24          0.768144  "
      ]
     },
     "execution_count": 75,
     "metadata": {},
     "output_type": "execute_result"
    }
   ],
   "source": [
    "eval_result.to_pandas()"
   ]
  },
  {
   "cell_type": "markdown",
   "metadata": {},
   "source": [
    "# 생성한 평가 데이터셋을 Huggingface에 저장/로드"
   ]
  },
  {
   "cell_type": "code",
   "execution_count": 76,
   "metadata": {},
   "outputs": [],
   "source": [
    "from huggingface_hub import login\n",
    "import os\n",
    "\n",
    "HF_KEY = os.getenv(\"HUGGINGFACE_API_KEY\")\n",
    "login(token=HF_KEY)"
   ]
  },
  {
   "cell_type": "code",
   "execution_count": 77,
   "metadata": {},
   "outputs": [
    {
     "data": {
      "text/plain": [
       "Dataset({\n",
       "    features: ['user_input', 'reference', 'qa_context', 'response', 'retrieved_contexts'],\n",
       "    num_rows: 25\n",
       "})"
      ]
     },
     "execution_count": 77,
     "metadata": {},
     "output_type": "execute_result"
    }
   ],
   "source": [
    "from datasets import Dataset\n",
    "\n",
    "eval_dataset = Dataset.from_pandas(df=eval_df)\n",
    "eval_dataset"
   ]
  },
  {
   "cell_type": "code",
   "execution_count": 79,
   "metadata": {},
   "outputs": [
    {
     "data": {
      "application/vnd.jupyter.widget-view+json": {
       "model_id": "ccf2350375494e2da242824b8cd61c7b",
       "version_major": 2,
       "version_minor": 0
      },
      "text/plain": [
       "Uploading the dataset shards:   0%|          | 0/1 [00:00<?, ?it/s]"
      ]
     },
     "metadata": {},
     "output_type": "display_data"
    },
    {
     "data": {
      "application/vnd.jupyter.widget-view+json": {
       "model_id": "077aba4b75d744ac93f8ba83f6461a4b",
       "version_major": 2,
       "version_minor": 0
      },
      "text/plain": [
       "Creating parquet from Arrow format:   0%|          | 0/1 [00:00<?, ?ba/s]"
      ]
     },
     "metadata": {},
     "output_type": "display_data"
    },
    {
     "data": {
      "application/vnd.jupyter.widget-view+json": {
       "model_id": "3eb584b5f2b849259b5d93effff52346",
       "version_major": 2,
       "version_minor": 0
      },
      "text/plain": [
       "Uploading...:   0%|          | 0.00/30.3k [00:00<?, ?B/s]"
      ]
     },
     "metadata": {},
     "output_type": "display_data"
    },
    {
     "data": {
      "text/plain": [
       "CommitInfo(commit_url='https://huggingface.co/datasets/wooki02/wiki_olympic_rag_eval_dataset/commit/a1326e178212fe6a72fce11d97a09bd7aa253f82', commit_message='Upload dataset', commit_description='', oid='a1326e178212fe6a72fce11d97a09bd7aa253f82', pr_url=None, repo_url=RepoUrl('https://huggingface.co/datasets/wooki02/wiki_olympic_rag_eval_dataset', endpoint='https://huggingface.co', repo_type='dataset', repo_id='wooki02/wiki_olympic_rag_eval_dataset'), pr_revision=None, pr_num=None)"
      ]
     },
     "execution_count": 79,
     "metadata": {},
     "output_type": "execute_result"
    }
   ],
   "source": [
    "# huggingface에 업로드\n",
    "eval_dataset.push_to_hub(repo_id=\"wiki_olympic_rag_eval_dataset\")"
   ]
  },
  {
   "cell_type": "code",
   "execution_count": null,
   "metadata": {},
   "outputs": [
    {
     "data": {
      "application/vnd.jupyter.widget-view+json": {
       "model_id": "993e596585b44bf290cb6406c3648fe9",
       "version_major": 2,
       "version_minor": 0
      },
      "text/plain": [
       "README.md:   0%|          | 0.00/532 [00:00<?, ?B/s]"
      ]
     },
     "metadata": {},
     "output_type": "display_data"
    },
    {
     "name": "stderr",
     "output_type": "stream",
     "text": [
      "c:\\Users\\Playdata\\anaconda3\\envs\\lang_env\\Lib\\site-packages\\huggingface_hub\\file_download.py:143: UserWarning: `huggingface_hub` cache-system uses symlinks by default to efficiently store duplicated files but your machine does not support them in C:\\Users\\Playdata\\.cache\\huggingface\\hub\\datasets--wooki02--wiki_olympic_rag_eval_dataset. Caching files will still work but in a degraded version that might require more space on your disk. This warning can be disabled by setting the `HF_HUB_DISABLE_SYMLINKS_WARNING` environment variable. For more details, see https://huggingface.co/docs/huggingface_hub/how-to-cache#limitations.\n",
      "To support symlinks on Windows, you either need to activate Developer Mode or to run Python as an administrator. In order to activate developer mode, see this article: https://docs.microsoft.com/en-us/windows/apps/get-started/enable-your-device-for-development\n",
      "  warnings.warn(message)\n"
     ]
    },
    {
     "data": {
      "application/vnd.jupyter.widget-view+json": {
       "model_id": "5725bdb0e6ea431b91ac8a22591a8e1d",
       "version_major": 2,
       "version_minor": 0
      },
      "text/plain": [
       "data/train-00000-of-00001.parquet:   0%|          | 0.00/30.3k [00:00<?, ?B/s]"
      ]
     },
     "metadata": {},
     "output_type": "display_data"
    },
    {
     "data": {
      "application/vnd.jupyter.widget-view+json": {
       "model_id": "235bf766e2ba49799e930a92e5c589db",
       "version_major": 2,
       "version_minor": 0
      },
      "text/plain": [
       "Generating train split:   0%|          | 0/25 [00:00<?, ? examples/s]"
      ]
     },
     "metadata": {},
     "output_type": "display_data"
    },
    {
     "data": {
      "text/plain": [
       "DatasetDict({\n",
       "    train: Dataset({\n",
       "        features: ['user_input', 'reference', 'qa_context', 'response', 'retrieved_contexts'],\n",
       "        num_rows: 25\n",
       "    })\n",
       "})"
      ]
     },
     "execution_count": 80,
     "metadata": {},
     "output_type": "execute_result"
    }
   ],
   "source": [
    "from datasets import load_dataset\n",
    "\n",
    "# Login using e.g. `huggingface-cli login` to access this dataset\n",
    "load_eval_dataset = load_dataset(\"wooki02/wiki_olympic_rag_eval_dataset\")"
   ]
  },
  {
   "cell_type": "code",
   "execution_count": 81,
   "metadata": {},
   "outputs": [
    {
     "data": {
      "text/plain": [
       "DatasetDict({\n",
       "    train: Dataset({\n",
       "        features: ['user_input', 'reference', 'qa_context', 'response', 'retrieved_contexts'],\n",
       "        num_rows: 25\n",
       "    })\n",
       "})"
      ]
     },
     "execution_count": 81,
     "metadata": {},
     "output_type": "execute_result"
    }
   ],
   "source": [
    "load_eval_dataset"
   ]
  },
  {
   "cell_type": "code",
   "execution_count": null,
   "metadata": {},
   "outputs": [],
   "source": []
  }
 ],
 "metadata": {
  "kernelspec": {
   "display_name": "lang_env",
   "language": "python",
   "name": "python3"
  },
  "language_info": {
   "codemirror_mode": {
    "name": "ipython",
    "version": 3
   },
   "file_extension": ".py",
   "mimetype": "text/x-python",
   "name": "python",
   "nbconvert_exporter": "python",
   "pygments_lexer": "ipython3",
   "version": "3.12.11"
  }
 },
 "nbformat": 4,
 "nbformat_minor": 4
}
